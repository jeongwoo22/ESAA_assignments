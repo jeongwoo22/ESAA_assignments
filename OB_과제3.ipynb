{
  "nbformat": 4,
  "nbformat_minor": 0,
  "metadata": {
    "colab": {
      "provenance": [],
      "collapsed_sections": [],
      "authorship_tag": "ABX9TyNquyNMzJ7uSuWWnjNH+zRa",
      "include_colab_link": true
    },
    "kernelspec": {
      "name": "python3",
      "display_name": "Python 3"
    },
    "language_info": {
      "name": "python"
    }
  },
  "cells": [
    {
      "cell_type": "markdown",
      "metadata": {
        "id": "view-in-github",
        "colab_type": "text"
      },
      "source": [
        "<a href=\"https://colab.research.google.com/github/jeongwoo22/ESAA_assignments/blob/main/OB_%EA%B3%BC%EC%A0%9C3.ipynb\" target=\"_parent\"><img src=\"https://colab.research.google.com/assets/colab-badge.svg\" alt=\"Open In Colab\"/></a>"
      ]
    },
    {
      "cell_type": "markdown",
      "source": [
        "## 과제3 - 4장 모델 훈련"
      ],
      "metadata": {
        "id": "eMRzRBaWLeXL"
      }
    },
    {
      "cell_type": "markdown",
      "source": [
        "### **4.1 선형회귀**"
      ],
      "metadata": {
        "id": "mVEpLIvJLmIH"
      }
    },
    {
      "cell_type": "markdown",
      "source": [
        "#### 4.1.1 정규 방정식(normal equation)"
      ],
      "metadata": {
        "id": "rZCdDHfFLs-C"
      }
    },
    {
      "cell_type": "markdown",
      "source": [
        "- 정규방정식 : 비용 함수를 최소화 하는 세타를 찾기 위한 해석적인 방법\n",
        "- 비용함수 : 선형모델의 예측과, 훈련 데이터 사이의 거리를 잼 = 점과 선 사이의 거리를 계산하여 가설과 실제 데이터가 얼마나 다른지를 평가하는 것\n",
        "- 하나의 데이터와 모델 예측의 차이를 계산하는 것은 손실함수, \"모든\" 데이터에 대한 차이를 모두 합하여 모델을 평가하는 것이 비용함수"
      ],
      "metadata": {
        "id": "XH8lhp6BQdpd"
      }
    },
    {
      "cell_type": "markdown",
      "source": [
        "- 비용함수 구체적인 설명 : 가설이 얼마나 정확한지 판단하는 기준을 말하며, loss function의 합, 평균 에러를 다룬다. 여기서 single data set이 아니라 entire data set을 다룬다. 순간마다의 loss를 판단할 땐 loss function을 사용하고 학습이 완료된 후에는 cost function을 확인한다.\n",
        "출처: https://goatlab.tistory.com/111 [GOATLAB:티스토리]"
      ],
      "metadata": {
        "id": "_-wEDlfKTfb8"
      }
    },
    {
      "cell_type": "markdown",
      "source": [
        "- 회귀 기본 ==> 회귀 모델을 평가하는 대표적인 지표 ==> MSE(mean squred error) & R2(r-squre)\n",
        "- mse 는 실제값과 예측값의 차이를 제곱한 뒤, 평균을 낸 것. 어쨋든 오차 (error) 이기 때문에 mse 값은 작을수록 좋다\n",
        "- r2 는 \"결정계수\" 로 전체 데이터를 회귀 모형이 얼마나 잘 설명하고 있는지를 보여주는 지표로서, 회귀선의 정확도를 평가하므로 이 값이 1에 가까울수록 정확도가 높다는 것이다"
      ],
      "metadata": {
        "id": "G3fQX_SeUpqI"
      }
    },
    {
      "cell_type": "code",
      "source": [
        "import sklearn\n",
        "assert sklearn.__version__ >= \"0.20\"\n",
        "import sys\n",
        "assert sys.version_info >= (3, 5)\n",
        "%matplotlib inline\n",
        "import matplotlib as mpl\n",
        "import matplotlib.pyplot as plt"
      ],
      "metadata": {
        "id": "3seF9DQeRiEJ"
      },
      "execution_count": 7,
      "outputs": []
    },
    {
      "cell_type": "code",
      "source": [
        "import numpy as np\n",
        "\n",
        "X = 2*np.random.rand(100,1) # 0,1 사이의 균일 분포에서 100,1 행렬 난수 생성\n",
        "y = 4+3*X +np.random.randn(100,1) # 가우시안 표준 정규 분포에서 100,1 행렬 난수 생성"
      ],
      "metadata": {
        "id": "R8B41qHWN-x0"
      },
      "execution_count": 2,
      "outputs": []
    },
    {
      "cell_type": "code",
      "source": [
        "X_b = np.c_[np.ones((100, 1)), X]  # 1로 가득찬 배렬 출력. ==> np.c_는 2개의 1차원 배열을 칼럼으로 새로로 붙여 2차원 배열 만드는 것. 모든 샘플에 x0 = 1을 추가합니다.\n",
        "theta_best = np.linalg.inv(X_b.T.dot(X_b)).dot(X_b.T).dot(y) # 정규 방정식 계산\n",
        "theta_best"
      ],
      "metadata": {
        "colab": {
          "base_uri": "https://localhost:8080/"
        },
        "id": "i7mVai8vPuFw",
        "outputId": "6805dd30-b8b5-4e3b-fb29-05df4afe1dd3"
      },
      "execution_count": 4,
      "outputs": [
        {
          "output_type": "execute_result",
          "data": {
            "text/plain": [
              "array([[4.04120771],\n",
              "       [2.90780799]])"
            ]
          },
          "metadata": {},
          "execution_count": 4
        }
      ]
    },
    {
      "cell_type": "code",
      "source": [
        "X_new = np.array([[0], [2]])\n",
        "X_new_b = np.c_[np.ones((2, 1)), X_new] \n",
        "y_predict = X_new_b.dot(theta_best)\n",
        "y_predict"
      ],
      "metadata": {
        "colab": {
          "base_uri": "https://localhost:8080/"
        },
        "id": "sTbX2nTTRQ1s",
        "outputId": "7586c487-4f1f-483b-c319-c5e0608cce05"
      },
      "execution_count": 5,
      "outputs": [
        {
          "output_type": "execute_result",
          "data": {
            "text/plain": [
              "array([[4.04120771],\n",
              "       [9.85682369]])"
            ]
          },
          "metadata": {},
          "execution_count": 5
        }
      ]
    },
    {
      "cell_type": "code",
      "source": [
        "plt.plot(X_new, y_predict, \"r-\")\n",
        "plt.plot(X, y, \"b.\")\n",
        "plt.axis([0, 2, 0, 15])\n",
        "plt.show()"
      ],
      "metadata": {
        "colab": {
          "base_uri": "https://localhost:8080/",
          "height": 265
        },
        "id": "ZkejLjONRcSp",
        "outputId": "cee1d2d4-6c71-4d49-c76a-d6a7be6ad90d"
      },
      "execution_count": 8,
      "outputs": [
        {
          "output_type": "display_data",
          "data": {
            "text/plain": [
              "<Figure size 432x288 with 1 Axes>"
            ],
            "image/png": "[encoded data removed]"
          },
          "metadata": {
            "needs_background": "light"
          }
        }
      ]
    },
    {
      "cell_type": "code",
      "source": [
        "# 사이킷런에서 선형회귀 수행\n",
        "from sklearn.linear_model import LinearRegression\n",
        "\n",
        "lin_reg = LinearRegression()\n",
        "lin_reg.fit(X, y)\n",
        "lin_reg.intercept_, lin_reg.coef_"
      ],
      "metadata": {
        "colab": {
          "base_uri": "https://localhost:8080/"
        },
        "id": "_Arkm4sJRrdb",
        "outputId": "8390d9fa-0895-4cb0-b1f1-01135f3dd0bf"
      },
      "execution_count": 9,
      "outputs": [
        {
          "output_type": "execute_result",
          "data": {
            "text/plain": [
              "(array([4.04120771]), array([[2.90780799]]))"
            ]
          },
          "metadata": {},
          "execution_count": 9
        }
      ]
    },
    {
      "cell_type": "code",
      "source": [
        "lin_reg.predict(X_new)"
      ],
      "metadata": {
        "colab": {
          "base_uri": "https://localhost:8080/"
        },
        "id": "UOS7TgP0SYEo",
        "outputId": "534a080f-063d-40fd-8ec6-d7a4136facae"
      },
      "execution_count": 10,
      "outputs": [
        {
          "output_type": "execute_result",
          "data": {
            "text/plain": [
              "array([[4.04120771],\n",
              "       [9.85682369]])"
            ]
          },
          "metadata": {},
          "execution_count": 10
        }
      ]
    },
    {
      "cell_type": "code",
      "source": [
        "theta_best_svd, residuals, rank, s = np.linalg.lstsq(X_b, y, rcond=1e-6)\n",
        "theta_best_svd"
      ],
      "metadata": {
        "colab": {
          "base_uri": "https://localhost:8080/"
        },
        "id": "n1FOdt7dSbMQ",
        "outputId": "33708c7e-e021-4617-f314-627c8bc01dab"
      },
      "execution_count": 11,
      "outputs": [
        {
          "output_type": "execute_result",
          "data": {
            "text/plain": [
              "array([[4.04120771],\n",
              "       [2.90780799]])"
            ]
          },
          "metadata": {},
          "execution_count": 11
        }
      ]
    },
    {
      "cell_type": "markdown",
      "source": [
        "#### 4.1.2 계산 복잡도"
      ],
      "metadata": {
        "id": "9P_SXLg3Lv5T"
      }
    },
    {
      "cell_type": "markdown",
      "source": [
        "- 계산 복잡도 : 역행렬 계산하는 것"
      ],
      "metadata": {
        "id": "O6KXEWP2SIoc"
      }
    },
    {
      "cell_type": "markdown",
      "source": [
        "- 정규 방정식으로 학습된 선형 회귀 모델은 예측이 매우 빠름. 계산 복잡도는 샘플 수와 선형적. 즉 샘플이 2배로 늘어나면, 시간도 2배로 늘어남"
      ],
      "metadata": {
        "id": "-DtYfo5QSe48"
      }
    },
    {
      "cell_type": "markdown",
      "source": [
        "### **4.2 경사 하강법 (GD)**"
      ],
      "metadata": {
        "id": "nos9mYPHLyOD"
      }
    },
    {
      "cell_type": "markdown",
      "source": [
        "- 유용할 때 : 특성이 매우 많고 훈련 샘플이 너무 많아 메모리에 모두 담을 수 없을 때 적합하다\n",
        "- 경사 하강법 : 여러 종류의 문제에서 최적의 해법을 찾을 수 있는 일반적인 최적화 알고리즘\n",
        "- 기본 아이디어 : 비용 함수를 최소화 하기 위해 \"반복적으로\" 파라미터를 조정해나가는 것"
      ],
      "metadata": {
        "id": "0apZcG8ZSp8E"
      }
    },
    {
      "cell_type": "markdown",
      "source": [
        "- 그래디언트가 0 이 되면 최솟값에 도달한 것\n",
        "- 세타를 임의의 값으로 시작해서 무작위 초기화 상태에서 시작. => 점점 최솟값에 수렴할 때 까지 점진적으로 향상됨\n",
        "- 중요한 파라미터 : 스텝의 크기 => **학습률(learning rate) 하이퍼 파라미터** 로 결정된다. 학습률이 너무 작으면 알고리즘이 수렴하기 위해 반복을 많이 진행해야 하므로 시간이 오래 걸린다 "
      ],
      "metadata": {
        "id": "PUo8cMzhTGCW"
      }
    },
    {
      "cell_type": "markdown",
      "source": [
        "- 경사 하강법의 2가지 문제 \n",
        "- 무작위 초기화 때문에 알고리즘이 왼쪽에서 시작하면 **전역 최솟값 (global minimum)** 보다 덜 좋은 **지역 최솟값 (local minimum)** 에 수렴한다. 알고리즘이 오른쪽에서 시작하면 평탄한 지역을 지나기 위해 시간이 오래 걸리고 일찍 멈추어 전역 최솟값에 도달 못함."
      ],
      "metadata": {
        "id": "ivwK-5-KT-IW"
      }
    },
    {
      "cell_type": "markdown",
      "source": [
        "- 다행히 선형회귀를 위한 MSE 비용함수는 ==> 곡선에서 어떤 두 점을 선택해 선을 그어도 곡선을 가로지르지 않는 볼록함수이다. 따라서 하나의 전역 최솟값만 있다. 그래서 경사 하강법이 전역 최솟값에 가깝게 접근할 수 있다는 것을 보장함. "
      ],
      "metadata": {
        "id": "NbIjLz-rVH-g"
      }
    },
    {
      "cell_type": "markdown",
      "source": [
        "- 비용함수는 그릇 모양을 하고 있으나, 스케일이 다르면 길쭉한 모양이 될 수도 있음 ==> 경사 하강법을 사용할 때는, 반드시 모든 특성이 같은 스케일을 갖도록 만들어야 한다. EX- 사이킷런의 StandardScaler. 그렇지 않으면 수렴하는데 훨씬 오래 걸림"
      ],
      "metadata": {
        "id": "FR3kYt8WVrUF"
      }
    },
    {
      "cell_type": "markdown",
      "source": [
        "- 훈련 = 비용함수를 최소화하는 모델 파라미터의 조합을 찾는 일 => **모델의 파라미터(parameter space) 공간** 에서 찾는다\n",
        "- 모델이 가진 파라미터가 많을수록 공간의 차원은 커지고 검색이 어려워짐"
      ],
      "metadata": {
        "id": "FwgNmT-_WLtO"
      }
    },
    {
      "cell_type": "markdown",
      "source": [
        "#### 4.2.1 배치 경사 하강법"
      ],
      "metadata": {
        "id": "rCJs8gUrL4xF"
      }
    },
    {
      "cell_type": "markdown",
      "source": [
        "- 경사하강법 구하기 <= 모델 파라미터에 대해 비용함수의 그레디언트를 계산해야 함. 즉, 세타가 조금 변경될 때 비용함수가 얼마나 바뀌는지 계산해야함. : **편도함수(partial derivative)** \n",
        "- 비용 함수의 그레디언트 벡터를 통해 한꺼번에 계산할 수 있음. 그레디언트 벡터 는 비용함수의 편도함수를 모두 담고 있음"
      ],
      "metadata": {
        "id": "hEoB9UWbWrfE"
      }
    },
    {
      "cell_type": "markdown",
      "source": [
        "- 이 편도함수를 구하는 공식은 매 경사 하강법 스텝에서 전체 훈련 세트에 대해 계산한다. 그래서 이 알고리즘을 **배치 경사 하강법 (batch gradient descent)** 라고 함\n",
        "- 매 스텝에서 훈련 데이터 전체를 사용함 ==> 그래서 매우 큰 훈련세트에서는 아주 느림 (빠른 경사 하강법 알고리즘도 있음) \n",
        "- 경사 하강법은 특성 수에 민감하지 않음\n",
        "- 따라서 수십만 개의 특성에서 선형 회귀를 훈련시키려면 정규방정식이나 SVD 분해보다 경사 하강법을 사용하는 편이 훨씬 빠름"
      ],
      "metadata": {
        "id": "Ernee_qoXUab"
      }
    },
    {
      "cell_type": "code",
      "source": [
        "# 학습률은 스텝의 크기. 학습률은 우리가 조절할 수 있는 하이퍼 파라미터\n",
        "eta = 0.1  # 학습률\n",
        "n_iterations = 1000\n",
        "m = 100\n",
        "\n",
        "theta = np.random.randn(2,1)  # 랜덤 초기화\n",
        "\n",
        "for iteration in range(n_iterations):\n",
        "    gradients = 2/m * X_b.T.dot(X_b.dot(theta) - y)\n",
        "    theta = theta - eta * gradients # 내려가는 스텝의 크기를 경정하기 위해 그레이디언트 벡터에 학습률을 곱한다."
      ],
      "metadata": {
        "id": "K27KQBg9YFhL"
      },
      "execution_count": 13,
      "outputs": []
    },
    {
      "cell_type": "markdown",
      "source": [
        "- 적절한 학습률을 찾으려면, 그리드 탐색을 사용한다. 그러나, 그리드 탐색에서 수렴하는데 너무 오래 걸리는 모데을 막기 위해 반복 횟수를 제한해야 한다."
      ],
      "metadata": {
        "id": "Lw5D9G2iYoHU"
      }
    },
    {
      "cell_type": "markdown",
      "source": [
        "- 반복횟수 지정 : 반복횟수가 너무 작으면 최적점에 도착하기 전에 알고리즘이 멈춤. 너무 크면 모델 파라미터가 더는 변하지 않는 동안 시간을 낭비하게 됨. ==> 반복 횟수를 아주 크게 지정하고, 그레디언트 벡터가 아주 작아지면, 즉 허용오차(tolerance) 보다 작아지면 경사 하강법이 최솟값에 도달할 것이므로 알고지름을 중지하는 것"
      ],
      "metadata": {
        "id": "MR0iNrsCYvcj"
      }
    },
    {
      "cell_type": "markdown",
      "source": [
        "#### 4.2.2 확률적 경사 하강법"
      ],
      "metadata": {
        "id": "_S8MIxGPL9qH"
      }
    },
    {
      "cell_type": "markdown",
      "source": [
        "- **배치 경사 하강법의 문제** : 매 스탭에서 전체 훈련 세트를 사용해 그레디언트를 계산해야 하므로 훈련 세트가 커지면 느려진다. \n",
        "- **확률적 경사 하강법(SGD)** : 매 스텝에서 한개의 샘플을 무작위로 선택하고 그 하나의 샘플에 대한 그레디언트를 계산. ==> 반복해서 다뤄야 하는 데이터가 적기 때문에, 한번에 하나의 샘플을 처리하면 알고리즘이 빠르다. ++ 매 반복에서 하나의 샘플만 메모리에 있으면 되어서 매우 큰 훈련세트도 훈련시킬 수 있다.  "
      ],
      "metadata": {
        "id": "MiZMQqBKZFce"
      }
    },
    {
      "cell_type": "markdown",
      "source": [
        "- **SGD** : 배치 크기가 1인 경사 하강법 알고리즘. 이 때 배치란, 단일 반복에서 기울기를 계산하는데 사용하는 데이터의 총 개수"
      ],
      "metadata": {
        "id": "nfipJA90aAGA"
      }
    },
    {
      "cell_type": "markdown",
      "source": [
        "- 단점 : 무작위이기 때문에, 배치 경사 하강법보다 훨씬 불안정함. 그리고 비용함수가 요동치면서 평균적으로 감소함. - - 장점 : 비용함수가 불규칙하면 알고리즘이 지역 최솟값을 건너뛰므로, 배치 경사 하강법보다 최솟값을 찾을 가능성이 높다\n",
        "- 따라서 방법 : 학습률을 점진적으로 감소시키는 것. 시작할 때는 학습률을 크게 하고, 점차 작게 줄여서 알고리즘이 전역 최솟값에 도달하게 함. \n",
        "- **학습 스케쥴(learning schedule)** : 매 반복에서 학습률을 결정하는 함수 "
      ],
      "metadata": {
        "id": "YjHYhxwPaEPL"
      }
    },
    {
      "cell_type": "code",
      "source": [
        "# 학습 스케쥴을 사용한 확률적 경사 하강법 구현\n",
        "n_epochs = 50\n",
        "t0, t1 = 5, 50  # 학습 스케줄 하이퍼파라미터\n",
        "\n",
        "def learning_schedule(t):\n",
        "    return t0 / (t + t1)\n",
        "\n",
        "theta = np.random.randn(2,1)  # 랜덤 초기화\n",
        "\n",
        "for epoch in range(n_epochs):\n",
        "    for i in range(m): # 한 반복에서 m 번 되풀이 됨 ===> 에포크 (epoch)\n",
        "        random_index = np.random.randint(m)\n",
        "        xi = X_b[random_index:random_index+1]\n",
        "        yi = y[random_index:random_index+1]\n",
        "        gradients = 2 * xi.T.dot(xi.dot(theta) - yi)\n",
        "        eta = learning_schedule(epoch * m + i)\n",
        "        theta = theta - eta * gradients"
      ],
      "metadata": {
        "id": "xDWDKhIBa1Ef"
      },
      "execution_count": 14,
      "outputs": []
    },
    {
      "cell_type": "markdown",
      "source": [
        "- 위 코드 결과 : 배치 경사 하강법에서는 전체 훈련 세트에 대해 1000번 반복하는 동안, 이 코드는 훈련세트에서 50번만 반복하고 매우 좋은 값에 도달함"
      ],
      "metadata": {
        "id": "IayDR0g1bRYV"
      }
    },
    {
      "cell_type": "markdown",
      "source": [
        "- 사이킷런에서 SGD 방식으로 선형회귀를 사용하려면, 기본값으로 MSE 를 최적화하는 SGDRegressor 클래스를 사용한다. "
      ],
      "metadata": {
        "id": "L0ONdyQ3bhQA"
      }
    },
    {
      "cell_type": "code",
      "source": [
        "from sklearn.linear_model import SGDRegressor\n",
        "\n",
        "sgd_reg = SGDRegressor(max_iter=1000, tol=1e-3, penalty=None, eta0=0.1, random_state=42)\n",
        "# 최대 1000번 에포크 동안 실행됨\n",
        "sgd_reg.fit(X, y.ravel())"
      ],
      "metadata": {
        "colab": {
          "base_uri": "https://localhost:8080/"
        },
        "id": "XsF2ClSwb3yV",
        "outputId": "6a7ddd04-73db-4041-ead1-a82a4b505dbc"
      },
      "execution_count": 15,
      "outputs": [
        {
          "output_type": "execute_result",
          "data": {
            "text/plain": [
              "SGDRegressor(eta0=0.1, penalty=None, random_state=42)"
            ]
          },
          "metadata": {},
          "execution_count": 15
        }
      ]
    },
    {
      "cell_type": "markdown",
      "source": [
        "- epoch 더 알아보기 ++ 기본적인 덧붙임 설명\n",
        "- 알고리즘이 iterative 하다는 것 :gradient descent와 같이 결과를 내기 위해서 여러 번의 최적화 과정을 거쳐야 되는 알고리즘\n",
        "- 머신 러닝에서 최적화(optimization)를 할 때는 일반적으로 여러 번 학습 과정을 거친다. ==> 한 번의 학습 과정 역시 사용하는 데이터를 나누는 방식으로 세분화 ==>이때, epoch, batch size, iteration라는 개념이 필요합니다"
      ],
      "metadata": {
        "id": "fmdVZ-IBcE9L"
      }
    },
    {
      "cell_type": "markdown",
      "source": [
        "- epoch : 한 번의 epoch는 인공 신경망에서  전체 데이터 셋에 대해 한 번 학습을 완료한 상태. epochs = 40이라면 전체 데이터를 40번 사용해서 학습을 거치는 것. 우리는 모델을 만들 때 적절한 epoch 값을 설정해야만 underfitting과 overfitting을 방지할 수 있다. epoch 값이 너무 작다면 underfitting이 너무 크다면 overfitting이 발생할 확률이 높은 것.\n",
        "- batch size : 한 번의 batch마다 주는 데이터 샘플의 size. batch(보통 mini-batch라고 표현)는 나눠진 데이터 셋을 뜻한다. \n",
        "- iteration : The number of passes to complete one epoch로, epoch를 나누어서 실행하는 횟수. \n",
        "- 결론 : 메모리의 한계와 속도 저하 때문에 대부분의 경우에는 한 번의 epoch에서 모든 데이터를 한꺼번에 집어넣을 수는 없다. 그래서 데이터를 나누어서 주게 되는데 이때 몇 번 나누어서 주는가를 iteration, 각 iteration마다 주는 데이터 사이즈를 batch size라고 한다. \n",
        "https://m.blog.naver.com/qbxlvnf11/221449297033 참고\n"
      ],
      "metadata": {
        "id": "hP_v0tXrcoyt"
      }
    },
    {
      "cell_type": "markdown",
      "source": [
        "#### 4.2.3 미니배치 경사 하강법"
      ],
      "metadata": {
        "id": "C_TcKsq6MAvp"
      }
    },
    {
      "cell_type": "markdown",
      "source": [
        "- **미니배치 경사하강법 (mini-batch gradient descent)** 각 스텝에서 전체 훈련 세트(배치 경사 하강법에서 처럼) 하나의샘플 (확률적 경사 하강법에서처럼) 을 기반으로 그레디언트를 계산하는 것이 아니라 미니배치 라 부르는 임의의 작은 샘플 세트에 대해 그레이던트를 계산함. \n",
        "- 장점 : 행렬 연산에 최적화된 하드웨어, GPU 를 사용해서 얻는 성능 향상\n"
      ],
      "metadata": {
        "id": "OubrlwozeBgD"
      }
    },
    {
      "cell_type": "markdown",
      "source": [
        "- 미니배치를 어느정도 크게 하면, 파라미터 공간에서 SGD 보다 덜 불규칙하게 움직인다. 그러면, 미니배치 경사 하강법이 SGD 보다 최솟값에 더 가까이 도달하게 될 것"
      ],
      "metadata": {
        "id": "1VyauXUTfXk2"
      }
    },
    {
      "cell_type": "markdown",
      "source": [
        "![캡처232.JPG](data:image/jpeg;base64,/9j/4AAQSkZJRgABAQEAeAB4AAD/4RDcRXhpZgAATU0AKgAAAAgABAE7AAIAAAAGAAAISodpAAQAAAABAAAIUJydAAEAAAAMAAAQyOocAAcAAAgMAAAAPgAAAAAc6gAAAAgAAAAAAAAAAAAAAAAAAAAAAAAAAAAAAAAAAAAAAAAAAAAAAAAAAAAAAAAAAAAAAAAAAAAAAAAAAAAAAAAAAAAAAAAAAAAAAAAAAAAAAAAAAAAAAAAAAAAAAAAAAAAAAAAAAAAAAAAAAAAAAAAAAAAAAAAAAAAAAAAAAAAAAAAAAAAAAAAAAAAAAAAAAAAAAAAAAAAAAAAAAAAAAAAAAAAAAAAAAAAAAAAAAAAAAAAAAAAAAAAAAAAAAAAAAAAAAAAAAAAAAAAAAAAAAAAAAAAAAAAAAAAAAAAAAAAAAAAAAAAAAAAAAAAAAAAAAAAAAAAAAAAAAAAAAAAAAAAAAAAAAAAAAAAAAAAAAAAAAAAAAAAAAAAAAAAAAAAAAAAAAAAAAAAAAAAAAAAAAAAAAAAAAAAAAAAAAAAAAAAAAAAAAAAAAAAAAAAAAAAAAAAAAAAAAAAAAAAAAAAAAAAAAAAAAAAAAAAAAAAAAAAAAAAAAAAAAAAAAAAAAAAAAAAAAAAAAAAAAAAAAAAAAAAAAAAAAAAAAAAAAAAAAAAAAAAAAAAAAAAAAAAAAAAAAAAAAAAAAAAAAAAAAAAAAAAAAAAAAAAAAAAAAAAAAAAAAAAAAAAAAAAAAAAAAAAAAAAAAAAAAAAAAAAAAAAAAAAAAAAAAAAAAAAAAAAAAAAAAAAAAAAAAAAAAAAAAAAAAAAAAAAAAAAAAAAAAAAAAAAAAAAAAAAAAAAAAAAAAAAAAAAAAAAAAAAAAAAAAAAAAAAAAAAAAAAAAAAAAAAAAAAAAAAAAAAAAAAAAAAAAAAAAAAAAAAAAAAAAAAAAAAAAAAAAAAAAAAAAAAAAAAAAAAAAAAAAAAAAAAAAAAAAAAAAAAAAAAAAAAAAAAAAAAAAAAAAAAAAAAAAAAAAAAAAAAAAAAAAAAAAAAAAAAAAAAAAAAAAAAAAAAAAAAAAAAAAAAAAAAAAAAAAAAAAAAAAAAAAAAAAAAAAAAAAAAAAAAAAAAAAAAAAAAAAAAAAAAAAAAAAAAAAAAAAAAAAAAAAAAAAAAAAAAAAAAAAAAAAAAAAAAAAAAAAAAAAAAAAAAAAAAAAAAAAAAAAAAAAAAAAAAAAAAAAAAAAAAAAAAAAAAAAAAAAAAAAAAAAAAAAAAAAAAAAAAAAAAAAAAAAAAAAAAAAAAAAAAAAAAAAAAAAAAAAAAAAAAAAAAAAAAAAAAAAAAAAAAAAAAAAAAAAAAAAAAAAAAAAAAAAAAAAAAAAAAAAAAAAAAAAAAAAAAAAAAAAAAAAAAAAAAAAAAAAAAAAAAAAAAAAAAAAAAAAAAAAAAAAAAAAAAAAAAAAAAAAAAAAAAAAAAAAAAAAAAAAAAAAAAAAAAAAAAAAAAAAAAAAAAAAAAAAAAAAAAAAAAAAAAAAAAAAAAAAAAAAAAAAAAAAAAAAAAAAAAAAAAAAAAAAAAAAAAAAAAAAAAAAAAAAAAAAAAAAAAAAAAAAAAAAAAAAAAAAAAAAAAAAAAAAAAAAAAAAAAAAAAAAAAAAAAAAAAAAAAAAAAAAAAAAAAAAAAAAAAAAAAAAAAAAAAAAAAAAAAAAAAAAAAAAAAAAAAAAAAAAAAAAAAAAAAAAAAAAAAAAAAAAAAAAAAAAAAAAAAAAAAAAAAAAAAAAAAAAAAAAAAAAAAAAAAAAAAAAAAAAAAAAAAAAAAAAAAAAAAAAAAAAAAAAAAAAAAAAAAAAAAAAAAAAAAAAAAAAAAAAAAAAAAAAAAAAAAAAAAAAAAAAAAAAAAAAAAAAAAAAAAAAAAAAAAAAAAAAAAAAAAAAAAAAAAAAAAAAAAAAAAAAAAAAAAAAAAAAAAAAAAAAAAAAAAAAAAAAAAAAAAAAAAAAAAAAAAAAAAAAAAAAAAAAAAAAAAAAAAAAAAAAAAAAAAAAAAAAAAAAAAAAAAAAAAAAAAAAAAAAAAAAAAAAAAAAAAAAAAAAAAAAAAAAAAAAAAAAAAAAAAAAAAAAAAAAAAAAAAAAAAAAAAAAAAAAAAAAAAAAAAAAAAAAAAAAAAAAAAAAAAAAAAAAAAAAAAAAAAAAAAAAAAAAAAAAAAAAAAAAAAAAAAAAAAAAAAAAAAAAAAAAAAAAAAAAAAAAAAAAAAAAAAAAAAAAAAAAAAAAAAAAAAAAAAAAAAAAAAAAAAAAAAAAAAAAAAAAAAAAAAAAAAAAAAAAAAAAAAAAAAAAAAAAAAAAAAAAAAAAAAAAAAAAAAAAAAAAAAAAAAAAAAAAAAAAAAAAAAAAAAAAAAAAAAAAAAAAAAAAAAAAAAAAAAAAAAAAAAAAAAAAAAAAAAAAAAAAAAAAAAAAAAAAAAAAAAAAAAAAAAAAAAAAAAAAAAAAAAAAAAAAAAAAAAAAAAAAAAAAAAAAAAAAAAAAAAAAAAAAAAAAAAAAAAAAAAAAAAAAAAAAAAAAAAAAAAAAAAAAAAAAAAAAAAAAAAAAAAAAAAAAAAAAAAAAAAAAAAAAAAAAAAAAAAAAAAAAAAAAAAAAAAAAAAAAAAAAAAAAAAAAAAAAAAAAAAAAAAAAAAAAAAAAAAAAAAAAAAAAAAAAAAAAAAAAAAAAAAAAAAAAAAAAAAAAAAAAAAAAAAAAAAAAAAAAAAAAAAAAAAAAAAAAAAAAAAAAAAAAAAAAAAAAAAAAAAAAAAAAAAAAAAAAAAAAAAAAAAAAAAAAAAAAAAAAAAAAAAAAAAAAAAAAAAAAAAAAAAAAAAAAAAAAAAAAAAAAAAAAAAAAEFETUlOAAAFkAMAAgAAABQAABCekAQAAgAAABQAABCykpEAAgAAAAM2OQAAkpIAAgAAAAM2OQAA6hwABwAACAwAAAiSAAAAABzqAAAACAAAAAAAAAAAAAAAAAAAAAAAAAAAAAAAAAAAAAAAAAAAAAAAAAAAAAAAAAAAAAAAAAAAAAAAAAAAAAAAAAAAAAAAAAAAAAAAAAAAAAAAAAAAAAAAAAAAAAAAAAAAAAAAAAAAAAAAAAAAAAAAAAAAAAAAAAAAAAAAAAAAAAAAAAAAAAAAAAAAAAAAAAAAAAAAAAAAAAAAAAAAAAAAAAAAAAAAAAAAAAAAAAAAAAAAAAAAAAAAAAAAAAAAAAAAAAAAAAAAAAAAAAAAAAAAAAAAAAAAAAAAAAAAAAAAAAAAAAAAAAAAAAAAAAAAAAAAAAAAAAAAAAAAAAAAAAAAAAAAAAAAAAAAAAAAAAAAAAAAAAAAAAAAAAAAAAAAAAAAAAAAAAAAAAAAAAAAAAAAAAAAAAAAAAAAAAAAAAAAAAAAAAAAAAAAAAAAAAAAAAAAAAAAAAAAAAAAAAAAAAAAAAAAAAAAAAAAAAAAAAAAAAAAAAAAAAAAAAAAAAAAAAAAAAAAAAAAAAAAAAAAAAAAAAAAAAAAAAAAAAAAAAAAAAAAAAAAAAAAAAAAAAAAAAAAAAAAAAAAAAAAAAAAAAAAAAAAAAAAAAAAAAAAAAAAAAAAAAAAAAAAAAAAAAAAAAAAAAAAAAAAAAAAAAAAAAAAAAAAAAAAAAAAAAAAAAAAAAAAAAAAAAAAAAAAAAAAAAAAAAAAAAAAAAAAAAAAAAAAAAAAAAAAAAAAAAAAAAAAAAAAAAAAAAAAAAAAAAAAAAAAAAAAAAAAAAAAAAAAAAAAAAAAAAAAAAAAAAAAAAAAAAAAAAAAAAAAAAAAAAAAAAAAAAAAAAAAAAAAAAAAAAAAAAAAAAAAAAAAAAAAAAAAAAAAAAAAAAAAAAAAAAAAAAAAAAAAAAAAAAAAAAAAAAAAAAAAAAAAAAAAAAAAAAAAAAAAAAAAAAAAAAAAAAAAAAAAAAAAAAAAAAAAAAAAAAAAAAAAAAAAAAAAAAAAAAAAAAAAAAAAAAAAAAAAAAAAAAAAAAAAAAAAAAAAAAAAAAAAAAAAAAAAAAAAAAAAAAAAAAAAAAAAAAAAAAAAAAAAAAAAAAAAAAAAAAAAAAAAAAAAAAAAAAAAAAAAAAAAAAAAAAAAAAAAAAAAAAAAAAAAAAAAAAAAAAAAAAAAAAAAAAAAAAAAAAAAAAAAAAAAAAAAAAAAAAAAAAAAAAAAAAAAAAAAAAAAAAAAAAAAAAAAAAAAAAAAAAAAAAAAAAAAAAAAAAAAAAAAAAAAAAAAAAAAAAAAAAAAAAAAAAAAAAAAAAAAAAAAAAAAAAAAAAAAAAAAAAAAAAAAAAAAAAAAAAAAAAAAAAAAAAAAAAAAAAAAAAAAAAAAAAAAAAAAAAAAAAAAAAAAAAAAAAAAAAAAAAAAAAAAAAAAAAAAAAAAAAAAAAAAAAAAAAAAAAAAAAAAAAAAAAAAAAAAAAAAAAAAAAAAAAAAAAAAAAAAAAAAAAAAAAAAAAAAAAAAAAAAAAAAAAAAAAAAAAAAAAAAAAAAAAAAAAAAAAAAAAAAAAAAAAAAAAAAAAAAAAAAAAAAAAAAAAAAAAAAAAAAAAAAAAAAAAAAAAAAAAAAAAAAAAAAAAAAAAAAAAAAAAAAAAAAAAAAAAAAAAAAAAAAAAAAAAAAAAAAAAAAAAAAAAAAAAAAAAAAAAAAAAAAAAAAAAAAAAAAAAAAAAAAAAAAAAAAAAAAAAAAAAAAAAAAAAAAAAAAAAAAAAAAAAAAAAAAAAAAAAAAAAAAAAAAAAAAAAAAAAAAAAAAAAAAAAAAAAAAAAAAAAAAAAAAAAAAAAAAAAAAAAAAAAAAAAAAAAAAAAAAAAAAAAAAAAAAAAAAAAAAAAAAAAAAAAAAAAAAAAAAAAAAAAAAAAAAAAAAAAAAAAAAAAAAAAAAAAAAAAAAAAAAAAAAAAAAAAAAAAAAAAAAAAAAAAAAAAAAAAAAAAAAAAAAAAAAAAAAAAAAAAAAAAAAAAAAAAAAAAAAAAAAAAAAAAAAAAAAAAAAAAAAAAAAAAAAAAAAAAAAAAAAAAAAAAAAAAAAAAAAAAAAAAAAAAAAAAAAAAAAAAAAAAAAAAAAAAAAAAAAAAAAAAAAAAAAAAAAAAAAAAAAAAAAAAAAAAAAAAAAAAAAAAAAAAAAAAAAAAAAAAAAAAAAAAAAAAAAAAAAAAAAAAAAAAAAAAAAAAAAAAAAAAAAAAAAAAAAAAAAAAAAAAAAAAAAAAAAAAAAAAAAAAAAAAAAAAAAAAAAAAAAAAAAAAAAAAAAAAAAAAAAAAAAAAAAAAAAAAAAAAAAAAAAAAAAAAAAAAAAAAAAAAAAAAAAAAAAAAAAAAAAAAAAAAAAAAAAAAAAAAAAAAAAAAAAAAAAAAAAAAAAAAAAAAAAAAAAAAAAAAAAAAAAAAAAAAAAAAAAAAAAAAAAAAAAAAAAAAAAAAAAAAAAAAAAAAAAAAAAAAAAAAAAAAAAAAAAAAAAAAAAAAAAAAAAAAAAAAAAAAAAAAAAAAAAAAAAAAAAAAAAAAAAAAAAAAAAAAAAAAAAAAAAAAAAAAAAAAAAAAAAAAAAAAAAAAAAAAAAAAAAAAAAAAAAAAAAAAAAAAAAAAAAAAAAAAAAAAAAAAAAAAAAAAAAAAAAAAAAAAAAAAAAAAAAAAAAAAAAAAAAAAAAAAAAAAAAAAAAAAAAAAAAAAAAAAAAAAAAAAAAAAAAAAAAAAAAAAAAAAAAAAAAAAAAAAAAAAAAMjAyMjowOToxOSAwMTo0OTozMAAyMDIyOjA5OjE5IDAxOjQ5OjMwAAAAQQBEAE0ASQBOAAAA/+ELGGh0dHA6Ly9ucy5hZG9iZS5jb20veGFwLzEuMC8APD94cGFja2V0IGJlZ2luPSfvu78nIGlkPSdXNU0wTXBDZWhpSHpyZVN6TlRjemtjOWQnPz4NCjx4OnhtcG1ldGEgeG1sbnM6eD0iYWRvYmU6bnM6bWV0YS8iPjxyZGY6UkRGIHhtbG5zOnJkZj0iaHR0cDovL3d3dy53My5vcmcvMTk5OS8wMi8yMi1yZGYtc3ludGF4LW5zIyI+PHJkZjpEZXNjcmlwdGlvbiByZGY6YWJvdXQ9InV1aWQ6ZmFmNWJkZDUtYmEzZC0xMWRhLWFkMzEtZDMzZDc1MTgyZjFiIiB4bWxuczpkYz0iaHR0cDovL3B1cmwub3JnL2RjL2VsZW1lbnRzLzEuMS8iLz48cmRmOkRlc2NyaXB0aW9uIHJkZjphYm91dD0idXVpZDpmYWY1YmRkNS1iYTNkLTExZGEtYWQzMS1kMzNkNzUxODJmMWIiIHhtbG5zOnhtcD0iaHR0cDovL25zLmFkb2JlLmNvbS94YXAvMS4wLyI+PHhtcDpDcmVhdGVEYXRlPjIwMjItMDktMTlUMDE6NDk6MzAuNjg2PC94bXA6Q3JlYXRlRGF0ZT48L3JkZjpEZXNjcmlwdGlvbj48cmRmOkRlc2NyaXB0aW9uIHJkZjphYm91dD0idXVpZDpmYWY1YmRkNS1iYTNkLTExZGEtYWQzMS1kMzNkNzUxODJmMWIiIHhtbG5zOmRjPSJodHRwOi8vcHVybC5vcmcvZGMvZWxlbWVudHMvMS4xLyI+PGRjOmNyZWF0b3I+PHJkZjpTZXEgeG1sbnM6cmRmPSJodHRwOi8vd3d3LnczLm9yZy8xOTk5LzAyLzIyLXJkZi1zeW50YXgtbnMjIj48cmRmOmxpPkFETUlOPC9yZGY6bGk+PC9yZGY6U2VxPg0KCQkJPC9kYzpjcmVhdG9yPjwvcmRmOkRlc2NyaXB0aW9uPjwvcmRmOlJERj48L3g6eG1wbWV0YT4NCiAgICAgICAgICAgICAgICAgICAgICAgICAgICAgICAgICAgICAgICAgICAgICAgICAgICAgICAgICAgICAgICAgICAgICAgICAgICAgICAgICAgICAgICAgICAgICAgICAgICAKICAgICAgICAgICAgICAgICAgICAgICAgICAgICAgICAgICAgICAgICAgICAgICAgICAgICAgICAgICAgICAgICAgICAgICAgICAgICAgICAgICAgICAgICAgICAgICAgICAgIAogICAgICAgICAgICAgICAgICAgICAgICAgICAgICAgICAgICAgICAgICAgICAgICAgICAgICAgICAgICAgICAgICAgICAgICAgICAgICAgICAgICAgICAgICAgICAgICAgICAgCiAgICAgICAgICAgICAgICAgICAgICAgICAgICAgICAgICAgICAgICAgICAgICAgICAgICAgICAgICAgICAgICAgICAgICAgICAgICAgICAgICAgICAgICAgICAgICAgICAgICAKICAgICAgICAgICAgICAgICAgICAgICAgICAgICAgICAgICAgICAgICAgICAgICAgICAgICAgICAgICAgICAgICAgICAgICAgICAgICAgICAgICAgICAgICAgICAgICAgICAgIAogICAgICAgICAgICAgICAgICAgICAgICAgICAgICAgICAgICAgICAgICAgICAgICAgICAgICAgICAgICAgICAgICAgICAgICAgICAgICAgICAgICAgICAgICAgICAgICAgICAgCiAgICAgICAgICAgICAgICAgICAgICAgICAgICAgICAgICAgICAgICAgICAgICAgICAgICAgICAgICAgICAgICAgICAgICAgICAgICAgICAgICAgICAgICAgICAgICAgICAgICAKICAgICAgICAgICAgICAgICAgICAgICAgICAgICAgICAgICAgICAgICAgICAgICAgICAgICAgICAgICAgICAgICAgICAgICAgICAgICAgICAgICAgICAgICAgICAgICAgICAgIAogICAgICAgICAgICAgICAgICAgICAgICAgICAgICAgICAgICAgICAgICAgICAgICAgICAgICAgICAgICAgICAgICAgICAgICAgICAgICAgICAgICAgICAgICAgICAgICAgICAgCiAgICAgICAgICAgICAgICAgICAgICAgICAgICAgICAgICAgICAgICAgICAgICAgICAgICAgICAgICAgICAgICAgICAgICAgICAgICAgICAgICAgICAgICAgICAgICAgICAgICAKICAgICAgICAgICAgICAgICAgICAgICAgICAgICAgICAgICAgICAgICAgICAgICAgICAgICAgICAgICAgICAgICAgICAgICAgICAgICAgICAgICAgICAgICAgICAgICAgICAgIAogICAgICAgICAgICAgICAgICAgICAgICAgICAgICAgICAgICAgICAgICAgICAgICAgICAgICAgICAgICAgICAgICAgICAgICAgICAgICAgICAgICAgICAgICAgICAgICAgICAgCiAgICAgICAgICAgICAgICAgICAgICAgICAgICAgICAgICAgICAgICAgICAgICAgICAgICAgICAgICAgICAgICAgICAgICAgICAgICAgICAgICAgICAgICAgICAgICAgICAgICAKICAgICAgICAgICAgICAgICAgICAgICAgICAgICAgICAgICAgICAgICAgICAgICAgICAgICAgICAgICAgICAgICAgICAgICAgICAgICAgICAgICAgICAgICAgICAgICAgICAgIAogICAgICAgICAgICAgICAgICAgICAgICAgICAgICAgICAgICAgICAgICAgICAgICAgICAgICAgICAgICAgICAgICAgICAgICAgICAgICAgICAgICAgICAgICAgICAgICAgICAgCiAgICAgICAgICAgICAgICAgICAgICAgICAgICAgICAgICAgICAgICAgICAgICAgICAgICAgICAgICAgICAgICAgICAgICAgICAgICAgICAgICAgICAgICAgICAgICAgICAgICAKICAgICAgICAgICAgICAgICAgICAgICAgICAgICAgICAgICAgICAgICAgICAgICAgICAgICAgICAgICAgICAgICAgICAgICAgICAgICAgICAgICAgICAgICAgICAgICAgICAgIAogICAgICAgICAgICAgICAgICAgICAgICAgICAgICAgICAgICAgICAgICAgICAgICAgICAgICAgICAgICAgICAgICAgICAgICAgICAgICAgICAgICAgICAgICAgICAgICAgICAgCiAgICAgICAgICAgICAgICAgICAgICAgICAgICAgICAgICAgICAgICAgICAgICAgICAgICAgICAgICAgICAgICAgICAgICAgICAgICAgICAgICAgICAgICAgICAgICAgICAgICAKICAgICAgICAgICAgICAgICAgICAgICAgICAgICAgICAgICAgICAgICAgICAgICAgICAgICAgICAgICAgICAgICAgICAgICAgICAgICAgICAgICAgICAgICAgICAgICAgICAgIAogICAgICAgICAgICAgICAgICAgICAgICAgICAgPD94cGFja2V0IGVuZD0ndyc/Pv/bAEMABwUFBgUEBwYFBggHBwgKEQsKCQkKFQ8QDBEYFRoZGBUYFxseJyEbHSUdFxgiLiIlKCkrLCsaIC8zLyoyJyorKv/bAEMBBwgICgkKFAsLFCocGBwqKioqKioqKioqKioqKioqKioqKioqKioqKioqKioqKioqKioqKioqKioqKioqKioqKv/AABEIAPQC/QMBIgACEQEDEQH/xAAfAAABBQEBAQEBAQAAAAAAAAAAAQIDBAUGBwgJCgv/xAC1EAACAQMDAgQDBQUEBAAAAX0BAgMABBEFEiExQQYTUWEHInEUMoGRoQgjQrHBFVLR8CQzYnKCCQoWFxgZGiUmJygpKjQ1Njc4OTpDREVGR0hJSlNUVVZXWFlaY2RlZmdoaWpzdHV2d3h5eoOEhYaHiImKkpOUlZaXmJmaoqOkpaanqKmqsrO0tba3uLm6wsPExcbHyMnK0tPU1dbX2Nna4eLj5OXm5+jp6vHy8/T19vf4+fr/xAAfAQADAQEBAQEBAQEBAAAAAAAAAQIDBAUGBwgJCgv/xAC1EQACAQIEBAMEBwUEBAABAncAAQIDEQQFITEGEkFRB2FxEyIygQgUQpGhscEJIzNS8BVictEKFiQ04SXxFxgZGiYnKCkqNTY3ODk6Q0RFRkdISUpTVFVWV1hZWmNkZWZnaGlqc3R1dnd4eXqCg4SFhoeIiYqSk5SVlpeYmZqio6Slpqeoqaqys7S1tre4ubrCw8TFxsfIycrS09TV1tfY2dri4+Tl5ufo6ery8/T19vf4+fr/2gAMAwEAAhEDEQA/APpGjIorgvinqN/o2hQ6lYa5daasEyrLHaQxSPMHZVB/edlJ7dc0Ad5ketLXk2mza5B8TLXQLjx1eXqJaDUJC1pbrHIvmbPKyOcn25Fei69rtn4c0K41TUZNsEC5IHLOx4VVHckkAD1NAGpmivM/hb4s8ReIvEfim38T+XA1lLAYbNVXNsrqzbCQMk42g57g132r3s9hpNxdWVlJqE8S5S1hYBpT6AngfjQBeyKM4615t8M/GGveJ/FPii38QwCyOnywpFY/KTb7g2QWA+YnAOc49K7nXNXs9E0me+v5lihiXueWPZQO7E8ADkmgC/uHqKNw9RXlujeIfEA8Ey6dJbrNr1oJWvYL+7MUqwtuZZFOGLcEAdsgjjFZN7PrWq+H/D+nafdveXDaPDdi2ijkMmdmC7S+fGCCeMcnPbvVcpHOj2jcPWlyK8XXxfe3Mnh3ThfQS/8AE1gQhDJBcRbWKtE0e5w4+U5Yuc56GvVdeuriy0C6urNrZJIYzJuu2ZYlA5JYqCcAZ6UONhqSZpbh60bh615R4P1jWF8Q29vM5WG9BMZv5b1jKgBY+V5qhS2Oe3Fafhjz9R+HuhPJ4muNJuNjO7+ZE7zAswwxkBz+FDjYXNc9E3D1o3e9eQXniG5TRvEenyeJjey22oW8NlIzxrM67oi+0IBuGWI/DFP8X6rO/i66W3mP2WOGIpLb3zcuCQQyC5iC4PHQ5z7U+UXtEeubqWvM/h/dsviK6a71O5Mc0SxQ2txMCgfdk43XErFiD09BXY+MtSOk+CtXv0m8mSC0laOQHBV9p2n88UnGzsUpXVza3AUbh615/wCINdY/CfS9W+3OnmNYyS3AJBIMke8kjoDzn8apeJdbtrjxBpN39pbVdFvV+zRWtlfeSVuMlt7/ADKCNoxyeD25oUWyXNI9N3D1o3D1rzDwlqAvPGF3/Y076VY20bQz2V5fi4M0zYKMi72CgAnJVuc4xxWa+rXv9o/2/wDac2v2lYBqn9myGANnyydn2nO3dxnZj+dPlDn0PYQc96NwHeuL8J6jdyeNfFFnPHdTRR3UZW4IAhT9xHlFBbIJOTwMdeaz/FV+0HiyeLXb7V7DSxaI1i2mrIFkmLHfuaMElhhdqng5PFLl1sPm0ueibh60ZHrXmTX3iRv+EFM+Bqk7z+cly7RB1ETH94qj72MHGOGrodQsdXTVEX/hM5LMXkxFta/Y4DwAWKKSuWwATn0Heiw1K/Q6zcPWjcPWuD0jUtRh/wCErg1vxBJJb6Y6xpfi1jRoQYg7NtVcEjcOoPSqGh67Nd+OdMttO8TX+sWM0Vw1ws9msaoVC7PmEa+p79hRyi5z0vcPWk3D1FeU2utW8Pw8tYb+4uJrqa8uTGI9UFmwUTyAMXZ1PljpnntxWPbPPpN35+ra6msQzyK5gsPErI9kR0QB5B5o6ckg9eMU+QXOe4ZozWTql/t8L3d9YzA7bV5Y5IyHHCEgjHWuHsPG+pXsnhKzFpq1s91JGLq6ubRRFdL5LE4bnqwB6A1KTZTkkem7h60ZHrXDaCLm60jxH5eqS2DR6zckXQVX8pVYEgBwRjg9vWs7X7nUtO8O32oaf46muLi3svtsURtrciRDwhwEyQxGAafLrYObS52eta+NJlt4IrSW9ubksIoISAxCjJOSQMD+tUV8Zwz2VtLYWNzdzXEbSCCMAMiqcMTuIHB4461Hr+na5qelWlvp08QDIDdmVjGZRgcAqCVzznGKrp4f1W0ayurCHT4biK3e1lgDOIthbKkHGSR1OeuTzW0Y0+VX3OWcqvO+Xb0Oo07UIdTsYbu2JMUyB1yMHn1q1WdoOljR9FtrESGQwpguRjcepOPrWjWErXdjqjdxXNuFFFFIoKKKKACiiigAooooAKKKKACiiigAooooAKKKKACiiigAooooAKKKKACiiigAooooAKKKKACiiigAooooAKKKKACiiigAooooAKKKKACiiigAooooAKKKKACiiigAooooAKKKKACiiigAooooAKKKKACvKfi94e1TxXby6dp3g1NSmjiH2XVXu40MDMwLBUbnooB+terUcUAeBaT4G1PS/GcetRfDCEQxQRJDa/2nEBHOjZ84H19sV6j4y8Gt4yg04HU7nTHsbj7SjQKrneBhThgRxnjiusooA8h8HfDvXLTxb4sGt6rqRsr1REtyCiNe7kI8zIyVZOg6da7vwp4LtPCT3bWeoanefatu4X90Ztm3P3cjjrz+FdHRQB594G0DU9L+InjbUL+0MFrqN1E9q5IPmqFbJ6+/euo8SWIn0ee5hsory+s43mslkjD7Zgp2kA981s0UA9Tg4/EFhe6dA2q6Rqn9ovamGWddGmypK/OFOw4Ge1ZPijRYB4P8O2trpjTWsaLBJf3GnNNcWcIjOG8sYIJIGc8DuK9R+tBANO5PKeRWhMl/odh4fu5tcsIL2MyWkukm2S1CHmUSKqBSufunO4nGK9M1yG7uNDngsbW1u5ZUKGG7laON1IwQSqsentWgAB3p2RQ2CVjzDQfBniLRtYa+NlpMioQLRZ9RuZvsUZQB0jDLjseeOOOlO0vwvb3/AMGYYr3R4bnUY9NmjhElsPMVvnIC7hkHP6816ZketHFPmYuVHnmt+GLa1+GcKabo8MV+VtA/2e1CSFvMj3ZwM545+lY3jGzm/wCEtuobXS7iO2SCOTzYrPfHKxJ3AbbaQkjgnJHWvXOPWjihSsDhc8z+H2mXP/CRXc1/GGhSFDCs1gyMkgY5YSNBF1Bxjr+FdV4g8Oy+Iby1hvLhRpETiWe0CfNcSKQUDNn7gIyRjkgdq6LilpOTvcaikrHnWu+FZ9I8PXVppjyz6fJqFpNb2Sxlvsv79TIFI5Kd9vbntVTxhp9unirZfaVBY6XLCJW1O20ZLyWWbdgqxKNswMHJU59a9P4owKfMLlR5h4Y0u2PiuCPT9Lh1DS44mle/u9GS1kgmB+XY2xN2eei8dc9qfFZ6da+JdT/tTwtqDRw3wksvsdtM8DjareYUDbC2/dzt9K9MwKKfMHIc54XS2e81a+t4NRhe+uFmlW+gMWCI1QBcjkYUetZHxEm1BJtKjsra5kgZpXmmtzc/usKNu4QEEgk4wa7rFLU31uNxurHkvh+31L/hL9Ome51BY4PMVoXgv9krMhwGaYlVAOD/AJFbuqWPjLU9U0i+/szSYjpkzz7Pt8h8wtGyYz5XH3s13lLT5tbiULKxw3/CPavf6fremXen2GnQ6xHI09zb3kkz+a6Bc7Si8YA7jp0q5YaV4vtxBHc67pjQRAKRFprBmUdOTLgHHtj2rrMijilzD5UeQXGiXX/CvdLxpswuBqsyXEkdgk88ds00pYhWVsA/KcYxVC90FFVG0iPW7q6NzEBDdeHoUiZNwB3N5IwAM4547V7dxRketVzsnkRRvbBbnRZ7CHECywNCuxcBAVxwPauWsPBmrwvokeoazbz2ejMjwQxWRRmKxlBljIezeldvkUZHrU3LsjgLKy8RRabrcGl2FvvvNWuyzX0rx/u2wFdQFO4dfTp78ZVl4M8UxLbxX1ho93bw6ZHpxia+mXcI23q5IjzyQOPavVMj1oyKfMyeVFTTJL57CI6pDBBc4/eJbyF0B9iQCfyq5RkUZFSWFFGR60ZFABRRkUZoAKKM0ZFABRRmjNABRRmjIoAKKMijIoAKKMijIoAKKMijI9aACijIoyPWgAopMj1oyPWgBaKMj1oyKACijIoyKACikyPWlyPWgAoozSZoAWijNGRQAUUZFGRQAUUZoyKACijI9aMigAooyKMj1oAKKMikyPWgBaKTI9aXNABRSZHrRketAC0UmR60ZHrQAtFGR60mR60ALRSZHrS5FABRRmjNABRRRQAUUZooAKKMj1pM+9AC0UmaWgArkdf8TXel6q9vCsZQAEbgc8111eb+M/8AkYJN3Ty17V89xBXq0cNGVOTT5unox7E3/Cdahkjy4Pb5T/jSN451HnbHBx/sn/GuX3AHK844FIud3zdPWvjP7Qxn/P2X3snmOoPjvUgB+7hz/un/ABpf+E51HP3IPQfKf8a5Zl9eoFNIO9eeBR/aGL/5+y+9hzs6s+ONRz92DGf7p/xpD441IDOLcHGcbT/jXKht+dn4Uj4GfMYk5yBR9fxf/P2X3sOZpHVf8JzqXpbkdPumkHjjVPL+ZIQe3y//AF65fcNuOhJwRSggA9Tnpin9exf/AD9l97DmZ0y+OdUJbKwZA6bDS/8ACc6mTjbCPfYf8a5oYGeo554pqk+aT29O1L6/i/8An7L73/mLmZ1I8a6pgErB642H/Gmr421QnBEPT/nmf8a5luGXPC4pM7XJzgZ44o+v4v8A5+y+9hzM6hfG+pMSAsGf900f8JvqYzkQdf7h/wAa5hcbjjj6UMMt0z7UfX8X/wA/Zfew52dN/wAJzqh4CwdOu0/40Hxzqf8Acg9vlP8AjXMZG4np7UhO7FH9oYv/AJ+y+9hzs6hfHOpsv3IM/wC6f8ad/wAJvqW3OIM/7p/xrl+nQZ70Mw2jANH9oYv/AJ+y+9hzs6b/AITnUsZxD9NtKnjfVCPmEH/fNcsPlH8qeGx1pfX8X/z9l97Hzs6dvG2p5wvk/wDfFIfG+phf+WOf9yuaZsoWXFNBzx1oWOxf/P2X3sTm7nT/APCbaocDEOcc/LQfG2qdhD7/ACVzOO57DpUZb8/ej69i/wDn7L73/mHOzpx431TnmHI/2P8A69KPG2qn/nj/AN8VzOecYGcUMcgDHvR9exf/AD9l97/zFzM6U+N9U5JMXHP3KB401bH3oOnXy65vCgfN065p4J2gMMYHrmj69i/+fsvvYczOjXxnqhzlohzjHl//AF6D4y1QE5aE88Dy65tWycbsHHtUsCLJcKjsE3MAT6Cmsbi27e1l97DmdjfPjDVem+Icdo+9N/4THVufni4P/PP/AOvV6XRLB72exWzlhMUW9bvecHvz2xT7bS7OS8sI5LdGWSyLPjgs3HP/ANevU9njebldZ9t5d7BzSM9PGOrE4LRZwednWkbxnqw6GHP+5WpZ+HbEXY8y1vdgBH7/AGlDx7c1zNjZx3utRW0m5Y2k2kKe1YVfr1OUIuq7ydlrLy727hzSSuaf/CZaryd8XB/udaB4z1UgfPFz0+QVp2/hjT2dJoUkliUyRyLKfTIz+dMk0ewl1IJJb5SOyEmyP5dx/Ct5UcdFJus9fOVtr3/pBzSKP/CZaoTw8WP9yl/4THVcfei/74qaxstK1BpYl0y4tysTMHeQ9u1N0jTbW8ggE+k3L7zgzh8LjPWs408bKUYxrPX/AB97dr/oLnZCvjHVT1MXT+5QnjPVT94xg+myn3VhbW2jansjBMN0FRmHIHpmubb1HFcVbEYuk0nVlqr7v/Mrma3Oh/4TPVNx5j/74pP+E01QsQHi+m2udODjB5zQoHQ4yKx+u4r/AJ+y/wDAn/mLnZ0n/CY6px80ec/3KRvGeqr/ABx/98VzxyAP0oRdzDc2Ae9CxuKb/iy/8Cf+Yc7OiPjLVMZ3x4I/uUf8JjqpPDx9f7lc5kj7x4pw6/zNH13Ff8/Zf+BP/MOZnQ/8JhqvHzx5x18umnxnqn9+L3+SufYehwM9qYN28d6PruK/5+y/8Cf+YczOk/4THVevmRY/3KYfGWq/89I/++BxXPsVDY5PFMU8980/rmK/5+y+9/5ic2dH/wAJjqx6Sxn2MYpP+Ex1b/non18sVhKVLKrNgEg7iOg6V1i6NaDSPnNqV24+07JAR6GurDyxeIUnGq9P73/BBTbdil/wl+q95EA/3AaP+Ev1XqJUA7fIOauDQYrm30sKi7MMJpoh94DpzVSewsLmxkutPieI28yo6u+4OuetbSp4yKu6z7rV6qybt6X+fQOeVhB4t1bHMqg/9cxzSnxfqoH+tjxnGdgrQudO05tQvQ9m5NuiyYjk2ggjnipItBtI7xzHZN5SwNlncMCSMj3BrT2GMvb2z69ZdL/Lo+oc0tjL/wCEv1TIzInHJ+QUn/CYapgDzkJ/3BWCcDOOCDzkU3jnHXvivJ+uYn/n5L73/mHOzoP+Ew1UEbZVI/65ij/hMdV3f6xP++BXPdP5CgE/5NP65if+fkvvYc7OgPjHVu0ifggo/wCEx1XJJlQj0CCufA79KUkD/wCtR9cxX/PyX3sXOzof+Ew1UDJlT/vgUv8Awl+q4H71B6/uxWXpljNf30SRozLuG89gO+TWj4l0tLS5WayiH2SUYVkOVB6Ee1dSljnR9t7SVr939/p0Gpt3FPjHVS3yypjt8gp3/CX6rz+9Qf8AABWjZ+HbeazSVrGaGdGU7WkBD+v4Vbm0vTy8McsMaKblguBjPGQCa7vq2OSvKs1t1l3S627jUpPUwz4u1TbnzF6/3BSf8Jdq2QPNXP8AuCr2rWEK2Czy2sVncibaqoeHXPesvxHBBBrjrFGFUopwvAyR1riryxVFNutLRpbvqr99B80iwPFuqnrIv/fIpp8WauDzMvPT5BitLRrDT9Qti8ml+VgfK7SnDt7VlmKOTXI4rbR9rJkSQSMSD7+1bSp4uKi/bN821ub+v+ATzu1xy+LdV/inXr2QU3/hLtWLH98vXpsFbWpaVYYTZbxQREjdPEC2xwfukVz3iaCKHW5Y4EVE2jhRgVGKjisOnJ1m9baN/fv/AMOPml1Jh4u1Yg5mXHb5BTf+Ev1UAATqSenyCsR9ozhue3tUJOc5/wD11wrF4n/n5L72LmZ0I8XaueRcDp2jWhfF2rFsG5Xr/wA8x/hWCcggjrTgQVBbj6U/reJ/5+S+9i52bn/CW6r/AM/I46/u1/woPi7V/wCG5XA5PyKfwrDbrtzzz0zxTCVIDcE9xjFH1vEr/l5L72PndjeHi/VshTcgn/rmv+FKPF2rHpcjJ/2FGP0rnzkD5sZpVBUA7jkHGKPreJ/5+S+9i52zf/4S7V1/5b5/4APy6U0+MNX7XCnjr5YrB3/OVPA69KYOGP8AFz3pfWsT/wA/Jfexc7Oj/wCEw1b/AJ7rjt8gpo8YauBzcDJ/2BXPlmySvTp60vbrz79qPreI/wCfkvvY+eRvjxhrHIa4XPsgpT4x1b/nuP8AvgVz2cY6Z71Ix4xx+dH1rEf8/Jfe/wDMOeXc3f8AhMNX2/68dOfkFIfGGsf8/GD/ALgrAJxyO3BpAcDnmj61iP8An5L73/mHO+5vjxhrBP8Ax8Lj/cFIfGWrjH+kj/v2KwGJ2ge/egnCjjrT+tYj/n5L73/mHPLudAfGGr4/4+ef9wUHxfq24/6Tj0+Rf8KwOCx7jHSmL97nPXHFH1rEf8/Jfe/8xc8u56P4Q1e81R7kXsvmeXt2/KBjrXVVw3w+P7y844wvXv1rua/QsplKeCpyk7vX82VCTabYV5r4058RSgdCi5GfavSq818a5/4SJ8HB2Lj8q83iT/dY/wCL9GadDP0zRzqK3ErypbW8ON8r+p7Yq5F4YlOqfZDOpV4TNHLH8wcUvhWaQ3kllIqyQzrl0eMsCR3rqVs5BeteGbAjt2SOMQlAox2OeteDhMLRq0Yzcb9/xv19Om5FrnHReHbueLcGgj5IKyShWBz3B6VHdeHru1jjklaDy5JBGHEoIB960NJ0ae/ubh9Rt7hiYWZGcEZbtzUiW8n9l6bYS2c6r9q33G+I7QCe59Kzp4NSp3dNq+2/dLX5XYrruUW8M3NvZSXAmt5liXLeXLkj9KLjQYoryCCa88pZoFlDFCeT/DgVv3tpcwRXlpp+l2sEEgK+cJQCV9xU4KDUraNY5PtH2JSGVwoCjr1FdDwdH2lrW27+e3XsNow7rwetpbiafUESM9D5TEA+/pXNyRhcoGyFOAwPUeteh29vEtyz20kskr/eX7YG3celcLqLwvfzNAjRoWPyuQSDnnpxXNmFKlCMZU0lforv8WO1iozFYyFyCfxpsT7mxg7fWldB7gGnKMcFgO9eT0EgY/MB17nntRww4OD3pOQeuB6YoKlW4yKkByEBznI+tGMPuOQOgGaYpJzyOuPpTlO7oM4piFJDfyxmm42sOeM+tDAjJ9u9JsK4HJ49aCR5IK8fzpDkN8tIM4NP2nr7etIoTdgkkU5lLx4GfXjvSEfLgZArqbaWTT9H0y3tsLPdSFi5UEgZx3rehSVVtye36tIZyyKBByp44zWzZ+Gru6s0nWSGJpc+TFI2Gk+lbsl6ZdZ1OEJGLSCFy6BB87Yxn65pLWL+0hpF7bzRrDaJiYF+Yyvt716VHCUebfm/DS9m9w5dTnTpbLok167kSxTeS0RHSl0XRBqokMkskYTGCkRcH8ulbF7JHP4d1OWM/I99kYp/hBlmt5ozbqTERmQLywPryKmlQpSxEI2unG/ruJqxDP4RSOynuBdsfLQth7crmsHTtMm1OZ4bcpuVS3znAx9a9CvMQaZdOkcbARktHIvDj061yfhd431K5BMcXmwOFy3Az2rfE4bDxxNOCjZNa6+vUdrLQSDwhcDc13KkYCq42Nu4zjmsnVLP+z9Wmtd5fy24YjGa763j8q4MyvDIq2iRkKwbkHv+dcZ4mH/FR3ns4PXrxWePw9GjSTprr66a9RctkZZIDhifbipLURPcqtyzRw5+dlXJA+lRfwncT1pQnI5/EV48XZ3Eda+p6U+jx2DaleMqEksI/mZf7pp2qajBZQacY7aO5T7ONjSDkD6isCbRby3t1uJkAiOPmDqevTvUF3Z3VpIsVyhU7QygsDwemK9OricQotSjbbW3bYdzp7/VILTTrG4SxhZrlCWXceOe3NYNvqUUWtRXptxHGrhjFH2+lVrnT7y2t4ppomSKUZjJPB/wqAIW6KzHtjBrGtXre1Tas1Zpef8AwdxXTR3Gn67Y3F1HDatLGGaSRjLgZ3AnH50zUfkvYJodVjspRbqvzDORXIfZbmNd7wSAKMklCAKtDR9Qmkii8kkyR+YvzcbfXNdP1rEzjyOnd3XddLLaw+aJ1V9qSzwwpb67BEVTbKSM7z61nnVNNSxhsZru6D25Kl7Y4EnPWseTQtRiuoomt8tN/qyrgq341QdDHKySDa6kggnoazr4vEJuVSCV9Nbvs+ra7bDudLPJaSeF782ckzqZkJMrAsT61y56AfhQzNnG7GeozxRg/LznmuCtVdVptWsrCvcTGFxxnvT44mYtsjb14GadFE091HGvJkYKK7CO5ki8QxWVqwjtrOP97gD5sDnNbYehGrrN2Tdv8/uQrGBpuiNqFqZ5LiO3iD7FeU9WqRNAk3ahHdM0clpHvGBkP/8AWrSgWPWtHNtBJFDLHdGQoSB8pPUVdluI7i41fyG3BLQJkdyK7FQoezTS6Prv7jb9LOyK5f6+Zyuk6aNUvPKdpFUKTmNNxFdFH4NiZTtvJ14zl4QP61S8JsDeyweQjgru3FAWX9RXXoioSyeWhweSg/xrsy/DUJ0FKpG+5KjdnnENnJd6gtnGyl2cqrNxyO9a0XhC6aRFnuIlRiRlDk5Ge1Q2E6f8JXFNII4EEvO0YUf4V1VukbXNt5NxA7RSysQj5OGzXJgMPQqRvJXd+9usel+zf3D5dWcXrWkppc8KJKZA8Sudw/Ssvkse30rpvGRL31s3TMAPHTvXN7McnHTua8/FRjCvOMdk2JpLQcoVQOQeemK69NdsWmjvDdzIFh2GyKnBOPyNcggJwF/ICrBsb08/Zp/p5R4rTDVa1NP2Sv8AK+q2/MV0mdHPqzafp+k3EPMeX3xqeCM9Kp3Gq2AtPsmmRyqJ5lkcygcc9OPSsp9KvlSA+S7ecC0YXkkd+lI2mXvnRo9vLGZDtTzEKgn6mumVbFPaLtp08kt7aXsg5tLHWX+rWFlql3HPHJI8yKpKMMFcfzptnqtnqGqyyQpLC/2Zlbe4wwA449a5WSxu0leN4ZTJG21tq5xTrbTby4kkCRMGjQuytxx+NV9bxUp35dLvSy83va+l3+JXMr6FV8ZbPQ8DFMH38j69OlW/7PvnTfHaTsuMhhG2PzpGsLhbJbspiFm2ZOOvpXmujUSu4tdfkRdN6FbIxmlCjg8g+goSIsBGFO5jgYHU1YvdOutOmMV1HtfAYYOcio5JOPP02GVc8c9BRu9KbyPdu9KDhRUiOi0yW2i0oxNrLWvmH5oxFnH41NB9gtrWSGLXnMUn3kaAkH8+9ZNno+oX9r51rAXjJIzuA/nSvoWox+YHg2GNPMYEjp0r0+auoKTpK1t7S2t69ik0aj61EJbKzsZGjt4pFZ5HOCTn+VaOvTxTWcOyVGU3nXIOB61zFnouoXsYlt7V3QnqRgGq13a3NnP5d3G0TddrDFDrYiFJ+0hpK2trdVt0tpZD5kz0cwwuFV/ImA6Eqn+Ncl4haN/EO1iIUbb84+baPXg1hmRww+Y9OoNISTznJpYnHvERScbWd9wvG1kdhHd2Dhk1DWI7hQm1AIiuw9m+tU7q8UNAx1zz9jbSVjKuFPXnvXMlsk4AHHpSgk8Dms5Y6clZxX4663111+YN6WR25so0n2W1hHNavgtcC65b369a5vxEytrU3lz+eowAxxn6ZrMDMPlyQAO3ekY7gc8/XvSxGK9tHlUbK9/6slp94XVhM8EHg+op1rALi9ihLbfMcIDjOKZg9wcH2rY8P20C3Ju7uZES1O8IT8zmscNCM6qUnZdfTqQ9dtxLXRM+JW0yeU7FJw6jrxkU+00A3ELyz3ccEXmmNGkB+Yg1uWj2eoeJLfU7OZA0gYSQOfnRgOuPSoZZYdatVg82C0nt7gtJGSFDLk8ivYjh6Cgtm7ytro1ePW62TehXLrcyI9AIF+t0zCe0UYCDIbNWY/C4ktnkW9dRGm/ElqyD6ZJrSN5DdSaxJF88axKPlPXHoaS1kl1uzNpB5tnaAczSncWPpk0Qo0JLkhHmbTt98km+myX5BZX17mWmgwPZ2krTTDzwSdkW8Aj2HNPk8KFvs0lrJLNHJJtdWj2Mq564NadjqAsprLTXt5PtEe6Jg3yDnoQe4NV7rUhHfJE9vfK8MwJdpi4HPPHpirjTw3LrHqu62tfo199ibK2v9fic5qtmLLU57ZGLCNsDPp61QXAboD61q65MlzrVxLFyjPwcdazNmOgIJ/KvBnbndimlfQROc54+tH8Rwc+tIQV6/N9aQAq3pn9akkcOOAOaQ+5+lNYHtx6H0qTggBqBDV647d6XPpTNp47AHNLk9/woAUkH7vOfSgkFfpTV+Uke/el5Oew/OgBu75uT25NOUnv+VN2n+Lr3pVXj1oYjuPh6G33hbI+6P513NcL8PTmS8B7Bf613VfpOTf7hT+f5s0p7MK838aZ/4SJ+vCL2r0ivNvG/HiCTH/PNehrz+JP90j/i/RmvQydN1GbTL77RahS20rhxkYNaMniy7fKG3tcEY/1dYQODgdPSg5I6dK+HhXqwXLGTS9RXaLy63qaKqJeyqoGAAx4oOsahPvjnvZnQjDKW4NZ+8Ku9Qc+nvS5+dsHqPSlzza3C7JPMfJ3lj3wa1I/EV7HeQ3CrGXih8kZXIK/SscNyRn/61Jlt2c8d8CnCc4O8HYk3F8V3kbB47ezRh/EIcf1rEdjLI7YHzHJwKack8jimhiOenPetKlarV/iSbt3dwH8Mu09fcUgUr1HbPNIvU7fT0p3Pbr7CsSRpOT04xxzTSCwy2QCaex2gHb7DijgjqOetAwVcgfX8qCNuRnPPpQSR0zg+tIpHIH44pAOJJXpzikL5A4yaccfeBzn1pC2VGM0gEGVUkjv0pynvjk0gxuO38KEJwVIxnuaGA8H6EYqy2o3G+BjKS1uAIj/dAqkXPQDH609STj09qauhk41G4DXDJIf9I4l4+9UfmFcheMjkA9ajDYJDD8qXgEE5/Kk7hdlxdRlj0x7EYMLuHORzke9S6ZrNzpayi02ESEbg65BxWeSNo+ucUhwin296uNWpFqUZNNBqbU3ii8nhaJ0t9rKQ2IhWPuH1PpUYbDHjIIp6tt70VKlSprNt+oali11G6smY2smwsNrcZ49KS8u5b+8e4nK73OSVHFQA56Ub/XIyfzo5pOPLfQQe5wKt6dKsF/BK8nlgONzhc4HfjmqwbC4H8qaZWzgDkH3ohJwmpLoJ2sehXl2n2KcieKOIJmKUOreZnsVx0qOYafc6jH5iI9wkCspKlwwx6DgYrmU8U6qqgPOvt+6XpV9fEtqutpfmKTa0HlOFABDV9C8wpVJJt9Vuumuqs338irKxoQzpeyvDNfx3kT8i3ezbCgenoa5a5VbbUydOk3bXzGUUjB/Guli8WWSS7y94/B+V9uK5aO9ltr7z7ZiGViy5XiuPGVqM+Tlle172vdbd36g07HX6udRj8N27iZzLGv8ApQHJwR3HtUqPEl1YBrlYnktFjEbx7lcH+Vch/a16txJOJ3DzKVcj+IfStM+ILZr6wmkt2dLeHy5FYDJPTNaxx1OdT2lrax3u9FddPLfzuB08FvBLdwrbPtjs5CPLRMKGxz1571wGoBRqFx0/1jYOfetqPU9EimNxFFfxsWzuWbGKwbqQSTSPGWwzEjceT9a5cfXhVjBRavd3tfy7pdhu1iEfey2D+FOAyeO/pTd/A2j65FKD8ue+fyrzNSEOikeCZZEbayHIYdqlF7OskrpIwaUfOc/ez61EOW7YpC3y8d6Lu1h7DssFDDj6VPbajPaQzJAV2zpscEdRVbP3epPvSFiAQAeaI3TugLdhqE+m3Xn2j7X24JIyCK0B4s1InBMJB7CMVh4yCSO1OBxnkfn0rWNetCPLGbS8mxXaHPK0kjO+Mk5OOMU63uZrG4Wa3cpIOjCo2bAxSEsACT0PfvWUW07oV9S3e6jPfiP7Sys0abQcYyKqE5XkfjQTk+3tS7iPQ8U223d7he7BTjATO4dMCu/hN28UDF5wGsSxGT98f1rgFdkIdDhlOQR1BrU/4SLVdn/H7JjGOMV6GExNOhGSmnr2+Y46Pc6VLVdQs9LM13PbXXlMQUGCfX6VXa/gn+xWsU9xcNFdKzSSr/Wsq68QSvHYtbs63UCkM7YO7NNj8Sah58bXUxeNXDMoAG4d+1djxtHmSWm13be3L5912G9rHQ3zG20/UpNMmkM32kFsDBQ4GR7092LalMz/AHm07JJ65rmJ9fuU1C6ksJZIopn37cCpbLX5I7maS/dpmkhMYZcAil9epydtV+WiktPW47q/9dzduJli0+wBubuBjAABbpuU8d6oal5B8Jxi1EpH2k5Eow27vWUniHUobdY0umVUXCjAyBS3Ot/atF+yzh2m87e0h6NWdXG0qsJpK112XddfkJW0/roaGg2RW1+1rbW88xP7ppJ8YPuvrV+8s7y+t3j1e3tXmUExSpOEZfY+orjUcJOrdgQetXte1OLUtQNxCGA2BcNURxkFQ5OXXa19Hpq7W3vbzErIzZUZJmVsZUkHmkC7WOfwxS4BXrQW47V5YjrfDX2WXS5LYNMZSwdwoA2c9jmtS8gCLf3QjmUS25Q7sELj6GuX0HWYNKeZp4TKrqACuMr+da83i2ylt3SOGZSw7hSD9Rivep4jC/VVGcrSs9l6pdOz79S4qyHfudU0a1f7ZJYLD+5PHys34VQ8VSoBa2GWkkt0+aV+rfjTR4qdYRCLC0Ee7O3Zxn1qtqevnU49s1pbq/8Az0VfmH41hicRQnSkoN8ztfTe3fXv2QdNWY+d2PagAbe4o42nH86VSMH6V45mN2nr3FLgBe3SlDDb1wCOMU3IC8daNRDi2CBjGepI6UdM+9AkGTz7DFHDKc0WGICSpA5I9TSA465x9aVsLnHI9KTdhSSBTQya1vJrO6Se1fa6A4OM1AZS8rOx5ZsmmhvlxgH+lLkFQ23Ptiru2rPYV9C1BfTW8UyQybUnXbIpAIYU6bU72e2FvJOxjjGAucDH9aqsSW55NISUUD355p88rct9AuzTe+1NreCWeZmERHlOWBI/HrUjeKNW/wCfts+yj/CskMeFHTPekG0g4GBnrWsq807wk1316/gNOXcluLqS8uZJ7lt0h6nFQnnjGOOnpQu3BB4OO3ekbkfd5z61z7k3uBGMYx+BpuOCc5PvTiyrkEfNQoHPr7UAJ1A4/KlI3Dr0p2FUdvpSE7l5AHFFwsM6detBXJyKXIKr/jTtu7lvwpiG8DOfxxTec4H14p2R09Rzmg/Lz70hkbHkA9c8Zp38PH/66VxznFHAQ8ew5piO2+Hpy952+7xXc1w3w+bc15gY4X+tdzX6Tk3+4U/n+bNKWzCua1rwqNX1Brn7T5WVC7fLz09810tFduIwtHEx5K0bo13OK/4QBQc/bjn/AK5f/Xo/4QBTx9t49PJ/+vXRaxrcOiW4nuoLuWPnJtrZ5ioAzkhQcD3rLXx3p83hW98QW1tfNZWlqboGW1aLzk2lspvAByB+orh/sbAf8+/xf+ZPKZ58ADH/AB/ZPvD/APXpf+Ffjte4GMf6r/69b134iSzlEbadqU+VDbre0aReR6jiqLeOdPj+2rPa6hby2Vk99JFPasjNEnUrngnPbNH9i4D/AJ9/i/8AMOUz/wDhAFxzef8AkL/69J/wr8f8/wB+UX/16338TWC3um2qSeZJqTMsIjIOCqFzu544B/Gq1v4ugn0VtSFlfPGt3NamOC3aZwY5GQttTPGUJz7ij+xsB/z7/F/5hyoyf+FfqRj7d/5B/wDr0g+Hq4H+nd/+eP8A9etTR/G1jrumS6hp1rfm1jhaZZZ7VollAzwpbqeKmbxZaR+HdL1iWORIdTe3SNONymcgLnnsWGaf9jYD/n3+L/zDlRjx+AFR9zXu72MXB/Wk/wCFfJz/AKc34Rf/AF66TVNaTS7rS4HiaQ6jdfZVIIGw+W75PthCPxrTHSj+x8Da3s/xf+YcqOJPw/Rut82PTy//AK9H/Cv0x818x9P3fT9a7aij+xsB/wA+/wAX/mHKjiv+FfRdTeuT/uf/AF6b/wAK8i3Z+3P/AN+//r129FP+x8D/AM+/xf8AmLlRxf8Awr+HHF44/wCAf/Xo/wCFfxf8/r/9+/8A69dpRR/Y+B/59/i/8w5EcWPh9HnIvn/79j/Gnf8ACAQ/xXrnPpGK7Kij+x8D/wA+/wAX/mPlRxi/D+AEk3jnP+xigfD6AYxeyD/tmK7OsTUfFukaVNPHfXXltbsFkHlsdpMbSDoP7qMfwo/sjA2t7Nfj/mHKjG/4V9F/z/OeO8Y/xo/4V9Fk5vn/AO/Y/wAa1E8X2M+t2um2m6aSeR42YAqI2EKzAHPXKup49azNR+Itvpup3FlJp5cwOUL/ANpWSZx/svMGH0IBpf2Pgf8An3+L/wAw5UH/AAr6HcD9uf6eWP8AGhvh/ER/x/Pj/rmP8a1PCniy38WW13La28kBs7g28ivJHIC2xWyGjZlIw46H1rfo/sfAf8+/xf8AmHKji/8AhX8IXC3zj/tmP8aB8PoB/wAvj/8AfsV2lFP+x8D/AM+1+P8AmHKjjP8AhAIv+f1z7+WKB4BhHW8kP/bMV2dFH9j4H/n2vx/zDlRxv/CBRA/8fkn02CkPgGE5JvZMn/pmP8a7Oq+oXsenafcXkwYxW8TSuFGThQScflT/ALIwP/PtfiLlRyY+H8H/AD+yf9+xS/8ACAQcf6bJx/0zFb2geIrDxNoFrrGkTedaXKb0OMEeoI7EHgip9H1aDWtHtdStNwguohKgcYYAjPIo/snA/wDPtfj/AJj5Uc3/AMIDb4A+2y8f7Apf+EBt8f8AH5Ln12CuwyDS0f2Rgf8An2vx/wAxciOOPgGAji9kH1jFH/CAwbSv22XnnOwV2NFH9kYH/n2vx/zHyo47/hAYM83svTn5BTj4Dtz0vJR/wAV19FH9kYH/AJ9r8Q5Ucf8A8IDbgDN7Kf8AgApf+ECtv+fyX/vgV19FH9k4H/n2vx/zDlRyH/CA22cm8l6/3BQfANuel5KP+ACuvqla6pBealfWUW7zbF0SXIwMsoYY9eDR/ZGB/wCfa/EOVHOjwDbD/l9lP/ARS/8ACBW2c/bJf++RXU3MzQW0kqRNMyKSI0I3OQOgyQMn3Irn4PF7tq1lYX2iahYNfO0cMszwMpZUZ8HZIxHCntT/ALJwP/PtByorf8IFbYwbyY/8BFA8A2g6XU3/AHyK29E1j+2ILmURGIQXc1sQTnJjcpn8cZrTo/snA/8APtByI5L/AIQO0x/x9TZ+gpG8BWrf8vcw/wCAiuuoo/snA/8APtC5Ech/wgNr/wA/c3/fIo/4QG2B/wCPyb6bRXX0Uf2Tgf8An2h8iOQ/4QK26/bJuufuik/4QODH/H7Nn12CuwJxXM3HjnT7e4nzbXr2NtIYp9SSDNvE4OGBbOSAeCwBUc5IwcH9k4H/AJ9oXIiovgG3UAfbZuOnyClHgK3HS8mx3BUV16tuUEdCM0tH9k4H/n2g5Ecf/wAIFb/8/kufXYKP+EBtRnN3Mf8AgIrsKKP7JwP/AD7QciOQHgK14/0ub8hS/wDCB2oHF3MPwFddRT/srBf8+0Hs0ch/wgNr3vJvyFKPAVpnm6nPPoK66ij+ysF/z7QciOS/4QO0AOLmbnrkCj/hA7I/8vM4P4V1tFH9lYL/AJ9oORHJHwJZH/l5n/If4Uo8CWf/AD8z/pV688XadYeMLPw5dl47u+gaaByv7tsHGzP944JA74NXpdXhg1200p1fzrqGWZGAG0CMoDn3+cfrR/ZeC/59oORGIfAdl/z8z9fb/Cj/AIQOx/5+Z/0/wrqtwpaP7KwX/PtD5UcmPAdiD/x8T/p/hSjwLZD/AJebj9P8K6uij+ysF/z7QcqOS/4QKwz/AMfE/wBMinHwHYEY8+f9P8K6uij+ysF/z7QuRHJjwJY4x9puMfUUn/CB2Xa5uP0rraKP7KwX/PtByI5FvAVmeftU4/AU0eALL/n6n/SuwrB8UeL9M8IWtpc6y8kcN3dpaI6JuCu+cFvQcdaP7LwX/PtByIz08B2aB1+0zMGGOVUkfQ4pG8A2ZXAupx74Fbtjrdtf6rqOnwb/ADtOdEn3LgZdA64Pfg1Ul8WafDo+rapIZFs9KeVJpNv3zGPn2c84OV7cg1X9m4NpL2aDkiZ3/CBWQ6XEwGMcAUf8IDZHrdXB+uK39D1i18QaHZ6rp7Mba8iWWPeMMAR0I7H2q/S/szBf8+0Hs0cgPANjjBurj9P8KePAdgFx584HfGOf0rrKKP7LwX/PtByROT/4QKw7zz/mP8KcPAmnj/ltP+Y/wrqqKP7MwX/PtByROV/4QTTu0s/5j/Cg+BNPIH7+cc9eOf0rqqKP7LwX/PtByI5b/hBdP7zTn8R/hSjwPYAjE0/H0/wrqKKP7LwX/PtD5UcqfAenH/lrN7cj/Cj/AIQWwGMXFxx7j/Cuqoo/svBf8+0HIjlP+EEsN2fPn/T/AAoPgOwPW4uP0/wrq6KX9l4L/n2g5Ecn/wAIFYYI+0XHPXkf4Un/AAgOnkDNxcH8R/hXW0U/7LwS/wCXaFyIxtE8O2+htKbWSR/NxkORxitmiiu2nThSioQVkilFLYKKKK0Gcx40gnvNIaGfUodL0dlb+0rhiRJ5X9xD0XdyCx5A6DJyPONXsdBm8J6jpMoml09bV4dFn1TSriJbJnBAT7Q67fLB27SwBA7nFeva5o1rr+jzabfbxDNglo2wyspDKwPqCAfwrDvPCOp6tYvp2r+Jrm40+VTHPElrFG8yHqrOBwCOPlCn3oAr3mu+LNP1LTdPXS9Gk+3SPFC/26UYCIXyw8ruF7Z5rn47HxN4s1vxLJNBpVsr2raG5W5kcxfKXaRR5Y3Z81eCR92vQrrRYLnUNMui7I2ms7RIvQ7kKYP4GjS9Fi0ubUJIpHc39211IGx8rFVXA9vlFAHl+k2+l6b4k069jj0vy9HMizT6FoNwd5MZjIaVAykAnJHPIrS0XRhH4SvL7R9S0/T4dSvLu41HVUYs625mkYbScBXCtglvunPBIrpbTwjfaTbtZ6J4hubSxBPkwPbRS+QCScIxGcZP8W6rVv4N06Lwtd6FO01zbX3mm6klf95M0pJdiQBgknsBigDzkWfhi30uaxEN3d+GY4ZHslvtHuGjtJGH3kuCuBGeSdwOCeDjitG90SCTQNFtfGF8f7JtbOFbGLSY5pmedY1Hns6KfunlBjHc54A6xvCmrS2RsZfFt+1qw2N/o0AlKYxt37PTvjNdDp2n2+laZbafZJ5dtaxLDEmc7VUYA/IUAedwa0mqX/hiwutUN3e22qNIJpNOntfPQQTAfeTbvwckAgHBIA6V6Yv3RWfqWjRaneaZcyyOjaddG5jC4wx8t48H2xIT+ArRHFABRRRQAUUUUAFFFFABRRRQAV4h8QVjPjLVx9udZztKWQkXEq/YLkGTZjJweM9Bmvb6ia2ieTe0aF+gYqCaAPEPDsVxP4gs18P601w41GVo7uUpN5mNOgyhIGMZyucZGKfcXEsOrakLV54Xa8le4jtLl5Y0mLfOA32Fu/bJxXr0+g2k2qWF8AYpLEyGNYwArb12nIx6VmReDXtZ7p9O8RatZR3VxJctDF5DKru25sb4icZPTNAGV8OL+7u0vI2fz4IZdrvLcFpI5NqnZs+zxYGDnPPau7rJ0Pw+miPey/bbq9nvphNNNclNxYIqDhFUAbUHatagAooooAKKKKACsjxbn/hDdYx1+wz4/wC/ZrXqG7tYr20ltrlN8MyGORc43KRgj8qAPPrE/wDCGwafrSYTRNUtoF1EdFtpyiqtx7K3Cv8A8Bbsaq+D7dNcs/D2lahLKLCDQorpII5WRbmRmKksVILKoC8Zx+8ye1ejPpdnJpP9mSQI9mYfIMLDKmPG3ac9Rjis1/BujHTbGyit3t49Oj8u0e3neKSBcYwrqQ2MAZGcHAzQBT8K7rPW9d0eK4muLOxliMDTSGRovMTc0W5uTg8jJOA4HpXU1R0rRrLRbU2+nxeWjOXcsxdnY9WZmJLH3JNXqACiiigAooooAKKKKAAnHWuKk+12XiPVL7Sdc0NYr942aO7JLIyIE6q49PSu0Iz1rObw5orsS2kWDFjkk2qHJ/KgDCm+2a/o2paPqOs6OzX1rJBC1iDuUspBbBc5wDnAx0rjNLEdnMs+jWdhHJbO8AvbHwhcMSyEo+1xJ6hhkV6lBoOk2syzWumWcEqfdkjt0Vh24IFZMHgsWaSR2OvavawvLJKIo5Yyql3LtjdGTjLHvQA3wHLFcaHczwSNIk2o3bnfC8TKTM2VKsAQQeD9K6is3Q9Eg0HTzaW0004aaSZ5Z2DO7u5diSAB1J7VpUAFFFFABRRRQA1ulcNoMltF8Gh9sKhItPmS7Df31DCXPvuDV3RGaw5/BmiXN891LaEtJKJpIhM4hkkHR2iDbGOeckHnB7UAWvDSTx+FdKS83faFs4RLu67tgzn8a06QDAxS0AFFFFABRRRQAUUUUAFFFFAHDa9o0Gv+ObrT7lnQSaOjRzRnDwus5Kup7MpwR9K5+68SagdejiuI0HiLR9G1ESwKOJHHkmOVR/cfGR75XqK9R+w2/wDaBvvKX7SYvK83HzbM52/TPNQvo1hJrCaq9rEb9ITAtxt+cRkglc+mRnFAHDajo+m6N4Os/EGjzySaoDbSJfecWkvmd0BVznDh9xGOgyMYwK9GX7orDtvBmhWl8l3b2Ko8bl4k8xjFEx/iSMnYh5PKgHmt0DAAoAKKKKACiiigAooooAK4T4m6Xb62vh7TLtQ8F3qZicHtm2mGfwPP4V3dQzWkFw8bTRRyNE++MuoJRsEZGehwSM+9AHkXgnxTLbaR411a4QyahYvBbSRsMeZdR26xbR/vSDA+ta/iayn0bwR4d8MWls+o3V9ewrcQo6q04Qm4nbLED5ihzk/xV3Mvh3SpiS1jApa5S7cxps8yZTlXbGNxBAPOegq41lBJcRzyQxvNFny5GQFkz1weozQBxvw1u7iNNa0a/snsJ7HUZJY7WR1cxwTnzU5UkYyzjj+7Xc1DHZ28d1JcpDGs8ihXlCAMwGcAnqQMnH1NTUAFFFFABRRRQAUUUUAFFFFABRRRQAUUUUAFFFFABRRRQAUUUUAFFYmueIJNLurSxsbFr/UL3eYYBII1CoAWdnP3VG5R0Jyw4rKufHU+mW9//bWiyWtzYwLdNHHMJUkg3hXkR8DOwclSAenrmgDsKKy9e12HQvDtzq0iGdIY9yxxnmVjgKq+7MQB9axbfxbrN9fajFpvhsXMOn3H2eR/t6o7OEViFUrj+IDlhQB11FZWg6/DrtvMyQTWtxbSmC5tZ1AkgkAB2nBIPBBBBIIIIrVoAKKKKACiiigAooooAKKKKACiiigAooooAKKK5XWvHlpolzewz2k8n2RgrFCvzZgkm4yf7sRH1IoA6qiuSt/Gn2/xNaaba222NpnhmeTrkWyTrtwfSQA59DVK68d3y6nd2+n21vcxW87wF1t718MpwQSkDLkHg4JoA7qiue8I6/qGv215JqWmmxMFyYYjtkUTpsU7wJEVgMsR0/hroaACiiigAooooAKKKp6vf/2Vo95fmPzBawPMUzjdtUnGfwoAuUVz/hLxZB4t8Ow6nbwPbSEbZ7WX/WW8mMlG/Agg9wQe9WNM8SWl54Wstcv5IdPguoUlPnzBVj3DOCxwKANiio4LiG5hSa2lSaJxuR42DKw9QR1qSgAooooAKKKKACiiigAoorMsNYF9rOq2Ah2HTpI4y+7O/dGr5x2+9igDToqtqF2tlptxdGSFBDEzlp32IuBnLN2Hqa4zTPiBPfeItO04Not3HeO6M+nXrytEFjZ9xBjAx8uOvcUAd5misfw7qc2q2t3NcKitDfXFuuwfwxysgP1wOa2KACiiigAooooAKKQnArkX8bXZsrjVrXRGn0S2dw92LgCR0QlXkSLHKgg9WBIBIHTIB19FMhlWeFJY2Do6hlZTkEHoafQAUUUUAFFFFABRRRQAUUUUAFFcprHjddF8cWOh3dmwtLuAOb8N8sMjOURGGOAxBAbPXA71qz62YPFNhpHkgi8tp5/N3Y2eWYxjHfPmfpQBrUVQi1zSp9Rawh1Kzku0zut0nUyDHX5c5q/1oAKKKKACiiigAooooAKKKyPEOvDQIrB2tzP9sv4bIANt2GRtu7pzj0oA16Ko6tqEWmaTPd3FxbWwROJLqQRxhjwNzHoM4qjpGtn/AIRew1DXrvTYZZ41MktvcA27Of7jk8g9qANyisu08SaPf6XLqVlqllPZQkiS4SdTGmOuWzgY96S18TaLe6XJqVrq1lLYwkiS5WdTGmOuWzgfjQBq0VlWXibRtS0uXUrDVbO4soc+bcRTqyR467jnAx71k678QdH0rSdUuLC7tNTu9MVWmsoLpd65cLzjOOWHagDq6K5jSvFtzPr1xo+vaWNJu4rb7XGwuRNFLFnazB8DBU4BBHcGtPTfEmj6xHM+lanZ3iwf61oJlcJ9cHigDUorI0/xVoWqlxpmsWF2Y0aRxBcK+1RjLHB4AyOfei18U6He6gthaavYz3bRiVYI7hWcoRndgHOMEH6GgDXorM0/xHpGrTTQ6XqdneSw8yJBOrlBnGSAfWm6d4m0XV7mS30rVrK8miBZ44J1dlAOM4B6Z4zQBq0ZrJsPFGiapfSWWm6tZXVzGCWhhnV2GDg8A9jVbQtafVtc1ZIr/S7uxt2jWAWc2+WM4O8SjOAdw4x2BoA36KzLfxHo95qcmnWmq2U97ESHt451Z1x1yoOeO/pTLXxToV7qS2FprFhPdupZYIrhWdgOuADQBrUUUUAFFFFABRRRQByXiWHTdQ8R6Xp95Nd2GoMks1hf28gjII2h4wTkMSCDtIIIUntVWzfUbXxWvhrWdRh1y2vbCaUu9usc8KqUUq+35WVt/BwvKnr26rUtIsdYtTbapaQ3cBOfLmQMM+vPQ+9Q6R4d0jQQ40fTrez8z75ijALemT1NAHAaLNLqd7ovg26lMkvh+4eW/wBxyWjgIFsW/wB/fG//AAA10XguRI9S8WGR1XGtPnccY/cxV08Wn2kF9PeRW0SXNwFE0yoA8gXO0E9TjJxWdd+DvDl9fSXl5oen3FzKd0kstsjM5xjJJHP40MDK8KTR6j4u8S6rYsJLCaSC3imTlZniQh2U9wCwXPqpHauvqK3torWJIraNYokGFRFAVR6ADpUtABRRRQAUUUUAFFFFABRRRQAUUUUAFFFFAAa8b8d6Dc3/AIw1OW30W9nupI/3FzHauyGMWVwpXeBtzvdBjOSSK9kooA8Q0Dw4G1uxtbW31HRYJdQmlty0cls+5dPhUttO1iu9WyM4ODUq6JfanqGozWVs100d7NFcT2+kqiyTK2HbBvVzyOuOa9gn062ub22u5o909qWML5Pybhg/mPWsaTwHoEl1PcC2uY5LiVppfJvp41Z2OWbargZJ9qAMb4d215b3GoxSS+UltL5M9pJY+U4kKI4bcJ5ARtcfn7V3lZuj6Bp+gxzJpkLxi4k82UvM8rO20Lks5J6KB17VpUAFFFFABRRRQAVjeLzjwXrX/XhP/wCi2rZpk0MdxC0UyLJG4KsjDIYHqCO9AHnjxP4Z0vS/FlhGzWpsIItYgjUkvCEG2cAdWj79ymfQVT8GLY3jeFhq/lSW50CKTTlnAKNLn96VB/jC+Xjvhmx3r04QRrbiBY1WILtCBQFAxjGPSqc+h6Zc2Edjcafay2kYAS3eBWjTHTCkYGKAMHweLePxD4kh0naNKjuoxEsWPLSbywZgmOAM7SQONxbvmuuqC0sraxt0gs4I7eGMYSOJAqqPQAcCp6ACiiigAooooAKKKKAEJxXn1ze6ZHr2oX9h4i1fT5LxkNxFFpTSLuRQgILQsegHevQqKAOHtbmx1qC60a813VNRTUoHtys2mmDYGUhiGEKgHGeprJ03/hINQtTLpza9PZxyyQRl9Qs494jcoTgRZAyp75r00jNc4/w/8LyTSSvo8BeR2kcgsMsxyTwe5JNADPAjrJody4ilhdtRuzLHKysUk899wyvBGc4PpXT1S0vSLHRbJbPSrZLa3VmYRoOAWOSfxJJq7QAUUUUAFFFFACNXnuj6xZaV8JXtryaMXenWr2VxbMw3mdQV2bepLHGPXcD3r0OqMuiaZNqKahLp9q96gwly0KmRfo2MjrQBH4cs5dO8MaZZXBzLbWcULkd2VAD+orSpAMDApaACiiigAooooAKKKKACiiigDjNS0201n4g32n6hGJbe40JY3QnqDO+foRxg+tcjc3etp4rXw/K0kmuafoWoC0uiMfa0byhDKD035GGH95SehFeveUgkMm0b8Y3Y5x6UhgQyCQqpcAgNjkA+9AHnOqyaFJ8P9Kt/DrW/2zz7caakePOWcSLu4+8CBu355xuz3r0lfuiqqaXYxXj3cdpAlzIMPMsSh2+rYyatgYGKACiiigAooooAKKKKACuI+KN1FY6Pot3dP5dvb65ZyzSEHCIJMlj7V29Iy7hzQByc/jrwnf6Dd3P9r2k1nDiOV2BKhmB2g5HU4P5VwOkXWm+IPhH4N0uEx3v2TUdOivrfaW8v5+Q4x7V7QIh6UeUKAPGvGOm3Tat4nFpFNHYx6hpN1ciC3En7pQfMcR4IfG1SRg8LzUxvbKx0zXdc0XVR4ikuHs4byaewBtrZQ5xMVjVQ5RW3HHI2rkivYPLFJ5Y7cUAeIHzr/RviM1ncSaolxo8YS5gsPIiuH2TA+Uo++BwM5JOOprr/ABx4ftrP4P3tnpFgInFrDEi28I3geYmcYGe2fwr0ARgCnbeKAPGPEvh/VIG8Yaa7ajq1/f6akmn30o3u9srDzrYAAIGyCcADdvGc4ps+m2/iTS9dl8O6/eaxqr6I1ktv9hW2VE3q3lkqigPwVCk5AJr2jZUF3YxXtlNazbxHMhR/Lco2CMcMpBB9wc0AeXpeWmqePLp9N0e7sCPCk8Wy4s2t3bEiYQKQCdvTOMc8E4rUsfDDQ/AaLT9Dslt9Tl0DbEAmyQTvBzknkMWPNdXpHhXTtFvZ723NzPd3CLHJcXdy88hReigsTgAknA7mtnHGKAPJvCkOj3NzYzPreoXdxpulSwyaf/Zqwm3iZV3xuEjBByowuckjjNS+D9WjsdXh0DSL3+39BisJNky2jLPp6pjELsAA24cAYDZXnNep7BmjZigDy3wZqcWmeIbDQNAvhrWh+RKFL2rJPpIUZVJHwMg/dAYBs+tWPDuu6bcfEjxQtlMVOoRWi2jGB1WVkjk3YJGOCRXpQTFGygDx7w6YpbHwHo9tayprOlXJbUYzEwe2xDIsrOxHAdmHP8WRjNT6Ho7Wng/wR5Vg8cya600/7khl3efuZuMjOQM+mK9a2Cl2ikAL92loopgFFFFABRRRQAUZHrXPa/4pt/D+saTb381tbWt80qvcXEojCFE3AZPHNcJqPxG1G80G71CxuYbQNpVzPB5ZV8vHdeUjqSOcqM46c0m7Aet5HrS5FcB4q8X3Gnarb2lrd3liZHEK7vD890txIRuAR1ZQTgHgZ6Gr8+u3U3jHwzb27TwWl/bXcs0E8Jjdigj25VhuUjceOOtF9LgdhmkyPWsjXI9TNusul6ra6asQZppLq085SuP99NuOeea82vfiB4gtvCUlxNd6ZJLd3ObG5WVbWZrfzVRZFgbeX3YYg5HBFMD2DI9aXIrnNX1xtP8AFmgaWHjC6o1wGDD5j5ce4Y/Goo9VuF+J82lvc4tBpMc6QnAzIZnUn1zhQKAOopNw9a5bxfrmp6ciQ6TbXavw7XaWaXEQHI2ENNHg8A5rOfxJqX9k6S9zHdWcz6nBb3E1xbxwrOjbiSqh3wOAOtAHdZHrRuHrXB+L7/xNpKCTSdc0+Se9nWHTrBtNLvIzHoWEoyFGWZscAE1S8aeM7/w3qmuRW/2lzBoCXVsEtTJFFNvnBZ2AwoOxfvHHFAHpOR60ua88u/G2tweItCtW8OX0cN2sxljSW2keXbGCNuJOME5OSK3vAuq3mtaBNeaj5qzf2hdxiOUKGjRLh1VDt4yAAOp6dTQB0tFFFABRRRQAUZorGbUp18axaWNn2dtPe5Y4+bcJFUc+mCaANnOKM01z8teaweJdf1NLW88P3epX1tPdxKvmaSiQmHzgsh37s8Lu59qAPTMiiue0jUbm58aa/ZSylre0S28lCB8pdGLfngV0NABRRRQAUUUUAFFFZfie/l0rwrqmoW23zrWzlmj3DI3KhI/UUAamaK5HwN4qutf0TydaiS21q0jQ3cSH5XDLuSVM/wADDkehBHUU3SPGkSeD9CvdXaWe/wBSs0mEFpbPLJIdoLMI0BO0bhk9BkUAdhRWfpGs2mt2n2mwkLIrFHV0KPG46qysAVYehFaFABRRRQAUUUUAFFFFABSZHrQxxXk0/wAWJodW+zvJZIkN7JBdllb90gvlhUnnqYyT9fyoA9ayPWjNeaeFPHE2s6zcy3d5Hsk0hLi2t42C72E9ypZFPJJWNM9a5y18baheWUNx/wAJA0HnRq/lT61apImRnDL9k4I7igD27IornfA11eXvhCxn1S+h1C7YP5lxA4dH+dsYIVQcDA4A5BroqACiiigAooooAKTI9aRiQOK4PUda8T23hu/8SySW1nDatJLHplxasHeFGIwzlgQ7gZHGBuAwetAHfUUyJt8StgjcAcHqKfQAUUUUAFFFFABRRRQAUUUUAGaM1zN5q95o3jCKHUXVtK1MCK1kKhfs9wB/qye4cZIz3UjuKraf4oMq6j4hvbgQeH0Ihsh5e43BDYMowMncxCoo6gZ53DAB19FYEXjDTmW6N4LjT2tYDcyJewNEfKHVxnqB3xyOAcZFP03xVZ6jqKWJgvLS4liM0KXds0XnIMZK59NwyDgjIyKANyiiigAooooAKKKKACjNFcl8QPEV54e0yxktJYLOO6vEt59QuYy8VkhBPmMoI7gKMkAFhmgDrMj1pcj1rgNS1vxBo+jadbQ6npurajrV+lrY3q2xjhRChdpGUOd2AjEYIzkU3Xb/AMWeGtM02GTWrG8utR1e3skum04oI0k3BsoJMEggY5FAHoOR60ZFeYXvi/xLp8l/odzNYf2tb39jFDfLbN5ckFzJtDGIvkMuHGN2DgVoWXjW50XUtfsvFd1bXSaUts8d3ZW7IZTMWCw+XuY+ZuUYAPO4dKAO/ork1+IWkpYajcX8V5p8mmhGuLW6tyswEnEZVRnfuPA2k88dajj+JGl7dW+1Weo2Uuj2QvruC5ttjrGd2Mc4YkIehx75yAAdhRXJW3xC0yexudRltdRtdLgtzcjULi0ZIJUGPuHqScjAx83bNOt/iBpbpfG/gvNKaxtPt0sd/D5bmDnMigE5AIwR1BxkDNAHV0Vzlj4xt7rTbq/u9O1LTLW2t/tTS3sGxWjwSSCCeQBnHB9qNM8ZW2oWE99NYahp1pDbfavtF9CI0eLGdwIJ7c4OD7UAdHRXM6R44sNWvVtfst9ZSyWxu4FvIDH9oiBALpz2yMg4IyOKZ4d8faf4p+ySaNZalNZ3aFo742hWAEDJUse/GM4xnjOeKAOpopByozS0AFFFFABRRRQAUUUUAFFFFAHL+J9N1O51rRtQ0uyt777C83mQzz+VkOm0EHa38q8o1/wu2l6Fc2+uWls13a6HeTpjEiwtJehwVYgYIDYyMV7/AFHLbxzxtHMiyIwwysAQfqKTVwOC13w1rvi3VRO8n9kwaO/m6QQ4czXIxiaQDjy8ZUJnJDMTjinzz30/xB8Gvq1qlpeG01ASxRyb1DARDKt3B6jvg813wGBiomt43lWVkUyICFYgZXPXB7UW0A5D4jpaW+hx397afbljmjiENxO6WiF3AEs6jhkXqcg/1HPeL3v4/D6S6vf6BqltM8MYtbSAwzsDIu1YHLvuPQgFefbrXqTxLJGUcBlIwQRwRWbZeGND067a60/SLC1uGzumgtkRzn1IGaYHI6h4O1XxNeS67qMiabqtocaJGp8xbPa2S7kcMZMAMB0XAHOTRp1o9/8AFpJfEFhZ/wBoW+gxP8g81YpPPcExswBHTr15r0IDApohQS+YFG/GN2OcemaAOM8ZaRLc67pV/c6Q+u6XapMkunoEYiVtuyXY5CvgBxycjdkVz7+HWh0C1tdW02ODT9Q8SRTQaVMFdbaFv+WZAyvLBm2jIG7FerU141kA3gHByMjoaAPNBaxaZ4/n0vQm03SZo7VHW81PfcSyo2f3cCF1CxrtAIU46cd6uaFImreOtastYNlq0q6dDBLd2inyGj8yT9zJGSwWTLMcZOVPQY57a+0qw1SDyNSs7e8h/wCedxEsi/kRT7XT7Wxt1gsreK3hX7scKBFH4DigDyTwp4g060tY76HQ/CltfJJNH5w1KG1lCiRlwU2ZXgDjNdx8Or7+0/Cr3hit4jLqF6Sts4eP/j5kGQw+9nGd3fr3rof7LsScmztyT1JiXn9KmigjgQJCixoOiquAPwoAkooooAKKKKACuK8RW8OoawJbnwrrd5LbKYo7qyvUgDISCRlZ0JGQOo7V2tFAHA6dEthqEU9t4Q8TLIpxun1RZUXPBJVrlgevoa5q5sNHi8SaxpkUvhzSrewuFjSDUbiYGQNEkhbb5yrjMhHA7GvY6he0t5HLyQxux7sgJoA4X4c3MEuveILe3Olyi1FrEJ9LZvKddjEDBZgCM44P1r0Co4reKDPkxqmeoVQM1JQAUUUUAFFFFABWL4yikn8Ea3FBG0ksmnzqiIMliYzgAdzW1RQBwepaLfW/h/RvEGhQNJq2mWcaPbfdN5BtG+E5/i/iXPRh7msjwk8nhu20LVNYs7pLSXw9bWhdbd5GtZUJZkdVBZdwcc46x4PavU6KAOU8JrLd65ruti3ktrPUJYhbLNGY3lEcYUylTyNx4GQDhAa6uiigAooooAKKKKACiiigBGGRxXk114C8THV/tMMOnyR2t9JcwBrplMwe+W5w37s7SFBHfmvWqKAPItC8MNZa1qNrrcCm8tdEimD2szqUZrm7fCSLtYdQDjGaydLu7fUdHs72fxfpFpLcQpK1vJrF7uiLAEqf9JHIzj8K9xKDdnvS7eKGByfw4K3PhKDUN8jyXTPvLXc06HZIyAoZGYgEDPXvXW0gXBzS0AFFFFABRRRQAjkheK81i1RdevRfeLLLWEhgnL2ukppNwY49rHZJKQh8x++M7V44JGa9LooAbGdyAjIBGeRinUUUAFFFFABRRRQAUUUUAFFFFAHM/EXTpNW+HetWcFu1zNJav5UaLli45XGO+QCKq+NNEnn8L6fFpCXCJp15bzmCy2iQxRnlUB4yB8wHcqBXYUUAeZzWZ1K8nuLew1jXo7fTp42XVAbZZDJtzCitGpZmC8noMDnni9oL3Ufiaxh0iXWZ9NET/aotWtWUWvy/IEkkUOWzgEZYYz0wM99RQAi/dpaKKACiiigAooooAKxPEl/d2NlG1toU2tQyNsuIIHjDqhB52uQGGeCM9626KAPGrPwjrkDPrel6HJY2tprUWo2OgSTIHWPymjn24YojNvLBd2AV7ZqJ/C+uNqV1rGleGbq2tDrmn3sOnPLEkpSFX81sb9oyzDHzc17VRQB5TqnhDWfFNzqGp6vpSwfbr7To1sJJVdltLebe7OVO3J3ucAngAVU1P4e6laWWr6No+lrLpianb6xYCOcQmUhgZbZnBDA9SjdsjkYr2GigDyK78Lw6l4c1S4s9AuvDt4JLR0n1zUTJ9oMMwkCFvMk2LkYB9W6VWuYdZ8W6549ijsrZbqbw9DYxQ290JVWU+cQjPgDd82cdACtewXVpBfWsltdwxzwSDa8cihlcehB4IqLT9KsNJtvs+l2dvZwZLeVbxLGuT3wBigDm/Fnhi5174Vz+H7URx3T2kaIjNtXcm0hSR0BK4yOmaxtC0pIvt95H4Cvba6Wya3Zb/UFlN0CQTEuZHG04zk4HSvSKKAPMPC+mavY3uprZaDqVt4d+wFYtH1S5jfdcZ+5F8z7YyuQQzbc4wAKoWvhTWtSs9c0bSNP1DQNAvtImthZ6pOkqx3LDCmEK7lEwTkZx0wK9eooA89srLXNY17R7i90abS4dH0+eFzNLGxmmdUXCbGOUAUnJx24rc+Hej3egfDvQ9L1GIQ3dpZpHNGGDBWA55HBrpqKACiiigAooooAKKKKACiiigAooooAiuLmC0t3nupo4YkGXkkcKqj1JPSoY9W0+az+1RX1s9vvCecsylNxIAGc4zkgY965b4kRXL6Lb/YhckeeFnaCWQeVEQSzmNGDS4IA2g989q87a4lPgW/mtHnvbVrvTZLCeeSWFLnN1GSBFKzFcYX5+hDe1AHub3VvG22SeNG9GcA0sdxDMSIpo5COu1gcV4T4tu11bxc9zffY4zNEkUdq1oTIkiBvMG97GQyDoRgjGDVvwNd+H9G1jUr29eNYpbU2szxxOVUKdxVlS0iUHBOSST0FAHt+R61HHcRSySpFKjtE22RVYEocA4PocEH8RXjWl6JHa+I7nWv8AhGTY6XqDRrpMrWrzPYyIcLJLCCGVZCcj0wN2M12/gaK9h1bxWmpXMVzcDVV3SxQmJW/0WDGFLNjj3NAHZZHrUZuIluEgMqCV1LLGWG5gMZIHoMj8xXm3i/SdE8Vahe6Xoulx3esznybvUQrBLEYwWZ+hkAHyoMnOM4HNSaNa3ll8WbOC5XVFtYtMvEtftssDx7BLbgeX5fzYxj7/AD075oA9JyKjhuIbiMvBKkqBipZGBGQcEcdwQQfpXB+C9bhv/iD4zt45GZPtUUkBbOJFWMROU9QJI2Bx0NWvh1fNNpV9afYrmNINTvitw6r5cubuU4Ug5OO+QKOgHbZHrUYnia4aASIZVUO0YYbgpJAJHoSD+RryXxA+fEV1qM8kF4dMkAn1CLQWlSz2/Nhm+0AsVBBO1Tj9K1LjWbbT/G94muhr60u9AtBc3sEIWBUMtwCz5Y7VO7gDdSYHpWR61FBdQXMYkgmjlQkgMjhgSDgjI9CCK4Dwx4bsLjxdFr2k6SdK020geO23I0cl477cyFDyEUDC5AJLE4AxnlNItPERsNDvrWSZLK2v9S2yabarLNEGlkHzrISrZPGQOKOoHtU1zBbwvLcTRxRp993cAL9SelSg5rxe70LxZceFfF04u7to7u7WSO3vNNQT3QEUKkjYQFGVIwF/hz3r2aP/AFYz1xR1AdRRRTAKMj1orxX4i6vq1pr2tw2c1xHbKARKlyVMbf2fdNtCjsSA2c9VHtQB7M9xDHNHE8qLJJnYhYAtjk4Hemte2qMVa5hVgcEGQZFeMaV4gvrXxRbajrVrcEwX0oeGKcS+Un9nW5L5YqAvJY+mT1qje6xptzq2oT3eo6POJbyZ4XgfTgDEXJTPmQlt2MZJJ5oA94jmimXdDIkgzjKsDT686+Fd1okSajZ6XeQSXVzcNeSRJcwyHlUUkLEqqq8AYx1r0WgAooooAKKKKACjNFUda0q21vSLjTr0MYbhCrFGKsvoQR0IOCD6igC9mjOelebf2lrGvqPA935kd/bsF1e9RSge0/hdD/emHy4H3cSegrRl8VXovb2z8PDR4bXSZBbFL64MbTuFBKIB9wDIXcc854wMkA7iiuBHxBn1e6sIdCk02zF5Yx3sb6rIV87czKYkCnllK/McnGRwc12Gj3l1f6Vb3F/ZtY3MiZlt2cN5bdxkcEeh9KAL1FFFABRRRQAUUUUAFGR60jdK8DvNT1pfEUIhXeqarOLYG7Yef/xNVGH+X5QPu/xcflSA91+22/2p7czx+dGgkePeNyoSQGI7A7Tz7GqX/CU+H/8AoO6b/wCBcf8AjXlHg/XJrDU55dQjkU3GkIst0ZFaO1b7Xdhd5YgkE8DAPTkCqNnd3EVhAuoaxBLdBFE0kN5bqrvjkqpsyQM9qbA91t7mG7hWa2ljmicZV42DKw9iKlrkvh02nw+E7fT9NkRls9ysqz+dtLMzctsUHOSeFFdbQAUUUUAFFFFABSZHrS1xniYaVpmoG7i1i50vVrnG2O0Jme5wMD/R8MH4wMhQcdxQB2eaTI9RXG2w8T+JfCt1aatCujSySIkdxG22WWHcN5KAnymK5Aw5IznjFVNNsNLtfH1tB4RhEKWcUiasYCfJ5UeWjdjLu+b1C7s/eGQDvqKRelLQAUUUUAFFFFABRRRQAgZSxAYZHUZ6Ub13bdw3YzjPOK47xOx8KasfF0CsbPYItYiRcloh9yYAdWTODjqpP90VnNqEvhvSZ/FWtJFHrGtTxW8EN1MEjtUZsRxM38IUFnc9zuxnigD0PNFefjx/PZ3F1bPPpeuzrYTXluNIkyWaLG6Nk3ORncMMDzzxkc6fhvxFqOrXkR+1aRqdlLCXebTnINtJxhGVmYkEE88EFeRzQB1tFIDkUtABRRRQAUUUUAFGR60Vx3xE0fUdX0a0GnwG+htrxJ7zTlm8o3sIBzGG45yVbBIB24NAHY5HrRketeN3NzoWpabpGgeHre60m31LXlttX092eKaLbC8jRMNx2hhGv3TgjoeTTNfi8LSrYaLoNjNaKPEthHqNpJFLCCHD4G1scFR24PFAHs+R60ZHrXhvie2t9Bu9X8PQ/aJdFS+0i6jtAzzGLzZyssaDJYhhHnaPU4FWbHxOnhiHX9V8NWk0WjTXdtp1haXokCreF2WZhHy6KAVJXAJKnA5pAe05FGRXlS/EnVbPTtWWWGHUJ7c2q2V4tlNawyvPJ5e11k5+ViCdpOQR0NWrzxl4k0J/FNpqo027n0bRV1K3mgheNZWbzOGUscDMfY/4Bgel5ozXnl14n8T6F4QvPFGvJprW32NZYLCCOTzIpHKhFaTJDD5ucKPbNQ6T43165udTtIrWPWJYNLa9tpLexmtEaYHH2c+b1JJBBGOM8UAek5oyK4Pw14p1HVdC1C8iv9P1i8t7YuNPtrZ7aaGcKT5Uiu5IycAEgVV0bx5cHwnquuajqNhfNp1ibi40+3tXt7i1lVSxjdXdjjjAJA/GgD0bNGa4aw8Ra/Z6zp1n4h+wSrqtjLcwm0idDBLGFYxncx3Da3Dccr05pPAeteK/FGi6Tr2pf2Xa2N7AJHtIonaTBHDB92Bk4O3BwO+aAO6opB0paACiiigAooooAKKKKACiiigDC8S+EtO8S26i7gtvtCcR3EtnFOyDOSAJFIwa47VPhk+nWaT6J9kubhbm3JhGlWkO5BMhY7lRSMAFuD1HevTqKT2A8n8b+GPEWseM3urTRVurSGGMWtwrZcNgh+DdRbe3IHOetXPhx4Y1jRvEV9c6lp9xZQ3EGCuU8tpN4O4gXEpLkcZ44HWvTMUUwOduPBdlc3Us76lrSGVy5SPVZ0Vc9gobAHsKb4U0e90a61qG5mu5rVr0NZPdXJmbyvJjB+ZiTjeH4NdJRQBw3i3Sb+88S29xdWN7q2grbFHsbK4EZWbdne6llEileMZOOeDnjNtPC97fayRpEGreFtHezkhnDXCGR3LLgwpucRYCsCwxncMDIyPS6KAOdbwVpCWulR2aSWT6TgWkts+10XjchPO5Wx8wOc9euDUng/TbrStEltr2Py5Df3kwG4HKSXEjoePVWBreooA42+8E3UrapbadrUllpmrSPJeW4t1dwXUB/KkJ+TdjnIbknGKt2OizWPjK5uoIdlh/ZFrZwHcD80ckxIxnPCuvPvXT4oo3A8utNAnht2TxN4W1TWtX3tu1GG8QpMSxwyFpVMIweFAXHv1q5qfh3xJc/CUaXIZrjV1uIpVVLhTIka3SyKvmPhWdYwBuPBI75r0WigDyXW9G8X6po81lFB4pZptoAu73TvK+8D82wbscdua9ZX7tLRSAKKKKYBXJa58OtN1/VLi8vL6/QXKbZbeJ0EbHyZIQ3KFshJX74z2rraKAOGsvBL6J4l0y6s7i7vo1nnmu7i7kQuCYEiQAKqgjEajp9aoJpuvR3moHUNK8Q3pe+neGW01xYo/JMhMYVPOXbhNoxjtXpFGKAOX8F2uq2sepnVob23ilu91nDfXguZI4vKQEFwzdXDnGe9dRRRQAUUUUAFFFFABQaKKAMKy0Wa38canrLPGYLyzt7dUBO4NG0pJPGMHzBj6GsafwxqNhqmqT6PZ6Rdx6jN9oDagGD28pUK33UO9flBxlTnPPp21FAHFTeHdcito7Q/2br1m1qkctvqaeUBKucyLsjYENnlSOMcGtvwno82geG7TTLiZZngVgWQEKMsSFUHkKoO0ewFbVFABRRRQAUUUUAFFFFACEZri7j4XaTcXc1x/aGpxu8zTxbJkxbuZxOSmU7uM859K7WigDitJ8HzaDq2oDTmc2jaTHa280suZGlEs8jEkAd5Qc1iaT4Z1i20Wzg1TQL+7vY4ES4uB4mnAlcKAzY39zk4r1CjFAGD4OsNQ0zwva2msMzXaGQtvnMxVTIxVS55bClRn2reoooAKKKKACiiigArnpfC0/9rXd/Y61cWMl0QZPJtLYk4GACxjLN+JNdDRQBy2q6Br8mh3VrY+Ipp7m42KHuo0jCJu+cKYkBBZcjPOOoqbQLDVdKjhs2sdJtNPjUgR2TyZB+hUA5PU9a6OjFAADkUUUUAFFFFABRRRQAUUUUAZHivR38Q+E9S0iOUQNe27wiUrkJuGM471F4j0H+29Fit0kWK5tpo7i2lePeqSIcjK9weQRkcE1uUUAcgdB168e4luL620pvszw26aahYLIxB812YAtjAwoxjLZJyMOs/D2qXXiax1jWBpsMtkki77GNt9zuXHzs3RO+z5uQpzxz1tFAAOBRRRQAUUUUAFFFFABWRr2nanfQw/2Lq50yeKTeWa3WZJVxgqykg4+hBzWvRQBwB+GrXEV3d3utSya9cXsN6upR26oIZIlKxhY+RsClgQSSQx59Irv4aX17JcX9x4gA1efULW++0x2QESG3UqiiMsezHJLGvRMUYoA4lfh2jQTS3uq3F5qN1f2t9cXkkajcYGDJGqLgKuAR6/MetN1X4dQajqGrTw6hPZx6k8F0EiQZt7uEgrcIT3IADAjnFdxRQBxGq+GtSuvC+o2/iS/udeMnlNFFp1tHbPEUYEPHuY/OCA2S2PlwB64ej+CdQ1q68Uy6zLqkUGsabHpqS6j5RuGA8zc4WP5VUeYAB3IJPWvU6MUAY2reHLTWfCcug3rSfZ5YBCZIzh1wBhgexBAP1FUNP0DxDBbXEeoeKpbp2h8q3kjso4zEe0h67249h14rqKKAOMsfBOoJrd3rmpa8ZtWmsTYxXFrZpCsSbg24qS29sjucdsVCvw9bUNQur3xVqY1Oa406TTT5FqtuDC+N27BYs3Awc4HOBzXc0UAchpfgy5t9Tt7zV9al1JrG1e0s18hYhGj7QzPgne5CgZ4HXjmtrwxoUXhnwvp2i28rzRWECwJJIBuYKMZOK1aKACiiigAooooAKKKKACiiigAooooAzNW8Q6VoKRvrWo21gkrFY2uJAgcgZwM9TiqbeM9GfQbjV9PvYtQtLaRY5GtHV8MSox1xn5gfxrK8X3trYeNfCNxf3MNtCs90DLNIEUEwHueKwdTurW/8P8Aje4sriG4gfV7UrLC4dWPlWnQjg8ijrYD0e11O1vLy7tbeZZJ7NlS4QZzGzKGAP1BBqtea9a2GrR2F0ShktJrsynARI4igbJz/wBNB+RrkdJ8RaNofjrxhHrGqWdjJLeW7otxMqMy/ZoxkAnkZFVfEeq6frerSXGl3Ud1APDmqJ5sZypINv0Pfr2oQHYar4t0rSNPkvLi4EirbfaxHFhneLIG9R3GWH50+38S29wuqlILlv7LuPs8ypCZGdtiP8irkniQds9a8W1abzdMkEGvx6uw8JkceUfsx86DCny8frzxXV2L22n6R4rk8W3TXE0Wskp9geW1a5lNtCERFR9xJyBtycnmlfUdj0CHxDBPo91qK215FHaozMlzavA7BV3HCuAT9elWrPUkvNHt9RRHEc8Czqu3LAFd2MDOTz0FeZ+D4haeCdWsdba7i8T2mnzJfQ3V9LNvRlYpIgZipUjA3AcEEV3vh+aVPAulyW0SzyjToSkZfaHbyxgZwcc96YioPH+ire29tdfbrF7lmWJ72wmt4yVUu3zuoUYVSeTVzSfFFjrNnf3dm++2sbh4HmUhlfYoJZSpORz+lcZNqtpca1d3Wv6mzanCj20MGlWMt5Dpu7G/cRGytIcAEsBgcADJJqaVqiaV4K1e2s7yLUr/AFzUbiPS1iCo87OirlkXGwLglsgbQOcZoA7+68UWNv4RHiOLzJ7JoEuE2LhnRsYOGxjqOtbBbCg15PLeS2Xwhv8AwtfMkOtaNaR27IwOJUVlWOdR/EjAD6HIODXa60JLPwHqEniOOHVzbWsk00cUJiWfYCwUKWbHQDqaQGhp+vw6ldy28NrfwtGCS1zYywoeccMygH8Kp2vjCzudGh1JbW/aKaWSJUhs5J3BR2QkiMNgZU4NcTo+hQaPrvh6e+sdCuRqsh8kWFs8b2ziNpQ6sZG8xQFwTgdQe+KTw3f+INK8CtcC70iHT2ubnZdXSuhs1+0SDLAE+cxJ4A2c8c5o6gdi3jzSzo97qMCXbpY3UdpPE9s0UiSOyADbIF/56KfpV8eJtNxqe6cA6W5S5BGCpEaycevysOlcBqx0a58CHw7Yz3xuL+7hkN1qNrNa/a5DcI7t5rIqhjg4AI7Adqp634O0ix8Qapps194fjfVojcxPrVm088KBEiIWd5BnBGQDzzTA9Kj8S2k2p6XZxLKx1S0ku4H24UInl5znkE+Yvb1rZHSvM/DmieGNL8b6Gvh26057qDSbiKcWmGacAwDeSpIGCOhP8XHQ16Wv3RSAWsbUPFej6VJMl/fJC0DBZAysdpMbSdh/cRj+FbNeE/E4D/hJtbIvmVsDNnlMOP7OusyYxuyOnBxz0pgetL4r0+XWLbTbZ2mmmdoyVHEbLEsuDn1V1PGetVLvxr9kvZrc6Dqs3lOU8yPyNrYPUZlBx9QK8y8PpqB8SWw0XVo767W/lZbm5RZBJjTrclPk2gf3Qe3cGop0tYNU1E7tOillvZpZ4pL6xlMcrOS67nti3DEjBPFHQD17w34ntvE0V29rb3Fu1ncG2miuVUMrhVb+FmBGHHetuuF+G91LLb3MUMdpJaJIczW1zA4STC/IVhiQA4IOTz0ruqACiiigAooooAKpavqltoulz6hfMyW1uu+VlQttXucDnA6n2q7TJY1ljKOAVIwQRkGgCnqGs2WmaNLql5cKlpFH5rSjkbccYx1z2A65FW4ZlmgSUBlDqGAddpGR3B6H2rzvStCmfxi/hi5mWTQ9CEd/aRHJZvMLCKN+xWIo5X/tn/d5jee813XNdaa28QSLZ3jWdo2mXaQpAFRSW2mRdzksT8ykYwKAPS9w9aXNeXpPreqxWN5rFvfX8P8AZ0Ymg0XUVjkt7jLbpGVJF3hhtK4YgYPHeu28J3i3/hmxuEvnvw0ePtMkXlu5BI+ZezDGCPUHp0oA2qKKKACiiigAooooAQnFYTeM9ES5jgN8vmSytCi+W3LrMISOn/PQhf8A61brdK+db4Q/8JE27W5IQNTmMpE0Y+wj+1kwRkfLkfN82fyoGe26b4tsdW1Ke10/dMsNqlz5oGFYNJImBnnIMTdeOlYw+Jtnkg6XcAj/AKfbL/4/XFeCUvTJM+m3EVzAuixiZJnC/aEN1djd5oBCnGWztOfaqWnyJa6ZbW+nXdybSOJVgMdxE67APlw32A54xzk0wPZPDmv23ibQbbVrFJEguQxVZcbhhipzgkdQehNatcz4FvJr3w7DI5SWDB8m4W4WUyjcc52xRgYPGAvaumpCCiiigAooooAKzD4h02PWf7KnulhvCMpFKCnmj/YJAD++3OO9adcj4ivn1KWfRoNGtbtMgSz6nIq26nqMLy7kewA/2hQB0moaja6ZYTXt9MsNvAheSRuigd6zdL8WadqmoCxQXVvdNGZUiu7SSAyICAWXeo3AZGcdMisWw0LT9I8NXaa/rZ1GzjkS6kEkpENr5bB1CDJcLuUHDM3THtVnT47zxH4gs9aubSSw06xST7Ek4xNcNIoBkZeqKFyAp5OckDAFAHW0UDpRQAUUUUAFFFFABRRRQBnQ61bTa7daTlkureNJirrjejcBlPcZBB9D9RlYNatbnXLnS4S7z2savOwX5I933VLf3iOcemD3FYHxCik0/Q28TaeVXUdFR54i4+WWPHzxNj+FgB9CqntWZrlrd+FfBNpa6ebm6vdT1GKO9uoGWOaVpWzIwZiApONgyeAVA6CgD0HcPWjIrzKRdYs7q5ttPiuvD8F3p06h9V1OOZY5htEcifvHYfeIbtyvfroaB/xLfEllbXltqul3NxA6eVPefa7e8ZQGLK5ZirDBPIUkZ4OOADvqKRfu0tABRRRQAUUUUAFZmu+INP8ADtklzqcrIskqwxJHG0jyu3RVRQSx9gO1adc74s0K1123so31F9Nv7e5E9hcxsu9JQpHCtwwKlgV7gmgBG8c6NFos+qXb3NrBbzCB0ubSWOXzDjCCNl3MTkYwDmop/iDo1rp5u7tNRt1+0paiKXTpllaRxlQEK5OQOoFcHe6/qF5r+jad4kNtJJoXiSGGe9tvlgm8y2kMTFSTtYMygjJwSPWpvEWv6ne+I7bSdYFmBpXibTBFLbKyhlkR3+YMTyBgUh2O2HxC8PtokuqJcztDDcpaSxfZZPOSZiAqGLbvydw7d60NC8T6d4hNyunSSCW0cJcQTwvDLETyNyOARnse9eWeLnN14t1u40OSByNQ0SHzGy0RulnY4bB5wrJkDmq2qXusCPxLc391Fb67Lqthpd6tu7W8UFn5n7uRX+ZgriQ5fqMkdqYj3PcKNwrxvWdN1nwr4Z1ordW2naZO9kjW9jqEszWitOFmlDuqlAyHtxkE+tVb+Wx0t/Htp4V1OVrG08NRyRJDevKltKfOzsJY7TgKeDQB7dkUbhXlviDQh4U+Fuo65pNzeNrU9hGtzfy3cjM+4rvkIyQpALEED5R0qTS/C+q2cmpJb6lY6LZXmktEi2eoS3JSfOFuf3irg4JBIPJx3oA9O3D1o3CvLvDcaae+qeF7u1Ghay+mGT7fa3jzQTJynnruOUYMckNg+5rNjvJvB+ha9pa6Z9i8RQ6FNdw3ltdvPDeiNcGXaxyr7iCdwzz1NAHse4UZFeY6fbW2ieJtBh0O6mkj1HSLiW8VrlpRLtEZWc5J+bcxG7vux2GLPwn8O28vgnw94gv7m9vNVmsldrme7kbhlxt2524A9R15680AejUUAYGKKACiiigAooooAKKKKACjNFYt/Ya1PevJYazHawEqRE1msmMdecjrQBpXFla3YAuoIp1ByBIgYA/jWdrHh211LQZ9LgCWcczIxMMYGCrhs4GP7uKp/wBkeJef+Knjxk4/4lycDt/F1FMGi+KcH/iq07f8wxOCP+BdD/k0AdGIY92/Yu7HJwM1nTaJHceJbbVnk5gtJrUxFchxI8bZz7eXjHvWedG8T7yR4pTbvyF/s1Onpnd+X9aadE8UkAf8Jav3SCf7Mj/A/e6/pQBf1PwtpWp6Tdae1tHbRXSeXI9uio+Mg9ceoqPT/DFhaaneXsscdzNcXhu43kiBMDGNIzsPbITr71V/sbxQc48VICQMf8SxMAjr/F0P+TSf2N4n3D/iqkxuJx/ZiZx6fe7dj+eaANfUtItdQt51eOMTS28luJ9gLorjBAPXHQ49hUumWQ0/SLSxWTzBbQpEHIwW2qBnH4Vhf2J4p2AHxaudpUsNLj69m+91/T2FL/Y3inn/AIqqPPBH/EsTGR1/i6H8/egCGLwrq+kyXEfhzXobSznnkuPs93YC48t3Ys21g6HBYk/Nn61f0DwnaaKZrmWT7bqNxM8897NGodmcKCFwPlXCLwPTvVcaN4o8zP8AwlaFd2dp0xOnpnd+R/PNH9i+KMDPitPuFSRpidezfe6/ofagDR1/QoNd0e5sZXMXnoEMqqCyjcG4z7gVpsium1sEEYIPeub/ALH8T8/8VVHzt/5hicEdf4uh/wAmnLo3iRcf8VQCMnOdOTkHoOvUetAF3TvCmhaReNdaXpVnaTsCvmQwqpAPJAx0HsOKz28E2h8KR6J9qnUQXJu4Llcb4pfNMqsARg4Y9CCCKeNG8SBQG8UDO3BYadGOfXr+lOGj+Ic5PiYkbgcfYI+ncdaAKd14U1bWIRZeIPECXWnF1Z4LexWF5drBgGfc3GQM7Qv4VPrvg7+2Ndt9Wg1I2c8Ns1tg2sUyspYN0cHByO1SjRvEIA/4qc9CCfsEf4U7+yNf2nPiTnjn7DHxQBV0fwU2m+JItYudUN1NDbSW6ItpDAu12RiTsUE/6sYz711Q4rAGj6738SOf+3KOj+yNdwf+KkbOMZ+xR9fWgDoMiqc2lafPdG5ms7aScrtMrxKW24xjOM4wayjo+u548TSDn/nyi/Ht/n3oGja9twfE0h68/Yos47duv+cUATnwzYJqmn3lpFHafYWlZYoI1RXMihSTgegrMt/CGp2El1/ZXim6tILm6muvJ+yQOEaVy7AFlzjLGrZ0XX9px4okyQP+XGLg/l0/zmlOj68W48TSYznH2KLp6dP8+9AE/h3QH0P7fJcajLqFzf3P2iaaWNE58tEAAUAYwgrazXO/2Nr2AP8AhJ5ehGfsUX4Hp1/zxSHRtf2/8jO+cD/lxi4P+Ht+tAHR5FGa5v8AsXX8/wDI0y4yePsMXQ9unX3/AJ0f2Jr/AJeD4pmDYxuFjF+B6UAdJketGa5saJr4znxRKTwf+PGLj17dKadD1/GB4pnHb/jyi6fl196AOmzRn3rmv7C18rz4qmzjqLKLr69KRdB1wH/kabgjOf8Aj0i6enSgDYh0q1g1q51WPd9puoY4ZTu4KoWK8f8AA2rO1DwhYX95c3C3N7ZteAC6WzumiWfjGWA74AG4YOABnFV/+Ee1zaAPFV0Pl28WsX+FH/CP65kn/hLLvqD/AMesPBH/AAH9KAJpfBml+dHLYvc6a8dutt/oM5hDRL91SBwduTg9Rk4NamlaXaaNpsNjp6eXbwrhAWLE85JJPJJJJJPJJrGHh7Wxj/irL08n/l1h5B/4DR/wjut7Mf8ACV3mdgUn7ND1B6/doA6bI9aMj1rmxoGtBsnxVdn5g2PssP5fdoXw/rKgA+Krw4yCfs0PIP8AwHrQB0maMiuc/sDWtpH/AAlV5nAGRaw//E0/+wdY3Z/4Se7+9ux9mh9On3aAOgzRmue/sHWRx/wlN50I/wCPaH/4nrQdD1gggeJ7odP+XWH/AOJ6UAdAcGqrabZOXLWsBMnLkxr83fn1rK/sTWO3iW665/49of8A4mk/sLWf+hpu+Rj/AI9YPXr93rQBY/4Ru0GqXl5GzR/a7JLJo0ACqiGQgjjr+8P5Cs6w8H3+maXbafZeLNTjtrWJYYlMNsSqKMAZMWTwKt/2Jq/P/FS3eTj/AJdoeP8Ax2k/sLVsj/iprwjnI+zw85/4B2oAueH9Ei8PaLDp0FxLcLEzsZZsbnZ3LknAA6segrUzXPHQdXPTxReDgf8ALtB/8RTjoerF8/8ACS3gG7IAt4eBjp9ygDfyKMiudOgasVx/wlF990jPkQf/ABFDaBq5Bx4pvQeOfs8Hb/gHegDosj1oyK50aBq4kVv+EoviAxO37PByPT7lMPhzWGQD/hK78HbtJEEP4fwf59aAOlyKxbrwh4avruS5vtA0q5uJDuklmso3dz6kkZNVv+Ec1clj/wAJVf5JUj9xBxjr/B3/AM5pv/CNauCP+Ks1DAZv+WEHIP8AwDqP8gUAOuvAfhu402Wxg0y30+KaSORzpyC2dmjbchLJg8MM1Pp3hiDTLxbmPUtVnZQRsutQllQ5/wBljiqh8M6yUx/wl2oA7AuRBB1B6/c/Pv70p8M6yWz/AMJbqH3lbH2eDt1H3On+eaAOlHA60uR61zX/AAjesbgR4s1AD5sgQQdD/wAA6/5AFIPDWsiMj/hLL7dsC7vs8PUHr9z/AOv70AdNkUZrnP8AhHdXyf8Aiqr8/OGGYIOOOR9z/PvTh4d1UYz4pv8Avz5MHTt/B/n2oA6HI9aM1zw8PaqFwfFF8TtAyYYOo/4B/n1pw0DUw2T4mvyN2QPKh6en3KAN/NGawRoGpY58S3+cHnyofw/go/4R/Ucn/ipdQ5xx5cPH/jlAGnqem2usaZcafqEfm2twhjlj3EblPUZHNJqOl2eq6bJYX8SzW8gAZSSOhyCCOQQQCCOQRms7+wNQ3ZPiPUMZP8EP/wARTf8AhHtR4z4m1I8f884Ovr/q6AEt/BmkQrc/aFmv2uoTbyvfXDzsYj1QFycKe4GM8Z6CpNO8J6bp1+l4j3dxPEpSFru7kn8lTjIQOxxnA56+9Rnw7qPbxPqWN2f9XB09P9XSjw7qIGD4n1I9f4IPw/5Z0AbwwB1pcj1rA/4R7Uef+Kl1HJxg+XBwf+/dKfD+obsjxJqAGTx5cPA/790Ab2R60Zrn/wDhHdSIH/FT6j0IOI4OfT/lnQfDupnP/FUaj1BH7qDj1/5Z0AdBmjI9a54eHNSGP+Ko1I8nOY4Oh7f6uk/4RzUyhB8Uajkptz5UPB9fuf59aAOiyPWs3VtA0rXoEh1mxt72ONw6LPGG2MO49D7is8+HNTy3/FUajyVI/dQcY6/wd/8AOaB4a1LcP+Kp1PGTxsh6H/gHX/PFAFmHwloFvosukQ6TZLp0xLS2wgXZITySRjk+/Wq7+BPC76a+nvodi1rJKJniMIIZwMBj6kDjNM/4RjU9hH/CValuKYz5cPB9fuf59aB4Y1IPn/hKtUxuzjbD07j7n/6qAL9v4b0W00+KwtdMs4LOGVZo4I4VVEdSCrAAYyCAc9eKfc6BpN5PcTXdhazyXUAt52kiVvNjByEbPUZJ4PrWb/wjGokAHxTqnGQcLFz6fwf/AK6P+EX1H/oadU6D+GHr3/g6H0/WgB48I6fpuk3lt4ZtrLSZ7oLvmW1WQNjj51yNwxkYzxk1R8P+BbfTH1GTVXtL6TUIUtpIobJYLdYE3YjEWW4y7E5Jzmrn/CL324/8VRqxGen7rp6fc/WkHhW97+KNYPH96LseP4Pz9aAN6S2gltDbSRxvAybDGygqVxjGOmMVkWXgrw1psNzDY6Hp8Ed1H5c6pbriVP7p45X26VF/wi92DkeJdXHzbvvRfiPudPalHhi6B58S6ueCOXi6H/gHX3oAlsPB3hzTLe5gsNGsYY7pPLnVYFxKn91uOR7HipNL8KaDohmOk6VZ2bTKEkaKIAso6KT6e1Vj4YuznHiXVwTjo0XBH/bP9KX/AIRm7B48S6v1yBui/H/ln/8AqoAs6b4X0PRpZpNJ0uzs3mG2Qwwqu4enHb26VoWlpbWFpFa2UMVvbwqFjiiUKqKOgAHAFY48NXQUD/hI9WIxj70XI7fwdffrSnw5eHP/ABUmq5ODnMPX/v3+lAG9kUZrBHhu7B/5GTVsZzjMP5f6uj/hHLwrj/hJNV6Y6w//ABugDezRkVgHw5eHp4l1Ucg/8sev/fv9KD4avD/zMmrY+sXT/v3QBv5HrRketYH/AAjV4cZ8Sar0wcGIZPr9ygeGroEf8VFq2Qc53x8+v8FAG/misrTNGm06YyS6tfXoK7Qly6EDnOeFHNatABRRRQAUUUUAFFFFABRRRQAUUUUAFFFFABRRRQAUUUUAFFFFABRRRQAUUUUAFFFFABRRRQAUUUUAFFFFABRRRQAUUUUAFFFFABRRRQAUUUUAFFFFABRRRQAUUUUAFFFFABRRRQAUUUUAFFFFABRRRQAUUUUAFFFFABRRRQAUUUUAFFFFABRRRQAUUUUAFFFFABRRRQAUUUUAFFFFABRRRQAUUUUAFFFFABRRRQAUUUUAFFFFABRRRQAUUUUAFFFFAH//2Q==)"
      ],
      "metadata": {
        "id": "va_hOga2gXmM"
      }
    },
    {
      "cell_type": "markdown",
      "source": [
        "### **4.3 다항 회귀**"
      ],
      "metadata": {
        "id": "BF0UurAnMDq4"
      }
    },
    {
      "cell_type": "markdown",
      "source": [
        "- **다항회귀(polynomial regression)** : 가지고 있는 데이터가 단순한 직선보다 복잡한 형태일 때 사용. ==> 비선형 데이터를 학습하는데, 선형 모델 사용가능!! ==> 각 특성의 거듭제곱을 새로운 특성으로 추가하고, 이 확장된 특성을 포함한 데이터셋에 선형 모델을 훈련시키는 것"
      ],
      "metadata": {
        "id": "IFMpec_3gpvu"
      }
    },
    {
      "cell_type": "markdown",
      "source": [
        "- ex) 2차 방정식으로 비선형 데이터를 만들어서 곡선만들어보기"
      ],
      "metadata": {
        "id": "_NSySTk1hWkH"
      }
    },
    {
      "cell_type": "code",
      "source": [
        "m = 100\n",
        "X = 6 * np.random.rand(m, 1) - 3\n",
        "y = 0.5 * X**2 + X + 2 + np.random.randn(m, 1)"
      ],
      "metadata": {
        "id": "p-9-vpa7hb3N"
      },
      "execution_count": 16,
      "outputs": []
    },
    {
      "cell_type": "markdown",
      "source": [
        "- 확실히 직선은 이 데이터에 잘 맞지 않으므로, 사이킷런의 ploynomial features 사용하여 ==> 훈련 데이터를 변환해봄 ==> 훈련 세트에 있는 각 특성을 제곱(2차 다항) 하여 새로운 특성으로 추가"
      ],
      "metadata": {
        "id": "lCcsyzaGhk0-"
      }
    },
    {
      "cell_type": "code",
      "source": [
        "from sklearn.preprocessing import PolynomialFeatures\n",
        "poly_features = PolynomialFeatures(degree=2, include_bias=False) # 2차 다항으로 설정\n",
        "X_poly = poly_features.fit_transform(X)\n",
        "X[0]"
      ],
      "metadata": {
        "colab": {
          "base_uri": "https://localhost:8080/"
        },
        "id": "YJfu2fD5hvAf",
        "outputId": "f76e90d5-1ccf-4ed2-ecca-51c2da201852"
      },
      "execution_count": 19,
      "outputs": [
        {
          "output_type": "execute_result",
          "data": {
            "text/plain": [
              "array([-2.32169766])"
            ]
          },
          "metadata": {},
          "execution_count": 19
        }
      ]
    },
    {
      "cell_type": "code",
      "source": [
        "X_poly[0] # 원래 특성 x 와 이 특성의 제곱을 포함"
      ],
      "metadata": {
        "colab": {
          "base_uri": "https://localhost:8080/"
        },
        "id": "05LBsZkQh6GN",
        "outputId": "0fd197be-971d-4b07-a127-846118fd9934"
      },
      "execution_count": 20,
      "outputs": [
        {
          "output_type": "execute_result",
          "data": {
            "text/plain": [
              "array([-2.32169766,  5.39028001])"
            ]
          },
          "metadata": {},
          "execution_count": 20
        }
      ]
    },
    {
      "cell_type": "code",
      "source": [
        "# 이 확장된 훈련 데이터에 선형 회귀 적용해보기\n",
        "lin_reg = LinearRegression()\n",
        "lin_reg.fit(X_poly, y)\n",
        "lin_reg.intercept_, lin_reg.coef_"
      ],
      "metadata": {
        "colab": {
          "base_uri": "https://localhost:8080/"
        },
        "id": "GcC0S2ALiKDS",
        "outputId": "e55c4f3d-b9f3-4dd4-e5a8-02bf090ad146"
      },
      "execution_count": 21,
      "outputs": [
        {
          "output_type": "execute_result",
          "data": {
            "text/plain": [
              "(array([2.10583336]), array([[0.97470858, 0.4654934 ]]))"
            ]
          },
          "metadata": {},
          "execution_count": 21
        }
      ]
    },
    {
      "cell_type": "markdown",
      "source": [
        "- 원래 함수와, 예측된 모델이 비슷함"
      ],
      "metadata": {
        "id": "bZ2r-uUPiWFy"
      }
    },
    {
      "cell_type": "markdown",
      "source": [
        "- 특성이 여러개 일 대, 다항 회귀는 이 특성 사이의 관계를 찾을 수 있다. (일반적인 선형 회귀 모델에서는 불가능) ===> 왜냐하면 Polynomial Freatures 가 주어진 차수까지 특성 간의 모든 교차항을 추가하기 때문\n",
        "===> ++ degree = 3으로 하면, 3차항 뿐만 아니라, xy로 되어 있는 특성들도 추가한다. "
      ],
      "metadata": {
        "id": "Yr5FU0bKitzN"
      }
    },
    {
      "cell_type": "markdown",
      "source": [
        "### **4.4 학습 곡선**"
      ],
      "metadata": {
        "id": "VkrdhqdvMKfV"
      }
    },
    {
      "cell_type": "markdown",
      "source": [
        "- 고차 다항 회귀를 적용하면, 보통의 선형 회귀에서보다 훨씬 더 훈련 데이터에 잘 맞추러 할 거임.  ==> 1차, 2차, 300차 그래프 비교해 놓은거 보면, 300차 다항회귀는 훈련 샘플에 가능한 한 가까이 가려고 구불구불하게 나타남 ====> 이런게 **과적합(overfittnig)** , 반면에 1차 선형회귀는 과소적합임. 일반화가 제일 잘 된건 2차 다항회귀\n",
        "- 얼마나 복잡한 모델을 사용할지 어떻게 결정할 수 있을까요????????????? 어떻게 모델이 데이터에 과대적합 또는 과소적합 되었는지 알 수 있을까요????????????"
      ],
      "metadata": {
        "id": "LRj0Ksh1jFVN"
      }
    },
    {
      "cell_type": "markdown",
      "source": [
        "- 2장에서 모델의 일반화 성능을 추정하기 위해 교차 검증 사용 => 훈련 데이터에서 성능이 좋지만, 교차 검증 점수가 나쁘면 모델이 과대적합 된 것.(모델 복잡함) 만약 양쪽에 모두 좋지 않으면 과소적합. (모델 단순함)\n",
        "- 또 다른 방법 ==> 학습 곡선을 살펴보는것 ! ==> 훈련 세트와 검증 세트의 모델 성능을 훈련 세트 크기(훈련반복)의 함수로 나타낸다. \n",
        "- 그래프를 생성하기 위해서는 단순히 훈련 세트에 크기가 다른 서브 세트를 만들어 모델을 여러번 훈련시키면 됨"
      ],
      "metadata": {
        "id": "RaYA1O6sjv-4"
      }
    },
    {
      "cell_type": "code",
      "source": [
        "from sklearn.metrics import mean_squared_error\n",
        "from sklearn.model_selection import train_test_split\n",
        "\n",
        "def plot_learning_curves(model, X, y):\n",
        "    X_train, X_val, y_train, y_val = train_test_split(X, y, test_size=0.2, random_state=10)\n",
        "    train_errors, val_errors = [], []\n",
        "    for m in range(1, len(X_train) + 1):\n",
        "        model.fit(X_train[:m], y_train[:m])\n",
        "        y_train_predict = model.predict(X_train[:m])\n",
        "        y_val_predict = model.predict(X_val)\n",
        "        train_errors.append(mean_squared_error(y_train[:m], y_train_predict))\n",
        "        val_errors.append(mean_squared_error(y_val, y_val_predict))\n",
        "\n",
        "    plt.plot(np.sqrt(train_errors), \"r-+\", linewidth=2, label=\"train\")\n",
        "    plt.plot(np.sqrt(val_errors), \"b-\", linewidth=3, label=\"val\")"
      ],
      "metadata": {
        "id": "erFCupekkfDJ"
      },
      "execution_count": 23,
      "outputs": []
    },
    {
      "cell_type": "code",
      "source": [
        "# 단순 선형 회귀 모델(직선)의 학습 곡선 살펴보기 ====> 빨간색이 훈련세트, 파란색이 검증세트\n",
        "lin_reg = LinearRegression()\n",
        "plot_learning_curves(lin_reg, X, y)"
      ],
      "metadata": {
        "colab": {
          "base_uri": "https://localhost:8080/",
          "height": 265
        },
        "id": "nC8Zzo1Hkov6",
        "outputId": "162a23dc-ccfe-4542-fcd0-afec53feaa94"
      },
      "execution_count": 25,
      "outputs": [
        {
          "output_type": "display_data",
          "data": {
            "text/plain": [
              "<Figure size 432x288 with 1 Axes>"
            ],
            "image/png": "[encoded data removed]"
          },
          "metadata": {
            "needs_background": "light"
          }
        }
      ]
    },
    {
      "cell_type": "markdown",
      "source": [
        "- 훈련데이터 : 그래프가 0에서 시작, 훈련세트에 샘플이 추가 되어도 평균 오차가 크게 나아지거나 나빠지지 않음\n",
        "- 검증데이터 : 모델이 적은 수의 훈련 샘플로 훈련될 때는 제대로 일반화될 수 없어서 검증 오차가 초기에 매우 큼\n",
        "- 과소적합의 모습. 두 곡선이 수평한 구간을 만들고, 꽤 높은 오차에서 매우 가까이 근접"
      ],
      "metadata": {
        "id": "vbuCX8ACk0QN"
      }
    },
    {
      "cell_type": "code",
      "source": [
        "from sklearn.pipeline import Pipeline\n",
        "\n",
        "polynomial_regression = Pipeline([\n",
        "        (\"poly_features\", PolynomialFeatures(degree=10, include_bias=False)),\n",
        "        (\"lin_reg\", LinearRegression()),\n",
        "    ])\n",
        "\n",
        "plot_learning_curves(polynomial_regression, X, y)"
      ],
      "metadata": {
        "colab": {
          "base_uri": "https://localhost:8080/",
          "height": 265
        },
        "id": "xotA9XnXlkHm",
        "outputId": "846c2f6e-e244-4702-83fc-9427c0820a01"
      },
      "execution_count": 27,
      "outputs": [
        {
          "output_type": "display_data",
          "data": {
            "text/plain": [
              "<Figure size 432x288 with 1 Axes>"
            ],
            "image/png": "[encoded data removed]"
          },
          "metadata": {
            "needs_background": "light"
          }
        }
      ]
    },
    {
      "cell_type": "markdown",
      "source": [
        "- 위 학습 곡선에 비해 : 두가지 중요한 차이점이 존재"
      ],
      "metadata": {
        "id": "hEpV5BlVluqB"
      }
    },
    {
      "cell_type": "markdown",
      "source": [
        "- 훈련 데이터 : 오차가 선형회귀 모델보다 후러씬 낮다\n",
        "- 두 곡선 사이에 공간 존재 : 모델 성능이 훈련이 검증보다 좋다는 것. 과대 적합 모델의 특징. 더 큰 훈련 세트를 사용하면 두 곡선이 점점 가까워짐"
      ],
      "metadata": {
        "id": "gBE66YcRmRPq"
      }
    },
    {
      "cell_type": "markdown",
      "source": [
        "- 일반화 오차를 세가지 오차의 합으로 표현하기 \n",
        "- 편향\n",
        "- 분산\n",
        "- 줄일 수 없는 오차\n",
        "- 편향/ 분산 트레이드 오프: 모델의 복잡도가 커지면 분산이 늘어나고, 편향은 줄어듦. 반대로 모델의 복잡도가 줄어들면 편향이 커지고 분산이 작아짐"
      ],
      "metadata": {
        "id": "OgznByNCmd7b"
      }
    },
    {
      "cell_type": "markdown",
      "source": [
        "### **4.5 규제가 있는 선형 모델**"
      ],
      "metadata": {
        "id": "dEvdvBXMMYch"
      }
    },
    {
      "cell_type": "markdown",
      "source": [
        "- 과적합 줄이는 방법 : 모델을 규제하는 것 \n",
        "- 자유도 줄이면, 과적합 되기 어려움 => 따라서 다항 회귀에서 모델을 규제하는 방법은 다항식의 차수를 감소시키는 것"
      ],
      "metadata": {
        "id": "O9dRh-3tmx0L"
      }
    },
    {
      "cell_type": "markdown",
      "source": [
        "#### 4.5.1 릿지 회귀"
      ],
      "metadata": {
        "id": "ag2Tw0-gMjna"
      }
    },
    {
      "cell_type": "markdown",
      "source": [
        "- **릿지회귀 (Ridge Regression)** : 규제가 추가된 선형 회귀 버전. 규제항이 비용함수에 추가됨.  ==> 모델의 가중치가 최대한 작게 유지 ==> 규제항은 훈련하는 동안에만 비용함수에 추가되고, 끝나면 모델 성능을 평가하는 지표로 사용"
      ],
      "metadata": {
        "id": "NBV9347-m6Zr"
      }
    },
    {
      "cell_type": "markdown",
      "source": [
        "- 하이퍼 파라미터 알파 : 모델을 얼마나 규제할지 조절 a=0 이면 선형회귀와 같음. a가 너무 크면 가중치가 거의 0 이고, 데이터의 평균을 지나는 수평선이 됨."
      ],
      "metadata": {
        "id": "vppyy7u3nWH4"
      }
    },
    {
      "cell_type": "markdown",
      "source": [
        "- 릿지 회귀는 입력 특성의 스케일에 민감해서 데이터의 스케일을 standardscalar 등을 사용해서, 스케일을 맞춰주는게 중요.\n",
        "- 릿지 모델을 사용한 선형회귀와 다항회귀의 비교 : a 가 커질수록 직선에 가까워짐. "
      ],
      "metadata": {
        "id": "6PbVYvVNnmv6"
      }
    },
    {
      "cell_type": "markdown",
      "source": [
        "- 선형회귀와 마찬가지로, 회귀를 계산하기 위해 정규방정식을 사용할수도 있고, 경사하강법을 사용할 수도 있다. 장단점은 같음"
      ],
      "metadata": {
        "id": "pddTNnzGoLor"
      }
    },
    {
      "cell_type": "code",
      "source": [
        "# 정규 방정식을 사용하여 릿지 회귀 만들기\n",
        "from sklearn.linear_model import Ridge\n",
        "ridge_reg = Ridge(alpha=1, solver=\"cholesky\", random_state=42)\n",
        "ridge_reg.fit(X, y)\n",
        "ridge_reg.predict([[1.5]])"
      ],
      "metadata": {
        "colab": {
          "base_uri": "https://localhost:8080/"
        },
        "id": "R2h2akTloT47",
        "outputId": "0987eb2c-73ad-4f91-e9ac-534d219ecdae"
      },
      "execution_count": 29,
      "outputs": [
        {
          "output_type": "execute_result",
          "data": {
            "text/plain": [
              "array([[5.0471462]])"
            ]
          },
          "metadata": {},
          "execution_count": 29
        }
      ]
    },
    {
      "cell_type": "code",
      "source": [
        "sgd_reg = SGDRegressor(penalty=\"l2\", max_iter=1000, tol=1e-3, random_state=42)\n",
        "sgd_reg.fit(X, y.ravel())\n",
        "sgd_reg.predict([[1.5]])"
      ],
      "metadata": {
        "colab": {
          "base_uri": "https://localhost:8080/"
        },
        "id": "NRpSKSzcobJ0",
        "outputId": "b6158ab4-565f-4e22-cc99-e79704a9bf4e"
      },
      "execution_count": 32,
      "outputs": [
        {
          "output_type": "execute_result",
          "data": {
            "text/plain": [
              "array([5.02754923])"
            ]
          },
          "metadata": {},
          "execution_count": 32
        }
      ]
    },
    {
      "cell_type": "markdown",
      "source": [
        "#### 4.5.2 라쏘 회귀"
      ],
      "metadata": {
        "id": "QwM5f_LOMl6U"
      }
    },
    {
      "cell_type": "markdown",
      "source": [
        "- **라쏘(Lasso)회귀** : 선형 회귀의 또 다른 규제된 버전. 릿지 처럼 비용함수에 규제항을 더하지만, 가중치 공식이 조금 다름"
      ],
      "metadata": {
        "id": "CiLv5waCpFAk"
      }
    },
    {
      "cell_type": "markdown",
      "source": [
        "- 중요한 점 : 덜 중요한 특성의 가중치를 제거하려고 한다 (즉, 덜 중요한 특성의 가중치가 0 - ex- 차수가 높은 다항 특성의 가중치가 모두 0)\n",
        "- 라쏘 회귀는 자동으로 특성 선택을 하고 **희소모델(sparse model)**을 만든다."
      ],
      "metadata": {
        "id": "FNAcwTV2pTbx"
      }
    },
    {
      "cell_type": "markdown",
      "source": [
        "- 라쏘를 사용할 때 경사하강법이 최적점 근처에서 진동하는 것을 막으려면, 훈련하는 동안 점진적으로 학습률을 감소시켜야 함. "
      ],
      "metadata": {
        "id": "US_-4B3Pp8me"
      }
    },
    {
      "cell_type": "markdown",
      "source": [
        "- 라쏘 비용 함수에 경사 하강법을 적용하는데 문제가 없도록 하기 위하여 **서브그레디언트 벡터(g)** 를 사용한다. "
      ],
      "metadata": {
        "id": "TIHb_pEHqLDv"
      }
    },
    {
      "cell_type": "code",
      "source": [
        "from sklearn.linear_model import Lasso\n",
        "lasso_reg = Lasso(alpha=0.1)\n",
        "lasso_reg.fit(X, y)\n",
        "lasso_reg.predict([[1.5]])\n"
      ],
      "metadata": {
        "colab": {
          "base_uri": "https://localhost:8080/"
        },
        "id": "nUapxBu5qeP-",
        "outputId": "9cfa6aa7-0a8a-467b-e463-e63f06addbec"
      },
      "execution_count": 33,
      "outputs": [
        {
          "output_type": "execute_result",
          "data": {
            "text/plain": [
              "array([5.00210961])"
            ]
          },
          "metadata": {},
          "execution_count": 33
        }
      ]
    },
    {
      "cell_type": "markdown",
      "source": [
        "- Lasso 대신 SGDRegressor(penalty=\"l1\") 을 사용할 수도 있다."
      ],
      "metadata": {
        "id": "s1dl5MCDqXU4"
      }
    },
    {
      "cell_type": "markdown",
      "source": [
        "#### 4.5.3 엘라스틱넷"
      ],
      "metadata": {
        "id": "DtIguAgLMoLb"
      }
    },
    {
      "cell_type": "markdown",
      "source": [
        "- **엘라스틱넷(Elastic net)**: 릿지 회귀와 라쏘 회귀를 절충한 모델. 규제항은 릿지와 회귀의 규제항을 단순히 더하여 사용. 혼합 정도는 혼합 비율 r 을 사용해 조절한다. r=0 이면, 엘라스틱넷은 릿지 회귀와 같고, r=1 이면 라쏘 회귀와 같다"
      ],
      "metadata": {
        "id": "Ghw_hAo9qi8C"
      }
    },
    {
      "cell_type": "markdown",
      "source": [
        "- 보통의 선형회귀(규제가 없는 모델), 릿지, 라쏘, 엘라스틱넷을 언제 사용해야 할까????????????\n",
        "- 대부분의 경우 규제가 있는게 좋아서, 일반적으로 평범한 선형회귀는 피해야 함 ==> 릿지는 기본이 되지만 쓰이는 특성이 몇개뿐이라고 의심돼?? ==> 그렇다면 라쏘나 엘라스틱넷 하기. 왜냐하면 몇몇 특성을 가충치 0 으로 만들어 버리니까. (++ 특성 수가 훈련 샘플수보다 많거나 특성 몇개가 강하게 연관되어 있을 때는 라쏘가 이상해서, 엘라스틱넷을 쓴대)"
      ],
      "metadata": {
        "id": "4613e1unq2Gw"
      }
    },
    {
      "cell_type": "code",
      "source": [
        "from sklearn.linear_model import ElasticNet\n",
        "elastic_net = ElasticNet(alpha=0.1, l1_ratio=0.5, random_state=42)\n",
        "elastic_net.fit(X, y)\n",
        "elastic_net.predict([[1.5]])"
      ],
      "metadata": {
        "colab": {
          "base_uri": "https://localhost:8080/"
        },
        "id": "NZmUUxlmrO8X",
        "outputId": "a46c0510-3015-4b6d-b161-f3dc863242d0"
      },
      "execution_count": 34,
      "outputs": [
        {
          "output_type": "execute_result",
          "data": {
            "text/plain": [
              "array([5.00138736])"
            ]
          },
          "metadata": {},
          "execution_count": 34
        }
      ]
    },
    {
      "cell_type": "markdown",
      "source": [
        "#### 4.5.4 조기 종료"
      ],
      "metadata": {
        "id": "x1fGxBW4MtNy"
      }
    },
    {
      "cell_type": "markdown",
      "source": [
        "- 경사하강법과 같이 반복적인 알고리즘을 규제하는 색다른 방식 ===> **조기종료 (early stopping)**검증에러가 최솟값에 도달하면 바로 훈련 중지해야함"
      ],
      "metadata": {
        "id": "GB6OI9BXrTDb"
      }
    },
    {
      "cell_type": "markdown",
      "source": [
        "- 즉 : 훈련 데이터에 과적합 되기 전에 훈련을 멈추는 것. \n",
        "\n",
        "- 확률적 경사 하강법이나 미니배치 경사 하강법에서는 곡선이 매끄럽지 않아 최솟값에 도달했는지 확인이 어려울 수도 있다. "
      ],
      "metadata": {
        "id": "MoLnFU_FruLx"
      }
    },
    {
      "cell_type": "markdown",
      "source": [
        "### **4.6 로지스틱 회귀**"
      ],
      "metadata": {
        "id": "ZY-QwJy1Mvjk"
      }
    },
    {
      "cell_type": "markdown",
      "source": [
        "- 어떤 회귀 알고리즘은 분류에서도 사용할 수 있다!!!\n",
        "- 로지스틱 회귀(Logistic Regression) : 샘플이 특정 클래스에 속할 확률을 추정하는데 널리 사용됨 (ex - 이 이메일이 스팸일 확률은 얼마인가? 50%가 넘으면 모델은 그 샘플이 해당 클래스에 속한다고 예측) \n",
        "- **양성 클래스(positive class)** : 레이블이 1\n",
        "- **음성 클래스(negative class)** : 레이블이 0 ==> 이런 애들을 이진분류기!!"
      ],
      "metadata": {
        "id": "QJNgTGgqsU4-"
      }
    },
    {
      "cell_type": "markdown",
      "source": [
        "#### 4.6.1 확률 추정"
      ],
      "metadata": {
        "id": "fsE_AjnoM0wk"
      }
    },
    {
      "cell_type": "markdown",
      "source": [
        "- 로지스틱 회귀의 실제 작동 : 선형 회귀 모델과 같이 로지스틱 회귀 모델은 **입력 특성의 가중치 합을 계산** 그러고 편향을 더함. \n",
        "- 대신 선형 회귀 처럼 바로 결과를 출력하는게 아니라 결과값의 로지스틱을 출력\n",
        "- 로지스틱 = **시그모이드(sigmoid function)함수** 로 !!!! 0과 1 사이의 값을 출력 !!!!"
      ],
      "metadata": {
        "id": "89oHBWQxsyzv"
      }
    },
    {
      "cell_type": "markdown",
      "source": [
        "#### 4.6.2 훈련과 비용 함수"
      ],
      "metadata": {
        "id": "Higz69a_M3K_"
      }
    },
    {
      "cell_type": "markdown",
      "source": [
        "- 로지스틱 회귀 훈련시키는 방법 ++ 훈련 목적 : 양성에서는 높은 확률을 추정, 음성 샘플에서는 낮은 확률을 추정하는 ==> 모델 파라미터 벡터를 찾는 것!! \n",
        "- **로그 손실(log loss)** : 전체 훈련 세트에 대한 비용함수는 모든 훈련 샘플의 비용을 평균한 것"
      ],
      "metadata": {
        "id": "VCsyzzLEtT_P"
      }
    },
    {
      "cell_type": "markdown",
      "source": [
        "#### 4.6.3 결정 경계"
      ],
      "metadata": {
        "id": "5O_mdN82M51V"
      }
    },
    {
      "cell_type": "markdown",
      "source": [
        "- 붓꽃 데이터를 통해서 알아보기 "
      ],
      "metadata": {
        "id": "Va8kJB20uBRL"
      }
    },
    {
      "cell_type": "code",
      "source": [
        "# iris-versicolor 종을 감지하는 분류기 만들기 \n",
        "from sklearn import datasets\n",
        "iris = datasets.load_iris()\n",
        "list(iris.keys())"
      ],
      "metadata": {
        "colab": {
          "base_uri": "https://localhost:8080/"
        },
        "id": "Lmhzfq05uDj-",
        "outputId": "c88ad67b-a526-4d21-e1eb-4e97a2dc4c10"
      },
      "execution_count": 37,
      "outputs": [
        {
          "output_type": "execute_result",
          "data": {
            "text/plain": [
              "['data',\n",
              " 'target',\n",
              " 'frame',\n",
              " 'target_names',\n",
              " 'DESCR',\n",
              " 'feature_names',\n",
              " 'filename',\n",
              " 'data_module']"
            ]
          },
          "metadata": {},
          "execution_count": 37
        }
      ]
    },
    {
      "cell_type": "code",
      "source": [
        "X = iris[\"data\"][:, 3:]  # 꽃잎 너비\n",
        "y = (iris[\"target\"] == 2).astype(int)  # Iris virginica이면 1 아니면 0"
      ],
      "metadata": {
        "id": "9YjvsS08uOxa"
      },
      "execution_count": 38,
      "outputs": []
    },
    {
      "cell_type": "code",
      "source": [
        "# 꽃잎의 너비가 0~3 cm 인 꽃에 대해 모델의 추정확률 계산하기\n",
        "from sklearn.linear_model import LogisticRegression\n",
        "log_reg = LogisticRegression(solver=\"lbfgs\", random_state=42)\n",
        "log_reg.fit(X, y)\n",
        "\n",
        "X_new = np.linspace(0, 3, 1000).reshape(-1, 1)\n",
        "y_proba = log_reg.predict_proba(X_new)\n",
        "\n",
        "plt.plot(X_new, y_proba[:, 1], \"g-\", linewidth=2, label=\"Iris virginica\")\n",
        "plt.plot(X_new, y_proba[:, 0], \"b--\", linewidth=2, label=\"Not Iris virginica\")"
      ],
      "metadata": {
        "colab": {
          "base_uri": "https://localhost:8080/",
          "height": 283
        },
        "id": "T0qus9CBvpiR",
        "outputId": "5eda936a-8a64-49dc-a0a3-0b9c25738107"
      },
      "execution_count": 40,
      "outputs": [
        {
          "output_type": "execute_result",
          "data": {
            "text/plain": [
              "[<matplotlib.lines.Line2D at 0x7fc0bb648390>]"
            ]
          },
          "metadata": {},
          "execution_count": 40
        },
        {
          "output_type": "display_data",
          "data": {
            "text/plain": [
              "<Figure size 432x288 with 1 Axes>"
            ],
            "image/png": "[encoded data removed]"
          },
          "metadata": {
            "needs_background": "light"
          }
        }
      ]
    },
    {
      "cell_type": "markdown",
      "source": [
        "- 결과를 보면 꽃잎의 2cm 너비가 되는 이상은 분류기가 verginica 라고 높은 확률을 보임 (초록색 선) 반면 1cm 아래면 verginica 아님 이라고 강하게 추측 (파란색 점선) 이 두 극단 사이에는 분류가 확실하지 않음. 그러나 클래스를 예측하려고 하면 가장 가능성 높은 클래스를 반환함 그래서, 1.6cm 근방에서 **결정경계(decision boundary)**가 만들어짐. 그래서 1.6cm 보다 크고 작음에 따라 다르게 분류함. "
      ],
      "metadata": {
        "id": "xbvGQ-Slv7EH"
      }
    },
    {
      "cell_type": "code",
      "source": [
        "log_reg.predict([[1.7], [1.5]])"
      ],
      "metadata": {
        "colab": {
          "base_uri": "https://localhost:8080/"
        },
        "id": "QMt1bvIKwa-D",
        "outputId": "ecf513f9-1cce-4235-c78c-2bb71355b8df"
      },
      "execution_count": 41,
      "outputs": [
        {
          "output_type": "execute_result",
          "data": {
            "text/plain": [
              "array([1, 0])"
            ]
          },
          "metadata": {},
          "execution_count": 41
        }
      ]
    },
    {
      "cell_type": "markdown",
      "source": [
        "- 한가지 특성에 대해서 위의 그래프 처럼도 나눌 수 있지만, 2가지 특성에 대해서도 나눠볼 수 있따~~! \n",
        "- 붓꽃에서 꽃잎 너비와 꽃잎 길이 두개의 특성으로 보았을 때, 점선이 경계,(선형) 직선이 모델의 특정 확률을 출력하는 포인트를 나타냄. "
      ],
      "metadata": {
        "id": "beTNRflGwkOt"
      }
    },
    {
      "cell_type": "markdown",
      "source": [
        "#### 4.6.4 다항 로지스틱 회귀 = 소프트맥스 회귀(multinomial logistic regression)"
      ],
      "metadata": {
        "id": "t8xnsCmPM8pB"
      }
    },
    {
      "cell_type": "markdown",
      "source": [
        "- **다항 로지스틱 회귀** : 여러개의 이진 분류기를 훈련시켜 연결하지 않고 직접 다중 클래스를 지원하도록 일반화 한 것\n",
        "- 개념 : 매우 간단. 샘플 x가 주어지면, 각 클래스에 대하여 점수를 계산하고, 그 점수에 **소프트맥스 함수(정규화된 지수함수)**를 적용하여 각 클래스의 확률을 추정한다.\n",
        "- 각 클래스는 자신만의 파라미터 벡터가 있다 ==> **파라미터 행렬(parameter matrix)**\n"
      ],
      "metadata": {
        "id": "j5NffGRzxGNk"
      }
    },
    {
      "cell_type": "markdown",
      "source": [
        "- 샘플 당 클래스의 점수가 계산되면, 소프트맥스 함수를 통과시켜서 ==> k 에 속할 확률을 추정할 수 있음. \n",
        "- 그리고, 로지스틱 회귀 분류기와 마찬가지로 추정 확률이 가장 높은 클래스를 선택한다\n"
      ],
      "metadata": {
        "id": "NNPbkJKVxkK2"
      }
    },
    {
      "cell_type": "markdown",
      "source": [
        "- 훈련 목적 : 모델이 타깃 클래스에 대해서는 높은 확률을 추정하도록 만드는 것\n",
        "- **크로스 엔트로피(cross entropy)** 비용 함수를 최소화하는 것은 타깃 클래스에 대해 낮은 확률을 예측하는 모델을 억제. => 그래서 사용\n",
        "- 딱 2개의 클래스가 있을 때, 이는 로지스틱 회귀의 비용 함수와 같다. "
      ],
      "metadata": {
        "id": "bUkvO5Mgx24b"
      }
    },
    {
      "cell_type": "markdown",
      "source": [
        "- 클래스에 대한 그레디언트 벡터 계산 ==> 비용함수 최소화 하기 위한 파라미터 행렬 찾기 위해 경사 하강법 사용"
      ],
      "metadata": {
        "id": "vaqhfHZiyTni"
      }
    },
    {
      "cell_type": "markdown",
      "source": [
        "- 소프트 맥스 회귀로 붓꽃을 3개의 클래스로 나누기 ==> Logistic Regression 사이킷런의 클래스 는 클래스가 2개 이상일 때 OvA 즉 일대 다 전략을 사용함. "
      ],
      "metadata": {
        "id": "DDTNgrTcycNk"
      }
    },
    {
      "cell_type": "code",
      "source": [
        "from sklearn.linear_model import LogisticRegression\n",
        "\n",
        "X = iris[\"data\"][:, (2, 3)]  # 꽃잎 길이, 꽃잎 너비\n",
        "y = iris[\"target\"]\n",
        "\n",
        "softmax_reg = LogisticRegression(multi_class=\"multinomial\",solver=\"lbfgs\", C=10, random_state=42)\n",
        "softmax_reg.fit(X, y)"
      ],
      "metadata": {
        "colab": {
          "base_uri": "https://localhost:8080/"
        },
        "id": "6gH9wI10y1Cs",
        "outputId": "b2878648-52c5-4223-9771-44449305a0e5"
      },
      "execution_count": 43,
      "outputs": [
        {
          "output_type": "execute_result",
          "data": {
            "text/plain": [
              "LogisticRegression(C=10, multi_class='multinomial', random_state=42)"
            ]
          },
          "metadata": {},
          "execution_count": 43
        }
      ]
    },
    {
      "cell_type": "code",
      "source": [
        "softmax_reg.predict([[5, 2]])"
      ],
      "metadata": {
        "colab": {
          "base_uri": "https://localhost:8080/"
        },
        "id": "QaheZSZqzCE0",
        "outputId": "812e9f1c-1112-4c15-ecd4-896c8774f0ae"
      },
      "execution_count": 44,
      "outputs": [
        {
          "output_type": "execute_result",
          "data": {
            "text/plain": [
              "array([2])"
            ]
          },
          "metadata": {},
          "execution_count": 44
        }
      ]
    },
    {
      "cell_type": "code",
      "source": [
        "softmax_reg.predict_proba([[5, 2]])"
      ],
      "metadata": {
        "colab": {
          "base_uri": "https://localhost:8080/"
        },
        "id": "o5xyNxKUzC6j",
        "outputId": "83697d27-f909-40b2-ae9f-45f7f98c7c9a"
      },
      "execution_count": 45,
      "outputs": [
        {
          "output_type": "execute_result",
          "data": {
            "text/plain": [
              "array([[6.38014896e-07, 5.74929995e-02, 9.42506362e-01]])"
            ]
          },
          "metadata": {},
          "execution_count": 45
        }
      ]
    },
    {
      "cell_type": "markdown",
      "source": [
        "### **4.7 연습문제**"
      ],
      "metadata": {
        "id": "Gr5hCrHOM_n3"
      }
    },
    {
      "cell_type": "code",
      "execution_count": 1,
      "metadata": {
        "id": "AbfExrY0LY4A"
      },
      "outputs": [],
      "source": []
    },
    {
      "cell_type": "markdown",
      "source": [],
      "metadata": {
        "id": "78RIOL3wLrsd"
      }
    }
  ]
}