{
 "cells": [
  {
   "cell_type": "markdown",
   "source": [
    "### Do it 판다스 입문\n",
    "## date time 오브젝트"
   ],
   "metadata": {
    "collapsed": false
   }
  },
  {
   "cell_type": "code",
   "execution_count": 6,
   "outputs": [
    {
     "name": "stdout",
     "output_type": "stream",
     "text": [
      "2022-04-11 18:19:14.077132\n",
      "2022-04-11 18:19:14.077132\n"
     ]
    }
   ],
   "source": [
    "# 1. datetime 오브젝트를 사용하기 위해 datetime 라이브러리를 불러옵니다.\n",
    "from datetime import datetime\n",
    "\n",
    "# 2. now, today 메서드를 사용하면 다음과 같이 현재 시간을 출력할 수 있습니다.\n",
    "now1 = datetime.now()\n",
    "print(now1)\n",
    "\n",
    "now2 = datetime.today()\n",
    "print(now2)"
   ],
   "metadata": {
    "collapsed": false,
    "pycharm": {
     "name": "#%%\n"
    }
   }
  },
  {
   "cell_type": "code",
   "execution_count": 7,
   "outputs": [
    {
     "name": "stdout",
     "output_type": "stream",
     "text": [
      "2022-04-11 18:19:29.655309\n",
      "1970-01-01 00:00:00\n",
      "1970-12-12 13:24:34\n"
     ]
    }
   ],
   "source": [
    "# 3. datetime 오브젝트를 생성할 때 시간을 직접 입력하여 인자로 전달할 수도 있습니다.\n",
    "t1 = datetime.now()                           # 현재 시각\n",
    "t2 = datetime(1970, 1, 1)                     # 날짜를 직접 지정\n",
    "t3 = datetime(1970, 12, 12, 13, 24, 34)       # 날짜와 시간을 모두 직접 지정\n",
    "\n",
    "print(t1)\n",
    "print(t2)\n",
    "print(t3)"
   ],
   "metadata": {
    "collapsed": false,
    "pycharm": {
     "name": "#%%\n"
    }
   }
  },
  {
   "cell_type": "code",
   "execution_count": 8,
   "metadata": {
    "collapsed": true
   },
   "outputs": [
    {
     "name": "stdout",
     "output_type": "stream",
     "text": [
      "19093 days, 18:19:29.655309\n",
      "<class 'datetime.timedelta'>\n",
      "-19094 days, 5:40:30.344691\n",
      "<class 'datetime.timedelta'>\n"
     ]
    }
   ],
   "source": [
    "# 4. datetime 오브젝트를 사용해 시간을 계산할 수 있습니다.\n",
    "diff1 = t1 - t2\n",
    "\n",
    "print(diff1)\n",
    "print(type(diff1))\n",
    "\n",
    "diff2 = t2 - t1\n",
    "\n",
    "print(diff2)\n",
    "print(type(diff2))"
   ]
  },
  {
   "cell_type": "markdown",
   "source": [
    "## 테슬라 주식 데이터로 시간 게산하기"
   ],
   "metadata": {
    "collapsed": false
   }
  },
  {
   "cell_type": "code",
   "execution_count": 16,
   "outputs": [],
   "source": [
    "import pandas as pd\n",
    "import pandas_datareader as pdr"
   ],
   "metadata": {
    "collapsed": false,
    "pycharm": {
     "name": "#%%\n"
    }
   }
  },
  {
   "cell_type": "code",
   "execution_count": 17,
   "outputs": [],
   "source": [
    "# 1. get_data_quanal 메서드에 TSLA라는 문자열을 전달, 테슬라의 주식 데이터 로딩\n",
    "\n",
    "pd.core.common.is_list_like = pd.api.types.is_list_like\n",
    "import pandas_datareader as pdr\n",
    "\n",
    "# tesla에 데이터프레임 저장\n",
    "tesla = pdr.get_data_quandl('TSLA', api_key = 'kcXBrk8aHUCbeJdAmKgc')\n",
    "\n",
    "# tesla에 저장된 데이터프레임을 파일로 저장\n",
    "tesla.to_csv('tesla_stock_quandl.csv')"
   ],
   "metadata": {
    "collapsed": false,
    "pycharm": {
     "name": "#%%\n"
    }
   }
  },
  {
   "cell_type": "code",
   "execution_count": 18,
   "outputs": [
    {
     "name": "stdout",
     "output_type": "stream",
     "text": [
      "              Open    High     Low   Close      Volume  ExDividend  \\\n",
      "Date                                                                 \n",
      "2018-03-27  304.00  304.27  277.18  279.18  13696168.0         0.0   \n",
      "2018-03-26  307.34  307.59  291.36  304.18   8324639.0         0.0   \n",
      "2018-03-23  311.25  311.61  300.45  301.54   6600538.0         0.0   \n",
      "2018-03-22  313.89  318.82  308.18  309.10   4914307.0         0.0   \n",
      "2018-03-21  310.25  322.44  310.19  316.53   5927881.0         0.0   \n",
      "\n",
      "            SplitRatio  AdjOpen  AdjHigh  AdjLow  AdjClose   AdjVolume  \n",
      "Date                                                                    \n",
      "2018-03-27         1.0   304.00   304.27  277.18    279.18  13696168.0  \n",
      "2018-03-26         1.0   307.34   307.59  291.36    304.18   8324639.0  \n",
      "2018-03-23         1.0   311.25   311.61  300.45    301.54   6600538.0  \n",
      "2018-03-22         1.0   313.89   318.82  308.18    309.10   4914307.0  \n",
      "2018-03-21         1.0   310.25   322.44  310.19    316.53   5927881.0  \n"
     ]
    }
   ],
   "source": [
    "# 2. tesla 데이터프레임의 Date 열은 문자열로 저장\n",
    "print(tesla.head())"
   ],
   "metadata": {
    "collapsed": false,
    "pycharm": {
     "name": "#%%\n"
    }
   }
  },
  {
   "cell_type": "code",
   "execution_count": 19,
   "outputs": [
    {
     "name": "stdout",
     "output_type": "stream",
     "text": [
      "<class 'pandas.core.frame.DataFrame'>\n",
      "RangeIndex: 240 entries, 0 to 239\n",
      "Data columns (total 13 columns):\n",
      " #   Column      Non-Null Count  Dtype         \n",
      "---  ------      --------------  -----         \n",
      " 0   Date        240 non-null    datetime64[ns]\n",
      " 1   Open        240 non-null    float64       \n",
      " 2   High        240 non-null    float64       \n",
      " 3   Low         240 non-null    float64       \n",
      " 4   Close       240 non-null    float64       \n",
      " 5   Volume      240 non-null    float64       \n",
      " 6   ExDividend  240 non-null    float64       \n",
      " 7   SplitRatio  240 non-null    float64       \n",
      " 8   AdjOpen     240 non-null    float64       \n",
      " 9   AdjHigh     240 non-null    float64       \n",
      " 10  AdjLow      240 non-null    float64       \n",
      " 11  AdjClose    240 non-null    float64       \n",
      " 12  AdjVolume   240 non-null    float64       \n",
      "dtypes: datetime64[ns](1), float64(12)\n",
      "memory usage: 24.5 KB\n",
      "None\n"
     ]
    }
   ],
   "source": [
    "# 3. Date 열을 Datetime 형으로 변환\n",
    "# read_csv 메서드로 데이터 집합을 불러올 때, parse_dates에 Date 열을 전달\n",
    "tesla = pd.read_csv('tesla_stock_quandl.csv', parse_dates=[0])\n",
    "print(tesla.info())         # Date 열이 datetime 자료형으로 변환"
   ],
   "metadata": {
    "collapsed": false,
    "pycharm": {
     "name": "#%%\n"
    }
   }
  },
  {
   "cell_type": "code",
   "execution_count": 20,
   "outputs": [
    {
     "name": "stdout",
     "output_type": "stream",
     "text": [
      "         Date    Open    High       Low   Close      Volume  ExDividend  \\\n",
      "0  2018-03-27  304.00  304.27  277.1800  279.18  13696168.0         0.0   \n",
      "1  2018-03-26  307.34  307.59  291.3600  304.18   8324639.0         0.0   \n",
      "2  2018-03-23  311.25  311.61  300.4500  301.54   6600538.0         0.0   \n",
      "3  2018-03-22  313.89  318.82  308.1800  309.10   4914307.0         0.0   \n",
      "4  2018-03-21  310.25  322.44  310.1900  316.53   5927881.0         0.0   \n",
      "5  2018-03-20  314.87  316.25  308.7600  310.55   4726182.0         0.0   \n",
      "6  2018-03-19  316.50  320.75  309.6700  313.56   7440766.0         0.0   \n",
      "7  2018-03-16  325.96  327.40  319.0700  321.35   6058612.0         0.0   \n",
      "8  2018-03-15  329.38  332.85  321.1000  325.60   6366922.0         0.0   \n",
      "9  2018-03-14  336.76  339.81  323.9300  326.63   7932511.0         0.0   \n",
      "10 2018-03-13  344.92  345.12  336.2635  341.84   5932110.0         0.0   \n",
      "11 2018-03-12  328.61  347.21  326.5000  345.51   8212156.0         0.0   \n",
      "12 2018-03-09  324.10  328.49  322.3700  327.17   5479716.0         0.0   \n",
      "13 2018-03-08  332.86  333.30  326.2740  329.10   3476944.0         0.0   \n",
      "14 2018-03-07  325.44  332.50  321.7400  332.30   5007297.0         0.0   \n",
      "15 2018-03-06  333.75  336.37  327.0300  328.20   4285744.0         0.0   \n",
      "16 2018-03-05  332.39  337.75  329.2929  333.35   3823769.0         0.0   \n",
      "17 2018-03-02  326.98  335.22  322.9700  335.12   5092829.0         0.0   \n",
      "18 2018-03-01  345.01  348.67  330.0700  330.93   6885601.0         0.0   \n",
      "\n",
      "    SplitRatio  AdjOpen  AdjHigh    AdjLow  AdjClose   AdjVolume  \n",
      "0          1.0   304.00   304.27  277.1800    279.18  13696168.0  \n",
      "1          1.0   307.34   307.59  291.3600    304.18   8324639.0  \n",
      "2          1.0   311.25   311.61  300.4500    301.54   6600538.0  \n",
      "3          1.0   313.89   318.82  308.1800    309.10   4914307.0  \n",
      "4          1.0   310.25   322.44  310.1900    316.53   5927881.0  \n",
      "5          1.0   314.87   316.25  308.7600    310.55   4726182.0  \n",
      "6          1.0   316.50   320.75  309.6700    313.56   7440766.0  \n",
      "7          1.0   325.96   327.40  319.0700    321.35   6058612.0  \n",
      "8          1.0   329.38   332.85  321.1000    325.60   6366922.0  \n",
      "9          1.0   336.76   339.81  323.9300    326.63   7932511.0  \n",
      "10         1.0   344.92   345.12  336.2635    341.84   5932110.0  \n",
      "11         1.0   328.61   347.21  326.5000    345.51   8212156.0  \n",
      "12         1.0   324.10   328.49  322.3700    327.17   5479716.0  \n",
      "13         1.0   332.86   333.30  326.2740    329.10   3476944.0  \n",
      "14         1.0   325.44   332.50  321.7400    332.30   5007297.0  \n",
      "15         1.0   333.75   336.37  327.0300    328.20   4285744.0  \n",
      "16         1.0   332.39   337.75  329.2929    333.35   3823769.0  \n",
      "17         1.0   326.98   335.22  322.9700    335.12   5092829.0  \n",
      "18         1.0   345.01   348.67  330.0700    330.93   6885601.0  \n"
     ]
    }
   ],
   "source": [
    "# 4. dt 접근자를 이용해 2018년 3월의 데이터만을 추출\n",
    "print(tesla.loc[(tesla.Date.dt.year == 2018) & (tesla.Date.dt.month == 3)])"
   ],
   "metadata": {
    "collapsed": false,
    "pycharm": {
     "name": "#%%\n"
    }
   }
  },
  {
   "cell_type": "markdown",
   "source": [
    "## datetime 오브젝트와 인덱스 - DatetimeIndex"
   ],
   "metadata": {
    "collapsed": false
   }
  },
  {
   "cell_type": "code",
   "execution_count": 21,
   "outputs": [
    {
     "name": "stdout",
     "output_type": "stream",
     "text": [
      "DatetimeIndex(['2018-03-27', '2018-03-26', '2018-03-23', '2018-03-22',\n",
      "               '2018-03-21', '2018-03-20', '2018-03-19', '2018-03-16',\n",
      "               '2018-03-15', '2018-03-14',\n",
      "               ...\n",
      "               '2017-04-26', '2017-04-25', '2017-04-24', '2017-04-21',\n",
      "               '2017-04-20', '2017-04-19', '2017-04-18', '2017-04-17',\n",
      "               '2017-04-13', '2017-04-12'],\n",
      "              dtype='datetime64[ns]', name='Date', length=240, freq=None)\n"
     ]
    }
   ],
   "source": [
    "# 1. 테슬라 데이터 이용, Date 열을 tesla 데이터프레임의 인덱스로 지정\n",
    "tesla.index = tesla['Date']\n",
    "print(tesla.index)"
   ],
   "metadata": {
    "collapsed": false,
    "pycharm": {
     "name": "#%%\n"
    }
   }
  },
  {
   "cell_type": "code",
   "execution_count": 22,
   "outputs": [
    {
     "name": "stdout",
     "output_type": "stream",
     "text": [
      "                 Date    Open    High     Low   Close\n",
      "Date                                                 \n",
      "2018-03-27 2018-03-27  304.00  304.27  277.18  279.18\n",
      "2018-03-26 2018-03-26  307.34  307.59  291.36  304.18\n",
      "2018-03-23 2018-03-23  311.25  311.61  300.45  301.54\n",
      "2018-03-22 2018-03-22  313.89  318.82  308.18  309.10\n",
      "2018-03-21 2018-03-21  310.25  322.44  310.19  316.53\n"
     ]
    }
   ],
   "source": [
    "# 2. datetime 오브젝트를 인덱스로 지정하면 원하는 시간의 데이터를 바로 추출 가능\n",
    "print(tesla['2018'].iloc[:5, :5])"
   ],
   "metadata": {
    "collapsed": false,
    "pycharm": {
     "name": "#%%\n"
    }
   }
  },
  {
   "cell_type": "code",
   "execution_count": 23,
   "outputs": [
    {
     "name": "stdout",
     "output_type": "stream",
     "text": [
      "                 Date    Open    High       Low   Close\n",
      "Date                                                   \n",
      "2018-03-27 2018-03-27  304.00  304.27  277.1800  279.18\n",
      "2018-03-26 2018-03-26  307.34  307.59  291.3600  304.18\n",
      "2018-03-23 2018-03-23  311.25  311.61  300.4500  301.54\n",
      "2018-03-22 2018-03-22  313.89  318.82  308.1800  309.10\n",
      "2018-03-21 2018-03-21  310.25  322.44  310.1900  316.53\n",
      "2018-03-20 2018-03-20  314.87  316.25  308.7600  310.55\n",
      "2018-03-19 2018-03-19  316.50  320.75  309.6700  313.56\n",
      "2018-03-16 2018-03-16  325.96  327.40  319.0700  321.35\n",
      "2018-03-15 2018-03-15  329.38  332.85  321.1000  325.60\n",
      "2018-03-14 2018-03-14  336.76  339.81  323.9300  326.63\n",
      "2018-03-13 2018-03-13  344.92  345.12  336.2635  341.84\n",
      "2018-03-12 2018-03-12  328.61  347.21  326.5000  345.51\n",
      "2018-03-09 2018-03-09  324.10  328.49  322.3700  327.17\n",
      "2018-03-08 2018-03-08  332.86  333.30  326.2740  329.10\n",
      "2018-03-07 2018-03-07  325.44  332.50  321.7400  332.30\n",
      "2018-03-06 2018-03-06  333.75  336.37  327.0300  328.20\n",
      "2018-03-05 2018-03-05  332.39  337.75  329.2929  333.35\n",
      "2018-03-02 2018-03-02  326.98  335.22  322.9700  335.12\n",
      "2018-03-01 2018-03-01  345.01  348.67  330.0700  330.93\n"
     ]
    }
   ],
   "source": [
    "# 3. 2018년 3월의 데이터 추출\n",
    "print(tesla['2018-03'].iloc[:, :5])"
   ],
   "metadata": {
    "collapsed": false,
    "pycharm": {
     "name": "#%%\n"
    }
   }
  },
  {
   "cell_type": "markdown",
   "source": [
    "## 시간 간격과 인덱스"
   ],
   "metadata": {
    "collapsed": false
   }
  },
  {
   "cell_type": "code",
   "execution_count": 24,
   "outputs": [
    {
     "name": "stdout",
     "output_type": "stream",
     "text": [
      "                 Date    Open    High     Low   Close      Volume  ExDividend  \\\n",
      "Date                                                                            \n",
      "2018-03-27 2018-03-27  304.00  304.27  277.18  279.18  13696168.0         0.0   \n",
      "2018-03-26 2018-03-26  307.34  307.59  291.36  304.18   8324639.0         0.0   \n",
      "2018-03-23 2018-03-23  311.25  311.61  300.45  301.54   6600538.0         0.0   \n",
      "2018-03-22 2018-03-22  313.89  318.82  308.18  309.10   4914307.0         0.0   \n",
      "2018-03-21 2018-03-21  310.25  322.44  310.19  316.53   5927881.0         0.0   \n",
      "\n",
      "            SplitRatio  AdjOpen  AdjHigh  AdjLow  AdjClose   AdjVolume  \\\n",
      "Date                                                                     \n",
      "2018-03-27         1.0   304.00   304.27  277.18    279.18  13696168.0   \n",
      "2018-03-26         1.0   307.34   307.59  291.36    304.18   8324639.0   \n",
      "2018-03-23         1.0   311.25   311.61  300.45    301.54   6600538.0   \n",
      "2018-03-22         1.0   313.89   318.82  308.18    309.10   4914307.0   \n",
      "2018-03-21         1.0   310.25   322.44  310.19    316.53   5927881.0   \n",
      "\n",
      "           ref_date  \n",
      "Date                 \n",
      "2018-03-27 349 days  \n",
      "2018-03-26 348 days  \n",
      "2018-03-23 345 days  \n",
      "2018-03-22 344 days  \n",
      "2018-03-21 343 days  \n"
     ]
    }
   ],
   "source": [
    "# 1. Date 열에서 Date 열의 최솟값을 빼면 경과된 시간을 알 수 있다.\n",
    "# Date 열에서 Date 열의 최솟값을 밴 다음, ref_date 열로 추가\n",
    "tesla['ref_date'] = tesla['Date'] - tesla['Date'].min()\n",
    "print(tesla.head())"
   ],
   "metadata": {
    "collapsed": false,
    "pycharm": {
     "name": "#%%\n"
    }
   }
  },
  {
   "cell_type": "code",
   "execution_count": 25,
   "outputs": [
    {
     "name": "stdout",
     "output_type": "stream",
     "text": [
      "               Date    Open    High     Low   Close\n",
      "ref_date                                           \n",
      "349 days 2018-03-27  304.00  304.27  277.18  279.18\n",
      "348 days 2018-03-26  307.34  307.59  291.36  304.18\n",
      "345 days 2018-03-23  311.25  311.61  300.45  301.54\n",
      "344 days 2018-03-22  313.89  318.82  308.18  309.10\n",
      "343 days 2018-03-21  310.25  322.44  310.19  316.53\n"
     ]
    }
   ],
   "source": [
    "# 2. ref_date 열을 인덱스로 지정, 시간 간격을 이용해 데이터 추출 가능\n",
    "tesla.index = tesla['ref_date']\n",
    "print(tesla.iloc[:5, :5])"
   ],
   "metadata": {
    "collapsed": false,
    "pycharm": {
     "name": "#%%\n"
    }
   }
  },
  {
   "cell_type": "code",
   "execution_count": 26,
   "outputs": [
    {
     "name": "stdout",
     "output_type": "stream",
     "text": [
      "               Date    Open      High     Low   Close\n",
      "ref_date                                             \n",
      "5 days   2017-04-17  302.70  304.0000  298.68  301.44\n",
      "1 days   2017-04-13  296.70  307.3900  295.30  304.00\n",
      "0 days   2017-04-12  306.34  308.4481  296.32  296.84\n"
     ]
    }
   ],
   "source": [
    "# 3. 데이터를 수집한 이후 최초 5일의 데이터를 추출\n",
    "print(tesla['5 days':].iloc[:5, :5])      # 내림차순으로 정렬되어 있으므로, 5 days 이하인 열을 추출할 수 있음."
   ],
   "metadata": {
    "collapsed": false,
    "pycharm": {
     "name": "#%%\n"
    }
   }
  }
 ],
 "metadata": {
  "kernelspec": {
   "display_name": "Python 3",
   "language": "python",
   "name": "python3"
  },
  "language_info": {
   "codemirror_mode": {
    "name": "ipython",
    "version": 2
   },
   "file_extension": ".py",
   "mimetype": "text/x-python",
   "name": "python",
   "nbconvert_exporter": "python",
   "pygments_lexer": "ipython2",
   "version": "2.7.6"
  }
 },
 "nbformat": 4,
 "nbformat_minor": 0
}