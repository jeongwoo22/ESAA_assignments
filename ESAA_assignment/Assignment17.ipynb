{
 "cells": [
  {
   "cell_type": "markdown",
   "source": [
    "# CHAPTER 5. 회귀\n",
    "## 01 회귀 소개\n",
    "- 회귀 분석 : 데이터 값이 평균과 같은 일정한 값으로 돌아가려는 경향이 있다는 것을 이용한 통계학 기법\n",
    "회귀는 여러 개의 독립 변수와 한 개의 종속 변수 간의 상관관계를 모델링하는 기법을 통칭\n",
    "머신 러닝 관점에서 독립 변수는 Feature에 해당하면 종속 변수는 결정 값(Label). 주어진 Feature와 결정 값 데이터를 기반으로 학습을 통해 최적의 회귀 계수를 찾아냄\n",
    "\n",
    "## 회귀의 유형\n",
    "- 독립 변수 개수 기준 : 단일 회귀 / 다중 회귀\n",
    "- 회귀 계수의 결합 기준 : 선형 회귀 / 비선형 회귀\n",
    "- 선형 회귀가 가장 많이 사용됨 : 실제 값과 예측 값의 차이(오류의 제곱 값)를 최소화하는 직선형 회귀선을 최적화하는 방식\n",
    "- 규제 방법(Regularization) 방법에 따라 별도의 유형으로 나뉨\n",
    "- 규제 : 일반적인 선형 회귀의 과적합 문제를 해결하기 위해 회귀 계수에 패널티 값을 적용하는 것\n",
    "- 일반 선형 회귀 : 예측값과 실제값의 RSS(Residual Sum of Squares)를 최소화할 수 있도록 회귀 계수를 최적화함, 규제를 적용하지 않은 모델\n",
    "- 릿지(Ridge) : 릿지 회귀는 선형 회귀에 L2 규제를 추가한 회귀 모델. L2 규제는 상대적으로 큰 회귀 계수 값의 예측 영향도를 감소시키기 위해 회귀 계수값을 더 작게 만드는 규제 모델\n",
    "- 라쏘(Lasso) : 라쏘 회귀는 선형 회귀에 L1 규제를 적용한 모델. L2 규제는 회귀 계수 값의 크기를 줄이는 반면, L1 규제는 예측 영향력이 작은 Feature의 회귀 계수를 0으로 만들어 회귀 예측 시 해당 Feature가 선택되지 않게 해 Feature 선택 기능으로 불림\n",
    "- 엘라스틱넷(ElasticNet) : L1, L2 규제를 함께 적용한 모델. 주로 Feature가 많은 데이터셋에 적용되며, L1 규제로 Feature의 개수를 줄이면서 L2 규제로 계수 값의 크기를 조정\n",
    "- 로지스틱 회귀(Logistic Regression) : 분류에 사용되는 선형 모델. 일반적으로 이진 분류뿐만 아니라, 희소 영역의 분류(예 : 텍스트 분류)에서 뛰어난 예측 성능을 보임"
   ],
   "metadata": {
    "collapsed": false
   }
  },
  {
   "cell_type": "markdown",
   "source": [
    "## 02 단순 선형 회귀를 통한 회귀 이해\n",
    "- 단순 선형 회귀 : 독립 변수가 하나, 종속 변수도 하나인 선형 회귀\n",
    "- 예를 들어 주택 가격이 주택의 크기로만 결정될 X축이 주택의 크기이고, Y축이 주택의 가격인 2차원 평면에서 주택 가격은 변수가 주택의 크기이고, 특정 기울기와 절편을 가진 1차 함수식으로 모델링 가능, 절편w0과 기울기 w1가 회귀 계수\n",
    "- 값은 예측 값에서 오류 값을 더한 값\n",
    "- 잔차 : 실제 값과 회귀 모델의 예측 값의 차이에 따른 오류 값. 최적의 회귀 모델은 잔차합이 최소가 될 수 있는 최적의 회귀 계수를 찾는 것\n",
    "오류 값은 +나 -이기 때 문에 잔차의 합을 계산하는 방식"
   ],
   "metadata": {
    "collapsed": false
   }
  },
  {
   "cell_type": "markdown",
   "source": [
    "## 03 비용 최소화하기 - 경사 하강법\n",
    "- 비용 함수가 최소가 되는 w 파라미터를 구하기 위해서는 고차원 방정식을 이용하지만, w 파라미터가 너무 많으면 고차원 방정식을 동원하더라도 구하기 어려움\n",
    "- 경사 하강법은 이러한 고차 방정식에 대한 문제를 해결해주면서 비용 함수 RSS를 최소화하는 방법을 직관적으로 제공.\n",
    "- '점진적으로' 반복적인 계산을 통해 w 파라미터 값을 업데이트하면서 최소가 되는 w 파라미터를 구하는 방식이다.\n",
    "- 반복적으로 비용 함수의 반환 값, 즉 오차가 작아지는 방향성을 가지고 w 파라미터를 계속 보정\n",
    "- 비용함수 를 라고 할 때 이를 미분해서 최솟값을 구하려면 각 변수에 편미분을 적용, 편미분 결괏값을 반복적으로 보정하면서 w1, w0값 도출을 업데이트해 비용함수 R(w)가 최소가 되는 w1, w0값 도출\n",
    "- 이때 새로운 w를 이전 w에서 편미분 결괏값을 마이너스(-)하면서 적용, 보정계수(학습률)을 곱함"
   ],
   "metadata": {
    "collapsed": false
   }
  },
  {
   "cell_type": "code",
   "execution_count": 1,
   "metadata": {
    "collapsed": true
   },
   "outputs": [
    {
     "data": {
      "text/plain": "<matplotlib.collections.PathCollection at 0x292e2af3be0>"
     },
     "execution_count": 1,
     "metadata": {},
     "output_type": "execute_result"
    },
    {
     "data": {
      "text/plain": "<Figure size 432x288 with 1 Axes>",
      "image/png": "[encoded data removed]"
     },
     "metadata": {
      "needs_background": "light"
     },
     "output_type": "display_data"
    }
   ],
   "source": [
    "import numpy as np\n",
    "import matplotlib.pyplot as plt\n",
    "%matplotlib inline\n",
    "\n",
    "# 간단한 회귀식인 y = 4X + 6을 근사하기 위한 100개의 데이터셋 생성\n",
    "np.random.seed(0)\n",
    "# y = 4X + 6 식을 근사(w1 = 4, w0 = 6). random 값은 Noise를 위해 만듦\n",
    "X = 2 * np.random.rand(100, 1)\n",
    "y = 6 +4 * X+ np.random.randn(100, 1)\n",
    "\n",
    "# X, y 데이터 셋 scatter plot으로 시각화\n",
    "plt.scatter(X, y)"
   ]
  },
  {
   "cell_type": "code",
   "execution_count": 2,
   "outputs": [],
   "source": [
    "# 비용 함수 정의, 실제 y값과 예측된 y값을 인자로 받아 RSS 반환\n",
    "def get_cost(y, y_pred):\n",
    "    N = len(y)\n",
    "    cost = np.sum(np.square(y - y_pred))/N\n",
    "    return cost"
   ],
   "metadata": {
    "collapsed": false,
    "pycharm": {
     "name": "#%%\n"
    }
   }
  },
  {
   "cell_type": "code",
   "execution_count": 4,
   "outputs": [],
   "source": [
    "# w1과 w0를 업데이트 할 w1_update, w0_update를 반환\n",
    "def get_weight_updates(w1, w0, X, y, learning_rate = 0.01):\n",
    "    N = len(y)\n",
    "    # 먼저 w1_update, w0_update를 각각 w1, w0의 shape와 동일한 크기를 가진 zero matrix로 초기화\n",
    "    w1_update = np.zeros_like(w1)\n",
    "    w0_update = np.zeros_like(w0)\n",
    "    # 예측 배열 계산하고 예측과 실제 값의 차이 계산\n",
    "    y_pred = np.dot(X, w1.T) + w0 # 행렬 내적곱\n",
    "    diff = y - y_pred\n",
    "    # w0_update를 dot 행렬 연산으로 구하기 위해 모두 1값을 가진 행렬 생성\n",
    "    w0_factors = np.ones((N,1))\n",
    "    # w1과 w0을 업데이트할 w1_update와 w0_update 계산\n",
    "    w1_update = -(2/N)*learning_rate*(np.dot(X.T, diff))\n",
    "    w0_update = -(2/N)*learning_rate*(np.dot(w0_factors.T, diff))\n",
    "\n",
    "    return w1_update, w0_update"
   ],
   "metadata": {
    "collapsed": false,
    "pycharm": {
     "name": "#%%\n"
    }
   }
  },
  {
   "cell_type": "code",
   "execution_count": 5,
   "outputs": [],
   "source": [
    "# 입력 인자 iters로 주어진 횟수만큼 반복적으로 w1과 w0를 업데이트\n",
    "def gradient_descent_steps(X, y, iters=10000):\n",
    "    # w0와 w1을 모두 0으로 초기화.\n",
    "    w0 = np.zeros((1,1))\n",
    "    w1 = np.zeros((1,1))\n",
    "\n",
    "    # 인자로 주어진 iters 만큼 반복적으로 get_weight_updates() 호출해 w1, w0 업데이트 수행\n",
    "    for ind in range(iters):\n",
    "        w1_update, w0_update = get_weight_updates(w1, w0, X, y, learning_rate=0.01)\n",
    "        w1 = w1 - w1_update\n",
    "        w0 = w0 - w0_update\n",
    "\n",
    "    return w1, w0"
   ],
   "metadata": {
    "collapsed": false,
    "pycharm": {
     "name": "#%%\n"
    }
   }
  },
  {
   "cell_type": "code",
   "execution_count": 6,
   "outputs": [
    {
     "name": "stdout",
     "output_type": "stream",
     "text": [
      "w1:4.022 w0:6.162\n",
      "Gradient Descent Total Cost:0.9935\n"
     ]
    }
   ],
   "source": [
    "# gradient_descent_steps 호출해 w1, w0 구하기\n",
    "# 실제값의 RSS차이를 계산하는 get_cost() 함수를 생성해 경사하강법의 예측 오류 계산\n",
    "w1, w0 = gradient_descent_steps(X, y, iters=1000)\n",
    "print(\"w1:{0:.3f} w0:{1:.3f}\".format(w1[0,0], w0[0,0]))\n",
    "y_pred = w1[0,0] * X + w0\n",
    "print('Gradient Descent Total Cost:{0:.4f}'.format(get_cost(y, y_pred)))"
   ],
   "metadata": {
    "collapsed": false,
    "pycharm": {
     "name": "#%%\n"
    }
   }
  },
  {
   "cell_type": "code",
   "execution_count": 7,
   "outputs": [
    {
     "data": {
      "text/plain": "[<matplotlib.lines.Line2D at 0x292e2f15898>]"
     },
     "execution_count": 7,
     "metadata": {},
     "output_type": "execute_result"
    },
    {
     "data": {
      "text/plain": "<Figure size 432x288 with 1 Axes>",
      "image/png": "[encoded data removed]"
     },
     "metadata": {
      "needs_background": "light"
     },
     "output_type": "display_data"
    }
   ],
   "source": [
    "# y_pred 기반해 회귀선 그리기\n",
    "plt.scatter(X, y)\n",
    "plt.plot(X,y_pred)"
   ],
   "metadata": {
    "collapsed": false,
    "pycharm": {
     "name": "#%%\n"
    }
   }
  },
  {
   "cell_type": "code",
   "execution_count": 8,
   "outputs": [],
   "source": [
    "# (미니 배치) 확률적 경사하강법\n",
    "def stochastic_gradient_descent_steps(X, y, batch_size=10, iters=1000):\n",
    "    w0 = np.zeros((1,1))\n",
    "    w1 = np.zeros((1,1))\n",
    "    prev_cost = 100000\n",
    "    iter_index =0\n",
    "\n",
    "    for ind in range(iters):\n",
    "        np.random.seed(ind)\n",
    "        # 전체 X, y 데이터에서 랜덤하게 batch_size만큼 데이터 추출하여 sample_X, sample_y로 저장\n",
    "        stochastic_random_index = np.random.permutation(X.shape[0])\n",
    "        sample_X = X[stochastic_random_index[0:batch_size]]\n",
    "        sample_y = y[stochastic_random_index[0:batch_size]]\n",
    "\n",
    "        # 랜덤하게 batch_size만큼 추출된 데이터 기반으로 w1_update, w0_update 계산 후 업데이트\n",
    "        w1_update, w0_update = get_weight_updates(w1, w0, sample_X, sample_y, learning_rate=0.01)\n",
    "        w1 = w1 - w1_update\n",
    "        w0 = w0 - w0_update\n",
    "\n",
    "    return w1, w0"
   ],
   "metadata": {
    "collapsed": false,
    "pycharm": {
     "name": "#%%\n"
    }
   }
  },
  {
   "cell_type": "code",
   "execution_count": 9,
   "outputs": [
    {
     "name": "stdout",
     "output_type": "stream",
     "text": [
      "w1: 4.028 w0: 6.156\n",
      "Stochastic Gradient Descent Total Cost:0.9937\n"
     ]
    }
   ],
   "source": [
    "# w1, w0, 예측 오류 계산\n",
    "w1, w0 = stochastic_gradient_descent_steps(X, y, iters=1000)\n",
    "print(\"w1:\",round(w1[0,0],3),\"w0:\",round(w0[0,0],3))\n",
    "y_pred = w1[0,0]*X + w0\n",
    "print('Stochastic Gradient Descent Total Cost:{0:.4f}'.format(get_cost(y, y_pred)))"
   ],
   "metadata": {
    "collapsed": false,
    "pycharm": {
     "name": "#%%\n"
    }
   }
  },
  {
   "cell_type": "markdown",
   "source": [
    "## 05 다항 회귀와 과(대)적합/과소적합 이해\n",
    "#### 다항 회귀 이해\n",
    "- 다항(polynomial) 회귀 : 회귀가 독립변수의 단항식이 아닌 2차, 3차 방정식과 같은 다항식으로 표현되는 것. 선형회귀로 분류됨\n",
    "- 사이킷런은 비선형 함수를 선형 모델에 적용시키는 방법을 이용해 다항회귀 구현\n",
    "- PolynomialFeatures 클래스는 degree 파라미터를 통해 입력 받은 단항식 Feature를 degree에 해당하는 다항식 Feature로 변환\n",
    "- PolynomialFeatures 클래스는 다른 전처리 변환 클래스와 마찬가지로, fit(), transform() 메서드로 변환 작업을 수행"
   ],
   "metadata": {
    "collapsed": false
   }
  },
  {
   "cell_type": "code",
   "execution_count": 10,
   "outputs": [
    {
     "name": "stdout",
     "output_type": "stream",
     "text": [
      "일차 단항식 계수 feature :\n",
      " [[0 1]\n",
      " [2 3]]\n",
      "변환된 2차 다항식 계수 feature :\n",
      " [[1. 0. 1. 0. 0. 1.]\n",
      " [1. 2. 3. 4. 6. 9.]]\n"
     ]
    }
   ],
   "source": [
    "# 단항값 [x1, x2]를 2차 다항값 [1, x1, x2, x1^2, x1x2, x2^2]로 변환\n",
    "from sklearn.preprocessing import PolynomialFeatures\n",
    "import numpy as np\n",
    "\n",
    "# 다항식으로 변환한 단항식 생성, [[0,1],[2,3]]의 2 X 2 행렬 생성\n",
    "X = np.arange(4).reshape(2, 2)\n",
    "print('일차 단항식 계수 feature :\\n', X)\n",
    "\n",
    "# degree = 2 인 2차 다항식으로 변환하기 위해 PolynomialFeatures를 이용하여 변환\n",
    "poly = PolynomialFeatures(degree = 2)\n",
    "poly.fit(X)\n",
    "poly_ftr = poly.transform(X)\n",
    "print('변환된 2차 다항식 계수 feature :\\n', poly_ftr)"
   ],
   "metadata": {
    "collapsed": false,
    "pycharm": {
     "name": "#%%\n"
    }
   }
  },
  {
   "cell_type": "code",
   "execution_count": 11,
   "outputs": [
    {
     "name": "stdout",
     "output_type": "stream",
     "text": [
      "일차 단항식 계수 feature : \n",
      " [[0 1]\n",
      " [2 3]]\n",
      "삼차 다항식 결정값 : \n",
      " [  5 125]\n"
     ]
    }
   ],
   "source": [
    "# 3차 다항 회귀 함수 설정, 피처값 입력시 결정 값 반환\n",
    "def polynomial_func(X):\n",
    "    y = 1 + 2*X[:,0] + 3*X[:,0]**2 + 4*X[:,1]**3\n",
    "    return y\n",
    "\n",
    "X = np.arange(0,4).reshape(2,2)\n",
    "print('일차 단항식 계수 feature : \\n' ,X)\n",
    "y = polynomial_func(X)\n",
    "print('삼차 다항식 결정값 : \\n', y)"
   ],
   "metadata": {
    "collapsed": false,
    "pycharm": {
     "name": "#%%\n"
    }
   }
  },
  {
   "cell_type": "code",
   "execution_count": 12,
   "outputs": [
    {
     "name": "stdout",
     "output_type": "stream",
     "text": [
      "3차 다항식 계수 feature : \n",
      " [[ 1.  0.  1.  0.  0.  1.  0.  0.  0.  1.]\n",
      " [ 1.  2.  3.  4.  6.  9.  8. 12. 18. 27.]]\n",
      "Polynomial 회귀 계수\n",
      " [0.   0.18 0.18 0.36 0.54 0.72 0.72 1.08 1.62 2.34]\n",
      "Polynomial 회귀 Shape : (10,)\n"
     ]
    }
   ],
   "source": [
    "# 3 차 다항식 변환\n",
    "poly_ftr = PolynomialFeatures(degree=3).fit_transform(X)\n",
    "print('3차 다항식 계수 feature : \\n',poly_ftr)\n",
    "\n",
    "# Linear Regression에 3차 다항식 계수 feature와 3차 다항식 결정값으로 학습 후 회귀 계수 확인\n",
    "from sklearn.linear_model import LinearRegression\n",
    "model = LinearRegression()\n",
    "model.fit(poly_ftr,y)\n",
    "print('Polynomial 회귀 계수\\n' , np.round(model.coef_, 2))\n",
    "print('Polynomial 회귀 Shape :', model.coef_.shape)"
   ],
   "metadata": {
    "collapsed": false,
    "pycharm": {
     "name": "#%%\n"
    }
   }
  },
  {
   "cell_type": "code",
   "execution_count": 13,
   "outputs": [
    {
     "name": "stdout",
     "output_type": "stream",
     "text": [
      "Polynomial 회귀 계수\n",
      " [0.   0.18 0.18 0.36 0.54 0.72 0.72 1.08 1.62 2.34]\n"
     ]
    }
   ],
   "source": [
    "# 사이킷런의 PIpeline 객체를 이용해 ㅎ나번에 다항 회귀 구현 가능\n",
    "from sklearn.preprocessing import PolynomialFeatures\n",
    "from sklearn.linear_model import LinearRegression\n",
    "from sklearn.pipeline import Pipeline\n",
    "import numpy as np\n",
    "\n",
    "def polynomial_func(X):\n",
    "    y = 1 + 2*X[:,0] + 3*X[:,0]**2 + 4*X[:,1]**3\n",
    "    return y\n",
    "\n",
    "# Pipeline 객체로 Streamline하게 Polynomial Feature 변환과 Linear Regression을 연결\n",
    "model = Pipeline([('poly', PolynomialFeatures(degree=3)),('linear', LinearRegression())])\n",
    "X = np.arange(4).reshape(2,2)\n",
    "y = polynomial_func(X)\n",
    "\n",
    "model = model.fit(X, y)\n",
    "print('Polynomial 회귀 계수\\n', np.round(model.named_steps['linear'].coef_, 2))"
   ],
   "metadata": {
    "collapsed": false,
    "pycharm": {
     "name": "#%%\n"
    }
   }
  },
  {
   "cell_type": "markdown",
   "source": [
    "#### 2) 다항 회귀를 이용한 과소적합 및 과적합 이해\n",
    "- 다항 회귀는 Feature의 직선적 관계가 아닌 복잡한 다항 관계를 모델링할 수 있지만, 다항식의 차수가 높아질수록 학습 데이터에만 너무 맞춘 학습이 이루어져 테스트 데이터에서는 예측 정확도가 떨어지는 과적합 문제 발생"
   ],
   "metadata": {
    "collapsed": false
   }
  },
  {
   "cell_type": "code",
   "execution_count": 14,
   "outputs": [],
   "source": [
    "import numpy as np\n",
    "import matplotlib.pyplot as plt\n",
    "from sklearn.pipeline import Pipeline\n",
    "from sklearn.preprocessing import PolynomialFeatures\n",
    "from sklearn.linear_model import LinearRegression\n",
    "from sklearn.model_selection import cross_val_score\n",
    "%matplotlib inline\n",
    "\n",
    "# random 값으로 구성된 X값에 대해 코사인 변환값을 반환.\n",
    "def true_fun(X):\n",
    "    return np.cos(1.5 * np.pi * X)\n",
    "\n",
    "# X는 0 부터 1까지 30개의 random 값을 순서대로 sampling한 데이터\n",
    "np.random.seed(0)\n",
    "n_samples = 30\n",
    "X = np.sort(np.random.rand(n_samples))\n",
    "\n",
    "# y 값은 코사인 기반의 true_fun() 에서 약간의 Noise 변동값을 더한 target 값\n",
    "y = true_fun(X) + np.random.randn(n_samples) * 0.1"
   ],
   "metadata": {
    "collapsed": false,
    "pycharm": {
     "name": "#%%\n"
    }
   }
  },
  {
   "cell_type": "code",
   "execution_count": 15,
   "outputs": [
    {
     "name": "stdout",
     "output_type": "stream",
     "text": [
      "\n",
      "Degree 1 회귀 계수는 [-2.] 입니다.\n",
      "Degree 1 MSE 는 0.41 입니다.\n",
      "\n",
      "Degree 4 회귀 계수는 [  0. -18.  24.  -7.] 입니다.\n",
      "Degree 4 MSE 는 0.04 입니다.\n",
      "\n",
      "Degree 15 회귀 계수는 [-2.98300000e+03  1.03899000e+05 -1.87415300e+06  2.03715480e+07\n",
      " -1.44872835e+08  7.09313514e+08 -2.47065254e+09  6.24559926e+09\n",
      " -1.15676340e+10  1.56894750e+10 -1.54005880e+10  1.06457188e+10\n",
      " -4.91377277e+09  1.35919599e+09 -1.70380755e+08] 입니다.\n",
      "Degree 15 MSE 는 180513241.06 입니다.\n"
     ]
    },
    {
     "data": {
      "text/plain": "<Figure size 1008x360 with 3 Axes>",
      "image/png": "[encoded data removed]"
     },
     "metadata": {},
     "output_type": "display_data"
    }
   ],
   "source": [
    "# 다항식 차수를 각각 1, 4, 15로 변경하면서 예측 결과 비교\n",
    "# 다항식 차수별로 학습 수행 후 cross_val_score()로 MSE값을 구해 예측 성능 평가\n",
    "# 0부터 1까지 균일하게 구성된 100개의 테스트용 데이터 세트를 이용해 차수별 회귀 예측 곡선 생성\n",
    "\n",
    "plt.figure(figsize=(14, 5))\n",
    "degrees = [1, 4, 15]\n",
    "\n",
    "# 다항 회귀의 차수(degree)를 1, 4, 15로 각각 변화시키면서 비교\n",
    "for i in range(len(degrees)):\n",
    "    ax = plt.subplot(1, len(degrees), i+1)\n",
    "    plt.setp(ax, xticks=(), yticks=())\n",
    "\n",
    "    # 개별 degree별로 Polynomial 변환\n",
    "    polynomial_features = PolynomialFeatures(degree = degrees[i], include_bias = False)\n",
    "    linear_regression = LinearRegression()\n",
    "    pipeline = Pipeline([(\"polynomial_features\", polynomial_features),\n",
    "                         (\"linear_regression\", linear_regression)])\n",
    "    pipeline.fit(X.reshape(-1, 1), y)\n",
    "\n",
    "    # 교차 검증으로 다항 회귀를 평가\n",
    "    scores = cross_val_score(pipeline, X.reshape(-1,1), y,scoring = \"neg_mean_squared_error\", cv = 10)\n",
    "    # Pipeline을 구성하는 세부 객체를 접근하는 named_steps['객체명']을 이용해 회귀 계수 추출\n",
    "    coefficients = pipeline.named_steps['linear_regression'].coef_\n",
    "    print('\\nDegree {0} 회귀 계수는 {1} 입니다.'.format(degrees[i], np.round(coefficients),2))\n",
    "    print('Degree {0} MSE 는 {1:.2f} 입니다.'.format(degrees[i] , -1*np.mean(scores)))\n",
    "\n",
    "    # 0부터 1까지 테스트 데이터셋을 100개로 나눠 예측을 수행\n",
    "    # 테스트 데이터 세트에 회귀 예측을 수행하고 예측 곡선과 실제 곡선을 그려서 비교\n",
    "    X_test = np.linspace(0, 1, 100)\n",
    "    # 예측값 곡선\n",
    "    plt.plot(X_test, pipeline.predict(X_test[:, np.newaxis]), label=\"Model\")\n",
    "    # 실제 값 곡선\n",
    "    plt.plot(X_test, true_fun(X_test), '--', label=\"True function\")\n",
    "    plt.scatter(X, y, edgecolor='b', s=20, label=\"Samples\")\n",
    "\n",
    "    plt.xlabel(\"x\"); plt.ylabel(\"y\"); plt.xlim((0, 1)); plt.ylim((-2, 2)); plt.legend(loc=\"best\")\n",
    "    plt.title(\"Degree {}\\nMSE = {:.2e}(+/- {:.2e})\".format(degrees[i], -scores.mean(), scores.std()))\n",
    "\n",
    "plt.show()"
   ],
   "metadata": {
    "collapsed": false,
    "pycharm": {
     "name": "#%%\n"
    }
   }
  },
  {
   "cell_type": "markdown",
   "source": [
    "### 3) 편향-분산 트레이드오프 (Bias-Variance Trade off)\n",
    "- 앞의 Degree 1과 같이 매우 단순화된 모델로 지나치게 한 방향성으로 치우친 경향이 있는 경우 : 고편향성(High Bias)을 가졌다고 표현\n",
    "- Degree 15와 같이 학습 데이터 하나 하나의 특성을 반영하면서 매우 복잡한 모델이 되어 지나치게 높은 변동성을 가진 경우 : 고분산성(Hight Variance)을 가졌다고 표현\n",
    "- 일반적으로 편항과 분산은 한 쪽이 높으면, 한 쪽이 낮아지는 경향이 있다. 즉, 평향이 높으면 분산은 낮아지고(과소적합), 분산이 높으면 편향이 낮아짐(과적합).\n",
    "- 편향을 낮추고 분산을 높이면서 전체 오류가 가장 낮아지는 지점을 골디락스라고 하며, 편향과 분산이 서로 트레이드 오프를 이루면서 오류 Cost 값이 최대로 낮아지는 모델을 만드는 것이 가장 효율적인 머신러닝 예측 모델을 만드는 방법"
   ],
   "metadata": {
    "collapsed": false
   }
  },
  {
   "cell_type": "code",
   "execution_count": null,
   "outputs": [],
   "source": [],
   "metadata": {
    "collapsed": false,
    "pycharm": {
     "name": "#%%\n"
    }
   }
  }
 ],
 "metadata": {
  "kernelspec": {
   "display_name": "Python 3",
   "language": "python",
   "name": "python3"
  },
  "language_info": {
   "codemirror_mode": {
    "name": "ipython",
    "version": 2
   },
   "file_extension": ".py",
   "mimetype": "text/x-python",
   "name": "python",
   "nbconvert_exporter": "python",
   "pygments_lexer": "ipython2",
   "version": "2.7.6"
  }
 },
 "nbformat": 4,
 "nbformat_minor": 0
}