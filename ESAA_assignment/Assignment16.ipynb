{
 "cells": [
  {
   "cell_type": "markdown",
   "source": [
    "# 분류 실습 - 캐글 산탄데르 고객 만족 예측\n",
    "### 고객 만족 여부를 XGBoost와 lightGBM을 활용해 예측\n",
    "- 피처 명은 익명, 레이블 명은 TARGET\n",
    "- TARGET = 1 : 불만을 가진 고객\n",
    "- TARGET = 0 : 만족한 고객\n",
    "- 모델의 성능 평가는 ROC-AUC 곡선으로 평가"
   ],
   "metadata": {
    "collapsed": false
   }
  },
  {
   "cell_type": "markdown",
   "source": [
    "## 1. 데이터 전처리"
   ],
   "metadata": {
    "collapsed": false
   }
  },
  {
   "cell_type": "code",
   "execution_count": 2,
   "metadata": {
    "collapsed": true
   },
   "outputs": [
    {
     "name": "stdout",
     "output_type": "stream",
     "text": [
      "dataset shape: (76020, 371)\n"
     ]
    },
    {
     "data": {
      "text/plain": "   ID  var3  var15  imp_ent_var16_ult1  imp_op_var39_comer_ult1  \\\n0   1     2     23                 0.0                      0.0   \n1   3     2     34                 0.0                      0.0   \n2   4     2     23                 0.0                      0.0   \n3   8     2     37                 0.0                    195.0   \n4  10     2     39                 0.0                      0.0   \n\n   imp_op_var39_comer_ult3  imp_op_var40_comer_ult1  imp_op_var40_comer_ult3  \\\n0                      0.0                      0.0                      0.0   \n1                      0.0                      0.0                      0.0   \n2                      0.0                      0.0                      0.0   \n3                    195.0                      0.0                      0.0   \n4                      0.0                      0.0                      0.0   \n\n   imp_op_var40_efect_ult1  imp_op_var40_efect_ult3  ...  \\\n0                      0.0                      0.0  ...   \n1                      0.0                      0.0  ...   \n2                      0.0                      0.0  ...   \n3                      0.0                      0.0  ...   \n4                      0.0                      0.0  ...   \n\n   saldo_medio_var33_hace2  saldo_medio_var33_hace3  saldo_medio_var33_ult1  \\\n0                      0.0                      0.0                     0.0   \n1                      0.0                      0.0                     0.0   \n2                      0.0                      0.0                     0.0   \n3                      0.0                      0.0                     0.0   \n4                      0.0                      0.0                     0.0   \n\n   saldo_medio_var33_ult3  saldo_medio_var44_hace2  saldo_medio_var44_hace3  \\\n0                     0.0                      0.0                      0.0   \n1                     0.0                      0.0                      0.0   \n2                     0.0                      0.0                      0.0   \n3                     0.0                      0.0                      0.0   \n4                     0.0                      0.0                      0.0   \n\n   saldo_medio_var44_ult1  saldo_medio_var44_ult3          var38  TARGET  \n0                     0.0                     0.0   39205.170000       0  \n1                     0.0                     0.0   49278.030000       0  \n2                     0.0                     0.0   67333.770000       0  \n3                     0.0                     0.0   64007.970000       0  \n4                     0.0                     0.0  117310.979016       0  \n\n[5 rows x 371 columns]",
      "text/html": "<div>\n<style scoped>\n    .dataframe tbody tr th:only-of-type {\n        vertical-align: middle;\n    }\n\n    .dataframe tbody tr th {\n        vertical-align: top;\n    }\n\n    .dataframe thead th {\n        text-align: right;\n    }\n</style>\n<table border=\"1\" class=\"dataframe\">\n  <thead>\n    <tr style=\"text-align: right;\">\n      <th></th>\n      <th>ID</th>\n      <th>var3</th>\n      <th>var15</th>\n      <th>imp_ent_var16_ult1</th>\n      <th>imp_op_var39_comer_ult1</th>\n      <th>imp_op_var39_comer_ult3</th>\n      <th>imp_op_var40_comer_ult1</th>\n      <th>imp_op_var40_comer_ult3</th>\n      <th>imp_op_var40_efect_ult1</th>\n      <th>imp_op_var40_efect_ult3</th>\n      <th>...</th>\n      <th>saldo_medio_var33_hace2</th>\n      <th>saldo_medio_var33_hace3</th>\n      <th>saldo_medio_var33_ult1</th>\n      <th>saldo_medio_var33_ult3</th>\n      <th>saldo_medio_var44_hace2</th>\n      <th>saldo_medio_var44_hace3</th>\n      <th>saldo_medio_var44_ult1</th>\n      <th>saldo_medio_var44_ult3</th>\n      <th>var38</th>\n      <th>TARGET</th>\n    </tr>\n  </thead>\n  <tbody>\n    <tr>\n      <th>0</th>\n      <td>1</td>\n      <td>2</td>\n      <td>23</td>\n      <td>0.0</td>\n      <td>0.0</td>\n      <td>0.0</td>\n      <td>0.0</td>\n      <td>0.0</td>\n      <td>0.0</td>\n      <td>0.0</td>\n      <td>...</td>\n      <td>0.0</td>\n      <td>0.0</td>\n      <td>0.0</td>\n      <td>0.0</td>\n      <td>0.0</td>\n      <td>0.0</td>\n      <td>0.0</td>\n      <td>0.0</td>\n      <td>39205.170000</td>\n      <td>0</td>\n    </tr>\n    <tr>\n      <th>1</th>\n      <td>3</td>\n      <td>2</td>\n      <td>34</td>\n      <td>0.0</td>\n      <td>0.0</td>\n      <td>0.0</td>\n      <td>0.0</td>\n      <td>0.0</td>\n      <td>0.0</td>\n      <td>0.0</td>\n      <td>...</td>\n      <td>0.0</td>\n      <td>0.0</td>\n      <td>0.0</td>\n      <td>0.0</td>\n      <td>0.0</td>\n      <td>0.0</td>\n      <td>0.0</td>\n      <td>0.0</td>\n      <td>49278.030000</td>\n      <td>0</td>\n    </tr>\n    <tr>\n      <th>2</th>\n      <td>4</td>\n      <td>2</td>\n      <td>23</td>\n      <td>0.0</td>\n      <td>0.0</td>\n      <td>0.0</td>\n      <td>0.0</td>\n      <td>0.0</td>\n      <td>0.0</td>\n      <td>0.0</td>\n      <td>...</td>\n      <td>0.0</td>\n      <td>0.0</td>\n      <td>0.0</td>\n      <td>0.0</td>\n      <td>0.0</td>\n      <td>0.0</td>\n      <td>0.0</td>\n      <td>0.0</td>\n      <td>67333.770000</td>\n      <td>0</td>\n    </tr>\n    <tr>\n      <th>3</th>\n      <td>8</td>\n      <td>2</td>\n      <td>37</td>\n      <td>0.0</td>\n      <td>195.0</td>\n      <td>195.0</td>\n      <td>0.0</td>\n      <td>0.0</td>\n      <td>0.0</td>\n      <td>0.0</td>\n      <td>...</td>\n      <td>0.0</td>\n      <td>0.0</td>\n      <td>0.0</td>\n      <td>0.0</td>\n      <td>0.0</td>\n      <td>0.0</td>\n      <td>0.0</td>\n      <td>0.0</td>\n      <td>64007.970000</td>\n      <td>0</td>\n    </tr>\n    <tr>\n      <th>4</th>\n      <td>10</td>\n      <td>2</td>\n      <td>39</td>\n      <td>0.0</td>\n      <td>0.0</td>\n      <td>0.0</td>\n      <td>0.0</td>\n      <td>0.0</td>\n      <td>0.0</td>\n      <td>0.0</td>\n      <td>...</td>\n      <td>0.0</td>\n      <td>0.0</td>\n      <td>0.0</td>\n      <td>0.0</td>\n      <td>0.0</td>\n      <td>0.0</td>\n      <td>0.0</td>\n      <td>0.0</td>\n      <td>117310.979016</td>\n      <td>0</td>\n    </tr>\n  </tbody>\n</table>\n<p>5 rows × 371 columns</p>\n</div>"
     },
     "execution_count": 2,
     "metadata": {},
     "output_type": "execute_result"
    }
   ],
   "source": [
    "import numpy as np\n",
    "import pandas as pd\n",
    "import matplotlib.pyplot as plt\n",
    "import matplotlib\n",
    "\n",
    "cust_df = pd.read_csv(r'C:\\Users\\ADMIN\\PycharmProjects\\ESAA\\data\\santander-customer-satisfaction\\train_santander.csv', encoding = 'latin-1')\n",
    "print('dataset shape:', cust_df.shape)\n",
    "cust_df.head()"
   ]
  },
  {
   "cell_type": "code",
   "execution_count": 3,
   "outputs": [
    {
     "name": "stdout",
     "output_type": "stream",
     "text": [
      "<class 'pandas.core.frame.DataFrame'>\n",
      "RangeIndex: 76020 entries, 0 to 76019\n",
      "Columns: 371 entries, ID to TARGET\n",
      "dtypes: float64(111), int64(260)\n",
      "memory usage: 215.2 MB\n"
     ]
    }
   ],
   "source": [
    "# 피처의 타입과 Null 값 확인\n",
    "cust_df.info()"
   ],
   "metadata": {
    "collapsed": false,
    "pycharm": {
     "name": "#%%\n"
    }
   }
  },
  {
   "cell_type": "code",
   "execution_count": 4,
   "outputs": [
    {
     "name": "stdout",
     "output_type": "stream",
     "text": [
      "0    73012\n",
      "1     3008\n",
      "Name: TARGET, dtype: int64\n",
      "unsatisfied 비율은 0.04\n"
     ]
    }
   ],
   "source": [
    "# 레이블 분포도 확인\n",
    "print(cust_df['TARGET'].value_counts())\n",
    "unsatisfied_cnt = cust_df[cust_df['TARGET'] == 1].TARGET.count()\n",
    "total_cnt = cust_df.TARGET.count()\n",
    "print('unsatisfied 비율은 {0:.2f}'.format((unsatisfied_cnt / total_cnt)))"
   ],
   "metadata": {
    "collapsed": false,
    "pycharm": {
     "name": "#%%\n"
    }
   }
  },
  {
   "cell_type": "code",
   "execution_count": 5,
   "outputs": [
    {
     "data": {
      "text/plain": "                  ID           var3         var15  imp_ent_var16_ult1  \\\ncount   76020.000000   76020.000000  76020.000000        76020.000000   \nmean    75964.050723   -1523.199277     33.212865           86.208265   \nstd     43781.947379   39033.462364     12.956486         1614.757313   \nmin         1.000000 -999999.000000      5.000000            0.000000   \n25%     38104.750000       2.000000     23.000000            0.000000   \n50%     76043.000000       2.000000     28.000000            0.000000   \n75%    113748.750000       2.000000     40.000000            0.000000   \nmax    151838.000000     238.000000    105.000000       210000.000000   \n\n       imp_op_var39_comer_ult1  imp_op_var39_comer_ult3  \\\ncount             76020.000000             76020.000000   \nmean                 72.363067               119.529632   \nstd                 339.315831               546.266294   \nmin                   0.000000                 0.000000   \n25%                   0.000000                 0.000000   \n50%                   0.000000                 0.000000   \n75%                   0.000000                 0.000000   \nmax               12888.030000             21024.810000   \n\n       imp_op_var40_comer_ult1  imp_op_var40_comer_ult3  \\\ncount             76020.000000             76020.000000   \nmean                  3.559130                 6.472698   \nstd                  93.155749               153.737066   \nmin                   0.000000                 0.000000   \n25%                   0.000000                 0.000000   \n50%                   0.000000                 0.000000   \n75%                   0.000000                 0.000000   \nmax                8237.820000             11073.570000   \n\n       imp_op_var40_efect_ult1  imp_op_var40_efect_ult3  ...  \\\ncount             76020.000000             76020.000000  ...   \nmean                  0.412946                 0.567352  ...   \nstd                  30.604864                36.513513  ...   \nmin                   0.000000                 0.000000  ...   \n25%                   0.000000                 0.000000  ...   \n50%                   0.000000                 0.000000  ...   \n75%                   0.000000                 0.000000  ...   \nmax                6600.000000              6600.000000  ...   \n\n       saldo_medio_var33_hace2  saldo_medio_var33_hace3  \\\ncount             76020.000000             76020.000000   \nmean                  7.935824                 1.365146   \nstd                 455.887218               113.959637   \nmin                   0.000000                 0.000000   \n25%                   0.000000                 0.000000   \n50%                   0.000000                 0.000000   \n75%                   0.000000                 0.000000   \nmax               50003.880000             20385.720000   \n\n       saldo_medio_var33_ult1  saldo_medio_var33_ult3  \\\ncount            76020.000000            76020.000000   \nmean                12.215580                8.784074   \nstd                783.207399              538.439211   \nmin                  0.000000                0.000000   \n25%                  0.000000                0.000000   \n50%                  0.000000                0.000000   \n75%                  0.000000                0.000000   \nmax             138831.630000            91778.730000   \n\n       saldo_medio_var44_hace2  saldo_medio_var44_hace3  \\\ncount             76020.000000             76020.000000   \nmean                 31.505324                 1.858575   \nstd                2013.125393               147.786584   \nmin                   0.000000                 0.000000   \n25%                   0.000000                 0.000000   \n50%                   0.000000                 0.000000   \n75%                   0.000000                 0.000000   \nmax              438329.220000             24650.010000   \n\n       saldo_medio_var44_ult1  saldo_medio_var44_ult3         var38  \\\ncount            76020.000000            76020.000000  7.602000e+04   \nmean                76.026165               56.614351  1.172358e+05   \nstd               4040.337842             2852.579397  1.826646e+05   \nmin                  0.000000                0.000000  5.163750e+03   \n25%                  0.000000                0.000000  6.787061e+04   \n50%                  0.000000                0.000000  1.064092e+05   \n75%                  0.000000                0.000000  1.187563e+05   \nmax             681462.900000           397884.300000  2.203474e+07   \n\n             TARGET  \ncount  76020.000000  \nmean       0.039569  \nstd        0.194945  \nmin        0.000000  \n25%        0.000000  \n50%        0.000000  \n75%        0.000000  \nmax        1.000000  \n\n[8 rows x 371 columns]",
      "text/html": "<div>\n<style scoped>\n    .dataframe tbody tr th:only-of-type {\n        vertical-align: middle;\n    }\n\n    .dataframe tbody tr th {\n        vertical-align: top;\n    }\n\n    .dataframe thead th {\n        text-align: right;\n    }\n</style>\n<table border=\"1\" class=\"dataframe\">\n  <thead>\n    <tr style=\"text-align: right;\">\n      <th></th>\n      <th>ID</th>\n      <th>var3</th>\n      <th>var15</th>\n      <th>imp_ent_var16_ult1</th>\n      <th>imp_op_var39_comer_ult1</th>\n      <th>imp_op_var39_comer_ult3</th>\n      <th>imp_op_var40_comer_ult1</th>\n      <th>imp_op_var40_comer_ult3</th>\n      <th>imp_op_var40_efect_ult1</th>\n      <th>imp_op_var40_efect_ult3</th>\n      <th>...</th>\n      <th>saldo_medio_var33_hace2</th>\n      <th>saldo_medio_var33_hace3</th>\n      <th>saldo_medio_var33_ult1</th>\n      <th>saldo_medio_var33_ult3</th>\n      <th>saldo_medio_var44_hace2</th>\n      <th>saldo_medio_var44_hace3</th>\n      <th>saldo_medio_var44_ult1</th>\n      <th>saldo_medio_var44_ult3</th>\n      <th>var38</th>\n      <th>TARGET</th>\n    </tr>\n  </thead>\n  <tbody>\n    <tr>\n      <th>count</th>\n      <td>76020.000000</td>\n      <td>76020.000000</td>\n      <td>76020.000000</td>\n      <td>76020.000000</td>\n      <td>76020.000000</td>\n      <td>76020.000000</td>\n      <td>76020.000000</td>\n      <td>76020.000000</td>\n      <td>76020.000000</td>\n      <td>76020.000000</td>\n      <td>...</td>\n      <td>76020.000000</td>\n      <td>76020.000000</td>\n      <td>76020.000000</td>\n      <td>76020.000000</td>\n      <td>76020.000000</td>\n      <td>76020.000000</td>\n      <td>76020.000000</td>\n      <td>76020.000000</td>\n      <td>7.602000e+04</td>\n      <td>76020.000000</td>\n    </tr>\n    <tr>\n      <th>mean</th>\n      <td>75964.050723</td>\n      <td>-1523.199277</td>\n      <td>33.212865</td>\n      <td>86.208265</td>\n      <td>72.363067</td>\n      <td>119.529632</td>\n      <td>3.559130</td>\n      <td>6.472698</td>\n      <td>0.412946</td>\n      <td>0.567352</td>\n      <td>...</td>\n      <td>7.935824</td>\n      <td>1.365146</td>\n      <td>12.215580</td>\n      <td>8.784074</td>\n      <td>31.505324</td>\n      <td>1.858575</td>\n      <td>76.026165</td>\n      <td>56.614351</td>\n      <td>1.172358e+05</td>\n      <td>0.039569</td>\n    </tr>\n    <tr>\n      <th>std</th>\n      <td>43781.947379</td>\n      <td>39033.462364</td>\n      <td>12.956486</td>\n      <td>1614.757313</td>\n      <td>339.315831</td>\n      <td>546.266294</td>\n      <td>93.155749</td>\n      <td>153.737066</td>\n      <td>30.604864</td>\n      <td>36.513513</td>\n      <td>...</td>\n      <td>455.887218</td>\n      <td>113.959637</td>\n      <td>783.207399</td>\n      <td>538.439211</td>\n      <td>2013.125393</td>\n      <td>147.786584</td>\n      <td>4040.337842</td>\n      <td>2852.579397</td>\n      <td>1.826646e+05</td>\n      <td>0.194945</td>\n    </tr>\n    <tr>\n      <th>min</th>\n      <td>1.000000</td>\n      <td>-999999.000000</td>\n      <td>5.000000</td>\n      <td>0.000000</td>\n      <td>0.000000</td>\n      <td>0.000000</td>\n      <td>0.000000</td>\n      <td>0.000000</td>\n      <td>0.000000</td>\n      <td>0.000000</td>\n      <td>...</td>\n      <td>0.000000</td>\n      <td>0.000000</td>\n      <td>0.000000</td>\n      <td>0.000000</td>\n      <td>0.000000</td>\n      <td>0.000000</td>\n      <td>0.000000</td>\n      <td>0.000000</td>\n      <td>5.163750e+03</td>\n      <td>0.000000</td>\n    </tr>\n    <tr>\n      <th>25%</th>\n      <td>38104.750000</td>\n      <td>2.000000</td>\n      <td>23.000000</td>\n      <td>0.000000</td>\n      <td>0.000000</td>\n      <td>0.000000</td>\n      <td>0.000000</td>\n      <td>0.000000</td>\n      <td>0.000000</td>\n      <td>0.000000</td>\n      <td>...</td>\n      <td>0.000000</td>\n      <td>0.000000</td>\n      <td>0.000000</td>\n      <td>0.000000</td>\n      <td>0.000000</td>\n      <td>0.000000</td>\n      <td>0.000000</td>\n      <td>0.000000</td>\n      <td>6.787061e+04</td>\n      <td>0.000000</td>\n    </tr>\n    <tr>\n      <th>50%</th>\n      <td>76043.000000</td>\n      <td>2.000000</td>\n      <td>28.000000</td>\n      <td>0.000000</td>\n      <td>0.000000</td>\n      <td>0.000000</td>\n      <td>0.000000</td>\n      <td>0.000000</td>\n      <td>0.000000</td>\n      <td>0.000000</td>\n      <td>...</td>\n      <td>0.000000</td>\n      <td>0.000000</td>\n      <td>0.000000</td>\n      <td>0.000000</td>\n      <td>0.000000</td>\n      <td>0.000000</td>\n      <td>0.000000</td>\n      <td>0.000000</td>\n      <td>1.064092e+05</td>\n      <td>0.000000</td>\n    </tr>\n    <tr>\n      <th>75%</th>\n      <td>113748.750000</td>\n      <td>2.000000</td>\n      <td>40.000000</td>\n      <td>0.000000</td>\n      <td>0.000000</td>\n      <td>0.000000</td>\n      <td>0.000000</td>\n      <td>0.000000</td>\n      <td>0.000000</td>\n      <td>0.000000</td>\n      <td>...</td>\n      <td>0.000000</td>\n      <td>0.000000</td>\n      <td>0.000000</td>\n      <td>0.000000</td>\n      <td>0.000000</td>\n      <td>0.000000</td>\n      <td>0.000000</td>\n      <td>0.000000</td>\n      <td>1.187563e+05</td>\n      <td>0.000000</td>\n    </tr>\n    <tr>\n      <th>max</th>\n      <td>151838.000000</td>\n      <td>238.000000</td>\n      <td>105.000000</td>\n      <td>210000.000000</td>\n      <td>12888.030000</td>\n      <td>21024.810000</td>\n      <td>8237.820000</td>\n      <td>11073.570000</td>\n      <td>6600.000000</td>\n      <td>6600.000000</td>\n      <td>...</td>\n      <td>50003.880000</td>\n      <td>20385.720000</td>\n      <td>138831.630000</td>\n      <td>91778.730000</td>\n      <td>438329.220000</td>\n      <td>24650.010000</td>\n      <td>681462.900000</td>\n      <td>397884.300000</td>\n      <td>2.203474e+07</td>\n      <td>1.000000</td>\n    </tr>\n  </tbody>\n</table>\n<p>8 rows × 371 columns</p>\n</div>"
     },
     "execution_count": 5,
     "metadata": {},
     "output_type": "execute_result"
    }
   ],
   "source": [
    "# 피처의 값 분포 확인\n",
    "cust_df.describe()"
   ],
   "metadata": {
    "collapsed": false,
    "pycharm": {
     "name": "#%%\n"
    }
   }
  },
  {
   "cell_type": "code",
   "execution_count": 6,
   "outputs": [
    {
     "name": "stdout",
     "output_type": "stream",
     "text": [
      "피처 데이터 shape:(76020, 369)\n"
     ]
    }
   ],
   "source": [
    "# var3의 -999999를 2로 변환\n",
    "cust_df['var3'].replace(-999999, 2, inplace = True)\n",
    "# ID 피처를 삭제\n",
    "cust_df.drop('ID', axis = 1, inplace = True)\n",
    "\n",
    "# 피처 세트와 레이블 세트 분리. 레이블 칼럼은 DataFrame의 맨 마지막에 위치해 칼럼 위치 -1로 분리\n",
    "X_features = cust_df.iloc[:, :-1]\n",
    "y_labels = cust_df.iloc[:, -1]\n",
    "print('피처 데이터 shape:{0}'.format(X_features.shape))"
   ],
   "metadata": {
    "collapsed": false,
    "pycharm": {
     "name": "#%%\n"
    }
   }
  },
  {
   "cell_type": "code",
   "execution_count": 7,
   "outputs": [
    {
     "name": "stdout",
     "output_type": "stream",
     "text": [
      "학습 세트 Shape:(60816, 369), 테스트 세트 Shape:(15204, 369)\n",
      "학습 세트 레이블 값 분포 비율\n",
      "0    0.960964\n",
      "1    0.039036\n",
      "Name: TARGET, dtype: float64\n",
      "\n",
      " 테스트 세트 레이블 값 분포 비율\n",
      "0    0.9583\n",
      "1    0.0417\n",
      "Name: TARGET, dtype: float64\n"
     ]
    }
   ],
   "source": [
    "from sklearn.model_selection import train_test_split\n",
    "\n",
    "X_train, X_test, y_train, y_test = train_test_split(X_features, y_labels,\n",
    "                                                    test_size = 0.2, random_state = 0)\n",
    "\n",
    "train_cnt = y_train.count()\n",
    "test_cnt = y_test.count()\n",
    "print('학습 세트 Shape:{0}, 테스트 세트 Shape:{1}'.format(X_train.shape, X_test.shape))\n",
    "\n",
    "print('학습 세트 레이블 값 분포 비율')\n",
    "print(y_train.value_counts() / train_cnt)\n",
    "print('\\n 테스트 세트 레이블 값 분포 비율')\n",
    "print(y_test.value_counts() / test_cnt)"
   ],
   "metadata": {
    "collapsed": false,
    "pycharm": {
     "name": "#%%\n"
    }
   }
  },
  {
   "cell_type": "markdown",
   "source": [
    "## 2. XGBoost 모델 학습과 하이퍼 파라미터 튜닝\n",
    "- XGBoost의 학습 모델 생성\n",
    "- 예측 결과를 ROC-AUC로 평가"
   ],
   "metadata": {
    "collapsed": false
   }
  },
  {
   "cell_type": "code",
   "execution_count": 8,
   "outputs": [
    {
     "name": "stderr",
     "output_type": "stream",
     "text": [
      "c:\\users\\admin\\appdata\\local\\programs\\python\\python36\\lib\\site-packages\\xgboost\\sklearn.py:1224: UserWarning: The use of label encoder in XGBClassifier is deprecated and will be removed in a future release. To remove this warning, do the following: 1) Pass option use_label_encoder=False when constructing XGBClassifier object; and 2) Encode your labels (y) as integers starting with 0, i.e. 0, 1, 2, ..., [num_class - 1].\n",
      "  warnings.warn(label_encoder_deprecation_msg, UserWarning)\n"
     ]
    },
    {
     "name": "stdout",
     "output_type": "stream",
     "text": [
      "[18:13:50] WARNING: C:/Users/Administrator/workspace/xgboost-win64_release_1.5.1/src/learner.cc:576: \n",
      "Parameters: { \"random_stae\" } might not be used.\n",
      "\n",
      "  This could be a false alarm, with some parameters getting used by language bindings but\n",
      "  then being mistakenly passed down to XGBoost core, or some parameter actually being used\n",
      "  but getting flagged wrongly here. Please open an issue if you find any such cases.\n",
      "\n",
      "\n",
      "[0]\tvalidation_0-auc:0.82005\tvalidation_1-auc:0.81157\n",
      "[1]\tvalidation_0-auc:0.83400\tvalidation_1-auc:0.82452\n",
      "[2]\tvalidation_0-auc:0.83870\tvalidation_1-auc:0.82746\n",
      "[3]\tvalidation_0-auc:0.84419\tvalidation_1-auc:0.82922\n",
      "[4]\tvalidation_0-auc:0.84783\tvalidation_1-auc:0.83298\n",
      "[5]\tvalidation_0-auc:0.85125\tvalidation_1-auc:0.83500\n",
      "[6]\tvalidation_0-auc:0.85501\tvalidation_1-auc:0.83653\n",
      "[7]\tvalidation_0-auc:0.85831\tvalidation_1-auc:0.83782\n",
      "[8]\tvalidation_0-auc:0.86143\tvalidation_1-auc:0.83802\n",
      "[9]\tvalidation_0-auc:0.86452\tvalidation_1-auc:0.83914\n",
      "[10]\tvalidation_0-auc:0.86717\tvalidation_1-auc:0.83954\n",
      "[11]\tvalidation_0-auc:0.87013\tvalidation_1-auc:0.83983\n",
      "[12]\tvalidation_0-auc:0.87369\tvalidation_1-auc:0.84033\n",
      "[13]\tvalidation_0-auc:0.87620\tvalidation_1-auc:0.84054\n",
      "[14]\tvalidation_0-auc:0.87799\tvalidation_1-auc:0.84135\n",
      "[15]\tvalidation_0-auc:0.88072\tvalidation_1-auc:0.84117\n",
      "[16]\tvalidation_0-auc:0.88238\tvalidation_1-auc:0.84101\n",
      "[17]\tvalidation_0-auc:0.88354\tvalidation_1-auc:0.84071\n",
      "[18]\tvalidation_0-auc:0.88458\tvalidation_1-auc:0.84052\n",
      "[19]\tvalidation_0-auc:0.88592\tvalidation_1-auc:0.84023\n",
      "[20]\tvalidation_0-auc:0.88790\tvalidation_1-auc:0.84012\n",
      "[21]\tvalidation_0-auc:0.88846\tvalidation_1-auc:0.84022\n",
      "[22]\tvalidation_0-auc:0.88980\tvalidation_1-auc:0.84007\n",
      "[23]\tvalidation_0-auc:0.89019\tvalidation_1-auc:0.84009\n",
      "[24]\tvalidation_0-auc:0.89195\tvalidation_1-auc:0.83974\n",
      "[25]\tvalidation_0-auc:0.89255\tvalidation_1-auc:0.84015\n",
      "[26]\tvalidation_0-auc:0.89332\tvalidation_1-auc:0.84101\n",
      "[27]\tvalidation_0-auc:0.89389\tvalidation_1-auc:0.84088\n",
      "[28]\tvalidation_0-auc:0.89420\tvalidation_1-auc:0.84074\n",
      "[29]\tvalidation_0-auc:0.89665\tvalidation_1-auc:0.83999\n",
      "[30]\tvalidation_0-auc:0.89741\tvalidation_1-auc:0.83959\n",
      "[31]\tvalidation_0-auc:0.89916\tvalidation_1-auc:0.83952\n",
      "[32]\tvalidation_0-auc:0.90106\tvalidation_1-auc:0.83901\n",
      "[33]\tvalidation_0-auc:0.90253\tvalidation_1-auc:0.83885\n",
      "[34]\tvalidation_0-auc:0.90278\tvalidation_1-auc:0.83887\n",
      "[35]\tvalidation_0-auc:0.90293\tvalidation_1-auc:0.83864\n",
      "[36]\tvalidation_0-auc:0.90463\tvalidation_1-auc:0.83834\n",
      "[37]\tvalidation_0-auc:0.90500\tvalidation_1-auc:0.83810\n",
      "[38]\tvalidation_0-auc:0.90519\tvalidation_1-auc:0.83810\n",
      "[39]\tvalidation_0-auc:0.90533\tvalidation_1-auc:0.83813\n",
      "[40]\tvalidation_0-auc:0.90575\tvalidation_1-auc:0.83776\n",
      "[41]\tvalidation_0-auc:0.90691\tvalidation_1-auc:0.83720\n",
      "[42]\tvalidation_0-auc:0.90716\tvalidation_1-auc:0.83684\n",
      "[43]\tvalidation_0-auc:0.90737\tvalidation_1-auc:0.83672\n",
      "[44]\tvalidation_0-auc:0.90759\tvalidation_1-auc:0.83674\n",
      "[45]\tvalidation_0-auc:0.90769\tvalidation_1-auc:0.83693\n",
      "[46]\tvalidation_0-auc:0.90779\tvalidation_1-auc:0.83686\n",
      "[47]\tvalidation_0-auc:0.90793\tvalidation_1-auc:0.83678\n",
      "[48]\tvalidation_0-auc:0.90831\tvalidation_1-auc:0.83694\n",
      "[49]\tvalidation_0-auc:0.90871\tvalidation_1-auc:0.83676\n",
      "[50]\tvalidation_0-auc:0.90892\tvalidation_1-auc:0.83655\n",
      "[51]\tvalidation_0-auc:0.91070\tvalidation_1-auc:0.83669\n",
      "[52]\tvalidation_0-auc:0.91240\tvalidation_1-auc:0.83641\n",
      "[53]\tvalidation_0-auc:0.91354\tvalidation_1-auc:0.83690\n",
      "[54]\tvalidation_0-auc:0.91389\tvalidation_1-auc:0.83693\n",
      "[55]\tvalidation_0-auc:0.91408\tvalidation_1-auc:0.83681\n",
      "[56]\tvalidation_0-auc:0.91548\tvalidation_1-auc:0.83680\n",
      "[57]\tvalidation_0-auc:0.91560\tvalidation_1-auc:0.83667\n",
      "[58]\tvalidation_0-auc:0.91631\tvalidation_1-auc:0.83664\n",
      "[59]\tvalidation_0-auc:0.91729\tvalidation_1-auc:0.83591\n",
      "[60]\tvalidation_0-auc:0.91765\tvalidation_1-auc:0.83576\n",
      "[61]\tvalidation_0-auc:0.91788\tvalidation_1-auc:0.83534\n",
      "[62]\tvalidation_0-auc:0.91876\tvalidation_1-auc:0.83513\n",
      "[63]\tvalidation_0-auc:0.91896\tvalidation_1-auc:0.83510\n",
      "[64]\tvalidation_0-auc:0.91900\tvalidation_1-auc:0.83508\n",
      "[65]\tvalidation_0-auc:0.91911\tvalidation_1-auc:0.83518\n",
      "[66]\tvalidation_0-auc:0.91975\tvalidation_1-auc:0.83510\n",
      "[67]\tvalidation_0-auc:0.91986\tvalidation_1-auc:0.83523\n",
      "[68]\tvalidation_0-auc:0.92012\tvalidation_1-auc:0.83457\n",
      "[69]\tvalidation_0-auc:0.92019\tvalidation_1-auc:0.83460\n",
      "[70]\tvalidation_0-auc:0.92029\tvalidation_1-auc:0.83446\n",
      "[71]\tvalidation_0-auc:0.92041\tvalidation_1-auc:0.83462\n",
      "[72]\tvalidation_0-auc:0.92093\tvalidation_1-auc:0.83394\n",
      "[73]\tvalidation_0-auc:0.92099\tvalidation_1-auc:0.83410\n",
      "[74]\tvalidation_0-auc:0.92140\tvalidation_1-auc:0.83394\n",
      "[75]\tvalidation_0-auc:0.92148\tvalidation_1-auc:0.83368\n",
      "[76]\tvalidation_0-auc:0.92330\tvalidation_1-auc:0.83413\n",
      "[77]\tvalidation_0-auc:0.92424\tvalidation_1-auc:0.83359\n",
      "[78]\tvalidation_0-auc:0.92512\tvalidation_1-auc:0.83353\n",
      "[79]\tvalidation_0-auc:0.92549\tvalidation_1-auc:0.83293\n",
      "[80]\tvalidation_0-auc:0.92586\tvalidation_1-auc:0.83253\n",
      "[81]\tvalidation_0-auc:0.92686\tvalidation_1-auc:0.83187\n",
      "[82]\tvalidation_0-auc:0.92714\tvalidation_1-auc:0.83230\n",
      "[83]\tvalidation_0-auc:0.92810\tvalidation_1-auc:0.83216\n",
      "[84]\tvalidation_0-auc:0.92832\tvalidation_1-auc:0.83206\n",
      "[85]\tvalidation_0-auc:0.92878\tvalidation_1-auc:0.83196\n",
      "[86]\tvalidation_0-auc:0.92883\tvalidation_1-auc:0.83200\n",
      "[87]\tvalidation_0-auc:0.92890\tvalidation_1-auc:0.83208\n",
      "[88]\tvalidation_0-auc:0.92928\tvalidation_1-auc:0.83174\n",
      "[89]\tvalidation_0-auc:0.92950\tvalidation_1-auc:0.83160\n",
      "[90]\tvalidation_0-auc:0.92958\tvalidation_1-auc:0.83155\n",
      "[91]\tvalidation_0-auc:0.92969\tvalidation_1-auc:0.83165\n",
      "[92]\tvalidation_0-auc:0.92974\tvalidation_1-auc:0.83172\n",
      "[93]\tvalidation_0-auc:0.93042\tvalidation_1-auc:0.83160\n",
      "[94]\tvalidation_0-auc:0.93043\tvalidation_1-auc:0.83150\n",
      "[95]\tvalidation_0-auc:0.93048\tvalidation_1-auc:0.83132\n",
      "[96]\tvalidation_0-auc:0.93094\tvalidation_1-auc:0.83090\n",
      "[97]\tvalidation_0-auc:0.93102\tvalidation_1-auc:0.83091\n",
      "[98]\tvalidation_0-auc:0.93179\tvalidation_1-auc:0.83066\n",
      "[99]\tvalidation_0-auc:0.93255\tvalidation_1-auc:0.83058\n",
      "[100]\tvalidation_0-auc:0.93296\tvalidation_1-auc:0.83029\n",
      "[101]\tvalidation_0-auc:0.93370\tvalidation_1-auc:0.82955\n",
      "[102]\tvalidation_0-auc:0.93369\tvalidation_1-auc:0.82962\n",
      "[103]\tvalidation_0-auc:0.93448\tvalidation_1-auc:0.82893\n",
      "[104]\tvalidation_0-auc:0.93460\tvalidation_1-auc:0.82837\n",
      "[105]\tvalidation_0-auc:0.93494\tvalidation_1-auc:0.82815\n",
      "[106]\tvalidation_0-auc:0.93594\tvalidation_1-auc:0.82744\n",
      "[107]\tvalidation_0-auc:0.93598\tvalidation_1-auc:0.82728\n",
      "[108]\tvalidation_0-auc:0.93625\tvalidation_1-auc:0.82651\n",
      "[109]\tvalidation_0-auc:0.93632\tvalidation_1-auc:0.82650\n",
      "[110]\tvalidation_0-auc:0.93673\tvalidation_1-auc:0.82621\n",
      "[111]\tvalidation_0-auc:0.93678\tvalidation_1-auc:0.82620\n",
      "[112]\tvalidation_0-auc:0.93726\tvalidation_1-auc:0.82591\n",
      "[113]\tvalidation_0-auc:0.93797\tvalidation_1-auc:0.82498\n",
      "ROC AUC:0.8413\n"
     ]
    }
   ],
   "source": [
    "from xgboost import XGBClassifier\n",
    "from sklearn.metrics import roc_auc_score\n",
    "\n",
    "# n_estimators는 500, random_state는 예제 수행 시마다 동일 예측 결과를 위해 설정\n",
    "xgb_clf = XGBClassifier(n_estimators = 500, random_stae = 156)\n",
    "\n",
    "# 성능 평가 지표를 auc로, 조기 중단 파라미터는 100으로 설정하고 학습 수행\n",
    "xgb_clf.fit(X_train, y_train, early_stopping_rounds = 100,\n",
    "            eval_metric = 'auc', eval_set = [(X_train, y_train), (X_test, y_test)])\n",
    "\n",
    "xgb_roc_score = roc_auc_score(y_test, xgb_clf.predict_proba(X_test)[:, 1], average = 'macro')\n",
    "print('ROC AUC:{0:.4f}'.format(xgb_roc_score))"
   ],
   "metadata": {
    "collapsed": false,
    "pycharm": {
     "name": "#%%\n"
    }
   }
  },
  {
   "cell_type": "code",
   "execution_count": null,
   "outputs": [
    {
     "name": "stderr",
     "output_type": "stream",
     "text": [
      "c:\\users\\admin\\appdata\\local\\programs\\python\\python36\\lib\\site-packages\\xgboost\\sklearn.py:1224: UserWarning: The use of label encoder in XGBClassifier is deprecated and will be removed in a future release. To remove this warning, do the following: 1) Pass option use_label_encoder=False when constructing XGBClassifier object; and 2) Encode your labels (y) as integers starting with 0, i.e. 0, 1, 2, ..., [num_class - 1].\n",
      "  warnings.warn(label_encoder_deprecation_msg, UserWarning)\n"
     ]
    },
    {
     "name": "stdout",
     "output_type": "stream",
     "text": [
      "[0]\tvalidation_0-auc:0.79161\tvalidation_1-auc:0.79321\n",
      "[1]\tvalidation_0-auc:0.81865\tvalidation_1-auc:0.81375\n",
      "[2]\tvalidation_0-auc:0.82586\tvalidation_1-auc:0.81846\n",
      "[3]\tvalidation_0-auc:0.82789\tvalidation_1-auc:0.82226\n",
      "[4]\tvalidation_0-auc:0.83249\tvalidation_1-auc:0.82677\n",
      "[5]\tvalidation_0-auc:0.83477\tvalidation_1-auc:0.83225\n",
      "[6]\tvalidation_0-auc:0.83340\tvalidation_1-auc:0.82654\n",
      "[7]\tvalidation_0-auc:0.84223\tvalidation_1-auc:0.83486\n",
      "[8]\tvalidation_0-auc:0.84586\tvalidation_1-auc:0.83682\n",
      "[9]\tvalidation_0-auc:0.84557\tvalidation_1-auc:0.83472\n",
      "[10]\tvalidation_0-auc:0.84423\tvalidation_1-auc:0.83181\n",
      "[11]\tvalidation_0-auc:0.84428\tvalidation_1-auc:0.82920\n",
      "[12]\tvalidation_0-auc:0.85176\tvalidation_1-auc:0.83433\n",
      "[13]\tvalidation_0-auc:0.85540\tvalidation_1-auc:0.83565\n",
      "[14]\tvalidation_0-auc:0.85718\tvalidation_1-auc:0.83696\n",
      "[15]\tvalidation_0-auc:0.85851\tvalidation_1-auc:0.83561\n",
      "[16]\tvalidation_0-auc:0.85964\tvalidation_1-auc:0.83578\n",
      "[17]\tvalidation_0-auc:0.86091\tvalidation_1-auc:0.83570\n",
      "[18]\tvalidation_0-auc:0.86188\tvalidation_1-auc:0.83595\n",
      "[19]\tvalidation_0-auc:0.86249\tvalidation_1-auc:0.83552\n",
      "[20]\tvalidation_0-auc:0.86298\tvalidation_1-auc:0.83452\n",
      "[21]\tvalidation_0-auc:0.86375\tvalidation_1-auc:0.83437\n",
      "[22]\tvalidation_0-auc:0.86440\tvalidation_1-auc:0.83516\n",
      "[23]\tvalidation_0-auc:0.86554\tvalidation_1-auc:0.83470\n",
      "[24]\tvalidation_0-auc:0.86601\tvalidation_1-auc:0.83492\n",
      "[25]\tvalidation_0-auc:0.86700\tvalidation_1-auc:0.83510\n",
      "[26]\tvalidation_0-auc:0.86770\tvalidation_1-auc:0.83412\n",
      "[27]\tvalidation_0-auc:0.86852\tvalidation_1-auc:0.83394\n",
      "[28]\tvalidation_0-auc:0.86898\tvalidation_1-auc:0.83441\n",
      "[29]\tvalidation_0-auc:0.86914\tvalidation_1-auc:0.83440\n",
      "[30]\tvalidation_0-auc:0.86953\tvalidation_1-auc:0.83380\n",
      "[31]\tvalidation_0-auc:0.87051\tvalidation_1-auc:0.83346\n",
      "[32]\tvalidation_0-auc:0.87085\tvalidation_1-auc:0.83334\n",
      "[33]\tvalidation_0-auc:0.87112\tvalidation_1-auc:0.83313\n",
      "[34]\tvalidation_0-auc:0.87161\tvalidation_1-auc:0.83383\n",
      "[35]\tvalidation_0-auc:0.87173\tvalidation_1-auc:0.83376\n",
      "[36]\tvalidation_0-auc:0.87260\tvalidation_1-auc:0.83340\n",
      "[37]\tvalidation_0-auc:0.87310\tvalidation_1-auc:0.83344\n",
      "[38]\tvalidation_0-auc:0.87322\tvalidation_1-auc:0.83343\n",
      "[39]\tvalidation_0-auc:0.87339\tvalidation_1-auc:0.83370\n",
      "[40]\tvalidation_0-auc:0.87351\tvalidation_1-auc:0.83373\n",
      "[41]\tvalidation_0-auc:0.87411\tvalidation_1-auc:0.83358\n",
      "[42]\tvalidation_0-auc:0.87433\tvalidation_1-auc:0.83325\n",
      "[43]\tvalidation_0-auc:0.87432\tvalidation_1-auc:0.83319\n",
      "[44]\tvalidation_0-auc:0.87509\tvalidation_1-auc:0.83344\n"
     ]
    },
    {
     "name": "stderr",
     "output_type": "stream",
     "text": [
      "c:\\users\\admin\\appdata\\local\\programs\\python\\python36\\lib\\site-packages\\xgboost\\sklearn.py:1224: UserWarning: The use of label encoder in XGBClassifier is deprecated and will be removed in a future release. To remove this warning, do the following: 1) Pass option use_label_encoder=False when constructing XGBClassifier object; and 2) Encode your labels (y) as integers starting with 0, i.e. 0, 1, 2, ..., [num_class - 1].\n",
      "  warnings.warn(label_encoder_deprecation_msg, UserWarning)\n"
     ]
    },
    {
     "name": "stdout",
     "output_type": "stream",
     "text": [
      "[0]\tvalidation_0-auc:0.80013\tvalidation_1-auc:0.79685\n",
      "[1]\tvalidation_0-auc:0.82084\tvalidation_1-auc:0.81574\n",
      "[2]\tvalidation_0-auc:0.82744\tvalidation_1-auc:0.82189\n",
      "[3]\tvalidation_0-auc:0.83029\tvalidation_1-auc:0.82317\n",
      "[4]\tvalidation_0-auc:0.83578\tvalidation_1-auc:0.82564\n",
      "[5]\tvalidation_0-auc:0.83777\tvalidation_1-auc:0.83385\n",
      "[6]\tvalidation_0-auc:0.83742\tvalidation_1-auc:0.83162\n",
      "[7]\tvalidation_0-auc:0.84373\tvalidation_1-auc:0.83436\n",
      "[8]\tvalidation_0-auc:0.84836\tvalidation_1-auc:0.83664\n",
      "[9]\tvalidation_0-auc:0.84790\tvalidation_1-auc:0.83583\n",
      "[10]\tvalidation_0-auc:0.84717\tvalidation_1-auc:0.83268\n",
      "[11]\tvalidation_0-auc:0.84654\tvalidation_1-auc:0.83066\n",
      "[12]\tvalidation_0-auc:0.85377\tvalidation_1-auc:0.83579\n",
      "[13]\tvalidation_0-auc:0.85800\tvalidation_1-auc:0.83859\n",
      "[14]\tvalidation_0-auc:0.85962\tvalidation_1-auc:0.83984\n",
      "[15]\tvalidation_0-auc:0.86143\tvalidation_1-auc:0.84003\n",
      "[16]\tvalidation_0-auc:0.86269\tvalidation_1-auc:0.84049\n",
      "[17]\tvalidation_0-auc:0.86399\tvalidation_1-auc:0.84009\n",
      "[18]\tvalidation_0-auc:0.86474\tvalidation_1-auc:0.84034\n",
      "[19]\tvalidation_0-auc:0.86662\tvalidation_1-auc:0.84138\n",
      "[20]\tvalidation_0-auc:0.86730\tvalidation_1-auc:0.84100\n",
      "[21]\tvalidation_0-auc:0.86821\tvalidation_1-auc:0.84058\n",
      "[22]\tvalidation_0-auc:0.86942\tvalidation_1-auc:0.84128\n",
      "[23]\tvalidation_0-auc:0.86992\tvalidation_1-auc:0.84122\n",
      "[24]\tvalidation_0-auc:0.87035\tvalidation_1-auc:0.84116\n",
      "[25]\tvalidation_0-auc:0.87091\tvalidation_1-auc:0.84045\n",
      "[26]\tvalidation_0-auc:0.87139\tvalidation_1-auc:0.83974\n",
      "[27]\tvalidation_0-auc:0.87296\tvalidation_1-auc:0.83926\n",
      "[28]\tvalidation_0-auc:0.87307\tvalidation_1-auc:0.83943\n",
      "[29]\tvalidation_0-auc:0.87330\tvalidation_1-auc:0.84017\n",
      "[30]\tvalidation_0-auc:0.87443\tvalidation_1-auc:0.83949\n",
      "[31]\tvalidation_0-auc:0.87467\tvalidation_1-auc:0.83936\n",
      "[32]\tvalidation_0-auc:0.87513\tvalidation_1-auc:0.83943\n",
      "[33]\tvalidation_0-auc:0.87519\tvalidation_1-auc:0.83951\n",
      "[34]\tvalidation_0-auc:0.87542\tvalidation_1-auc:0.83953\n",
      "[35]\tvalidation_0-auc:0.87552\tvalidation_1-auc:0.83946\n",
      "[36]\tvalidation_0-auc:0.87582\tvalidation_1-auc:0.83936\n",
      "[37]\tvalidation_0-auc:0.87604\tvalidation_1-auc:0.83919\n",
      "[38]\tvalidation_0-auc:0.87622\tvalidation_1-auc:0.83874\n",
      "[39]\tvalidation_0-auc:0.87670\tvalidation_1-auc:0.83844\n",
      "[40]\tvalidation_0-auc:0.87678\tvalidation_1-auc:0.83859\n",
      "[41]\tvalidation_0-auc:0.87711\tvalidation_1-auc:0.83830\n",
      "[42]\tvalidation_0-auc:0.87738\tvalidation_1-auc:0.83823\n",
      "[43]\tvalidation_0-auc:0.87752\tvalidation_1-auc:0.83796\n",
      "[44]\tvalidation_0-auc:0.87777\tvalidation_1-auc:0.83765\n",
      "[45]\tvalidation_0-auc:0.87785\tvalidation_1-auc:0.83786\n",
      "[46]\tvalidation_0-auc:0.87802\tvalidation_1-auc:0.83761\n",
      "[47]\tvalidation_0-auc:0.87840\tvalidation_1-auc:0.83698\n",
      "[48]\tvalidation_0-auc:0.87868\tvalidation_1-auc:0.83699\n",
      "[49]\tvalidation_0-auc:0.87882\tvalidation_1-auc:0.83708\n"
     ]
    },
    {
     "name": "stderr",
     "output_type": "stream",
     "text": [
      "c:\\users\\admin\\appdata\\local\\programs\\python\\python36\\lib\\site-packages\\xgboost\\sklearn.py:1224: UserWarning: The use of label encoder in XGBClassifier is deprecated and will be removed in a future release. To remove this warning, do the following: 1) Pass option use_label_encoder=False when constructing XGBClassifier object; and 2) Encode your labels (y) as integers starting with 0, i.e. 0, 1, 2, ..., [num_class - 1].\n",
      "  warnings.warn(label_encoder_deprecation_msg, UserWarning)\n"
     ]
    },
    {
     "name": "stdout",
     "output_type": "stream",
     "text": [
      "[0]\tvalidation_0-auc:0.80039\tvalidation_1-auc:0.80013\n",
      "[1]\tvalidation_0-auc:0.82111\tvalidation_1-auc:0.82026\n",
      "[2]\tvalidation_0-auc:0.82749\tvalidation_1-auc:0.82627\n",
      "[3]\tvalidation_0-auc:0.83124\tvalidation_1-auc:0.82830\n",
      "[4]\tvalidation_0-auc:0.83475\tvalidation_1-auc:0.82881\n",
      "[5]\tvalidation_0-auc:0.83676\tvalidation_1-auc:0.83385\n",
      "[6]\tvalidation_0-auc:0.83648\tvalidation_1-auc:0.83085\n",
      "[7]\tvalidation_0-auc:0.84336\tvalidation_1-auc:0.83472\n",
      "[8]\tvalidation_0-auc:0.84624\tvalidation_1-auc:0.83404\n",
      "[9]\tvalidation_0-auc:0.84541\tvalidation_1-auc:0.83287\n",
      "[10]\tvalidation_0-auc:0.84554\tvalidation_1-auc:0.83039\n",
      "[11]\tvalidation_0-auc:0.84525\tvalidation_1-auc:0.82995\n",
      "[12]\tvalidation_0-auc:0.85144\tvalidation_1-auc:0.83489\n",
      "[13]\tvalidation_0-auc:0.85525\tvalidation_1-auc:0.83803\n",
      "[14]\tvalidation_0-auc:0.85745\tvalidation_1-auc:0.84145\n",
      "[15]\tvalidation_0-auc:0.85817\tvalidation_1-auc:0.84082\n",
      "[16]\tvalidation_0-auc:0.86006\tvalidation_1-auc:0.84076\n",
      "[17]\tvalidation_0-auc:0.86127\tvalidation_1-auc:0.84139\n",
      "[18]\tvalidation_0-auc:0.86194\tvalidation_1-auc:0.84041\n",
      "[19]\tvalidation_0-auc:0.86337\tvalidation_1-auc:0.84100\n",
      "[20]\tvalidation_0-auc:0.86386\tvalidation_1-auc:0.84145\n",
      "[21]\tvalidation_0-auc:0.86550\tvalidation_1-auc:0.84030\n",
      "[22]\tvalidation_0-auc:0.86690\tvalidation_1-auc:0.84072\n",
      "[23]\tvalidation_0-auc:0.86765\tvalidation_1-auc:0.84077\n",
      "[24]\tvalidation_0-auc:0.86827\tvalidation_1-auc:0.84136\n",
      "[25]\tvalidation_0-auc:0.86939\tvalidation_1-auc:0.84120\n",
      "[26]\tvalidation_0-auc:0.87045\tvalidation_1-auc:0.84098\n",
      "[27]\tvalidation_0-auc:0.87062\tvalidation_1-auc:0.84148\n",
      "[28]\tvalidation_0-auc:0.87072\tvalidation_1-auc:0.84120\n",
      "[29]\tvalidation_0-auc:0.87113\tvalidation_1-auc:0.84147\n",
      "[30]\tvalidation_0-auc:0.87115\tvalidation_1-auc:0.84181\n",
      "[31]\tvalidation_0-auc:0.87145\tvalidation_1-auc:0.84172\n",
      "[32]\tvalidation_0-auc:0.87226\tvalidation_1-auc:0.84100\n",
      "[33]\tvalidation_0-auc:0.87242\tvalidation_1-auc:0.84149\n",
      "[34]\tvalidation_0-auc:0.87255\tvalidation_1-auc:0.84120\n",
      "[35]\tvalidation_0-auc:0.87297\tvalidation_1-auc:0.84095\n",
      "[36]\tvalidation_0-auc:0.87348\tvalidation_1-auc:0.84051\n",
      "[37]\tvalidation_0-auc:0.87395\tvalidation_1-auc:0.84084\n",
      "[38]\tvalidation_0-auc:0.87433\tvalidation_1-auc:0.84055\n",
      "[39]\tvalidation_0-auc:0.87448\tvalidation_1-auc:0.84048\n",
      "[40]\tvalidation_0-auc:0.87465\tvalidation_1-auc:0.84042\n",
      "[41]\tvalidation_0-auc:0.87486\tvalidation_1-auc:0.84034\n",
      "[42]\tvalidation_0-auc:0.87518\tvalidation_1-auc:0.84021\n",
      "[43]\tvalidation_0-auc:0.87525\tvalidation_1-auc:0.84022\n",
      "[44]\tvalidation_0-auc:0.87595\tvalidation_1-auc:0.83967\n",
      "[45]\tvalidation_0-auc:0.87629\tvalidation_1-auc:0.84004\n",
      "[46]\tvalidation_0-auc:0.87704\tvalidation_1-auc:0.83966\n",
      "[47]\tvalidation_0-auc:0.87746\tvalidation_1-auc:0.83963\n",
      "[48]\tvalidation_0-auc:0.87774\tvalidation_1-auc:0.83931\n",
      "[49]\tvalidation_0-auc:0.87784\tvalidation_1-auc:0.83925\n",
      "[50]\tvalidation_0-auc:0.87826\tvalidation_1-auc:0.83935\n",
      "[51]\tvalidation_0-auc:0.87861\tvalidation_1-auc:0.83920\n",
      "[52]\tvalidation_0-auc:0.87950\tvalidation_1-auc:0.83895\n",
      "[53]\tvalidation_0-auc:0.88024\tvalidation_1-auc:0.83876\n",
      "[54]\tvalidation_0-auc:0.88117\tvalidation_1-auc:0.83840\n",
      "[55]\tvalidation_0-auc:0.88126\tvalidation_1-auc:0.83834\n",
      "[56]\tvalidation_0-auc:0.88145\tvalidation_1-auc:0.83873\n",
      "[57]\tvalidation_0-auc:0.88157\tvalidation_1-auc:0.83860\n",
      "[58]\tvalidation_0-auc:0.88178\tvalidation_1-auc:0.83810\n",
      "[59]\tvalidation_0-auc:0.88186\tvalidation_1-auc:0.83774\n"
     ]
    },
    {
     "name": "stderr",
     "output_type": "stream",
     "text": [
      "c:\\users\\admin\\appdata\\local\\programs\\python\\python36\\lib\\site-packages\\xgboost\\sklearn.py:1224: UserWarning: The use of label encoder in XGBClassifier is deprecated and will be removed in a future release. To remove this warning, do the following: 1) Pass option use_label_encoder=False when constructing XGBClassifier object; and 2) Encode your labels (y) as integers starting with 0, i.e. 0, 1, 2, ..., [num_class - 1].\n",
      "  warnings.warn(label_encoder_deprecation_msg, UserWarning)\n"
     ]
    },
    {
     "name": "stdout",
     "output_type": "stream",
     "text": [
      "[0]\tvalidation_0-auc:0.79210\tvalidation_1-auc:0.79292\n",
      "[1]\tvalidation_0-auc:0.81759\tvalidation_1-auc:0.81404\n",
      "[2]\tvalidation_0-auc:0.82567\tvalidation_1-auc:0.81864\n",
      "[3]\tvalidation_0-auc:0.82819\tvalidation_1-auc:0.82244\n",
      "[4]\tvalidation_0-auc:0.83233\tvalidation_1-auc:0.82618\n",
      "[5]\tvalidation_0-auc:0.83480\tvalidation_1-auc:0.83163\n",
      "[6]\tvalidation_0-auc:0.83342\tvalidation_1-auc:0.82840\n",
      "[7]\tvalidation_0-auc:0.84265\tvalidation_1-auc:0.83512\n",
      "[8]\tvalidation_0-auc:0.84614\tvalidation_1-auc:0.83742\n",
      "[9]\tvalidation_0-auc:0.84573\tvalidation_1-auc:0.83475\n",
      "[10]\tvalidation_0-auc:0.84426\tvalidation_1-auc:0.83066\n",
      "[11]\tvalidation_0-auc:0.84358\tvalidation_1-auc:0.82937\n",
      "[12]\tvalidation_0-auc:0.85089\tvalidation_1-auc:0.83491\n",
      "[13]\tvalidation_0-auc:0.85457\tvalidation_1-auc:0.83785\n",
      "[14]\tvalidation_0-auc:0.85645\tvalidation_1-auc:0.83894\n",
      "[15]\tvalidation_0-auc:0.85744\tvalidation_1-auc:0.83784\n",
      "[16]\tvalidation_0-auc:0.85870\tvalidation_1-auc:0.83899\n",
      "[17]\tvalidation_0-auc:0.86002\tvalidation_1-auc:0.83854\n",
      "[18]\tvalidation_0-auc:0.86091\tvalidation_1-auc:0.83860\n",
      "[19]\tvalidation_0-auc:0.86154\tvalidation_1-auc:0.83818\n",
      "[20]\tvalidation_0-auc:0.86189\tvalidation_1-auc:0.83772\n",
      "[21]\tvalidation_0-auc:0.86295\tvalidation_1-auc:0.83703\n",
      "[22]\tvalidation_0-auc:0.86334\tvalidation_1-auc:0.83721\n",
      "[23]\tvalidation_0-auc:0.86402\tvalidation_1-auc:0.83581\n",
      "[24]\tvalidation_0-auc:0.86456\tvalidation_1-auc:0.83557\n",
      "[25]\tvalidation_0-auc:0.86494\tvalidation_1-auc:0.83534\n",
      "[26]\tvalidation_0-auc:0.86516\tvalidation_1-auc:0.83481\n",
      "[27]\tvalidation_0-auc:0.86660\tvalidation_1-auc:0.83557\n",
      "[28]\tvalidation_0-auc:0.86784\tvalidation_1-auc:0.83546\n",
      "[29]\tvalidation_0-auc:0.86793\tvalidation_1-auc:0.83545\n",
      "[30]\tvalidation_0-auc:0.86840\tvalidation_1-auc:0.83496\n",
      "[31]\tvalidation_0-auc:0.86867\tvalidation_1-auc:0.83481\n",
      "[32]\tvalidation_0-auc:0.86884\tvalidation_1-auc:0.83472\n",
      "[33]\tvalidation_0-auc:0.86900\tvalidation_1-auc:0.83482\n",
      "[34]\tvalidation_0-auc:0.86907\tvalidation_1-auc:0.83423\n",
      "[35]\tvalidation_0-auc:0.86981\tvalidation_1-auc:0.83350\n",
      "[36]\tvalidation_0-auc:0.86996\tvalidation_1-auc:0.83334\n",
      "[37]\tvalidation_0-auc:0.87004\tvalidation_1-auc:0.83365\n",
      "[38]\tvalidation_0-auc:0.87022\tvalidation_1-auc:0.83384\n",
      "[39]\tvalidation_0-auc:0.87078\tvalidation_1-auc:0.83373\n",
      "[40]\tvalidation_0-auc:0.87094\tvalidation_1-auc:0.83373\n",
      "[41]\tvalidation_0-auc:0.87109\tvalidation_1-auc:0.83359\n",
      "[42]\tvalidation_0-auc:0.87173\tvalidation_1-auc:0.83365\n",
      "[43]\tvalidation_0-auc:0.87264\tvalidation_1-auc:0.83386\n",
      "[44]\tvalidation_0-auc:0.87336\tvalidation_1-auc:0.83319\n",
      "[45]\tvalidation_0-auc:0.87361\tvalidation_1-auc:0.83318\n",
      "[46]\tvalidation_0-auc:0.87406\tvalidation_1-auc:0.83227\n"
     ]
    },
    {
     "name": "stderr",
     "output_type": "stream",
     "text": [
      "c:\\users\\admin\\appdata\\local\\programs\\python\\python36\\lib\\site-packages\\xgboost\\sklearn.py:1224: UserWarning: The use of label encoder in XGBClassifier is deprecated and will be removed in a future release. To remove this warning, do the following: 1) Pass option use_label_encoder=False when constructing XGBClassifier object; and 2) Encode your labels (y) as integers starting with 0, i.e. 0, 1, 2, ..., [num_class - 1].\n",
      "  warnings.warn(label_encoder_deprecation_msg, UserWarning)\n"
     ]
    },
    {
     "name": "stdout",
     "output_type": "stream",
     "text": [
      "[0]\tvalidation_0-auc:0.79931\tvalidation_1-auc:0.79594\n",
      "[1]\tvalidation_0-auc:0.81987\tvalidation_1-auc:0.81503\n",
      "[2]\tvalidation_0-auc:0.82734\tvalidation_1-auc:0.82126\n",
      "[3]\tvalidation_0-auc:0.83110\tvalidation_1-auc:0.82302\n",
      "[4]\tvalidation_0-auc:0.83608\tvalidation_1-auc:0.82494\n",
      "[5]\tvalidation_0-auc:0.83914\tvalidation_1-auc:0.83100\n",
      "[6]\tvalidation_0-auc:0.83828\tvalidation_1-auc:0.82999\n",
      "[7]\tvalidation_0-auc:0.84425\tvalidation_1-auc:0.83439\n",
      "[8]\tvalidation_0-auc:0.84749\tvalidation_1-auc:0.83609\n",
      "[9]\tvalidation_0-auc:0.84727\tvalidation_1-auc:0.83597\n",
      "[10]\tvalidation_0-auc:0.84703\tvalidation_1-auc:0.83250\n",
      "[11]\tvalidation_0-auc:0.84664\tvalidation_1-auc:0.83237\n",
      "[12]\tvalidation_0-auc:0.85343\tvalidation_1-auc:0.83713\n",
      "[13]\tvalidation_0-auc:0.85671\tvalidation_1-auc:0.83887\n",
      "[14]\tvalidation_0-auc:0.85824\tvalidation_1-auc:0.83919\n",
      "[15]\tvalidation_0-auc:0.85962\tvalidation_1-auc:0.83905\n",
      "[16]\tvalidation_0-auc:0.86089\tvalidation_1-auc:0.84031\n",
      "[17]\tvalidation_0-auc:0.86216\tvalidation_1-auc:0.84051\n",
      "[18]\tvalidation_0-auc:0.86264\tvalidation_1-auc:0.84051\n",
      "[19]\tvalidation_0-auc:0.86341\tvalidation_1-auc:0.84030\n",
      "[20]\tvalidation_0-auc:0.86379\tvalidation_1-auc:0.83988\n",
      "[21]\tvalidation_0-auc:0.86413\tvalidation_1-auc:0.84020\n",
      "[22]\tvalidation_0-auc:0.86513\tvalidation_1-auc:0.84033\n",
      "[23]\tvalidation_0-auc:0.86584\tvalidation_1-auc:0.84016\n",
      "[24]\tvalidation_0-auc:0.86638\tvalidation_1-auc:0.84016\n",
      "[25]\tvalidation_0-auc:0.86691\tvalidation_1-auc:0.83991\n",
      "[26]\tvalidation_0-auc:0.86798\tvalidation_1-auc:0.83979\n",
      "[27]\tvalidation_0-auc:0.86869\tvalidation_1-auc:0.83952\n",
      "[28]\tvalidation_0-auc:0.86881\tvalidation_1-auc:0.83942\n",
      "[29]\tvalidation_0-auc:0.86908\tvalidation_1-auc:0.83912\n",
      "[30]\tvalidation_0-auc:0.86934\tvalidation_1-auc:0.83907\n",
      "[31]\tvalidation_0-auc:0.86942\tvalidation_1-auc:0.83896\n",
      "[32]\tvalidation_0-auc:0.87000\tvalidation_1-auc:0.83860\n",
      "[33]\tvalidation_0-auc:0.87016\tvalidation_1-auc:0.83878\n",
      "[34]\tvalidation_0-auc:0.87050\tvalidation_1-auc:0.83830\n",
      "[35]\tvalidation_0-auc:0.87069\tvalidation_1-auc:0.83825\n",
      "[36]\tvalidation_0-auc:0.87118\tvalidation_1-auc:0.83880\n",
      "[37]\tvalidation_0-auc:0.87126\tvalidation_1-auc:0.83883\n",
      "[38]\tvalidation_0-auc:0.87138\tvalidation_1-auc:0.83882\n",
      "[39]\tvalidation_0-auc:0.87243\tvalidation_1-auc:0.83833\n",
      "[40]\tvalidation_0-auc:0.87267\tvalidation_1-auc:0.83813\n",
      "[41]\tvalidation_0-auc:0.87282\tvalidation_1-auc:0.83811\n",
      "[42]\tvalidation_0-auc:0.87356\tvalidation_1-auc:0.83806\n",
      "[43]\tvalidation_0-auc:0.87372\tvalidation_1-auc:0.83815\n",
      "[44]\tvalidation_0-auc:0.87384\tvalidation_1-auc:0.83807\n",
      "[45]\tvalidation_0-auc:0.87395\tvalidation_1-auc:0.83813\n",
      "[46]\tvalidation_0-auc:0.87450\tvalidation_1-auc:0.83757\n",
      "[47]\tvalidation_0-auc:0.87476\tvalidation_1-auc:0.83762\n"
     ]
    },
    {
     "name": "stderr",
     "output_type": "stream",
     "text": [
      "c:\\users\\admin\\appdata\\local\\programs\\python\\python36\\lib\\site-packages\\xgboost\\sklearn.py:1224: UserWarning: The use of label encoder in XGBClassifier is deprecated and will be removed in a future release. To remove this warning, do the following: 1) Pass option use_label_encoder=False when constructing XGBClassifier object; and 2) Encode your labels (y) as integers starting with 0, i.e. 0, 1, 2, ..., [num_class - 1].\n",
      "  warnings.warn(label_encoder_deprecation_msg, UserWarning)\n"
     ]
    },
    {
     "name": "stdout",
     "output_type": "stream",
     "text": [
      "[0]\tvalidation_0-auc:0.80248\tvalidation_1-auc:0.80001\n",
      "[1]\tvalidation_0-auc:0.82249\tvalidation_1-auc:0.81765\n",
      "[2]\tvalidation_0-auc:0.82833\tvalidation_1-auc:0.82524\n",
      "[3]\tvalidation_0-auc:0.83371\tvalidation_1-auc:0.82814\n",
      "[4]\tvalidation_0-auc:0.83653\tvalidation_1-auc:0.82856\n",
      "[5]\tvalidation_0-auc:0.83838\tvalidation_1-auc:0.83345\n",
      "[6]\tvalidation_0-auc:0.83823\tvalidation_1-auc:0.83165\n",
      "[7]\tvalidation_0-auc:0.84386\tvalidation_1-auc:0.83505\n",
      "[8]\tvalidation_0-auc:0.84688\tvalidation_1-auc:0.83507\n",
      "[9]\tvalidation_0-auc:0.84634\tvalidation_1-auc:0.83483\n",
      "[10]\tvalidation_0-auc:0.84564\tvalidation_1-auc:0.83324\n",
      "[11]\tvalidation_0-auc:0.84501\tvalidation_1-auc:0.83283\n",
      "[12]\tvalidation_0-auc:0.85011\tvalidation_1-auc:0.83693\n",
      "[13]\tvalidation_0-auc:0.85299\tvalidation_1-auc:0.83995\n",
      "[14]\tvalidation_0-auc:0.85523\tvalidation_1-auc:0.84250\n",
      "[15]\tvalidation_0-auc:0.85608\tvalidation_1-auc:0.84183\n",
      "[16]\tvalidation_0-auc:0.85748\tvalidation_1-auc:0.84319\n",
      "[17]\tvalidation_0-auc:0.85895\tvalidation_1-auc:0.84363\n",
      "[18]\tvalidation_0-auc:0.85944\tvalidation_1-auc:0.84311\n",
      "[19]\tvalidation_0-auc:0.86102\tvalidation_1-auc:0.84368\n",
      "[20]\tvalidation_0-auc:0.86122\tvalidation_1-auc:0.84367\n",
      "[21]\tvalidation_0-auc:0.86196\tvalidation_1-auc:0.84403\n",
      "[22]\tvalidation_0-auc:0.86291\tvalidation_1-auc:0.84498\n",
      "[23]\tvalidation_0-auc:0.86385\tvalidation_1-auc:0.84460\n",
      "[24]\tvalidation_0-auc:0.86452\tvalidation_1-auc:0.84460\n",
      "[25]\tvalidation_0-auc:0.86534\tvalidation_1-auc:0.84480\n",
      "[26]\tvalidation_0-auc:0.86584\tvalidation_1-auc:0.84441\n",
      "[27]\tvalidation_0-auc:0.86653\tvalidation_1-auc:0.84401\n",
      "[28]\tvalidation_0-auc:0.86697\tvalidation_1-auc:0.84422\n",
      "[29]\tvalidation_0-auc:0.86770\tvalidation_1-auc:0.84385\n",
      "[30]\tvalidation_0-auc:0.86777\tvalidation_1-auc:0.84407\n",
      "[31]\tvalidation_0-auc:0.86803\tvalidation_1-auc:0.84395\n",
      "[32]\tvalidation_0-auc:0.86826\tvalidation_1-auc:0.84381\n",
      "[33]\tvalidation_0-auc:0.86862\tvalidation_1-auc:0.84417\n",
      "[34]\tvalidation_0-auc:0.86902\tvalidation_1-auc:0.84385\n",
      "[35]\tvalidation_0-auc:0.86959\tvalidation_1-auc:0.84369\n",
      "[36]\tvalidation_0-auc:0.87020\tvalidation_1-auc:0.84297\n",
      "[37]\tvalidation_0-auc:0.87047\tvalidation_1-auc:0.84278\n",
      "[38]\tvalidation_0-auc:0.87175\tvalidation_1-auc:0.84286\n",
      "[39]\tvalidation_0-auc:0.87269\tvalidation_1-auc:0.84224\n",
      "[40]\tvalidation_0-auc:0.87289\tvalidation_1-auc:0.84197\n",
      "[41]\tvalidation_0-auc:0.87294\tvalidation_1-auc:0.84175\n",
      "[42]\tvalidation_0-auc:0.87418\tvalidation_1-auc:0.84148\n",
      "[43]\tvalidation_0-auc:0.87431\tvalidation_1-auc:0.84121\n",
      "[44]\tvalidation_0-auc:0.87441\tvalidation_1-auc:0.84127\n",
      "[45]\tvalidation_0-auc:0.87458\tvalidation_1-auc:0.84103\n",
      "[46]\tvalidation_0-auc:0.87475\tvalidation_1-auc:0.84119\n",
      "[47]\tvalidation_0-auc:0.87529\tvalidation_1-auc:0.84128\n",
      "[48]\tvalidation_0-auc:0.87554\tvalidation_1-auc:0.84050\n",
      "[49]\tvalidation_0-auc:0.87572\tvalidation_1-auc:0.84039\n",
      "[50]\tvalidation_0-auc:0.87575\tvalidation_1-auc:0.84062\n",
      "[51]\tvalidation_0-auc:0.87605\tvalidation_1-auc:0.84105\n"
     ]
    },
    {
     "name": "stderr",
     "output_type": "stream",
     "text": [
      "c:\\users\\admin\\appdata\\local\\programs\\python\\python36\\lib\\site-packages\\xgboost\\sklearn.py:1224: UserWarning: The use of label encoder in XGBClassifier is deprecated and will be removed in a future release. To remove this warning, do the following: 1) Pass option use_label_encoder=False when constructing XGBClassifier object; and 2) Encode your labels (y) as integers starting with 0, i.e. 0, 1, 2, ..., [num_class - 1].\n",
      "  warnings.warn(label_encoder_deprecation_msg, UserWarning)\n"
     ]
    },
    {
     "name": "stdout",
     "output_type": "stream",
     "text": [
      "[0]\tvalidation_0-auc:0.80843\tvalidation_1-auc:0.80885\n",
      "[1]\tvalidation_0-auc:0.82920\tvalidation_1-auc:0.82211\n",
      "[2]\tvalidation_0-auc:0.83320\tvalidation_1-auc:0.82400\n",
      "[3]\tvalidation_0-auc:0.83625\tvalidation_1-auc:0.82577\n",
      "[4]\tvalidation_0-auc:0.84188\tvalidation_1-auc:0.82897\n",
      "[5]\tvalidation_0-auc:0.84455\tvalidation_1-auc:0.83377\n",
      "[6]\tvalidation_0-auc:0.84503\tvalidation_1-auc:0.82916\n",
      "[7]\tvalidation_0-auc:0.85319\tvalidation_1-auc:0.83364\n",
      "[8]\tvalidation_0-auc:0.85976\tvalidation_1-auc:0.83390\n",
      "[9]\tvalidation_0-auc:0.85952\tvalidation_1-auc:0.82834\n",
      "[10]\tvalidation_0-auc:0.85919\tvalidation_1-auc:0.82378\n",
      "[11]\tvalidation_0-auc:0.85956\tvalidation_1-auc:0.82400\n",
      "[12]\tvalidation_0-auc:0.86574\tvalidation_1-auc:0.82888\n",
      "[13]\tvalidation_0-auc:0.87027\tvalidation_1-auc:0.83251\n",
      "[14]\tvalidation_0-auc:0.87240\tvalidation_1-auc:0.83311\n",
      "[15]\tvalidation_0-auc:0.87365\tvalidation_1-auc:0.83080\n",
      "[16]\tvalidation_0-auc:0.87567\tvalidation_1-auc:0.83134\n",
      "[17]\tvalidation_0-auc:0.87777\tvalidation_1-auc:0.83255\n",
      "[18]\tvalidation_0-auc:0.87904\tvalidation_1-auc:0.83149\n",
      "[19]\tvalidation_0-auc:0.88037\tvalidation_1-auc:0.83083\n",
      "[20]\tvalidation_0-auc:0.88104\tvalidation_1-auc:0.82964\n",
      "[21]\tvalidation_0-auc:0.88159\tvalidation_1-auc:0.82802\n",
      "[22]\tvalidation_0-auc:0.88227\tvalidation_1-auc:0.82806\n",
      "[23]\tvalidation_0-auc:0.88255\tvalidation_1-auc:0.82806\n",
      "[24]\tvalidation_0-auc:0.88328\tvalidation_1-auc:0.82840\n",
      "[25]\tvalidation_0-auc:0.88353\tvalidation_1-auc:0.82851\n",
      "[26]\tvalidation_0-auc:0.88384\tvalidation_1-auc:0.82899\n",
      "[27]\tvalidation_0-auc:0.88509\tvalidation_1-auc:0.82988\n",
      "[28]\tvalidation_0-auc:0.88544\tvalidation_1-auc:0.82886\n",
      "[29]\tvalidation_0-auc:0.88569\tvalidation_1-auc:0.82922\n",
      "[30]\tvalidation_0-auc:0.88588\tvalidation_1-auc:0.82962\n",
      "[31]\tvalidation_0-auc:0.88682\tvalidation_1-auc:0.82951\n",
      "[32]\tvalidation_0-auc:0.88752\tvalidation_1-auc:0.82858\n",
      "[33]\tvalidation_0-auc:0.88762\tvalidation_1-auc:0.82843\n",
      "[34]\tvalidation_0-auc:0.88792\tvalidation_1-auc:0.82804\n",
      "[35]\tvalidation_0-auc:0.88865\tvalidation_1-auc:0.82692\n",
      "[36]\tvalidation_0-auc:0.88868\tvalidation_1-auc:0.82609\n",
      "[37]\tvalidation_0-auc:0.88901\tvalidation_1-auc:0.82607\n"
     ]
    },
    {
     "name": "stderr",
     "output_type": "stream",
     "text": [
      "c:\\users\\admin\\appdata\\local\\programs\\python\\python36\\lib\\site-packages\\xgboost\\sklearn.py:1224: UserWarning: The use of label encoder in XGBClassifier is deprecated and will be removed in a future release. To remove this warning, do the following: 1) Pass option use_label_encoder=False when constructing XGBClassifier object; and 2) Encode your labels (y) as integers starting with 0, i.e. 0, 1, 2, ..., [num_class - 1].\n",
      "  warnings.warn(label_encoder_deprecation_msg, UserWarning)\n"
     ]
    },
    {
     "name": "stdout",
     "output_type": "stream",
     "text": [
      "[0]\tvalidation_0-auc:0.81304\tvalidation_1-auc:0.81746\n",
      "[1]\tvalidation_0-auc:0.82882\tvalidation_1-auc:0.82026\n",
      "[2]\tvalidation_0-auc:0.83609\tvalidation_1-auc:0.82474\n",
      "[3]\tvalidation_0-auc:0.84041\tvalidation_1-auc:0.82824\n",
      "[4]\tvalidation_0-auc:0.84760\tvalidation_1-auc:0.83130\n",
      "[5]\tvalidation_0-auc:0.84938\tvalidation_1-auc:0.83590\n",
      "[6]\tvalidation_0-auc:0.85116\tvalidation_1-auc:0.83167\n",
      "[7]\tvalidation_0-auc:0.85828\tvalidation_1-auc:0.83471\n",
      "[8]\tvalidation_0-auc:0.86371\tvalidation_1-auc:0.83640\n",
      "[9]\tvalidation_0-auc:0.86365\tvalidation_1-auc:0.83549\n",
      "[10]\tvalidation_0-auc:0.86395\tvalidation_1-auc:0.83127\n",
      "[11]\tvalidation_0-auc:0.86437\tvalidation_1-auc:0.82983\n",
      "[12]\tvalidation_0-auc:0.87068\tvalidation_1-auc:0.83421\n",
      "[13]\tvalidation_0-auc:0.87545\tvalidation_1-auc:0.83773\n",
      "[14]\tvalidation_0-auc:0.87779\tvalidation_1-auc:0.83843\n",
      "[15]\tvalidation_0-auc:0.87893\tvalidation_1-auc:0.83628\n",
      "[16]\tvalidation_0-auc:0.88035\tvalidation_1-auc:0.83878\n",
      "[17]\tvalidation_0-auc:0.88227\tvalidation_1-auc:0.83749\n",
      "[18]\tvalidation_0-auc:0.88364\tvalidation_1-auc:0.83710\n",
      "[19]\tvalidation_0-auc:0.88528\tvalidation_1-auc:0.83727\n",
      "[20]\tvalidation_0-auc:0.88606\tvalidation_1-auc:0.83670\n",
      "[21]\tvalidation_0-auc:0.88672\tvalidation_1-auc:0.83629\n",
      "[22]\tvalidation_0-auc:0.88793\tvalidation_1-auc:0.83586\n",
      "[23]\tvalidation_0-auc:0.88875\tvalidation_1-auc:0.83562\n",
      "[24]\tvalidation_0-auc:0.88913\tvalidation_1-auc:0.83589\n",
      "[25]\tvalidation_0-auc:0.88932\tvalidation_1-auc:0.83575\n",
      "[26]\tvalidation_0-auc:0.89053\tvalidation_1-auc:0.83424\n",
      "[27]\tvalidation_0-auc:0.89116\tvalidation_1-auc:0.83427\n",
      "[28]\tvalidation_0-auc:0.89172\tvalidation_1-auc:0.83384\n",
      "[29]\tvalidation_0-auc:0.89244\tvalidation_1-auc:0.83318\n",
      "[30]\tvalidation_0-auc:0.89260\tvalidation_1-auc:0.83224\n",
      "[31]\tvalidation_0-auc:0.89294\tvalidation_1-auc:0.83214\n",
      "[32]\tvalidation_0-auc:0.89361\tvalidation_1-auc:0.83111\n",
      "[33]\tvalidation_0-auc:0.89396\tvalidation_1-auc:0.83114\n",
      "[34]\tvalidation_0-auc:0.89481\tvalidation_1-auc:0.83121\n",
      "[35]\tvalidation_0-auc:0.89548\tvalidation_1-auc:0.83133\n",
      "[36]\tvalidation_0-auc:0.89589\tvalidation_1-auc:0.83039\n",
      "[37]\tvalidation_0-auc:0.89614\tvalidation_1-auc:0.83024\n",
      "[38]\tvalidation_0-auc:0.89743\tvalidation_1-auc:0.82952\n",
      "[39]\tvalidation_0-auc:0.89749\tvalidation_1-auc:0.82950\n",
      "[40]\tvalidation_0-auc:0.89754\tvalidation_1-auc:0.82932\n",
      "[41]\tvalidation_0-auc:0.89813\tvalidation_1-auc:0.82838\n",
      "[42]\tvalidation_0-auc:0.89831\tvalidation_1-auc:0.82849\n",
      "[43]\tvalidation_0-auc:0.89841\tvalidation_1-auc:0.82827\n",
      "[44]\tvalidation_0-auc:0.89908\tvalidation_1-auc:0.82824\n",
      "[45]\tvalidation_0-auc:0.89919\tvalidation_1-auc:0.82788\n"
     ]
    },
    {
     "name": "stderr",
     "output_type": "stream",
     "text": [
      "c:\\users\\admin\\appdata\\local\\programs\\python\\python36\\lib\\site-packages\\xgboost\\sklearn.py:1224: UserWarning: The use of label encoder in XGBClassifier is deprecated and will be removed in a future release. To remove this warning, do the following: 1) Pass option use_label_encoder=False when constructing XGBClassifier object; and 2) Encode your labels (y) as integers starting with 0, i.e. 0, 1, 2, ..., [num_class - 1].\n",
      "  warnings.warn(label_encoder_deprecation_msg, UserWarning)\n"
     ]
    },
    {
     "name": "stdout",
     "output_type": "stream",
     "text": [
      "[0]\tvalidation_0-auc:0.81393\tvalidation_1-auc:0.81377\n",
      "[1]\tvalidation_0-auc:0.82962\tvalidation_1-auc:0.82668\n",
      "[2]\tvalidation_0-auc:0.83724\tvalidation_1-auc:0.83017\n",
      "[3]\tvalidation_0-auc:0.84075\tvalidation_1-auc:0.83079\n",
      "[4]\tvalidation_0-auc:0.84691\tvalidation_1-auc:0.83337\n",
      "[5]\tvalidation_0-auc:0.84896\tvalidation_1-auc:0.83502\n",
      "[6]\tvalidation_0-auc:0.84980\tvalidation_1-auc:0.82858\n",
      "[7]\tvalidation_0-auc:0.85918\tvalidation_1-auc:0.83358\n",
      "[8]\tvalidation_0-auc:0.86284\tvalidation_1-auc:0.83470\n",
      "[9]\tvalidation_0-auc:0.86365\tvalidation_1-auc:0.83427\n",
      "[10]\tvalidation_0-auc:0.86243\tvalidation_1-auc:0.83264\n",
      "[11]\tvalidation_0-auc:0.86248\tvalidation_1-auc:0.83255\n",
      "[12]\tvalidation_0-auc:0.86969\tvalidation_1-auc:0.83531\n",
      "[13]\tvalidation_0-auc:0.87452\tvalidation_1-auc:0.83774\n",
      "[14]\tvalidation_0-auc:0.87630\tvalidation_1-auc:0.83936\n",
      "[15]\tvalidation_0-auc:0.87826\tvalidation_1-auc:0.83676\n",
      "[16]\tvalidation_0-auc:0.87988\tvalidation_1-auc:0.83852\n",
      "[17]\tvalidation_0-auc:0.88289\tvalidation_1-auc:0.83811\n",
      "[18]\tvalidation_0-auc:0.88333\tvalidation_1-auc:0.83735\n",
      "[19]\tvalidation_0-auc:0.88506\tvalidation_1-auc:0.83720\n",
      "[20]\tvalidation_0-auc:0.88528\tvalidation_1-auc:0.83718\n",
      "[21]\tvalidation_0-auc:0.88547\tvalidation_1-auc:0.83646\n",
      "[22]\tvalidation_0-auc:0.88632\tvalidation_1-auc:0.83706\n",
      "[23]\tvalidation_0-auc:0.88770\tvalidation_1-auc:0.83714\n",
      "[24]\tvalidation_0-auc:0.88867\tvalidation_1-auc:0.83742\n",
      "[25]\tvalidation_0-auc:0.88905\tvalidation_1-auc:0.83753\n",
      "[26]\tvalidation_0-auc:0.89065\tvalidation_1-auc:0.83634\n",
      "[27]\tvalidation_0-auc:0.89158\tvalidation_1-auc:0.83565\n",
      "[28]\tvalidation_0-auc:0.89214\tvalidation_1-auc:0.83460\n",
      "[29]\tvalidation_0-auc:0.89345\tvalidation_1-auc:0.83413\n",
      "[30]\tvalidation_0-auc:0.89377\tvalidation_1-auc:0.83373\n",
      "[31]\tvalidation_0-auc:0.89392\tvalidation_1-auc:0.83396\n",
      "[32]\tvalidation_0-auc:0.89410\tvalidation_1-auc:0.83435\n",
      "[33]\tvalidation_0-auc:0.89416\tvalidation_1-auc:0.83412\n",
      "[34]\tvalidation_0-auc:0.89437\tvalidation_1-auc:0.83386\n",
      "[35]\tvalidation_0-auc:0.89513\tvalidation_1-auc:0.83338\n",
      "[36]\tvalidation_0-auc:0.89553\tvalidation_1-auc:0.83232\n",
      "[37]\tvalidation_0-auc:0.89589\tvalidation_1-auc:0.83223\n",
      "[38]\tvalidation_0-auc:0.89609\tvalidation_1-auc:0.83222\n",
      "[39]\tvalidation_0-auc:0.89636\tvalidation_1-auc:0.83187\n",
      "[40]\tvalidation_0-auc:0.89652\tvalidation_1-auc:0.83146\n",
      "[41]\tvalidation_0-auc:0.89655\tvalidation_1-auc:0.83131\n",
      "[42]\tvalidation_0-auc:0.89789\tvalidation_1-auc:0.83068\n",
      "[43]\tvalidation_0-auc:0.89792\tvalidation_1-auc:0.83069\n",
      "[44]\tvalidation_0-auc:0.89889\tvalidation_1-auc:0.83038\n"
     ]
    },
    {
     "name": "stderr",
     "output_type": "stream",
     "text": [
      "c:\\users\\admin\\appdata\\local\\programs\\python\\python36\\lib\\site-packages\\xgboost\\sklearn.py:1224: UserWarning: The use of label encoder in XGBClassifier is deprecated and will be removed in a future release. To remove this warning, do the following: 1) Pass option use_label_encoder=False when constructing XGBClassifier object; and 2) Encode your labels (y) as integers starting with 0, i.e. 0, 1, 2, ..., [num_class - 1].\n",
      "  warnings.warn(label_encoder_deprecation_msg, UserWarning)\n"
     ]
    },
    {
     "name": "stdout",
     "output_type": "stream",
     "text": [
      "[0]\tvalidation_0-auc:0.80901\tvalidation_1-auc:0.80653\n",
      "[1]\tvalidation_0-auc:0.82713\tvalidation_1-auc:0.82150\n",
      "[2]\tvalidation_0-auc:0.83227\tvalidation_1-auc:0.82513\n",
      "[3]\tvalidation_0-auc:0.83319\tvalidation_1-auc:0.82525\n",
      "[4]\tvalidation_0-auc:0.83786\tvalidation_1-auc:0.82805\n",
      "[5]\tvalidation_0-auc:0.84104\tvalidation_1-auc:0.82979\n",
      "[6]\tvalidation_0-auc:0.84432\tvalidation_1-auc:0.82639\n",
      "[7]\tvalidation_0-auc:0.85301\tvalidation_1-auc:0.83411\n",
      "[8]\tvalidation_0-auc:0.85882\tvalidation_1-auc:0.83754\n",
      "[9]\tvalidation_0-auc:0.85838\tvalidation_1-auc:0.83437\n",
      "[10]\tvalidation_0-auc:0.85606\tvalidation_1-auc:0.83252\n",
      "[11]\tvalidation_0-auc:0.85677\tvalidation_1-auc:0.83031\n",
      "[12]\tvalidation_0-auc:0.86256\tvalidation_1-auc:0.83311\n",
      "[13]\tvalidation_0-auc:0.86712\tvalidation_1-auc:0.83500\n",
      "[14]\tvalidation_0-auc:0.86926\tvalidation_1-auc:0.83593\n",
      "[15]\tvalidation_0-auc:0.87031\tvalidation_1-auc:0.83404\n",
      "[16]\tvalidation_0-auc:0.87119\tvalidation_1-auc:0.83472\n",
      "[17]\tvalidation_0-auc:0.87276\tvalidation_1-auc:0.83454\n",
      "[18]\tvalidation_0-auc:0.87365\tvalidation_1-auc:0.83418\n",
      "[19]\tvalidation_0-auc:0.87495\tvalidation_1-auc:0.83324\n",
      "[20]\tvalidation_0-auc:0.87498\tvalidation_1-auc:0.83267\n",
      "[21]\tvalidation_0-auc:0.87527\tvalidation_1-auc:0.83259\n",
      "[22]\tvalidation_0-auc:0.87572\tvalidation_1-auc:0.83274\n",
      "[23]\tvalidation_0-auc:0.87659\tvalidation_1-auc:0.83362\n",
      "[24]\tvalidation_0-auc:0.87704\tvalidation_1-auc:0.83315\n",
      "[25]\tvalidation_0-auc:0.87743\tvalidation_1-auc:0.83338\n",
      "[26]\tvalidation_0-auc:0.87762\tvalidation_1-auc:0.83358\n",
      "[27]\tvalidation_0-auc:0.87818\tvalidation_1-auc:0.83337\n",
      "[28]\tvalidation_0-auc:0.87822\tvalidation_1-auc:0.83346\n",
      "[29]\tvalidation_0-auc:0.87890\tvalidation_1-auc:0.83331\n",
      "[30]\tvalidation_0-auc:0.87903\tvalidation_1-auc:0.83315\n",
      "[31]\tvalidation_0-auc:0.87993\tvalidation_1-auc:0.83277\n",
      "[32]\tvalidation_0-auc:0.88063\tvalidation_1-auc:0.83284\n",
      "[33]\tvalidation_0-auc:0.88096\tvalidation_1-auc:0.83339\n",
      "[34]\tvalidation_0-auc:0.88210\tvalidation_1-auc:0.83309\n",
      "[35]\tvalidation_0-auc:0.88207\tvalidation_1-auc:0.83317\n",
      "[36]\tvalidation_0-auc:0.88224\tvalidation_1-auc:0.83314\n",
      "[37]\tvalidation_0-auc:0.88240\tvalidation_1-auc:0.83292\n",
      "[38]\tvalidation_0-auc:0.88265\tvalidation_1-auc:0.83254\n"
     ]
    },
    {
     "name": "stderr",
     "output_type": "stream",
     "text": [
      "c:\\users\\admin\\appdata\\local\\programs\\python\\python36\\lib\\site-packages\\xgboost\\sklearn.py:1224: UserWarning: The use of label encoder in XGBClassifier is deprecated and will be removed in a future release. To remove this warning, do the following: 1) Pass option use_label_encoder=False when constructing XGBClassifier object; and 2) Encode your labels (y) as integers starting with 0, i.e. 0, 1, 2, ..., [num_class - 1].\n",
      "  warnings.warn(label_encoder_deprecation_msg, UserWarning)\n"
     ]
    },
    {
     "name": "stdout",
     "output_type": "stream",
     "text": [
      "[0]\tvalidation_0-auc:0.81176\tvalidation_1-auc:0.80947\n",
      "[1]\tvalidation_0-auc:0.82651\tvalidation_1-auc:0.82286\n",
      "[2]\tvalidation_0-auc:0.83551\tvalidation_1-auc:0.82712\n",
      "[3]\tvalidation_0-auc:0.83820\tvalidation_1-auc:0.82810\n",
      "[4]\tvalidation_0-auc:0.84733\tvalidation_1-auc:0.82952\n",
      "[5]\tvalidation_0-auc:0.84903\tvalidation_1-auc:0.83409\n",
      "[6]\tvalidation_0-auc:0.84836\tvalidation_1-auc:0.83191\n",
      "[7]\tvalidation_0-auc:0.85387\tvalidation_1-auc:0.83486\n",
      "[8]\tvalidation_0-auc:0.85876\tvalidation_1-auc:0.83709\n",
      "[9]\tvalidation_0-auc:0.85840\tvalidation_1-auc:0.83730\n",
      "[10]\tvalidation_0-auc:0.85787\tvalidation_1-auc:0.83417\n",
      "[11]\tvalidation_0-auc:0.85814\tvalidation_1-auc:0.83328\n",
      "[12]\tvalidation_0-auc:0.86431\tvalidation_1-auc:0.83684\n",
      "[13]\tvalidation_0-auc:0.86878\tvalidation_1-auc:0.83901\n",
      "[14]\tvalidation_0-auc:0.87119\tvalidation_1-auc:0.83987\n",
      "[15]\tvalidation_0-auc:0.87268\tvalidation_1-auc:0.83789\n",
      "[16]\tvalidation_0-auc:0.87455\tvalidation_1-auc:0.83903\n",
      "[17]\tvalidation_0-auc:0.87645\tvalidation_1-auc:0.83873\n",
      "[18]\tvalidation_0-auc:0.87724\tvalidation_1-auc:0.83908\n",
      "[19]\tvalidation_0-auc:0.87799\tvalidation_1-auc:0.83966\n",
      "[20]\tvalidation_0-auc:0.87882\tvalidation_1-auc:0.83958\n",
      "[21]\tvalidation_0-auc:0.87902\tvalidation_1-auc:0.83960\n",
      "[22]\tvalidation_0-auc:0.87951\tvalidation_1-auc:0.83985\n",
      "[23]\tvalidation_0-auc:0.88042\tvalidation_1-auc:0.83903\n",
      "[24]\tvalidation_0-auc:0.88118\tvalidation_1-auc:0.83938\n",
      "[25]\tvalidation_0-auc:0.88183\tvalidation_1-auc:0.83941\n",
      "[26]\tvalidation_0-auc:0.88279\tvalidation_1-auc:0.83943\n",
      "[27]\tvalidation_0-auc:0.88430\tvalidation_1-auc:0.83947\n",
      "[28]\tvalidation_0-auc:0.88447\tvalidation_1-auc:0.83972\n",
      "[29]\tvalidation_0-auc:0.88487\tvalidation_1-auc:0.83903\n",
      "[30]\tvalidation_0-auc:0.88567\tvalidation_1-auc:0.83956\n",
      "[31]\tvalidation_0-auc:0.88560\tvalidation_1-auc:0.83942\n",
      "[32]\tvalidation_0-auc:0.88572\tvalidation_1-auc:0.83903\n",
      "[33]\tvalidation_0-auc:0.88598\tvalidation_1-auc:0.83902\n",
      "[34]\tvalidation_0-auc:0.88633\tvalidation_1-auc:0.83882\n",
      "[35]\tvalidation_0-auc:0.88642\tvalidation_1-auc:0.83890\n",
      "[36]\tvalidation_0-auc:0.88707\tvalidation_1-auc:0.83877\n",
      "[37]\tvalidation_0-auc:0.88742\tvalidation_1-auc:0.83862\n",
      "[38]\tvalidation_0-auc:0.88755\tvalidation_1-auc:0.83835\n",
      "[39]\tvalidation_0-auc:0.88788\tvalidation_1-auc:0.83760\n",
      "[40]\tvalidation_0-auc:0.88777\tvalidation_1-auc:0.83781\n",
      "[41]\tvalidation_0-auc:0.88796\tvalidation_1-auc:0.83789\n",
      "[42]\tvalidation_0-auc:0.88804\tvalidation_1-auc:0.83796\n",
      "[43]\tvalidation_0-auc:0.88868\tvalidation_1-auc:0.83769\n",
      "[44]\tvalidation_0-auc:0.88942\tvalidation_1-auc:0.83764\n"
     ]
    },
    {
     "name": "stderr",
     "output_type": "stream",
     "text": [
      "c:\\users\\admin\\appdata\\local\\programs\\python\\python36\\lib\\site-packages\\xgboost\\sklearn.py:1224: UserWarning: The use of label encoder in XGBClassifier is deprecated and will be removed in a future release. To remove this warning, do the following: 1) Pass option use_label_encoder=False when constructing XGBClassifier object; and 2) Encode your labels (y) as integers starting with 0, i.e. 0, 1, 2, ..., [num_class - 1].\n",
      "  warnings.warn(label_encoder_deprecation_msg, UserWarning)\n"
     ]
    },
    {
     "name": "stdout",
     "output_type": "stream",
     "text": [
      "[0]\tvalidation_0-auc:0.81519\tvalidation_1-auc:0.81115\n",
      "[1]\tvalidation_0-auc:0.83201\tvalidation_1-auc:0.82366\n",
      "[2]\tvalidation_0-auc:0.83718\tvalidation_1-auc:0.83029\n",
      "[3]\tvalidation_0-auc:0.84145\tvalidation_1-auc:0.83163\n",
      "[4]\tvalidation_0-auc:0.84628\tvalidation_1-auc:0.83410\n",
      "[5]\tvalidation_0-auc:0.84792\tvalidation_1-auc:0.83694\n",
      "[6]\tvalidation_0-auc:0.84780\tvalidation_1-auc:0.83116\n",
      "[7]\tvalidation_0-auc:0.85599\tvalidation_1-auc:0.83759\n",
      "[8]\tvalidation_0-auc:0.85905\tvalidation_1-auc:0.83700\n",
      "[9]\tvalidation_0-auc:0.85860\tvalidation_1-auc:0.83638\n",
      "[10]\tvalidation_0-auc:0.85875\tvalidation_1-auc:0.83594\n",
      "[11]\tvalidation_0-auc:0.85921\tvalidation_1-auc:0.83691\n",
      "[12]\tvalidation_0-auc:0.86560\tvalidation_1-auc:0.84075\n",
      "[13]\tvalidation_0-auc:0.86941\tvalidation_1-auc:0.84350\n",
      "[14]\tvalidation_0-auc:0.87102\tvalidation_1-auc:0.84520\n",
      "[15]\tvalidation_0-auc:0.87174\tvalidation_1-auc:0.84423\n",
      "[16]\tvalidation_0-auc:0.87350\tvalidation_1-auc:0.84460\n",
      "[17]\tvalidation_0-auc:0.87528\tvalidation_1-auc:0.84395\n",
      "[18]\tvalidation_0-auc:0.87593\tvalidation_1-auc:0.84331\n",
      "[19]\tvalidation_0-auc:0.87733\tvalidation_1-auc:0.84275\n",
      "[20]\tvalidation_0-auc:0.87769\tvalidation_1-auc:0.84252\n",
      "[21]\tvalidation_0-auc:0.87822\tvalidation_1-auc:0.84160\n",
      "[22]\tvalidation_0-auc:0.87989\tvalidation_1-auc:0.84207\n",
      "[23]\tvalidation_0-auc:0.88086\tvalidation_1-auc:0.84223\n",
      "[24]\tvalidation_0-auc:0.88139\tvalidation_1-auc:0.84238\n",
      "[25]\tvalidation_0-auc:0.88186\tvalidation_1-auc:0.84258\n",
      "[26]\tvalidation_0-auc:0.88258\tvalidation_1-auc:0.84240\n",
      "[27]\tvalidation_0-auc:0.88359\tvalidation_1-auc:0.84183\n",
      "[28]\tvalidation_0-auc:0.88402\tvalidation_1-auc:0.84147\n",
      "[29]\tvalidation_0-auc:0.88415\tvalidation_1-auc:0.84140\n",
      "[30]\tvalidation_0-auc:0.88455\tvalidation_1-auc:0.84080\n",
      "[31]\tvalidation_0-auc:0.88538\tvalidation_1-auc:0.84070\n",
      "[32]\tvalidation_0-auc:0.88563\tvalidation_1-auc:0.84055\n",
      "[33]\tvalidation_0-auc:0.88610\tvalidation_1-auc:0.84024\n",
      "[34]\tvalidation_0-auc:0.88631\tvalidation_1-auc:0.83977\n",
      "[35]\tvalidation_0-auc:0.88637\tvalidation_1-auc:0.83959\n",
      "[36]\tvalidation_0-auc:0.88644\tvalidation_1-auc:0.83935\n",
      "[37]\tvalidation_0-auc:0.88728\tvalidation_1-auc:0.83898\n",
      "[38]\tvalidation_0-auc:0.88802\tvalidation_1-auc:0.83814\n",
      "[39]\tvalidation_0-auc:0.88815\tvalidation_1-auc:0.83806\n",
      "[40]\tvalidation_0-auc:0.88815\tvalidation_1-auc:0.83811\n",
      "[41]\tvalidation_0-auc:0.88838\tvalidation_1-auc:0.83807\n",
      "[42]\tvalidation_0-auc:0.88883\tvalidation_1-auc:0.83753\n",
      "[43]\tvalidation_0-auc:0.88902\tvalidation_1-auc:0.83781\n",
      "[44]\tvalidation_0-auc:0.88912\tvalidation_1-auc:0.83779\n"
     ]
    },
    {
     "name": "stderr",
     "output_type": "stream",
     "text": [
      "c:\\users\\admin\\appdata\\local\\programs\\python\\python36\\lib\\site-packages\\xgboost\\sklearn.py:1224: UserWarning: The use of label encoder in XGBClassifier is deprecated and will be removed in a future release. To remove this warning, do the following: 1) Pass option use_label_encoder=False when constructing XGBClassifier object; and 2) Encode your labels (y) as integers starting with 0, i.e. 0, 1, 2, ..., [num_class - 1].\n",
      "  warnings.warn(label_encoder_deprecation_msg, UserWarning)\n"
     ]
    },
    {
     "name": "stdout",
     "output_type": "stream",
     "text": [
      "[0]\tvalidation_0-auc:0.81007\tvalidation_1-auc:0.80693\n",
      "[1]\tvalidation_0-auc:0.82137\tvalidation_1-auc:0.81877\n",
      "[2]\tvalidation_0-auc:0.82976\tvalidation_1-auc:0.82498\n",
      "[3]\tvalidation_0-auc:0.83120\tvalidation_1-auc:0.82212\n",
      "[4]\tvalidation_0-auc:0.83382\tvalidation_1-auc:0.82481\n",
      "[5]\tvalidation_0-auc:0.83696\tvalidation_1-auc:0.82672\n",
      "[6]\tvalidation_0-auc:0.83976\tvalidation_1-auc:0.83016\n",
      "[7]\tvalidation_0-auc:0.84177\tvalidation_1-auc:0.83330\n",
      "[8]\tvalidation_0-auc:0.84585\tvalidation_1-auc:0.83282\n",
      "[9]\tvalidation_0-auc:0.84984\tvalidation_1-auc:0.83519\n",
      "[10]\tvalidation_0-auc:0.85146\tvalidation_1-auc:0.83530\n",
      "[11]\tvalidation_0-auc:0.85113\tvalidation_1-auc:0.83380\n",
      "[12]\tvalidation_0-auc:0.85502\tvalidation_1-auc:0.83622\n",
      "[13]\tvalidation_0-auc:0.85797\tvalidation_1-auc:0.83644\n",
      "[14]\tvalidation_0-auc:0.85990\tvalidation_1-auc:0.83686\n",
      "[15]\tvalidation_0-auc:0.86114\tvalidation_1-auc:0.83639\n",
      "[16]\tvalidation_0-auc:0.86158\tvalidation_1-auc:0.83602\n",
      "[17]\tvalidation_0-auc:0.86285\tvalidation_1-auc:0.83501\n",
      "[18]\tvalidation_0-auc:0.86405\tvalidation_1-auc:0.83454\n",
      "[19]\tvalidation_0-auc:0.86498\tvalidation_1-auc:0.83497\n",
      "[20]\tvalidation_0-auc:0.86595\tvalidation_1-auc:0.83417\n",
      "[21]\tvalidation_0-auc:0.86757\tvalidation_1-auc:0.83454\n",
      "[22]\tvalidation_0-auc:0.86810\tvalidation_1-auc:0.83466\n",
      "[23]\tvalidation_0-auc:0.86830\tvalidation_1-auc:0.83461\n",
      "[24]\tvalidation_0-auc:0.86859\tvalidation_1-auc:0.83422\n",
      "[25]\tvalidation_0-auc:0.86941\tvalidation_1-auc:0.83371\n",
      "[26]\tvalidation_0-auc:0.86986\tvalidation_1-auc:0.83392\n",
      "[27]\tvalidation_0-auc:0.87053\tvalidation_1-auc:0.83330\n",
      "[28]\tvalidation_0-auc:0.87105\tvalidation_1-auc:0.83367\n",
      "[29]\tvalidation_0-auc:0.87111\tvalidation_1-auc:0.83371\n",
      "[30]\tvalidation_0-auc:0.87152\tvalidation_1-auc:0.83435\n",
      "[31]\tvalidation_0-auc:0.87181\tvalidation_1-auc:0.83437\n",
      "[32]\tvalidation_0-auc:0.87286\tvalidation_1-auc:0.83459\n",
      "[33]\tvalidation_0-auc:0.87304\tvalidation_1-auc:0.83470\n",
      "[34]\tvalidation_0-auc:0.87347\tvalidation_1-auc:0.83407\n",
      "[35]\tvalidation_0-auc:0.87393\tvalidation_1-auc:0.83319\n",
      "[36]\tvalidation_0-auc:0.87464\tvalidation_1-auc:0.83300\n",
      "[37]\tvalidation_0-auc:0.87469\tvalidation_1-auc:0.83311\n",
      "[38]\tvalidation_0-auc:0.87502\tvalidation_1-auc:0.83281\n",
      "[39]\tvalidation_0-auc:0.87594\tvalidation_1-auc:0.83273\n",
      "[40]\tvalidation_0-auc:0.87620\tvalidation_1-auc:0.83299\n",
      "[41]\tvalidation_0-auc:0.87747\tvalidation_1-auc:0.83274\n",
      "[42]\tvalidation_0-auc:0.87754\tvalidation_1-auc:0.83254\n",
      "[43]\tvalidation_0-auc:0.87846\tvalidation_1-auc:0.83286\n",
      "[44]\tvalidation_0-auc:0.87847\tvalidation_1-auc:0.83268\n"
     ]
    },
    {
     "name": "stderr",
     "output_type": "stream",
     "text": [
      "c:\\users\\admin\\appdata\\local\\programs\\python\\python36\\lib\\site-packages\\xgboost\\sklearn.py:1224: UserWarning: The use of label encoder in XGBClassifier is deprecated and will be removed in a future release. To remove this warning, do the following: 1) Pass option use_label_encoder=False when constructing XGBClassifier object; and 2) Encode your labels (y) as integers starting with 0, i.e. 0, 1, 2, ..., [num_class - 1].\n",
      "  warnings.warn(label_encoder_deprecation_msg, UserWarning)\n"
     ]
    },
    {
     "name": "stdout",
     "output_type": "stream",
     "text": [
      "[0]\tvalidation_0-auc:0.80863\tvalidation_1-auc:0.80010\n",
      "[1]\tvalidation_0-auc:0.82349\tvalidation_1-auc:0.81717\n",
      "[2]\tvalidation_0-auc:0.82654\tvalidation_1-auc:0.81737\n",
      "[3]\tvalidation_0-auc:0.82988\tvalidation_1-auc:0.82281\n",
      "[4]\tvalidation_0-auc:0.83570\tvalidation_1-auc:0.82554\n",
      "[5]\tvalidation_0-auc:0.83917\tvalidation_1-auc:0.82930\n",
      "[6]\tvalidation_0-auc:0.84492\tvalidation_1-auc:0.83396\n",
      "[7]\tvalidation_0-auc:0.84657\tvalidation_1-auc:0.83569\n",
      "[8]\tvalidation_0-auc:0.84837\tvalidation_1-auc:0.83476\n",
      "[9]\tvalidation_0-auc:0.85010\tvalidation_1-auc:0.83841\n",
      "[10]\tvalidation_0-auc:0.85017\tvalidation_1-auc:0.83887\n",
      "[11]\tvalidation_0-auc:0.85091\tvalidation_1-auc:0.83723\n",
      "[12]\tvalidation_0-auc:0.85584\tvalidation_1-auc:0.83976\n",
      "[13]\tvalidation_0-auc:0.85900\tvalidation_1-auc:0.84063\n",
      "[14]\tvalidation_0-auc:0.86059\tvalidation_1-auc:0.84054\n",
      "[15]\tvalidation_0-auc:0.86167\tvalidation_1-auc:0.84086\n",
      "[16]\tvalidation_0-auc:0.86303\tvalidation_1-auc:0.84085\n",
      "[17]\tvalidation_0-auc:0.86383\tvalidation_1-auc:0.83947\n",
      "[18]\tvalidation_0-auc:0.86462\tvalidation_1-auc:0.83971\n",
      "[19]\tvalidation_0-auc:0.86559\tvalidation_1-auc:0.84059\n",
      "[20]\tvalidation_0-auc:0.86650\tvalidation_1-auc:0.83981\n",
      "[21]\tvalidation_0-auc:0.86762\tvalidation_1-auc:0.84030\n",
      "[22]\tvalidation_0-auc:0.86865\tvalidation_1-auc:0.84050\n",
      "[23]\tvalidation_0-auc:0.86916\tvalidation_1-auc:0.83978\n",
      "[24]\tvalidation_0-auc:0.86953\tvalidation_1-auc:0.84033\n",
      "[25]\tvalidation_0-auc:0.86992\tvalidation_1-auc:0.84000\n",
      "[26]\tvalidation_0-auc:0.87005\tvalidation_1-auc:0.83998\n",
      "[27]\tvalidation_0-auc:0.87115\tvalidation_1-auc:0.83964\n",
      "[28]\tvalidation_0-auc:0.87205\tvalidation_1-auc:0.83972\n",
      "[29]\tvalidation_0-auc:0.87328\tvalidation_1-auc:0.83984\n",
      "[30]\tvalidation_0-auc:0.87360\tvalidation_1-auc:0.83929\n",
      "[31]\tvalidation_0-auc:0.87367\tvalidation_1-auc:0.83938\n",
      "[32]\tvalidation_0-auc:0.87441\tvalidation_1-auc:0.83918\n",
      "[33]\tvalidation_0-auc:0.87490\tvalidation_1-auc:0.83990\n",
      "[34]\tvalidation_0-auc:0.87594\tvalidation_1-auc:0.84011\n",
      "[35]\tvalidation_0-auc:0.87618\tvalidation_1-auc:0.83988\n",
      "[36]\tvalidation_0-auc:0.87648\tvalidation_1-auc:0.83991\n",
      "[37]\tvalidation_0-auc:0.87657\tvalidation_1-auc:0.83991\n",
      "[38]\tvalidation_0-auc:0.87676\tvalidation_1-auc:0.83987\n",
      "[39]\tvalidation_0-auc:0.87696\tvalidation_1-auc:0.83973\n",
      "[40]\tvalidation_0-auc:0.87705\tvalidation_1-auc:0.83990\n",
      "[41]\tvalidation_0-auc:0.87724\tvalidation_1-auc:0.83941\n",
      "[42]\tvalidation_0-auc:0.87781\tvalidation_1-auc:0.83934\n",
      "[43]\tvalidation_0-auc:0.87810\tvalidation_1-auc:0.83924\n",
      "[44]\tvalidation_0-auc:0.87848\tvalidation_1-auc:0.83882\n"
     ]
    },
    {
     "name": "stderr",
     "output_type": "stream",
     "text": [
      "c:\\users\\admin\\appdata\\local\\programs\\python\\python36\\lib\\site-packages\\xgboost\\sklearn.py:1224: UserWarning: The use of label encoder in XGBClassifier is deprecated and will be removed in a future release. To remove this warning, do the following: 1) Pass option use_label_encoder=False when constructing XGBClassifier object; and 2) Encode your labels (y) as integers starting with 0, i.e. 0, 1, 2, ..., [num_class - 1].\n",
      "  warnings.warn(label_encoder_deprecation_msg, UserWarning)\n"
     ]
    },
    {
     "name": "stdout",
     "output_type": "stream",
     "text": [
      "[0]\tvalidation_0-auc:0.82005\tvalidation_1-auc:0.81815\n",
      "[1]\tvalidation_0-auc:0.82547\tvalidation_1-auc:0.82159\n",
      "[2]\tvalidation_0-auc:0.83019\tvalidation_1-auc:0.82631\n",
      "[3]\tvalidation_0-auc:0.83230\tvalidation_1-auc:0.82660\n",
      "[4]\tvalidation_0-auc:0.83488\tvalidation_1-auc:0.82988\n",
      "[5]\tvalidation_0-auc:0.83888\tvalidation_1-auc:0.83262\n",
      "[6]\tvalidation_0-auc:0.84242\tvalidation_1-auc:0.83408\n",
      "[7]\tvalidation_0-auc:0.84581\tvalidation_1-auc:0.83560\n",
      "[8]\tvalidation_0-auc:0.84775\tvalidation_1-auc:0.83617\n",
      "[9]\tvalidation_0-auc:0.84989\tvalidation_1-auc:0.83746\n",
      "[10]\tvalidation_0-auc:0.85052\tvalidation_1-auc:0.83816\n",
      "[11]\tvalidation_0-auc:0.84982\tvalidation_1-auc:0.83603\n",
      "[12]\tvalidation_0-auc:0.85408\tvalidation_1-auc:0.83825\n",
      "[13]\tvalidation_0-auc:0.85547\tvalidation_1-auc:0.83955\n",
      "[14]\tvalidation_0-auc:0.85818\tvalidation_1-auc:0.84292\n",
      "[15]\tvalidation_0-auc:0.85990\tvalidation_1-auc:0.84361\n",
      "[16]\tvalidation_0-auc:0.86142\tvalidation_1-auc:0.84287\n",
      "[17]\tvalidation_0-auc:0.86247\tvalidation_1-auc:0.84280\n",
      "[18]\tvalidation_0-auc:0.86276\tvalidation_1-auc:0.84297\n",
      "[19]\tvalidation_0-auc:0.86368\tvalidation_1-auc:0.84290\n",
      "[20]\tvalidation_0-auc:0.86488\tvalidation_1-auc:0.84279\n",
      "[21]\tvalidation_0-auc:0.86540\tvalidation_1-auc:0.84307\n",
      "[22]\tvalidation_0-auc:0.86631\tvalidation_1-auc:0.84285\n",
      "[23]\tvalidation_0-auc:0.86687\tvalidation_1-auc:0.84289\n",
      "[24]\tvalidation_0-auc:0.86777\tvalidation_1-auc:0.84289\n",
      "[25]\tvalidation_0-auc:0.86830\tvalidation_1-auc:0.84279\n",
      "[26]\tvalidation_0-auc:0.86862\tvalidation_1-auc:0.84237\n",
      "[27]\tvalidation_0-auc:0.87011\tvalidation_1-auc:0.84232\n",
      "[28]\tvalidation_0-auc:0.87063\tvalidation_1-auc:0.84224\n",
      "[29]\tvalidation_0-auc:0.87063\tvalidation_1-auc:0.84199\n",
      "[30]\tvalidation_0-auc:0.87108\tvalidation_1-auc:0.84246\n",
      "[31]\tvalidation_0-auc:0.87190\tvalidation_1-auc:0.84252\n",
      "[32]\tvalidation_0-auc:0.87275\tvalidation_1-auc:0.84147\n",
      "[33]\tvalidation_0-auc:0.87302\tvalidation_1-auc:0.84149\n",
      "[34]\tvalidation_0-auc:0.87350\tvalidation_1-auc:0.84118\n",
      "[35]\tvalidation_0-auc:0.87371\tvalidation_1-auc:0.84115\n",
      "[36]\tvalidation_0-auc:0.87407\tvalidation_1-auc:0.84113\n",
      "[37]\tvalidation_0-auc:0.87475\tvalidation_1-auc:0.84038\n",
      "[38]\tvalidation_0-auc:0.87529\tvalidation_1-auc:0.84009\n",
      "[39]\tvalidation_0-auc:0.87540\tvalidation_1-auc:0.83988\n",
      "[40]\tvalidation_0-auc:0.87555\tvalidation_1-auc:0.83984\n",
      "[41]\tvalidation_0-auc:0.87579\tvalidation_1-auc:0.83991\n",
      "[42]\tvalidation_0-auc:0.87630\tvalidation_1-auc:0.83942\n",
      "[43]\tvalidation_0-auc:0.87664\tvalidation_1-auc:0.83926\n",
      "[44]\tvalidation_0-auc:0.87713\tvalidation_1-auc:0.83916\n"
     ]
    },
    {
     "name": "stderr",
     "output_type": "stream",
     "text": [
      "c:\\users\\admin\\appdata\\local\\programs\\python\\python36\\lib\\site-packages\\xgboost\\sklearn.py:1224: UserWarning: The use of label encoder in XGBClassifier is deprecated and will be removed in a future release. To remove this warning, do the following: 1) Pass option use_label_encoder=False when constructing XGBClassifier object; and 2) Encode your labels (y) as integers starting with 0, i.e. 0, 1, 2, ..., [num_class - 1].\n",
      "  warnings.warn(label_encoder_deprecation_msg, UserWarning)\n"
     ]
    },
    {
     "name": "stdout",
     "output_type": "stream",
     "text": [
      "[0]\tvalidation_0-auc:0.81105\tvalidation_1-auc:0.80637\n",
      "[1]\tvalidation_0-auc:0.82008\tvalidation_1-auc:0.81881\n",
      "[2]\tvalidation_0-auc:0.82922\tvalidation_1-auc:0.82532\n",
      "[3]\tvalidation_0-auc:0.83159\tvalidation_1-auc:0.82594\n",
      "[4]\tvalidation_0-auc:0.83378\tvalidation_1-auc:0.82618\n",
      "[5]\tvalidation_0-auc:0.83671\tvalidation_1-auc:0.82887\n",
      "[6]\tvalidation_0-auc:0.84111\tvalidation_1-auc:0.83302\n",
      "[7]\tvalidation_0-auc:0.84227\tvalidation_1-auc:0.83380\n",
      "[8]\tvalidation_0-auc:0.84422\tvalidation_1-auc:0.83346\n",
      "[9]\tvalidation_0-auc:0.84742\tvalidation_1-auc:0.83581\n",
      "[10]\tvalidation_0-auc:0.84984\tvalidation_1-auc:0.83563\n",
      "[11]\tvalidation_0-auc:0.84933\tvalidation_1-auc:0.83344\n",
      "[12]\tvalidation_0-auc:0.85285\tvalidation_1-auc:0.83653\n",
      "[13]\tvalidation_0-auc:0.85494\tvalidation_1-auc:0.83796\n",
      "[14]\tvalidation_0-auc:0.85653\tvalidation_1-auc:0.83880\n",
      "[15]\tvalidation_0-auc:0.85803\tvalidation_1-auc:0.83841\n",
      "[16]\tvalidation_0-auc:0.85922\tvalidation_1-auc:0.83773\n",
      "[17]\tvalidation_0-auc:0.85983\tvalidation_1-auc:0.83709\n",
      "[18]\tvalidation_0-auc:0.86162\tvalidation_1-auc:0.83622\n",
      "[19]\tvalidation_0-auc:0.86232\tvalidation_1-auc:0.83513\n",
      "[20]\tvalidation_0-auc:0.86287\tvalidation_1-auc:0.83518\n",
      "[21]\tvalidation_0-auc:0.86374\tvalidation_1-auc:0.83543\n",
      "[22]\tvalidation_0-auc:0.86416\tvalidation_1-auc:0.83540\n",
      "[23]\tvalidation_0-auc:0.86459\tvalidation_1-auc:0.83510\n",
      "[24]\tvalidation_0-auc:0.86482\tvalidation_1-auc:0.83477\n",
      "[25]\tvalidation_0-auc:0.86526\tvalidation_1-auc:0.83484\n",
      "[26]\tvalidation_0-auc:0.86545\tvalidation_1-auc:0.83473\n",
      "[27]\tvalidation_0-auc:0.86568\tvalidation_1-auc:0.83481\n",
      "[28]\tvalidation_0-auc:0.86578\tvalidation_1-auc:0.83485\n",
      "[29]\tvalidation_0-auc:0.86654\tvalidation_1-auc:0.83501\n",
      "[30]\tvalidation_0-auc:0.86666\tvalidation_1-auc:0.83465\n",
      "[31]\tvalidation_0-auc:0.86790\tvalidation_1-auc:0.83486\n",
      "[32]\tvalidation_0-auc:0.86802\tvalidation_1-auc:0.83488\n",
      "[33]\tvalidation_0-auc:0.86809\tvalidation_1-auc:0.83473\n",
      "[34]\tvalidation_0-auc:0.86821\tvalidation_1-auc:0.83483\n",
      "[35]\tvalidation_0-auc:0.86828\tvalidation_1-auc:0.83508\n",
      "[36]\tvalidation_0-auc:0.86861\tvalidation_1-auc:0.83435\n",
      "[37]\tvalidation_0-auc:0.86866\tvalidation_1-auc:0.83425\n",
      "[38]\tvalidation_0-auc:0.86892\tvalidation_1-auc:0.83451\n",
      "[39]\tvalidation_0-auc:0.86913\tvalidation_1-auc:0.83425\n",
      "[40]\tvalidation_0-auc:0.86939\tvalidation_1-auc:0.83430\n",
      "[41]\tvalidation_0-auc:0.86940\tvalidation_1-auc:0.83443\n",
      "[42]\tvalidation_0-auc:0.86949\tvalidation_1-auc:0.83436\n",
      "[43]\tvalidation_0-auc:0.87013\tvalidation_1-auc:0.83441\n",
      "[44]\tvalidation_0-auc:0.87059\tvalidation_1-auc:0.83365\n"
     ]
    },
    {
     "name": "stderr",
     "output_type": "stream",
     "text": [
      "c:\\users\\admin\\appdata\\local\\programs\\python\\python36\\lib\\site-packages\\xgboost\\sklearn.py:1224: UserWarning: The use of label encoder in XGBClassifier is deprecated and will be removed in a future release. To remove this warning, do the following: 1) Pass option use_label_encoder=False when constructing XGBClassifier object; and 2) Encode your labels (y) as integers starting with 0, i.e. 0, 1, 2, ..., [num_class - 1].\n",
      "  warnings.warn(label_encoder_deprecation_msg, UserWarning)\n"
     ]
    },
    {
     "name": "stdout",
     "output_type": "stream",
     "text": [
      "[0]\tvalidation_0-auc:0.81067\tvalidation_1-auc:0.81109\n",
      "[1]\tvalidation_0-auc:0.82045\tvalidation_1-auc:0.81627\n",
      "[2]\tvalidation_0-auc:0.82760\tvalidation_1-auc:0.82116\n",
      "[3]\tvalidation_0-auc:0.82925\tvalidation_1-auc:0.81730\n",
      "[4]\tvalidation_0-auc:0.83628\tvalidation_1-auc:0.82554\n",
      "[5]\tvalidation_0-auc:0.83889\tvalidation_1-auc:0.82992\n",
      "[6]\tvalidation_0-auc:0.84258\tvalidation_1-auc:0.83304\n",
      "[7]\tvalidation_0-auc:0.84515\tvalidation_1-auc:0.83327\n",
      "[8]\tvalidation_0-auc:0.84797\tvalidation_1-auc:0.83479\n",
      "[9]\tvalidation_0-auc:0.84982\tvalidation_1-auc:0.83737\n",
      "[10]\tvalidation_0-auc:0.84996\tvalidation_1-auc:0.83746\n",
      "[11]\tvalidation_0-auc:0.84929\tvalidation_1-auc:0.83715\n",
      "[12]\tvalidation_0-auc:0.85506\tvalidation_1-auc:0.83957\n",
      "[13]\tvalidation_0-auc:0.85817\tvalidation_1-auc:0.84131\n",
      "[14]\tvalidation_0-auc:0.85945\tvalidation_1-auc:0.84041\n",
      "[15]\tvalidation_0-auc:0.86040\tvalidation_1-auc:0.83984\n",
      "[16]\tvalidation_0-auc:0.86127\tvalidation_1-auc:0.83954\n",
      "[17]\tvalidation_0-auc:0.86170\tvalidation_1-auc:0.83947\n",
      "[18]\tvalidation_0-auc:0.86276\tvalidation_1-auc:0.83945\n",
      "[19]\tvalidation_0-auc:0.86327\tvalidation_1-auc:0.84019\n",
      "[20]\tvalidation_0-auc:0.86381\tvalidation_1-auc:0.84075\n",
      "[21]\tvalidation_0-auc:0.86454\tvalidation_1-auc:0.84078\n",
      "[22]\tvalidation_0-auc:0.86530\tvalidation_1-auc:0.84164\n",
      "[23]\tvalidation_0-auc:0.86598\tvalidation_1-auc:0.84128\n",
      "[24]\tvalidation_0-auc:0.86656\tvalidation_1-auc:0.84078\n",
      "[25]\tvalidation_0-auc:0.86721\tvalidation_1-auc:0.84069\n",
      "[26]\tvalidation_0-auc:0.86745\tvalidation_1-auc:0.84066\n",
      "[27]\tvalidation_0-auc:0.86808\tvalidation_1-auc:0.84017\n",
      "[28]\tvalidation_0-auc:0.86914\tvalidation_1-auc:0.84027\n",
      "[29]\tvalidation_0-auc:0.86951\tvalidation_1-auc:0.84014\n",
      "[30]\tvalidation_0-auc:0.86972\tvalidation_1-auc:0.84016\n",
      "[31]\tvalidation_0-auc:0.86996\tvalidation_1-auc:0.83992\n",
      "[32]\tvalidation_0-auc:0.87072\tvalidation_1-auc:0.84001\n",
      "[33]\tvalidation_0-auc:0.87090\tvalidation_1-auc:0.83997\n",
      "[34]\tvalidation_0-auc:0.87111\tvalidation_1-auc:0.83969\n",
      "[35]\tvalidation_0-auc:0.87145\tvalidation_1-auc:0.83964\n",
      "[36]\tvalidation_0-auc:0.87215\tvalidation_1-auc:0.84006\n",
      "[37]\tvalidation_0-auc:0.87242\tvalidation_1-auc:0.83987\n",
      "[38]\tvalidation_0-auc:0.87262\tvalidation_1-auc:0.83995\n",
      "[39]\tvalidation_0-auc:0.87270\tvalidation_1-auc:0.84021\n",
      "[40]\tvalidation_0-auc:0.87275\tvalidation_1-auc:0.84066\n",
      "[41]\tvalidation_0-auc:0.87323\tvalidation_1-auc:0.84095\n",
      "[42]\tvalidation_0-auc:0.87372\tvalidation_1-auc:0.84074\n",
      "[43]\tvalidation_0-auc:0.87433\tvalidation_1-auc:0.84057\n",
      "[44]\tvalidation_0-auc:0.87440\tvalidation_1-auc:0.84028\n",
      "[45]\tvalidation_0-auc:0.87511\tvalidation_1-auc:0.84011\n",
      "[46]\tvalidation_0-auc:0.87553\tvalidation_1-auc:0.83972\n",
      "[47]\tvalidation_0-auc:0.87606\tvalidation_1-auc:0.83880\n",
      "[48]\tvalidation_0-auc:0.87630\tvalidation_1-auc:0.83876\n",
      "[49]\tvalidation_0-auc:0.87629\tvalidation_1-auc:0.83900\n",
      "[50]\tvalidation_0-auc:0.87637\tvalidation_1-auc:0.83902\n",
      "[51]\tvalidation_0-auc:0.87649\tvalidation_1-auc:0.83930\n",
      "[52]\tvalidation_0-auc:0.87650\tvalidation_1-auc:0.83930\n"
     ]
    },
    {
     "name": "stderr",
     "output_type": "stream",
     "text": [
      "c:\\users\\admin\\appdata\\local\\programs\\python\\python36\\lib\\site-packages\\xgboost\\sklearn.py:1224: UserWarning: The use of label encoder in XGBClassifier is deprecated and will be removed in a future release. To remove this warning, do the following: 1) Pass option use_label_encoder=False when constructing XGBClassifier object; and 2) Encode your labels (y) as integers starting with 0, i.e. 0, 1, 2, ..., [num_class - 1].\n",
      "  warnings.warn(label_encoder_deprecation_msg, UserWarning)\n"
     ]
    },
    {
     "name": "stdout",
     "output_type": "stream",
     "text": [
      "[0]\tvalidation_0-auc:0.81835\tvalidation_1-auc:0.81691\n",
      "[1]\tvalidation_0-auc:0.82862\tvalidation_1-auc:0.82346\n",
      "[2]\tvalidation_0-auc:0.83280\tvalidation_1-auc:0.82893\n",
      "[3]\tvalidation_0-auc:0.83563\tvalidation_1-auc:0.82931\n",
      "[4]\tvalidation_0-auc:0.83780\tvalidation_1-auc:0.83200\n",
      "[5]\tvalidation_0-auc:0.83975\tvalidation_1-auc:0.83280\n",
      "[6]\tvalidation_0-auc:0.84205\tvalidation_1-auc:0.83374\n",
      "[7]\tvalidation_0-auc:0.84453\tvalidation_1-auc:0.83256\n",
      "[8]\tvalidation_0-auc:0.84638\tvalidation_1-auc:0.83384\n",
      "[9]\tvalidation_0-auc:0.84986\tvalidation_1-auc:0.83670\n",
      "[10]\tvalidation_0-auc:0.85058\tvalidation_1-auc:0.83825\n",
      "[11]\tvalidation_0-auc:0.84986\tvalidation_1-auc:0.83646\n",
      "[12]\tvalidation_0-auc:0.85321\tvalidation_1-auc:0.83744\n",
      "[13]\tvalidation_0-auc:0.85478\tvalidation_1-auc:0.83942\n",
      "[14]\tvalidation_0-auc:0.85613\tvalidation_1-auc:0.84091\n",
      "[15]\tvalidation_0-auc:0.85709\tvalidation_1-auc:0.84170\n",
      "[16]\tvalidation_0-auc:0.85891\tvalidation_1-auc:0.84239\n",
      "[17]\tvalidation_0-auc:0.86023\tvalidation_1-auc:0.84215\n",
      "[18]\tvalidation_0-auc:0.86146\tvalidation_1-auc:0.84247\n",
      "[19]\tvalidation_0-auc:0.86202\tvalidation_1-auc:0.84237\n",
      "[20]\tvalidation_0-auc:0.86268\tvalidation_1-auc:0.84152\n",
      "[21]\tvalidation_0-auc:0.86342\tvalidation_1-auc:0.84132\n",
      "[22]\tvalidation_0-auc:0.86492\tvalidation_1-auc:0.84044\n",
      "[23]\tvalidation_0-auc:0.86602\tvalidation_1-auc:0.84073\n",
      "[24]\tvalidation_0-auc:0.86688\tvalidation_1-auc:0.84082\n",
      "[25]\tvalidation_0-auc:0.86779\tvalidation_1-auc:0.84074\n",
      "[26]\tvalidation_0-auc:0.86849\tvalidation_1-auc:0.84076\n",
      "[27]\tvalidation_0-auc:0.86910\tvalidation_1-auc:0.84096\n",
      "[28]\tvalidation_0-auc:0.86931\tvalidation_1-auc:0.84113\n",
      "[29]\tvalidation_0-auc:0.86974\tvalidation_1-auc:0.84187\n",
      "[30]\tvalidation_0-auc:0.87070\tvalidation_1-auc:0.84167\n",
      "[31]\tvalidation_0-auc:0.87108\tvalidation_1-auc:0.84174\n",
      "[32]\tvalidation_0-auc:0.87123\tvalidation_1-auc:0.84166\n",
      "[33]\tvalidation_0-auc:0.87153\tvalidation_1-auc:0.84142\n",
      "[34]\tvalidation_0-auc:0.87214\tvalidation_1-auc:0.84153\n",
      "[35]\tvalidation_0-auc:0.87289\tvalidation_1-auc:0.84147\n",
      "[36]\tvalidation_0-auc:0.87329\tvalidation_1-auc:0.84136\n",
      "[37]\tvalidation_0-auc:0.87345\tvalidation_1-auc:0.84116\n",
      "[38]\tvalidation_0-auc:0.87355\tvalidation_1-auc:0.84114\n",
      "[39]\tvalidation_0-auc:0.87411\tvalidation_1-auc:0.84087\n",
      "[40]\tvalidation_0-auc:0.87419\tvalidation_1-auc:0.84088\n",
      "[41]\tvalidation_0-auc:0.87540\tvalidation_1-auc:0.84065\n",
      "[42]\tvalidation_0-auc:0.87576\tvalidation_1-auc:0.84078\n",
      "[43]\tvalidation_0-auc:0.87598\tvalidation_1-auc:0.84097\n",
      "[44]\tvalidation_0-auc:0.87646\tvalidation_1-auc:0.84047\n",
      "[45]\tvalidation_0-auc:0.87666\tvalidation_1-auc:0.84048\n",
      "[46]\tvalidation_0-auc:0.87670\tvalidation_1-auc:0.84016\n",
      "[47]\tvalidation_0-auc:0.87719\tvalidation_1-auc:0.84000\n"
     ]
    },
    {
     "name": "stderr",
     "output_type": "stream",
     "text": [
      "c:\\users\\admin\\appdata\\local\\programs\\python\\python36\\lib\\site-packages\\xgboost\\sklearn.py:1224: UserWarning: The use of label encoder in XGBClassifier is deprecated and will be removed in a future release. To remove this warning, do the following: 1) Pass option use_label_encoder=False when constructing XGBClassifier object; and 2) Encode your labels (y) as integers starting with 0, i.e. 0, 1, 2, ..., [num_class - 1].\n",
      "  warnings.warn(label_encoder_deprecation_msg, UserWarning)\n"
     ]
    },
    {
     "name": "stdout",
     "output_type": "stream",
     "text": [
      "[0]\tvalidation_0-auc:0.81685\tvalidation_1-auc:0.81075\n",
      "[1]\tvalidation_0-auc:0.82791\tvalidation_1-auc:0.82283\n",
      "[2]\tvalidation_0-auc:0.83537\tvalidation_1-auc:0.82615\n",
      "[3]\tvalidation_0-auc:0.83996\tvalidation_1-auc:0.82712\n",
      "[4]\tvalidation_0-auc:0.84558\tvalidation_1-auc:0.82791\n",
      "[5]\tvalidation_0-auc:0.84781\tvalidation_1-auc:0.82977\n",
      "[6]\tvalidation_0-auc:0.85151\tvalidation_1-auc:0.83373\n",
      "[7]\tvalidation_0-auc:0.85510\tvalidation_1-auc:0.83444\n",
      "[8]\tvalidation_0-auc:0.85998\tvalidation_1-auc:0.83601\n",
      "[9]\tvalidation_0-auc:0.86238\tvalidation_1-auc:0.83804\n",
      "[10]\tvalidation_0-auc:0.86435\tvalidation_1-auc:0.83584\n",
      "[11]\tvalidation_0-auc:0.86583\tvalidation_1-auc:0.83093\n",
      "[12]\tvalidation_0-auc:0.87079\tvalidation_1-auc:0.83235\n",
      "[13]\tvalidation_0-auc:0.87454\tvalidation_1-auc:0.83253\n",
      "[14]\tvalidation_0-auc:0.87642\tvalidation_1-auc:0.83254\n",
      "[15]\tvalidation_0-auc:0.87856\tvalidation_1-auc:0.83218\n",
      "[16]\tvalidation_0-auc:0.87973\tvalidation_1-auc:0.83171\n",
      "[17]\tvalidation_0-auc:0.88122\tvalidation_1-auc:0.83115\n",
      "[18]\tvalidation_0-auc:0.88256\tvalidation_1-auc:0.83119\n",
      "[19]\tvalidation_0-auc:0.88330\tvalidation_1-auc:0.83139\n",
      "[20]\tvalidation_0-auc:0.88408\tvalidation_1-auc:0.83082\n",
      "[21]\tvalidation_0-auc:0.88505\tvalidation_1-auc:0.83044\n",
      "[22]\tvalidation_0-auc:0.88631\tvalidation_1-auc:0.83025\n",
      "[23]\tvalidation_0-auc:0.88670\tvalidation_1-auc:0.83047\n",
      "[24]\tvalidation_0-auc:0.88740\tvalidation_1-auc:0.82903\n",
      "[25]\tvalidation_0-auc:0.88770\tvalidation_1-auc:0.82895\n",
      "[26]\tvalidation_0-auc:0.88793\tvalidation_1-auc:0.82913\n",
      "[27]\tvalidation_0-auc:0.88808\tvalidation_1-auc:0.82881\n",
      "[28]\tvalidation_0-auc:0.88830\tvalidation_1-auc:0.82901\n",
      "[29]\tvalidation_0-auc:0.88834\tvalidation_1-auc:0.82910\n",
      "[30]\tvalidation_0-auc:0.88894\tvalidation_1-auc:0.82854\n",
      "[31]\tvalidation_0-auc:0.88898\tvalidation_1-auc:0.82859\n",
      "[32]\tvalidation_0-auc:0.88914\tvalidation_1-auc:0.82837\n",
      "[33]\tvalidation_0-auc:0.88935\tvalidation_1-auc:0.82847\n",
      "[34]\tvalidation_0-auc:0.89037\tvalidation_1-auc:0.82891\n",
      "[35]\tvalidation_0-auc:0.89097\tvalidation_1-auc:0.82869\n",
      "[36]\tvalidation_0-auc:0.89158\tvalidation_1-auc:0.82814\n",
      "[37]\tvalidation_0-auc:0.89167\tvalidation_1-auc:0.82822\n",
      "[38]\tvalidation_0-auc:0.89184\tvalidation_1-auc:0.82764\n"
     ]
    },
    {
     "name": "stderr",
     "output_type": "stream",
     "text": [
      "c:\\users\\admin\\appdata\\local\\programs\\python\\python36\\lib\\site-packages\\xgboost\\sklearn.py:1224: UserWarning: The use of label encoder in XGBClassifier is deprecated and will be removed in a future release. To remove this warning, do the following: 1) Pass option use_label_encoder=False when constructing XGBClassifier object; and 2) Encode your labels (y) as integers starting with 0, i.e. 0, 1, 2, ..., [num_class - 1].\n",
      "  warnings.warn(label_encoder_deprecation_msg, UserWarning)\n"
     ]
    },
    {
     "name": "stdout",
     "output_type": "stream",
     "text": [
      "[0]\tvalidation_0-auc:0.81432\tvalidation_1-auc:0.80561\n",
      "[1]\tvalidation_0-auc:0.82773\tvalidation_1-auc:0.81858\n",
      "[2]\tvalidation_0-auc:0.83521\tvalidation_1-auc:0.82197\n",
      "[3]\tvalidation_0-auc:0.84270\tvalidation_1-auc:0.82752\n",
      "[4]\tvalidation_0-auc:0.84818\tvalidation_1-auc:0.83067\n",
      "[5]\tvalidation_0-auc:0.85320\tvalidation_1-auc:0.83293\n",
      "[6]\tvalidation_0-auc:0.85966\tvalidation_1-auc:0.83461\n",
      "[7]\tvalidation_0-auc:0.86215\tvalidation_1-auc:0.83669\n",
      "[8]\tvalidation_0-auc:0.86492\tvalidation_1-auc:0.83749\n",
      "[9]\tvalidation_0-auc:0.86708\tvalidation_1-auc:0.83803\n",
      "[10]\tvalidation_0-auc:0.86784\tvalidation_1-auc:0.83916\n",
      "[11]\tvalidation_0-auc:0.86926\tvalidation_1-auc:0.83507\n",
      "[12]\tvalidation_0-auc:0.87505\tvalidation_1-auc:0.83780\n",
      "[13]\tvalidation_0-auc:0.87858\tvalidation_1-auc:0.83724\n",
      "[14]\tvalidation_0-auc:0.88059\tvalidation_1-auc:0.83823\n",
      "[15]\tvalidation_0-auc:0.88238\tvalidation_1-auc:0.83917\n",
      "[16]\tvalidation_0-auc:0.88360\tvalidation_1-auc:0.83884\n",
      "[17]\tvalidation_0-auc:0.88479\tvalidation_1-auc:0.83815\n",
      "[18]\tvalidation_0-auc:0.88592\tvalidation_1-auc:0.83772\n",
      "[19]\tvalidation_0-auc:0.88673\tvalidation_1-auc:0.83853\n",
      "[20]\tvalidation_0-auc:0.88717\tvalidation_1-auc:0.83800\n",
      "[21]\tvalidation_0-auc:0.88813\tvalidation_1-auc:0.83800\n",
      "[22]\tvalidation_0-auc:0.88868\tvalidation_1-auc:0.83811\n",
      "[23]\tvalidation_0-auc:0.88983\tvalidation_1-auc:0.83780\n",
      "[24]\tvalidation_0-auc:0.89034\tvalidation_1-auc:0.83731\n",
      "[25]\tvalidation_0-auc:0.89095\tvalidation_1-auc:0.83717\n",
      "[26]\tvalidation_0-auc:0.89144\tvalidation_1-auc:0.83694\n",
      "[27]\tvalidation_0-auc:0.89201\tvalidation_1-auc:0.83660\n",
      "[28]\tvalidation_0-auc:0.89275\tvalidation_1-auc:0.83711\n",
      "[29]\tvalidation_0-auc:0.89285\tvalidation_1-auc:0.83771\n",
      "[30]\tvalidation_0-auc:0.89306\tvalidation_1-auc:0.83717\n",
      "[31]\tvalidation_0-auc:0.89335\tvalidation_1-auc:0.83704\n",
      "[32]\tvalidation_0-auc:0.89410\tvalidation_1-auc:0.83731\n",
      "[33]\tvalidation_0-auc:0.89482\tvalidation_1-auc:0.83674\n",
      "[34]\tvalidation_0-auc:0.89587\tvalidation_1-auc:0.83723\n",
      "[35]\tvalidation_0-auc:0.89607\tvalidation_1-auc:0.83724\n",
      "[36]\tvalidation_0-auc:0.89652\tvalidation_1-auc:0.83646\n",
      "[37]\tvalidation_0-auc:0.89677\tvalidation_1-auc:0.83664\n",
      "[38]\tvalidation_0-auc:0.89692\tvalidation_1-auc:0.83654\n",
      "[39]\tvalidation_0-auc:0.89734\tvalidation_1-auc:0.83618\n",
      "[40]\tvalidation_0-auc:0.89849\tvalidation_1-auc:0.83615\n",
      "[41]\tvalidation_0-auc:0.89850\tvalidation_1-auc:0.83613\n",
      "[42]\tvalidation_0-auc:0.89860\tvalidation_1-auc:0.83601\n",
      "[43]\tvalidation_0-auc:0.89856\tvalidation_1-auc:0.83532\n",
      "[44]\tvalidation_0-auc:0.89867\tvalidation_1-auc:0.83517\n",
      "[45]\tvalidation_0-auc:0.89880\tvalidation_1-auc:0.83530\n"
     ]
    },
    {
     "name": "stderr",
     "output_type": "stream",
     "text": [
      "c:\\users\\admin\\appdata\\local\\programs\\python\\python36\\lib\\site-packages\\xgboost\\sklearn.py:1224: UserWarning: The use of label encoder in XGBClassifier is deprecated and will be removed in a future release. To remove this warning, do the following: 1) Pass option use_label_encoder=False when constructing XGBClassifier object; and 2) Encode your labels (y) as integers starting with 0, i.e. 0, 1, 2, ..., [num_class - 1].\n",
      "  warnings.warn(label_encoder_deprecation_msg, UserWarning)\n"
     ]
    },
    {
     "name": "stdout",
     "output_type": "stream",
     "text": [
      "[0]\tvalidation_0-auc:0.82507\tvalidation_1-auc:0.81932\n",
      "[1]\tvalidation_0-auc:0.83077\tvalidation_1-auc:0.82081\n",
      "[2]\tvalidation_0-auc:0.83704\tvalidation_1-auc:0.82829\n",
      "[3]\tvalidation_0-auc:0.84184\tvalidation_1-auc:0.83011\n",
      "[4]\tvalidation_0-auc:0.84747\tvalidation_1-auc:0.83438\n",
      "[5]\tvalidation_0-auc:0.85320\tvalidation_1-auc:0.83489\n",
      "[6]\tvalidation_0-auc:0.85706\tvalidation_1-auc:0.83487\n",
      "[7]\tvalidation_0-auc:0.86253\tvalidation_1-auc:0.83489\n",
      "[8]\tvalidation_0-auc:0.86436\tvalidation_1-auc:0.83406\n",
      "[9]\tvalidation_0-auc:0.86657\tvalidation_1-auc:0.83491\n",
      "[10]\tvalidation_0-auc:0.86829\tvalidation_1-auc:0.83443\n",
      "[11]\tvalidation_0-auc:0.86897\tvalidation_1-auc:0.83444\n",
      "[12]\tvalidation_0-auc:0.87503\tvalidation_1-auc:0.83503\n",
      "[13]\tvalidation_0-auc:0.87822\tvalidation_1-auc:0.83527\n",
      "[14]\tvalidation_0-auc:0.88100\tvalidation_1-auc:0.83735\n",
      "[15]\tvalidation_0-auc:0.88255\tvalidation_1-auc:0.83832\n",
      "[16]\tvalidation_0-auc:0.88487\tvalidation_1-auc:0.83666\n",
      "[17]\tvalidation_0-auc:0.88664\tvalidation_1-auc:0.83625\n",
      "[18]\tvalidation_0-auc:0.88697\tvalidation_1-auc:0.83559\n",
      "[19]\tvalidation_0-auc:0.88789\tvalidation_1-auc:0.83546\n",
      "[20]\tvalidation_0-auc:0.88883\tvalidation_1-auc:0.83529\n",
      "[21]\tvalidation_0-auc:0.89000\tvalidation_1-auc:0.83494\n",
      "[22]\tvalidation_0-auc:0.89167\tvalidation_1-auc:0.83342\n",
      "[23]\tvalidation_0-auc:0.89222\tvalidation_1-auc:0.83397\n",
      "[24]\tvalidation_0-auc:0.89264\tvalidation_1-auc:0.83420\n",
      "[25]\tvalidation_0-auc:0.89306\tvalidation_1-auc:0.83461\n",
      "[26]\tvalidation_0-auc:0.89394\tvalidation_1-auc:0.83459\n",
      "[27]\tvalidation_0-auc:0.89431\tvalidation_1-auc:0.83497\n",
      "[28]\tvalidation_0-auc:0.89482\tvalidation_1-auc:0.83437\n",
      "[29]\tvalidation_0-auc:0.89489\tvalidation_1-auc:0.83446\n"
     ]
    }
   ],
   "source": [
    "# XGBoost의 하이퍼 파라미터 튜닝\n",
    "# max_depth, min_child_weight, colsample_bytree 하이퍼 파라미터만 일차 튜닝\n",
    "from sklearn.model_selection import GridSearchCV\n",
    "\n",
    "# 하이퍼 파라미터 테스트의 수행 속도를 향상시키기 위해 n_estimators를 100으로 감소\n",
    "xgb_clf = XGBClassifier(n_estimators = 100)\n",
    "\n",
    "params = {'max_depth':[5, 7], 'min_child_weight':[1, 3], 'colsample_bytree':[0.5, 0.75]}\n",
    "\n",
    "# cv는 3으로 지정\n",
    "gridcv = GridSearchCV(xgb_clf, param_grid = params, cv = 3)\n",
    "gridcv.fit(X_train, y_train, early_stopping_rounds = 30, eval_metric = 'auc',\n",
    "           eval_set = [(X_train, y_train), (X_test, y_test)])\n",
    "\n",
    "print('GridSearchCV 최적 파라미터:', gridcv.best_params_)\n",
    "\n",
    "xgb_roc_score = roc_auc_score(y_test, gridcv.predict_proba(X_test)[:, 1], average = 'macro')\n",
    "print('ROC AUC: {0:.4f}'.format(xgb_roc_score))"
   ],
   "metadata": {
    "collapsed": false,
    "pycharm": {
     "name": "#%%\n",
     "is_executing": true
    }
   }
  },
  {
   "cell_type": "code",
   "execution_count": null,
   "outputs": [],
   "source": [
    "# 다른 하이퍼 파라미터를 변경 또는 추가해 다시 최적화 진행\n",
    "# n_estimators는 1000으로 증가시키고, learning_rate = 0.02로 감소, reg_alpha = 0.03으로 추가\n",
    "xgb_clf = XGBClassifier(n_estimators = 1000, random_state = 156, learning_rate = 0.02, max_depth = 5,\n",
    "                        min_child_weight = 1, colsample_bytree = 0.5, reg_alpha = 0.03)\n",
    "\n",
    "# 성능 평가 지표를 auc로, 조기 중단 파라미터 값은 200으로 설정하고 학습 수행\n",
    "xgb_clf.fit(X_train, y_train, early_stopping_rounds = 200,\n",
    "            eval_metric = 'auc', eval_set = [(X_train, y_train), (X_test, y_test)])\n",
    "\n",
    "xgb_roc_score = roc_auc_score(y_test, xgb_clf.predict_proba(X_test)[:, 1], average = 'macro')\n",
    "print('ROC AUC: {0:.4f}'.format(xgb_roc_score))"
   ],
   "metadata": {
    "collapsed": false,
    "pycharm": {
     "name": "#%%\n",
     "is_executing": true
    }
   }
  },
  {
   "cell_type": "code",
   "execution_count": null,
   "outputs": [],
   "source": [
    "# 튜닝된 모델에서 각 피처의 중요도를 피처 중요도 그래프로 표시\n",
    "from xgboost import plot_importance\n",
    "import matplotlib.pyplot as plt\n",
    "%matplotlib inline\n",
    "\n",
    "fig, ax = plt.subplots(1, 1, figsize = (10, 8))\n",
    "plot_importance(xgb_clf, ax = ax, max_num_features = 20, height = 0.4)"
   ],
   "metadata": {
    "collapsed": false,
    "pycharm": {
     "name": "#%%\n",
     "is_executing": true
    }
   }
  },
  {
   "cell_type": "markdown",
   "source": [
    "## 3. LightGBM 모델 학습과 하이퍼 파라미터 튜닝\n",
    "- 앞에서 만들어진 데이터 세트를 기반으로 LightGBM으로 학습을 수행하고, ROC-AUC 측정\n",
    "- n_estimators = 500, early_stopping_rounds = 100, 평가 데이터 테스트는 테스트 데이터 세트, eval_metric은 auc로 설정한다."
   ],
   "metadata": {
    "collapsed": false
   }
  },
  {
   "cell_type": "code",
   "execution_count": null,
   "outputs": [],
   "source": [
    "from lightgbm import LGBMClassifier\n",
    "\n",
    "lgbm_clf = LGBMClassifier(n_estimators = 500)\n",
    "\n",
    "evals = [(X_test, y_test)]\n",
    "lgbm_clf.fit(X_train, y_train, early_stopping_rounds = 100, eval_metric = 'auc', eval_set = evals, verbose = True)\n",
    "\n",
    "lgbm_roc_score = roc_auc_score(y_test, lgbm_clf.predict_proba(X_test)[:, 1], average = 'macro')\n",
    "print('ROC AUC: {0:.4f}'.format(lgbm_roc_score))"
   ],
   "metadata": {
    "collapsed": false,
    "pycharm": {
     "name": "#%%\n",
     "is_executing": true
    }
   }
  },
  {
   "cell_type": "code",
   "execution_count": null,
   "outputs": [],
   "source": [
    "# GridSearchCV를 이용해 다양한 하이퍼 파라미터에 대한 튜닝 수행\n",
    "# 튜닝 대상은 num_leaves, max_depth, min_child_samples, subsample\n",
    "from sklearn.model_selection import GridSearchCV\n",
    "\n",
    "# 하이퍼 파라미터 테스트의 수행 속도를 향상시키기 위해 n_estimators를 200으로 감소\n",
    "lgbm_clf = LGBMClassifier(n_estimators = 200)\n",
    "\n",
    "params = {'num_leaves' : [32, 64],\n",
    "          'max_depth' : [128, 160],\n",
    "          'min_child_samples' : [60, 1000],\n",
    "          'subsample' : [0.8, 1]}\n",
    "\n",
    "# cv는 3으로 지정\n",
    "gridcv = GridSearchCV(lgbm_clf, param_grid = params, cv = 3)\n",
    "gridcv.fit(X_train, y_train, early_stopping_rounds = 30, eval_metric = 'auc',\n",
    "           eval_set = [(X_train, y_train), (X_test, y_test)])\n",
    "\n",
    "print('GridSearchCV 최적 파라미터:', gridcv.best_params_)\n",
    "lgbm_roc_score = roc_auc_score(y_test, gridcv.predict_proba(X_test)[:, 1], average = 'macro')\n",
    "print('ROC AUC: {0:.4f}'.format(lgbm_roc_score))"
   ],
   "metadata": {
    "collapsed": false,
    "pycharm": {
     "name": "#%%\n",
     "is_executing": true
    }
   }
  },
  {
   "cell_type": "code",
   "execution_count": null,
   "outputs": [],
   "source": [
    "lgbm_clf = LGBMClassifier(n_estimators = 1000, num_leaves = 64, subsample = 0.8, min_child_samples = 60,\n",
    "                          max_depth = 128)\n",
    "evals = [(X_test, y_test)]\n",
    "lgbm_clf.fit(X_train, y_train, early_stopping_rounds = 100, eval_metric = 'auc', eval_set = evals, verbose = True)\n",
    "\n",
    "lgbm_roc_score = roc_auc_score(y_test, lgbm_clf.predict_proba(X_test)[:, 1], average = 'macro')\n",
    "print('ROC AUC: {0:.4f}'.format(lgbm_roc_score))"
   ],
   "metadata": {
    "collapsed": false,
    "pycharm": {
     "name": "#%%\n",
     "is_executing": true
    }
   }
  },
  {
   "cell_type": "code",
   "execution_count": null,
   "outputs": [],
   "source": [],
   "metadata": {
    "collapsed": false,
    "pycharm": {
     "name": "#%%\n"
    }
   }
  },
  {
   "cell_type": "markdown",
   "source": [
    "# 분류 실습 - 캐글 신용카드 사기 검출\n",
    "- 레이블 : Class\n",
    "- Class = 1 : 신용카드 사기 트랜잭션\n",
    "- Class = 0 : 정상적인 신용카드 트랜잭션\n",
    "- 전체 데이터의 약 0.172%만이 레이블 값이 1, 즉 사기 트랜잭션이다."
   ],
   "metadata": {
    "collapsed": false
   }
  },
  {
   "cell_type": "markdown",
   "source": [
    "### 언더 샘플링과 오버 샘플링의 이해\n",
    "#### 배경\n",
    "- 레이블이 불균형한 분포를 가진 데이터 세트를 학습시킬 때, 예측 성능의 문제가 발생한다.\n",
    "- 이상 레이블을 가지는 데이터 건수는 매우 작기 때문에 제대로 다양한 유형을 학습하지 못하는 반면, 정상 레이블을 가지는 데이터 건수는 매우 많기 때문에 일방적으로 정상 레이블로 치우친 학습을 수행해 제대로 된 이상 데이터 검출이 어렵다.\n",
    "\n",
    "#### 해결방안\n",
    "\n",
    "- 지도학습에서 극도로 불균형한 레이블 값 분포로 인한 문제점을 해결하기 위해서는, 적절한 학습 데이터를 확보하는 방안이 필요하다.\n",
    "\n",
    "#### 오버 샘플링 (Oversampling)\n",
    "- 예측 성능상 더 유리한 경우가 많아 주로 사용\n",
    "- 적은 데이터 세트를 증식하여 학습을 위한 충분한 데이터를 확보\n",
    "\n",
    "#### SMOTE 방법\n",
    "- 적은 데이터 세트의 개별 데이터들의 KNN을 찾아 이 데이터와 K개의 이웃들의 차이를 일정 값으로 만들어서 기존 데이터와 약간씩 차이가 나는 새로운 데이터들을 생성하는 방식\n",
    "\n",
    "#### 언더 샘플링 (Undersampling)\n",
    "- 많은 데이터 세트를 적은 데이터 세트 수준으로 감소\n",
    "- 너무 많은 정상 레이블 데이터를 감소시키므로, 정상 레이블의 경우 오히려 제대로 된 학습을 수행할 수 없다는 단점"
   ],
   "metadata": {
    "collapsed": false
   }
  },
  {
   "cell_type": "code",
   "execution_count": null,
   "outputs": [],
   "source": [],
   "metadata": {
    "collapsed": false,
    "pycharm": {
     "name": "#%%\n"
    }
   }
  }
 ],
 "metadata": {
  "kernelspec": {
   "display_name": "Python 3",
   "language": "python",
   "name": "python3"
  },
  "language_info": {
   "codemirror_mode": {
    "name": "ipython",
    "version": 2
   },
   "file_extension": ".py",
   "mimetype": "text/x-python",
   "name": "python",
   "nbconvert_exporter": "python",
   "pygments_lexer": "ipython2",
   "version": "2.7.6"
  }
 },
 "nbformat": 4,
 "nbformat_minor": 0
}