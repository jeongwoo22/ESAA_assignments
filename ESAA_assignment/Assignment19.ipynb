{
 "cells": [
  {
   "cell_type": "markdown",
   "source": [
    "# 1. 규제 선형 모델 - 릿지, 라쏘, 엘라스틱넷\n",
    "## 1-1. 규제 선형 모델의 개요\n",
    "- 좋은 회귀 모델은 적절히 데이터에 적합하면서도 회귀 계수가 기하급수적으로 커지는 것을 제어해야 한다.\n",
    "- 이전까지 선형 모델의 비용 함수는 RSS를 최소화하는, 즉 실제값과 예측값의 차이를 최소화하는 것만 고려했다.\n",
    "- 비용 함수 목표 = alpha는 학습 데이터 적합 정도와 회귀 계수 값의 크기 제어를 수행하는 튜닝 파라미터로 값에 따라 다른 역할을 한다.\n",
    "\n",
    "- alpha = 0: 비용 함수 식은 기존과 동일한\n",
    "- alpha = 무한대: 비용 함수 식은 RSS(W)에 비해 너무 커지므로 W 값을 0으로 만들어야 Cost가 최소화되는 비용 함수 목표를 달성할 수 있다.\n",
    "- alpha를 0에서부터 지속적으로 값을 증가시키면 회귀 계수 값의 크기를 감소시킬 수 있다.\n",
    "- 비용 함수에 alpha 값으로 페널티를 부여하여 회귀 계수 값의 크기를 감소시켜 과적합을 개선하는 방식을 규제(Regularization)라고 한다.\n",
    "\n",
    "- 규제는 크게 L2 방식과 L1 방식으로 구분된다.\n",
    "- L2 규제는 위에서 설명한 바와 W의 제곱에 대해 페널티를 부여하는 방식을 말하며, L2 규제를 적용한 회귀를 릿지 회귀라고 한다.\n",
    "- L1 규제는 처럼 W의 절대값에 대해 페널티를 부여하는 방식을 말하며, L1 규제를 적용한 회귀를 라쏘 회귀라고 한다. L1 규제를 적용하면 영향력이 크지 않은 회귀 계수 값을 0으로 변환한다.\n",
    "\n",
    "## 2. 릿지(Ridge) 회귀\n",
    "- 사이킷런의 Ridge 클래스를 이용하여 릿지 회귀를 구현한다.\n",
    "- Ridge 클래스의 주요 생성 파라미터는 alpha이며, 이는 릿지 회귀의 alpha L2 규제 계수에 해당한다.\n",
    "- 보스턴 주택 가격을 Ridge 클래스를 이용하여 다시 예측하고, 예측 성능을 cross_val_score()로 평가한다.\n",
    "- 릿지의 5개 폴드 세트의 평균 RMSE가 5.518로, 규제가 없는 LinearRegression의 RMSE 평균인 5.829보다 더 뛰어난 예측 성능을 보인다"
   ],
   "metadata": {
    "collapsed": false
   }
  },
  {
   "cell_type": "code",
   "execution_count": 1,
   "metadata": {
    "collapsed": true
   },
   "outputs": [],
   "source": [
    "import pandas as pd\n",
    "\n",
    "# boston 데이터 세트 로드\n",
    "from sklearn.datasets import load_boston\n",
    "boston = load_boston()\n",
    "\n",
    "# boston 데이터 세트 DataFrame 변환\n",
    "bostonDF = pd.DataFrame(boston.data, columns=boston.feature_names)\n",
    "\n",
    "# boston 데이터 세트의 target 배열은 주택 가격이며 이를 PRICE 칼럼으로 DataFrame에 추가\n",
    "bostonDF['PRICE'] = boston.target"
   ]
  },
  {
   "cell_type": "code",
   "execution_count": 2,
   "outputs": [
    {
     "name": "stdout",
     "output_type": "stream",
     "text": [
      "5 folds의 개별 Negative MSE scores: [-11.422 -24.294 -28.144 -74.599 -28.517]\n",
      "5 folds의 개별 MSE scores: [11.422 24.294 28.144 74.599 28.517]\n",
      "5 folds의 개별 RMSE scores: [3.38  4.929 5.305 8.637 5.34 ]\n",
      "5 folds의 평균 RMSE: 5.518\n"
     ]
    }
   ],
   "source": [
    "y_target = bostonDF['PRICE']\n",
    "X_data = bostonDF.drop(['PRICE'], axis=1, inplace=False)\n",
    "\n",
    "from sklearn.linear_model import Ridge\n",
    "# alpha=10으로 설정하여 릿지 회귀를 수행\n",
    "ridge = Ridge(alpha=10)\n",
    "\n",
    "# cross_val_score()로 5개 폴드 세트로 MSE를 구한 뒤 이를 기반으로 다시 RMSE를 구함\n",
    "import numpy as np\n",
    "from sklearn.model_selection import cross_val_score\n",
    "neg_mse_scores = cross_val_score(ridge, X_data, y_target, scoring=\"neg_mean_squared_error\", cv=5)\n",
    "mse_scores = -1 * neg_mse_scores\n",
    "rmse_scores = np.sqrt(mse_scores)\n",
    "avg_rmse = np.mean(rmse_scores)\n",
    "\n",
    "# cross_val_score(scoring=\"neg_mean_squared_error\")로 반환된 값은 모두 음수\n",
    "print(\"5 folds의 개별 Negative MSE scores:\", np.round(neg_mse_scores, 3))\n",
    "print(\"5 folds의 개별 MSE scores:\", np.round(mse_scores, 3))\n",
    "print(\"5 folds의 개별 RMSE scores:\", np.round(rmse_scores, 3))\n",
    "print(\"5 folds의 평균 RMSE: {0:.3f}\".format(avg_rmse))"
   ],
   "metadata": {
    "collapsed": false,
    "pycharm": {
     "name": "#%%\n"
    }
   }
  },
  {
   "cell_type": "markdown",
   "source": [
    "# 2. 릿지(Ridge) 회귀\n",
    "- 릿지의 alpha 값을 [0, 0.1, 1, 10, 100]으로 변화시키면서 RMSE와 회귀 계수 값의 변화를 살펴본다.\n",
    "- alpha 값을 변화시키면서 RMSE 값과 각 피처의 회귀 계수를 시각화하고 DataFrame에 저장한다.\n",
    "- 릿지 회귀는 alpha 값이 커질수록 평균 RMSE가 좋아진다.\n",
    "- alpha 값을 계속 증가시킬수록 회귀 계수 값은 지속적으로 작아지며, 특히 NOX 피처의 경우 alpha 값을 계속 증가시킴에 따라 회귀 계수가 크게 작아진다."
   ],
   "metadata": {
    "collapsed": false
   }
  },
  {
   "cell_type": "code",
   "execution_count": 3,
   "outputs": [
    {
     "name": "stdout",
     "output_type": "stream",
     "text": [
      "alpha 0 일 때, 5 folds 의 평균 RMSE: 5.829\n",
      "alpha 0.1 일 때, 5 folds 의 평균 RMSE: 5.788\n",
      "alpha 1 일 때, 5 folds 의 평균 RMSE: 5.653\n",
      "alpha 10 일 때, 5 folds 의 평균 RMSE: 5.518\n",
      "alpha 100 일 때, 5 folds 의 평균 RMSE: 5.330\n"
     ]
    }
   ],
   "source": [
    "# 릿지에 사용될 alpha 파라미터의 값을 정의\n",
    "alphas = [0, 0.1, 1, 10, 100]\n",
    "\n",
    "# alphas list 값을 반복하면서 alpha에 따른 평균 RMSE를 구함\n",
    "for alpha in alphas:\n",
    "    ridge = Ridge(alpha=alpha)\n",
    "\n",
    "    # cross_val_score를 이용하여 5 폴드의 평균 RMSE를 계산\n",
    "    neg_mse_scores = cross_val_score(ridge, X_data, y_target, scoring=\"neg_mean_squared_error\", cv=5)\n",
    "    mse_scores = -1 * neg_mse_scores\n",
    "    rmse_scores = np.sqrt(mse_scores)\n",
    "    avg_rmse = np.mean(rmse_scores)\n",
    "    print(\"alpha {0} 일 때, 5 folds 의 평균 RMSE: {1:.3f}\".format(alpha, avg_rmse))"
   ],
   "metadata": {
    "collapsed": false,
    "pycharm": {
     "name": "#%%\n"
    }
   }
  },
  {
   "cell_type": "code",
   "execution_count": 4,
   "outputs": [
    {
     "data": {
      "text/plain": "<Figure size 1296x432 with 5 Axes>",
      "image/png": "[encoded data removed]"
     },
     "metadata": {
      "needs_background": "light"
     },
     "output_type": "display_data"
    },
    {
     "data": {
      "text/plain": "            alpha0   alpha0.1     alpha1   alpha10  alpha100\nCRIM     -0.108011  -0.107474  -0.104595 -0.101435 -0.102202\nZN        0.046420   0.046572   0.047443  0.049579  0.054496\nINDUS     0.020559   0.015999  -0.008805 -0.042962 -0.052826\nCHAS      2.686734   2.670019   2.552393  1.952021  0.638335\nNOX     -17.766611 -16.684645 -10.777015 -2.371619 -0.262847\nRM        3.809865   3.818233   3.854000  3.702272  2.334536\nAGE       0.000692  -0.000269  -0.005415 -0.010707  0.001212\nDIS      -1.475567  -1.459626  -1.372654 -1.248808 -1.153390\nRAD       0.306049   0.303515   0.290142  0.279596  0.315358\nTAX      -0.012335  -0.012421  -0.012912 -0.013993 -0.015856\nPTRATIO  -0.952747  -0.940759  -0.876074 -0.797945 -0.829218\nB         0.009312   0.009368   0.009673  0.010037  0.009393\nLSTAT    -0.524758  -0.525966  -0.533343 -0.559366 -0.660764",
      "text/html": "<div>\n<style scoped>\n    .dataframe tbody tr th:only-of-type {\n        vertical-align: middle;\n    }\n\n    .dataframe tbody tr th {\n        vertical-align: top;\n    }\n\n    .dataframe thead th {\n        text-align: right;\n    }\n</style>\n<table border=\"1\" class=\"dataframe\">\n  <thead>\n    <tr style=\"text-align: right;\">\n      <th></th>\n      <th>alpha0</th>\n      <th>alpha0.1</th>\n      <th>alpha1</th>\n      <th>alpha10</th>\n      <th>alpha100</th>\n    </tr>\n  </thead>\n  <tbody>\n    <tr>\n      <th>CRIM</th>\n      <td>-0.108011</td>\n      <td>-0.107474</td>\n      <td>-0.104595</td>\n      <td>-0.101435</td>\n      <td>-0.102202</td>\n    </tr>\n    <tr>\n      <th>ZN</th>\n      <td>0.046420</td>\n      <td>0.046572</td>\n      <td>0.047443</td>\n      <td>0.049579</td>\n      <td>0.054496</td>\n    </tr>\n    <tr>\n      <th>INDUS</th>\n      <td>0.020559</td>\n      <td>0.015999</td>\n      <td>-0.008805</td>\n      <td>-0.042962</td>\n      <td>-0.052826</td>\n    </tr>\n    <tr>\n      <th>CHAS</th>\n      <td>2.686734</td>\n      <td>2.670019</td>\n      <td>2.552393</td>\n      <td>1.952021</td>\n      <td>0.638335</td>\n    </tr>\n    <tr>\n      <th>NOX</th>\n      <td>-17.766611</td>\n      <td>-16.684645</td>\n      <td>-10.777015</td>\n      <td>-2.371619</td>\n      <td>-0.262847</td>\n    </tr>\n    <tr>\n      <th>RM</th>\n      <td>3.809865</td>\n      <td>3.818233</td>\n      <td>3.854000</td>\n      <td>3.702272</td>\n      <td>2.334536</td>\n    </tr>\n    <tr>\n      <th>AGE</th>\n      <td>0.000692</td>\n      <td>-0.000269</td>\n      <td>-0.005415</td>\n      <td>-0.010707</td>\n      <td>0.001212</td>\n    </tr>\n    <tr>\n      <th>DIS</th>\n      <td>-1.475567</td>\n      <td>-1.459626</td>\n      <td>-1.372654</td>\n      <td>-1.248808</td>\n      <td>-1.153390</td>\n    </tr>\n    <tr>\n      <th>RAD</th>\n      <td>0.306049</td>\n      <td>0.303515</td>\n      <td>0.290142</td>\n      <td>0.279596</td>\n      <td>0.315358</td>\n    </tr>\n    <tr>\n      <th>TAX</th>\n      <td>-0.012335</td>\n      <td>-0.012421</td>\n      <td>-0.012912</td>\n      <td>-0.013993</td>\n      <td>-0.015856</td>\n    </tr>\n    <tr>\n      <th>PTRATIO</th>\n      <td>-0.952747</td>\n      <td>-0.940759</td>\n      <td>-0.876074</td>\n      <td>-0.797945</td>\n      <td>-0.829218</td>\n    </tr>\n    <tr>\n      <th>B</th>\n      <td>0.009312</td>\n      <td>0.009368</td>\n      <td>0.009673</td>\n      <td>0.010037</td>\n      <td>0.009393</td>\n    </tr>\n    <tr>\n      <th>LSTAT</th>\n      <td>-0.524758</td>\n      <td>-0.525966</td>\n      <td>-0.533343</td>\n      <td>-0.559366</td>\n      <td>-0.660764</td>\n    </tr>\n  </tbody>\n</table>\n</div>"
     },
     "execution_count": 4,
     "metadata": {},
     "output_type": "execute_result"
    }
   ],
   "source": [
    "import matplotlib.pyplot as plt\n",
    "import seaborn as sns\n",
    "# 각 alpha에 따른 회귀 계수 값을 시각화하기 위해 1행 5열로 된 맷플롯립 축을 생성\n",
    "fig, axs = plt.subplots(figsize=(18, 6), nrows=1, ncols=5)\n",
    "\n",
    "# 각 alpha에 따른 회귀 계수 값을 데이터로 저장하기 위한 DataFrame을 생성\n",
    "coeff_df = pd.DataFrame()\n",
    "\n",
    "# alphas 리스트 값을 차례로 입력하여 회귀 계수 값을 시각화 및 데이터 저장, pos는 axis의 위치를 지정\n",
    "for pos, alpha in enumerate(alphas):\n",
    "    ridge = Ridge(alpha=alpha)\n",
    "    ridge.fit(X_data, y_target)\n",
    "    # alpha에 따른 피처별로 회귀 계수를 Series로 변환하고 이를 DataFrame의 칼럼으로 추가\n",
    "    coeff = pd.Series(data=ridge.coef_, index=X_data.columns)\n",
    "    colname = \"alpha\"+str(alpha)\n",
    "    coeff_df[colname] = coeff\n",
    "    # 막대 그래프로 각 alpha 값에서의 회귀 계수를 시각화하고 회귀 계수 값이 높은 순서로 표현\n",
    "    coeff = coeff.sort_values(ascending=False)\n",
    "    axs[pos].set_title(colname)\n",
    "    axs[pos].set_xlim(-3, 6)\n",
    "    sns.barplot(x=coeff.values, y=coeff.index, ax=axs[pos])\n",
    "\n",
    "# for 문 바깥에서 맷플롯립의 show 호출 및 alpha에 따른 피처별 회귀 계수를 DataFrame으로 표시\n",
    "plt.show()\n",
    "\n",
    "coeff_df"
   ],
   "metadata": {
    "collapsed": false,
    "pycharm": {
     "name": "#%%\n"
    }
   }
  },
  {
   "cell_type": "code",
   "execution_count": 5,
   "outputs": [
    {
     "data": {
      "text/plain": "            alpha0   alpha0.1     alpha1   alpha10  alpha100\nRM        3.809865   3.818233   3.854000  3.702272  2.334536\nCHAS      2.686734   2.670019   2.552393  1.952021  0.638335\nRAD       0.306049   0.303515   0.290142  0.279596  0.315358\nZN        0.046420   0.046572   0.047443  0.049579  0.054496\nINDUS     0.020559   0.015999  -0.008805 -0.042962 -0.052826\nB         0.009312   0.009368   0.009673  0.010037  0.009393\nAGE       0.000692  -0.000269  -0.005415 -0.010707  0.001212\nTAX      -0.012335  -0.012421  -0.012912 -0.013993 -0.015856\nCRIM     -0.108011  -0.107474  -0.104595 -0.101435 -0.102202\nLSTAT    -0.524758  -0.525966  -0.533343 -0.559366 -0.660764\nPTRATIO  -0.952747  -0.940759  -0.876074 -0.797945 -0.829218\nDIS      -1.475567  -1.459626  -1.372654 -1.248808 -1.153390\nNOX     -17.766611 -16.684645 -10.777015 -2.371619 -0.262847",
      "text/html": "<div>\n<style scoped>\n    .dataframe tbody tr th:only-of-type {\n        vertical-align: middle;\n    }\n\n    .dataframe tbody tr th {\n        vertical-align: top;\n    }\n\n    .dataframe thead th {\n        text-align: right;\n    }\n</style>\n<table border=\"1\" class=\"dataframe\">\n  <thead>\n    <tr style=\"text-align: right;\">\n      <th></th>\n      <th>alpha0</th>\n      <th>alpha0.1</th>\n      <th>alpha1</th>\n      <th>alpha10</th>\n      <th>alpha100</th>\n    </tr>\n  </thead>\n  <tbody>\n    <tr>\n      <th>RM</th>\n      <td>3.809865</td>\n      <td>3.818233</td>\n      <td>3.854000</td>\n      <td>3.702272</td>\n      <td>2.334536</td>\n    </tr>\n    <tr>\n      <th>CHAS</th>\n      <td>2.686734</td>\n      <td>2.670019</td>\n      <td>2.552393</td>\n      <td>1.952021</td>\n      <td>0.638335</td>\n    </tr>\n    <tr>\n      <th>RAD</th>\n      <td>0.306049</td>\n      <td>0.303515</td>\n      <td>0.290142</td>\n      <td>0.279596</td>\n      <td>0.315358</td>\n    </tr>\n    <tr>\n      <th>ZN</th>\n      <td>0.046420</td>\n      <td>0.046572</td>\n      <td>0.047443</td>\n      <td>0.049579</td>\n      <td>0.054496</td>\n    </tr>\n    <tr>\n      <th>INDUS</th>\n      <td>0.020559</td>\n      <td>0.015999</td>\n      <td>-0.008805</td>\n      <td>-0.042962</td>\n      <td>-0.052826</td>\n    </tr>\n    <tr>\n      <th>B</th>\n      <td>0.009312</td>\n      <td>0.009368</td>\n      <td>0.009673</td>\n      <td>0.010037</td>\n      <td>0.009393</td>\n    </tr>\n    <tr>\n      <th>AGE</th>\n      <td>0.000692</td>\n      <td>-0.000269</td>\n      <td>-0.005415</td>\n      <td>-0.010707</td>\n      <td>0.001212</td>\n    </tr>\n    <tr>\n      <th>TAX</th>\n      <td>-0.012335</td>\n      <td>-0.012421</td>\n      <td>-0.012912</td>\n      <td>-0.013993</td>\n      <td>-0.015856</td>\n    </tr>\n    <tr>\n      <th>CRIM</th>\n      <td>-0.108011</td>\n      <td>-0.107474</td>\n      <td>-0.104595</td>\n      <td>-0.101435</td>\n      <td>-0.102202</td>\n    </tr>\n    <tr>\n      <th>LSTAT</th>\n      <td>-0.524758</td>\n      <td>-0.525966</td>\n      <td>-0.533343</td>\n      <td>-0.559366</td>\n      <td>-0.660764</td>\n    </tr>\n    <tr>\n      <th>PTRATIO</th>\n      <td>-0.952747</td>\n      <td>-0.940759</td>\n      <td>-0.876074</td>\n      <td>-0.797945</td>\n      <td>-0.829218</td>\n    </tr>\n    <tr>\n      <th>DIS</th>\n      <td>-1.475567</td>\n      <td>-1.459626</td>\n      <td>-1.372654</td>\n      <td>-1.248808</td>\n      <td>-1.153390</td>\n    </tr>\n    <tr>\n      <th>NOX</th>\n      <td>-17.766611</td>\n      <td>-16.684645</td>\n      <td>-10.777015</td>\n      <td>-2.371619</td>\n      <td>-0.262847</td>\n    </tr>\n  </tbody>\n</table>\n</div>"
     },
     "execution_count": 5,
     "metadata": {},
     "output_type": "execute_result"
    }
   ],
   "source": [
    "ridge_alphas = [0, 0.1, 1, 10, 100]\n",
    "coeff_df.sort_values(by='alpha0', ascending=False)"
   ],
   "metadata": {
    "collapsed": false,
    "pycharm": {
     "name": "#%%\n"
    }
   }
  },
  {
   "cell_type": "markdown",
   "source": [
    "## 3. 라쏘(Lasso) 회귀\n",
    "- W의 절대값에 페널티를 부여하는 L1 규제를 선형 회귀에 적용한 것이다.\n",
    "- L1 규제는 를 의미하며, 라쏘 회귀 비용 함수의 목표는 을 최소화하는 W를 찾는 것이다.\n",
    "- L2 규제가 회귀 계수의 크기를 감소시키는 반면, L1 규제는 불필요한 회귀 계수를 급격하게 감소시켜 0으로 만들고 제거한다. 이러한 측면에서 - L1 규제는 적절한 피처만 회귀에 포함시키는 피처 선택의 특성을 가지고 있다.\n",
    "- 사이킷런의 Lasso 클래스를 이용하여 라쏘 회귀를 구현한다.\n",
    "- Lasso 클래스의 주요 생성 파라미터는 alpha이며, 이는 라쏘 회귀의 alpha L1 규제 계수에 해당한다.\n",
    "- Lasso 클래스를 이용하여 alpha 값을 변화시키면서 RMSE와 각 피처의 회귀 계수를 출력한다.\n",
    "- RMSE와 각 피처의 회귀 계수를 출력하는 유틸리티 함수를 생성한다. get_linear_reg_eval( )는 인자로 회귀 모델의 이름, alpha값들의 리스트, 피처 데이터 세트와 타깃 데이터 세트를 입력 받아서 alpha 값에 따른 폴드 평균 RMSE를 출력하고 회귀 계수값들을 DataFrame으로 반환한다."
   ],
   "metadata": {
    "collapsed": false
   }
  },
  {
   "cell_type": "code",
   "execution_count": 7,
   "outputs": [],
   "source": [
    "from sklearn.linear_model import Lasso, ElasticNet\n",
    "# alpha 값에 따른 회귀 모델의 폴드 평균 RMSE를 출력하고, 회귀 계수 값들을 DataFrame으로 반환\n",
    "def get_linear_reg_eval(model_name, params=None, X_data_n=None, y_target_n=None, verbose=True):\n",
    "    coeff_df = pd.DataFrame()\n",
    "    if verbose : print(\"#######\", model_name, \"#######\")\n",
    "    for param in params:\n",
    "        if model_name == \"Ridge\" : model = Ridge(alpha=param)\n",
    "        elif model_name == \"Lasso\" : model = Lasso(alpha=param)\n",
    "        elif model_name == \"ElasticNet\" : model = ElasticNet(alpha=param, l1_ratio=0.7)\n",
    "        neg_mse_scores = cross_val_score(model, X_data_n, y_target_n, scoring=\"neg_mean_squared_error\", cv=5)\n",
    "        mse_scores = -1 * neg_mse_scores\n",
    "        rmse_scores = np.sqrt(mse_scores)\n",
    "        avg_rmse = np.mean(rmse_scores)\n",
    "        print(\"alpha {0} 일 때, 5 folds 의 평균 RMSE: {1:.3f}\".format(param, avg_rmse))\n",
    "\n",
    "        # cross_val_score는 evaluation metric만 반환하므로 모델을 다시 학습하여 회귀 계수를 추출\n",
    "        model.fit(X_data, y_target)\n",
    "\n",
    "        # alpha에 따른 피처별 회귀 계수를 Series로변환하고 이를 DataFrame의 칼럼으로 추가\n",
    "        coeff = pd.Series(data=model.coef_, index=X_data.columns)\n",
    "        colname = \"alpha\" + str(param)\n",
    "        coeff_df[colname] = coeff\n",
    "\n",
    "    return coeff_df"
   ],
   "metadata": {
    "collapsed": false,
    "pycharm": {
     "name": "#%%\n"
    }
   }
  },
  {
   "cell_type": "markdown",
   "source": [
    "## 3. 라쏘(Lasso) 회귀\n",
    "- 생성한 유틸리티 함수를 이용하여 alpha 값을 [0.07, 0.1, 0.5, 1, 3] 으로 변화시키면서 평균 RMSE와 그때의 회귀 계수들을 출력한다.\n",
    "- get_linear_reg_eval()에 alpha값을 [0.07, 0.1, 0.5, 1, 3]로, 모델명을 \"Lasso\"로 입력하여 라쏘 모델 기반으로 수행한다.\n",
    "- alpha가 0.07일 때 평균 RMSE이 가장 좋다.\n",
    "- alpha의 크기가 증가함에 따라 일부 피처의 회귀 계수는 아예 0이 된다. 회귀 계수가 0인 피처는 회귀 식에서 제외되면서 피처 선택의 효과를 얻는다."
   ],
   "metadata": {
    "collapsed": false
   }
  },
  {
   "cell_type": "code",
   "execution_count": 8,
   "outputs": [
    {
     "name": "stdout",
     "output_type": "stream",
     "text": [
      "####### Lasso #######\n",
      "alpha 0.07 일 때, 5 folds 의 평균 RMSE: 5.612\n",
      "alpha 0.1 일 때, 5 folds 의 평균 RMSE: 5.615\n",
      "alpha 0.5 일 때, 5 folds 의 평균 RMSE: 5.669\n",
      "alpha 1 일 때, 5 folds 의 평균 RMSE: 5.776\n",
      "alpha 3 일 때, 5 folds 의 평균 RMSE: 6.189\n"
     ]
    }
   ],
   "source": [
    "# 라쏘에 사용될 alpha 파라미터 값을 정의하고 get_linear_reg_eval() 함수를 호출\n",
    "lasso_alphas = [0.07, 0.1, 0.5, 1, 3]\n",
    "coeff_lasso_df = get_linear_reg_eval(\"Lasso\", params=lasso_alphas, X_data_n=X_data, y_target_n=y_target)"
   ],
   "metadata": {
    "collapsed": false,
    "pycharm": {
     "name": "#%%\n"
    }
   }
  },
  {
   "cell_type": "code",
   "execution_count": 9,
   "outputs": [
    {
     "data": {
      "text/plain": "         alpha0.07  alpha0.1  alpha0.5    alpha1    alpha3\nRM        3.789725  3.703202  2.498212  0.949811  0.000000\nCHAS      1.434343  0.955190  0.000000  0.000000  0.000000\nRAD       0.270936  0.274707  0.277451  0.264206  0.061864\nZN        0.049059  0.049211  0.049544  0.049165  0.037231\nB         0.010248  0.010249  0.009469  0.008247  0.006510\nNOX      -0.000000 -0.000000 -0.000000 -0.000000  0.000000\nAGE      -0.011706 -0.010037  0.003604  0.020910  0.042495\nTAX      -0.014290 -0.014570 -0.015442 -0.015212 -0.008602\nINDUS    -0.042120 -0.036619 -0.005253 -0.000000 -0.000000\nCRIM     -0.098193 -0.097894 -0.083289 -0.063437 -0.000000\nLSTAT    -0.560431 -0.568769 -0.656290 -0.761115 -0.807679\nPTRATIO  -0.765107 -0.770654 -0.758752 -0.722966 -0.265072\nDIS      -1.176583 -1.160538 -0.936605 -0.668790 -0.000000",
      "text/html": "<div>\n<style scoped>\n    .dataframe tbody tr th:only-of-type {\n        vertical-align: middle;\n    }\n\n    .dataframe tbody tr th {\n        vertical-align: top;\n    }\n\n    .dataframe thead th {\n        text-align: right;\n    }\n</style>\n<table border=\"1\" class=\"dataframe\">\n  <thead>\n    <tr style=\"text-align: right;\">\n      <th></th>\n      <th>alpha0.07</th>\n      <th>alpha0.1</th>\n      <th>alpha0.5</th>\n      <th>alpha1</th>\n      <th>alpha3</th>\n    </tr>\n  </thead>\n  <tbody>\n    <tr>\n      <th>RM</th>\n      <td>3.789725</td>\n      <td>3.703202</td>\n      <td>2.498212</td>\n      <td>0.949811</td>\n      <td>0.000000</td>\n    </tr>\n    <tr>\n      <th>CHAS</th>\n      <td>1.434343</td>\n      <td>0.955190</td>\n      <td>0.000000</td>\n      <td>0.000000</td>\n      <td>0.000000</td>\n    </tr>\n    <tr>\n      <th>RAD</th>\n      <td>0.270936</td>\n      <td>0.274707</td>\n      <td>0.277451</td>\n      <td>0.264206</td>\n      <td>0.061864</td>\n    </tr>\n    <tr>\n      <th>ZN</th>\n      <td>0.049059</td>\n      <td>0.049211</td>\n      <td>0.049544</td>\n      <td>0.049165</td>\n      <td>0.037231</td>\n    </tr>\n    <tr>\n      <th>B</th>\n      <td>0.010248</td>\n      <td>0.010249</td>\n      <td>0.009469</td>\n      <td>0.008247</td>\n      <td>0.006510</td>\n    </tr>\n    <tr>\n      <th>NOX</th>\n      <td>-0.000000</td>\n      <td>-0.000000</td>\n      <td>-0.000000</td>\n      <td>-0.000000</td>\n      <td>0.000000</td>\n    </tr>\n    <tr>\n      <th>AGE</th>\n      <td>-0.011706</td>\n      <td>-0.010037</td>\n      <td>0.003604</td>\n      <td>0.020910</td>\n      <td>0.042495</td>\n    </tr>\n    <tr>\n      <th>TAX</th>\n      <td>-0.014290</td>\n      <td>-0.014570</td>\n      <td>-0.015442</td>\n      <td>-0.015212</td>\n      <td>-0.008602</td>\n    </tr>\n    <tr>\n      <th>INDUS</th>\n      <td>-0.042120</td>\n      <td>-0.036619</td>\n      <td>-0.005253</td>\n      <td>-0.000000</td>\n      <td>-0.000000</td>\n    </tr>\n    <tr>\n      <th>CRIM</th>\n      <td>-0.098193</td>\n      <td>-0.097894</td>\n      <td>-0.083289</td>\n      <td>-0.063437</td>\n      <td>-0.000000</td>\n    </tr>\n    <tr>\n      <th>LSTAT</th>\n      <td>-0.560431</td>\n      <td>-0.568769</td>\n      <td>-0.656290</td>\n      <td>-0.761115</td>\n      <td>-0.807679</td>\n    </tr>\n    <tr>\n      <th>PTRATIO</th>\n      <td>-0.765107</td>\n      <td>-0.770654</td>\n      <td>-0.758752</td>\n      <td>-0.722966</td>\n      <td>-0.265072</td>\n    </tr>\n    <tr>\n      <th>DIS</th>\n      <td>-1.176583</td>\n      <td>-1.160538</td>\n      <td>-0.936605</td>\n      <td>-0.668790</td>\n      <td>-0.000000</td>\n    </tr>\n  </tbody>\n</table>\n</div>"
     },
     "execution_count": 9,
     "metadata": {},
     "output_type": "execute_result"
    }
   ],
   "source": [
    "# 반환된 coeff_lasso_df를 첫번째 칼럼순으로 내림차순 정렬하여 회귀 계수 DataFrame을 출력\n",
    "sort_column = \"alpha\" + str(lasso_alphas[0])\n",
    "coeff_lasso_df.sort_values(by=sort_column, ascending=False)"
   ],
   "metadata": {
    "collapsed": false,
    "pycharm": {
     "name": "#%%\n"
    }
   }
  },
  {
   "cell_type": "markdown",
   "source": [
    "## 4. 엘라스틱넷(ElasticNet) 회귀\n",
    "- 엘라스틱넷 회귀는 L1 규제와 L2 규제를 결합한 회귀로, 엘라스틱넷 회귀 비용 함수의 목표는 식을 최소화하는 W를 찾는 것이다.\n",
    "- 엘라스틱넷은 라쏘 회귀가 서로 상관관계가 높은 피처들의 경우에 이들 중에서 중요 피처만을 선택하고 다른 피처들은 모두 회귀 계수를 0으로 만드는 성향이 강하여 alpha 값에 따라 회귀 계수의 값이 급격하게 변동하는 것을 완화하기 위해, L2 규제를 라쏘 회귀에 추가한 것이다.\n",
    "- L1 규제와 L2 규제가 결합되었기 때문에 수행 시간이 상대적으로 오래 걸린다는 단점이 있다.\n",
    "- 사이킷런의 ElasticNet 클래스를 이용하여 엘라스틱넷 회귀를 구현한다.\n",
    "- ElasticNet 클래스의 주요 생성 파라미터는 alpha와 l1_ratio이며, 이때의 alpha는 Ridge와 Lasso 클래스의 alpha 값과는 다르다.\n",
    "- 엘라스틱넷의 규제는 aL1 + bL2로 정의될 수 있으며, a는 L1 규제의 alpha 값, b는 L2 규제의 alpha 값이다.\n",
    "- ElasticNet 클래스의 l1_ratio 파라미터 값은 a/(a+b)이다. l1_ratio가 0이면 a가 0이므로 L2 규제와 동일하고, l1_ratio가 1이면 b가 0이므로 L1 규제와 동일하다."
   ],
   "metadata": {
    "collapsed": false
   }
  },
  {
   "cell_type": "code",
   "execution_count": 10,
   "outputs": [
    {
     "name": "stdout",
     "output_type": "stream",
     "text": [
      "####### ElasticNet #######\n",
      "alpha 0.07 일 때, 5 folds 의 평균 RMSE: 5.542\n",
      "alpha 0.1 일 때, 5 folds 의 평균 RMSE: 5.526\n",
      "alpha 0.5 일 때, 5 folds 의 평균 RMSE: 5.467\n",
      "alpha 1 일 때, 5 folds 의 평균 RMSE: 5.597\n",
      "alpha 3 일 때, 5 folds 의 평균 RMSE: 6.068\n"
     ]
    }
   ],
   "source": [
    "# 엘라스틱넷에 사용될 alpha 파라미터의 값들을 정의하고 get_linear_reg_eval() 함수를 호출\n",
    "elastic_alphas = [0.07, 0.1, 0.5, 1, 3]\n",
    "coeff_elastic_df = get_linear_reg_eval(\"ElasticNet\", params=elastic_alphas, X_data_n=X_data, y_target_n=y_target)"
   ],
   "metadata": {
    "collapsed": false,
    "pycharm": {
     "name": "#%%\n"
    }
   }
  },
  {
   "cell_type": "code",
   "execution_count": 11,
   "outputs": [
    {
     "data": {
      "text/plain": "         alpha0.07  alpha0.1  alpha0.5    alpha1    alpha3\nRM        3.574162  3.414154  1.918419  0.938789  0.000000\nCHAS      1.330724  0.979706  0.000000  0.000000  0.000000\nRAD       0.278880  0.283443  0.300761  0.289299  0.146846\nZN        0.050107  0.050617  0.052878  0.052136  0.038268\nB         0.010122  0.010067  0.009114  0.008320  0.007020\nAGE      -0.010116 -0.008276  0.007760  0.020348  0.043446\nTAX      -0.014522 -0.014814 -0.016046 -0.016218 -0.011417\nINDUS    -0.044855 -0.042719 -0.023252 -0.000000 -0.000000\nCRIM     -0.099468 -0.099213 -0.089070 -0.073577 -0.019058\nNOX      -0.175072 -0.000000 -0.000000 -0.000000 -0.000000\nLSTAT    -0.574822 -0.587702 -0.693861 -0.760457 -0.800368\nPTRATIO  -0.779498 -0.784725 -0.790969 -0.738672 -0.423065\nDIS      -1.189438 -1.173647 -0.975902 -0.725174 -0.031208",
      "text/html": "<div>\n<style scoped>\n    .dataframe tbody tr th:only-of-type {\n        vertical-align: middle;\n    }\n\n    .dataframe tbody tr th {\n        vertical-align: top;\n    }\n\n    .dataframe thead th {\n        text-align: right;\n    }\n</style>\n<table border=\"1\" class=\"dataframe\">\n  <thead>\n    <tr style=\"text-align: right;\">\n      <th></th>\n      <th>alpha0.07</th>\n      <th>alpha0.1</th>\n      <th>alpha0.5</th>\n      <th>alpha1</th>\n      <th>alpha3</th>\n    </tr>\n  </thead>\n  <tbody>\n    <tr>\n      <th>RM</th>\n      <td>3.574162</td>\n      <td>3.414154</td>\n      <td>1.918419</td>\n      <td>0.938789</td>\n      <td>0.000000</td>\n    </tr>\n    <tr>\n      <th>CHAS</th>\n      <td>1.330724</td>\n      <td>0.979706</td>\n      <td>0.000000</td>\n      <td>0.000000</td>\n      <td>0.000000</td>\n    </tr>\n    <tr>\n      <th>RAD</th>\n      <td>0.278880</td>\n      <td>0.283443</td>\n      <td>0.300761</td>\n      <td>0.289299</td>\n      <td>0.146846</td>\n    </tr>\n    <tr>\n      <th>ZN</th>\n      <td>0.050107</td>\n      <td>0.050617</td>\n      <td>0.052878</td>\n      <td>0.052136</td>\n      <td>0.038268</td>\n    </tr>\n    <tr>\n      <th>B</th>\n      <td>0.010122</td>\n      <td>0.010067</td>\n      <td>0.009114</td>\n      <td>0.008320</td>\n      <td>0.007020</td>\n    </tr>\n    <tr>\n      <th>AGE</th>\n      <td>-0.010116</td>\n      <td>-0.008276</td>\n      <td>0.007760</td>\n      <td>0.020348</td>\n      <td>0.043446</td>\n    </tr>\n    <tr>\n      <th>TAX</th>\n      <td>-0.014522</td>\n      <td>-0.014814</td>\n      <td>-0.016046</td>\n      <td>-0.016218</td>\n      <td>-0.011417</td>\n    </tr>\n    <tr>\n      <th>INDUS</th>\n      <td>-0.044855</td>\n      <td>-0.042719</td>\n      <td>-0.023252</td>\n      <td>-0.000000</td>\n      <td>-0.000000</td>\n    </tr>\n    <tr>\n      <th>CRIM</th>\n      <td>-0.099468</td>\n      <td>-0.099213</td>\n      <td>-0.089070</td>\n      <td>-0.073577</td>\n      <td>-0.019058</td>\n    </tr>\n    <tr>\n      <th>NOX</th>\n      <td>-0.175072</td>\n      <td>-0.000000</td>\n      <td>-0.000000</td>\n      <td>-0.000000</td>\n      <td>-0.000000</td>\n    </tr>\n    <tr>\n      <th>LSTAT</th>\n      <td>-0.574822</td>\n      <td>-0.587702</td>\n      <td>-0.693861</td>\n      <td>-0.760457</td>\n      <td>-0.800368</td>\n    </tr>\n    <tr>\n      <th>PTRATIO</th>\n      <td>-0.779498</td>\n      <td>-0.784725</td>\n      <td>-0.790969</td>\n      <td>-0.738672</td>\n      <td>-0.423065</td>\n    </tr>\n    <tr>\n      <th>DIS</th>\n      <td>-1.189438</td>\n      <td>-1.173647</td>\n      <td>-0.975902</td>\n      <td>-0.725174</td>\n      <td>-0.031208</td>\n    </tr>\n  </tbody>\n</table>\n</div>"
     },
     "execution_count": 11,
     "metadata": {},
     "output_type": "execute_result"
    }
   ],
   "source": [
    "# 반환된 coeff_elastic_df를 첫번째 칼럼순으로 내림차순 정렬하여 회귀 계수 DataFrame을 출력\n",
    "sort_column = \"alpha\" + str(elastic_alphas[0])\n",
    "coeff_elastic_df.sort_values(by=sort_column, ascending=False)"
   ],
   "metadata": {
    "collapsed": false,
    "pycharm": {
     "name": "#%%\n"
    }
   }
  },
  {
   "cell_type": "markdown",
   "source": [
    "## 5. 선형 회귀 모델을 위한 데이터 변환\n",
    "- 선형 회귀 모델과 같은 선형 모델은 일반적으로 피처와 타겟값 간의 선형 관계가 있다고 가정하고, 이러한 최적의 선형함수를 찾아내 결과값을 예측한다.\n",
    "- 선형 회귀 모델은 피처값과 타겟값의 분포가 정규 분포의 형태를 매우 선호한다.\n",
    "- 선형 회귀 모델을 적용하기 전에 먼저 데이터에 대한 스케일링과 정규화 작업을 수행하는 것이 일반적이다.스케일링/정규화 작업을 선행한다고 해서 무조건 예측 성능이 향상되는 것은 아니며, 일반적으로 중요 피처들이나 타겟값의 분포도가 심하게 왜곡되었을 경우에 이러한 변환 작업을 수행한다.\n",
    "- 피처 데이터 세트와 타겟 데이터 세트에 스케일링/정규화 작업을 수행하는 방법이 조금 다르다.\n",
    "\n",
    "#### 사이킷런을 이용한 피처 데이터 세트 변환\n",
    "\n",
    "- StandardScaler 클래스를 이용하여 평균이 0이고 분산이 1인 표준 정규 분포를 가진 데이터 세트로 변환하거나, MinMaxScaler 클래스를 이용하여 최솟값이 0이고 최댓값이 1인 값으로 정규화를 수행한다.\n",
    "- 스케일링/정규화를 수행한 데이터 세트에 다시 다항 특성을 적용하여 변환하는 방법이다. 보통 1번 방법을 통해 예측 성능의 향상이 없을 경우 이와 같은 방법을 적용한다.\n",
    "- 원래 값에 log 함수를 적용하면 보다 정규 분포에 가까운 형태로 값이 분포된다. 이러한 변환을 로그 변환이라고 하며 1,2번 방법보다 훨씬 많이 사용되는 변환 방법이다.\n",
    "- 타겟값의 경우는 일반적으로 로그 변환을 적용한다. 결정값을 정규 분포나 다른 정규값으로 변환하면 변환된 값을 최종적으로 다시 원본 타겟값으로 변환하기 어려울 수 있다."
   ],
   "metadata": {
    "collapsed": false
   }
  },
  {
   "cell_type": "code",
   "execution_count": 12,
   "outputs": [],
   "source": [
    "from sklearn.preprocessing import StandardScaler, MinMaxScaler, PolynomialFeatures\n",
    "\n",
    "# method는 표준 정규 분포 변환(Standard), 최댓값/최솟값 정규화(MinMax), 로그 변환(Log) 중 하나로 결정\n",
    "# p_degree는 다항식 특성을 추가할 때 적용하며, 2 이상 부여하지 않음\n",
    "def get_scaled_data(method=\"None\", p_degree=None, input_data=None):\n",
    "    if method == \"Standard\":\n",
    "        scaled_data = StandardScaler().fit_transform(input_data)\n",
    "    elif method == \"MinMax\":\n",
    "        scaled_data = MinMaxScaler().fit_transform(input_data)\n",
    "    elif method == \"Log\":\n",
    "        scaled_data = np.log1p(input_data)\n",
    "    else:\n",
    "        scaled_data = input_data\n",
    "\n",
    "    if p_degree != None:\n",
    "        scaled_data = PolynomialFeatures(degree=p_degree, include_bias=False).fit_transform(scaled_data)\n",
    "\n",
    "    return scaled_data"
   ],
   "metadata": {
    "collapsed": false,
    "pycharm": {
     "name": "#%%\n"
    }
   }
  },
  {
   "cell_type": "code",
   "execution_count": 13,
   "outputs": [
    {
     "name": "stdout",
     "output_type": "stream",
     "text": [
      "\n",
      "## 변환 유형: None, Polynomial Degree: None\n",
      "alpha 0.1 일 때, 5 folds 의 평균 RMSE: 5.788\n",
      "alpha 1 일 때, 5 folds 의 평균 RMSE: 5.653\n",
      "alpha 10 일 때, 5 folds 의 평균 RMSE: 5.518\n",
      "alpha 100 일 때, 5 folds 의 평균 RMSE: 5.330\n",
      "\n",
      "## 변환 유형: Standard, Polynomial Degree: None\n",
      "alpha 0.1 일 때, 5 folds 의 평균 RMSE: 5.826\n",
      "alpha 1 일 때, 5 folds 의 평균 RMSE: 5.803\n",
      "alpha 10 일 때, 5 folds 의 평균 RMSE: 5.637\n",
      "alpha 100 일 때, 5 folds 의 평균 RMSE: 5.421\n",
      "\n",
      "## 변환 유형: Standard, Polynomial Degree: 2\n",
      "alpha 0.1 일 때, 5 folds 의 평균 RMSE: 8.827\n",
      "alpha 1 일 때, 5 folds 의 평균 RMSE: 6.871\n",
      "alpha 10 일 때, 5 folds 의 평균 RMSE: 5.485\n",
      "alpha 100 일 때, 5 folds 의 평균 RMSE: 4.634\n",
      "\n",
      "## 변환 유형: MinMax, Polynomial Degree: None\n",
      "alpha 0.1 일 때, 5 folds 의 평균 RMSE: 5.764\n",
      "alpha 1 일 때, 5 folds 의 평균 RMSE: 5.465\n",
      "alpha 10 일 때, 5 folds 의 평균 RMSE: 5.754\n",
      "alpha 100 일 때, 5 folds 의 평균 RMSE: 7.635\n",
      "\n",
      "## 변환 유형: MinMax, Polynomial Degree: 2\n",
      "alpha 0.1 일 때, 5 folds 의 평균 RMSE: 5.298\n",
      "alpha 1 일 때, 5 folds 의 평균 RMSE: 4.323\n",
      "alpha 10 일 때, 5 folds 의 평균 RMSE: 5.185\n",
      "alpha 100 일 때, 5 folds 의 평균 RMSE: 6.538\n",
      "\n",
      "## 변환 유형: Log, Polynomial Degree: None\n",
      "alpha 0.1 일 때, 5 folds 의 평균 RMSE: 4.770\n",
      "alpha 1 일 때, 5 folds 의 평균 RMSE: 4.676\n",
      "alpha 10 일 때, 5 folds 의 평균 RMSE: 4.836\n",
      "alpha 100 일 때, 5 folds 의 평균 RMSE: 6.241\n"
     ]
    }
   ],
   "source": [
    "# Ridge의 alpha 값을 다르게 적용하고 다양한 데이터 변환 방법에 따른 RMSE를 추출\n",
    "ridge_alphas = [0.1, 1, 10, 100]\n",
    "\n",
    "# 원본 1개와 5개의 방식으로 변환\n",
    "scale_methods = [(None, None), (\"Standard\", None), (\"Standard\", 2), (\"MinMax\", None), (\"MinMax\", 2), (\"Log\", None)]\n",
    "\n",
    "for scale_method in scale_methods:\n",
    "    X_data_scaled = get_scaled_data(method=scale_method[0], p_degree=scale_method[1], input_data=X_data)\n",
    "    print(\"\\n## 변환 유형: {0}, Polynomial Degree: {1}\".format(scale_method[0], scale_method[1]))\n",
    "    get_linear_reg_eval(\"Ridge\", params=ridge_alphas, X_data_n=X_data_scaled, y_target_n=y_target, verbose=False)"
   ],
   "metadata": {
    "collapsed": false,
    "pycharm": {
     "name": "#%%\n"
    }
   }
  },
  {
   "cell_type": "markdown",
   "source": [
    "## 6. 로지스틱 회귀(Logistic Regression)\n",
    "- 로지스틱 회귀는 선형 회귀 방식을 분류에 적용한 알고리즘이다.\n",
    "- 로지스틱 회귀와 선형 회귀의 다른 점은 학습을 통해 선형 함수의 회귀 최적선을 찾는 것이 아니라 시그모이드(Sigmoid) 함수 최적선을 찾고, 이 시그모이드 함수의 반환 값을 확률로 간주하여 확률에 따라 분류를 결정한다.\n",
    "\n",
    "- 시그모이드 함수는 x 값이 +, -로 아무리 커지거나 작아져도 y 값은 항상 0과 1 사이의 값을 반환한다. y 값은 x 값이 커지면 1에 , x 값이 작아지면 0에 근사하고 x 값이 0일 때는 0.5이다.\n",
    "- 회귀 문제를 약간 비틀어서 분류 문제에 적용한다. 예를 들어 악성 종양인지(Yes=1), 그렇지 않은지(No=0)를 회귀를 이용하여 1과 0의 값으로 예측하는 것이다.\n",
    "- 종양 크기를 X축, 악성 종양 여부를 Y축으로 하여 S자 커브 형태의 시그모이드 함수를 이용하면 선형 회귀 선을 그릴 때보다 좀 더 정확하게 0과 1에 대해 분류를 할 수 있다."
   ],
   "metadata": {
    "collapsed": false
   }
  },
  {
   "cell_type": "markdown",
   "source": [
    "## 6. 로지스틱 회귀(Logistic Regression)\n",
    "### 6-1. 위스콘신 유방암 데이터 세트를 이용한 로지스틱 회귀\n",
    "- 위스콘신 유방암 데이터 세트를 이용하여 로지스틱 회귀로 암 여부를 판단하는 실습을 수행한다.\n",
    "- 사이킷런의 load_breast_cancer( )를 호출하여 전체 데이터 세트를 생성한다.\n",
    "- 선형 회귀 계열의 로지스틱 회귀는 데이터의 정규 분포도에 따라 예측 성능의 영향을 받을 수 있으므로, 데이터에 먼저 정규 분포 형태의 표준 스케일링을 적용한 뒤에 train_test_split( )을 이용하여 데이터 세트를 학습 데이터 세트와 테스트 데이터 세트로 나눈다.\n",
    "- 로지스틱 회귀는 사이킷런의 LogisticRegression을 이용한다."
   ],
   "metadata": {
    "collapsed": false
   }
  },
  {
   "cell_type": "code",
   "execution_count": 14,
   "outputs": [],
   "source": [
    "# 데이터 로드\n",
    "from sklearn.datasets import load_breast_cancer\n",
    "cancer = load_breast_cancer()\n",
    "\n",
    "# StandardScaler( )로 평균이 0이고 분산이 1인 데이터 분포도 변환\n",
    "from sklearn.preprocessing import StandardScaler\n",
    "scaler = StandardScaler()\n",
    "data_scaled = scaler.fit_transform(cancer.data)\n",
    "\n",
    "from sklearn.model_selection import train_test_split\n",
    "X_train, X_test, y_train, y_test = train_test_split(data_scaled, cancer.target, test_size=0.3, random_state=0)"
   ],
   "metadata": {
    "collapsed": false,
    "pycharm": {
     "name": "#%%\n"
    }
   }
  },
  {
   "cell_type": "code",
   "execution_count": 15,
   "outputs": [
    {
     "name": "stdout",
     "output_type": "stream",
     "text": [
      "accuracy: 0.977\n",
      "roc_auc: 0.972\n"
     ]
    }
   ],
   "source": [
    "# 로지스틱 회귀를 이용하여 학습 및 예측 수행\n",
    "from sklearn.linear_model import LogisticRegression\n",
    "lr_clf = LogisticRegression()\n",
    "lr_clf.fit(X_train, y_train)\n",
    "lr_preds = lr_clf.predict(X_test)\n",
    "\n",
    "# 정확도와 roc_auc 측정\n",
    "from sklearn.metrics import accuracy_score, roc_auc_score\n",
    "print(\"accuracy: {0:.3f}\".format(accuracy_score(y_test, lr_preds)))\n",
    "print(\"roc_auc: {0:.3f}\".format(roc_auc_score(y_test, lr_preds)))"
   ],
   "metadata": {
    "collapsed": false,
    "pycharm": {
     "name": "#%%\n"
    }
   }
  },
  {
   "cell_type": "markdown",
   "source": [
    "## 6. 로지스틱 회귀(Logistic Regression)\n",
    "### 6-1. 위스콘신 유방암 데이터 세트를 이용한 로지스틱 회귀\n",
    "사이킷런 LogisticRegression 클래스의 주요 하이퍼 파라미터로 penalty와 C가 있다.\n",
    "penalty는 규제의 유형을 설정하며, \"l2\"로 설정시 L2 규제를, \"l1\"로 설정시 L1 규제를 의미하고 기본은 \"l2\"이다.\n",
    "C는 규제 강도를 조절하는 alpha 값의 역수이다. C값이 작을수록 규제 강도가 크다.\n",
    "GridSearchCV를 이용하여 위스콘신 유방암 데이터 세트에서 이 하이퍼 파라미터를 최적화한다."
   ],
   "metadata": {
    "collapsed": false
   }
  },
  {
   "cell_type": "code",
   "execution_count": 16,
   "outputs": [
    {
     "name": "stderr",
     "output_type": "stream",
     "text": [
      "c:\\users\\admin\\appdata\\local\\programs\\python\\python36\\lib\\site-packages\\sklearn\\model_selection\\_validation.py:619: FitFailedWarning: Estimator fit failed. The score on this train-test partition for these parameters will be set to nan. Details: \n",
      "Traceback (most recent call last):\n",
      "  File \"c:\\users\\admin\\appdata\\local\\programs\\python\\python36\\lib\\site-packages\\sklearn\\model_selection\\_validation.py\", line 598, in _fit_and_score\n",
      "    estimator.fit(X_train, y_train, **fit_params)\n",
      "  File \"c:\\users\\admin\\appdata\\local\\programs\\python\\python36\\lib\\site-packages\\sklearn\\linear_model\\_logistic.py\", line 1306, in fit\n",
      "    solver = _check_solver(self.solver, self.penalty, self.dual)\n",
      "  File \"c:\\users\\admin\\appdata\\local\\programs\\python\\python36\\lib\\site-packages\\sklearn\\linear_model\\_logistic.py\", line 444, in _check_solver\n",
      "    \"got %s penalty.\" % (solver, penalty))\n",
      "ValueError: Solver lbfgs supports only 'l2' or 'none' penalties, got l1 penalty.\n",
      "\n",
      "  FitFailedWarning)\n",
      "c:\\users\\admin\\appdata\\local\\programs\\python\\python36\\lib\\site-packages\\sklearn\\model_selection\\_validation.py:619: FitFailedWarning: Estimator fit failed. The score on this train-test partition for these parameters will be set to nan. Details: \n",
      "Traceback (most recent call last):\n",
      "  File \"c:\\users\\admin\\appdata\\local\\programs\\python\\python36\\lib\\site-packages\\sklearn\\model_selection\\_validation.py\", line 598, in _fit_and_score\n",
      "    estimator.fit(X_train, y_train, **fit_params)\n",
      "  File \"c:\\users\\admin\\appdata\\local\\programs\\python\\python36\\lib\\site-packages\\sklearn\\linear_model\\_logistic.py\", line 1306, in fit\n",
      "    solver = _check_solver(self.solver, self.penalty, self.dual)\n",
      "  File \"c:\\users\\admin\\appdata\\local\\programs\\python\\python36\\lib\\site-packages\\sklearn\\linear_model\\_logistic.py\", line 444, in _check_solver\n",
      "    \"got %s penalty.\" % (solver, penalty))\n",
      "ValueError: Solver lbfgs supports only 'l2' or 'none' penalties, got l1 penalty.\n",
      "\n",
      "  FitFailedWarning)\n",
      "c:\\users\\admin\\appdata\\local\\programs\\python\\python36\\lib\\site-packages\\sklearn\\model_selection\\_validation.py:619: FitFailedWarning: Estimator fit failed. The score on this train-test partition for these parameters will be set to nan. Details: \n",
      "Traceback (most recent call last):\n",
      "  File \"c:\\users\\admin\\appdata\\local\\programs\\python\\python36\\lib\\site-packages\\sklearn\\model_selection\\_validation.py\", line 598, in _fit_and_score\n",
      "    estimator.fit(X_train, y_train, **fit_params)\n",
      "  File \"c:\\users\\admin\\appdata\\local\\programs\\python\\python36\\lib\\site-packages\\sklearn\\linear_model\\_logistic.py\", line 1306, in fit\n",
      "    solver = _check_solver(self.solver, self.penalty, self.dual)\n",
      "  File \"c:\\users\\admin\\appdata\\local\\programs\\python\\python36\\lib\\site-packages\\sklearn\\linear_model\\_logistic.py\", line 444, in _check_solver\n",
      "    \"got %s penalty.\" % (solver, penalty))\n",
      "ValueError: Solver lbfgs supports only 'l2' or 'none' penalties, got l1 penalty.\n",
      "\n",
      "  FitFailedWarning)\n",
      "c:\\users\\admin\\appdata\\local\\programs\\python\\python36\\lib\\site-packages\\sklearn\\model_selection\\_validation.py:619: FitFailedWarning: Estimator fit failed. The score on this train-test partition for these parameters will be set to nan. Details: \n",
      "Traceback (most recent call last):\n",
      "  File \"c:\\users\\admin\\appdata\\local\\programs\\python\\python36\\lib\\site-packages\\sklearn\\model_selection\\_validation.py\", line 598, in _fit_and_score\n",
      "    estimator.fit(X_train, y_train, **fit_params)\n",
      "  File \"c:\\users\\admin\\appdata\\local\\programs\\python\\python36\\lib\\site-packages\\sklearn\\linear_model\\_logistic.py\", line 1306, in fit\n",
      "    solver = _check_solver(self.solver, self.penalty, self.dual)\n",
      "  File \"c:\\users\\admin\\appdata\\local\\programs\\python\\python36\\lib\\site-packages\\sklearn\\linear_model\\_logistic.py\", line 444, in _check_solver\n",
      "    \"got %s penalty.\" % (solver, penalty))\n",
      "ValueError: Solver lbfgs supports only 'l2' or 'none' penalties, got l1 penalty.\n",
      "\n",
      "  FitFailedWarning)\n",
      "c:\\users\\admin\\appdata\\local\\programs\\python\\python36\\lib\\site-packages\\sklearn\\model_selection\\_validation.py:619: FitFailedWarning: Estimator fit failed. The score on this train-test partition for these parameters will be set to nan. Details: \n",
      "Traceback (most recent call last):\n",
      "  File \"c:\\users\\admin\\appdata\\local\\programs\\python\\python36\\lib\\site-packages\\sklearn\\model_selection\\_validation.py\", line 598, in _fit_and_score\n",
      "    estimator.fit(X_train, y_train, **fit_params)\n",
      "  File \"c:\\users\\admin\\appdata\\local\\programs\\python\\python36\\lib\\site-packages\\sklearn\\linear_model\\_logistic.py\", line 1306, in fit\n",
      "    solver = _check_solver(self.solver, self.penalty, self.dual)\n",
      "  File \"c:\\users\\admin\\appdata\\local\\programs\\python\\python36\\lib\\site-packages\\sklearn\\linear_model\\_logistic.py\", line 444, in _check_solver\n",
      "    \"got %s penalty.\" % (solver, penalty))\n",
      "ValueError: Solver lbfgs supports only 'l2' or 'none' penalties, got l1 penalty.\n",
      "\n",
      "  FitFailedWarning)\n",
      "c:\\users\\admin\\appdata\\local\\programs\\python\\python36\\lib\\site-packages\\sklearn\\model_selection\\_validation.py:619: FitFailedWarning: Estimator fit failed. The score on this train-test partition for these parameters will be set to nan. Details: \n",
      "Traceback (most recent call last):\n",
      "  File \"c:\\users\\admin\\appdata\\local\\programs\\python\\python36\\lib\\site-packages\\sklearn\\model_selection\\_validation.py\", line 598, in _fit_and_score\n",
      "    estimator.fit(X_train, y_train, **fit_params)\n",
      "  File \"c:\\users\\admin\\appdata\\local\\programs\\python\\python36\\lib\\site-packages\\sklearn\\linear_model\\_logistic.py\", line 1306, in fit\n",
      "    solver = _check_solver(self.solver, self.penalty, self.dual)\n",
      "  File \"c:\\users\\admin\\appdata\\local\\programs\\python\\python36\\lib\\site-packages\\sklearn\\linear_model\\_logistic.py\", line 444, in _check_solver\n",
      "    \"got %s penalty.\" % (solver, penalty))\n",
      "ValueError: Solver lbfgs supports only 'l2' or 'none' penalties, got l1 penalty.\n",
      "\n",
      "  FitFailedWarning)\n",
      "c:\\users\\admin\\appdata\\local\\programs\\python\\python36\\lib\\site-packages\\sklearn\\model_selection\\_validation.py:619: FitFailedWarning: Estimator fit failed. The score on this train-test partition for these parameters will be set to nan. Details: \n",
      "Traceback (most recent call last):\n",
      "  File \"c:\\users\\admin\\appdata\\local\\programs\\python\\python36\\lib\\site-packages\\sklearn\\model_selection\\_validation.py\", line 598, in _fit_and_score\n",
      "    estimator.fit(X_train, y_train, **fit_params)\n",
      "  File \"c:\\users\\admin\\appdata\\local\\programs\\python\\python36\\lib\\site-packages\\sklearn\\linear_model\\_logistic.py\", line 1306, in fit\n",
      "    solver = _check_solver(self.solver, self.penalty, self.dual)\n",
      "  File \"c:\\users\\admin\\appdata\\local\\programs\\python\\python36\\lib\\site-packages\\sklearn\\linear_model\\_logistic.py\", line 444, in _check_solver\n",
      "    \"got %s penalty.\" % (solver, penalty))\n",
      "ValueError: Solver lbfgs supports only 'l2' or 'none' penalties, got l1 penalty.\n",
      "\n",
      "  FitFailedWarning)\n",
      "c:\\users\\admin\\appdata\\local\\programs\\python\\python36\\lib\\site-packages\\sklearn\\model_selection\\_validation.py:619: FitFailedWarning: Estimator fit failed. The score on this train-test partition for these parameters will be set to nan. Details: \n",
      "Traceback (most recent call last):\n",
      "  File \"c:\\users\\admin\\appdata\\local\\programs\\python\\python36\\lib\\site-packages\\sklearn\\model_selection\\_validation.py\", line 598, in _fit_and_score\n",
      "    estimator.fit(X_train, y_train, **fit_params)\n",
      "  File \"c:\\users\\admin\\appdata\\local\\programs\\python\\python36\\lib\\site-packages\\sklearn\\linear_model\\_logistic.py\", line 1306, in fit\n",
      "    solver = _check_solver(self.solver, self.penalty, self.dual)\n",
      "  File \"c:\\users\\admin\\appdata\\local\\programs\\python\\python36\\lib\\site-packages\\sklearn\\linear_model\\_logistic.py\", line 444, in _check_solver\n",
      "    \"got %s penalty.\" % (solver, penalty))\n",
      "ValueError: Solver lbfgs supports only 'l2' or 'none' penalties, got l1 penalty.\n",
      "\n",
      "  FitFailedWarning)\n",
      "c:\\users\\admin\\appdata\\local\\programs\\python\\python36\\lib\\site-packages\\sklearn\\model_selection\\_validation.py:619: FitFailedWarning: Estimator fit failed. The score on this train-test partition for these parameters will be set to nan. Details: \n",
      "Traceback (most recent call last):\n",
      "  File \"c:\\users\\admin\\appdata\\local\\programs\\python\\python36\\lib\\site-packages\\sklearn\\model_selection\\_validation.py\", line 598, in _fit_and_score\n",
      "    estimator.fit(X_train, y_train, **fit_params)\n",
      "  File \"c:\\users\\admin\\appdata\\local\\programs\\python\\python36\\lib\\site-packages\\sklearn\\linear_model\\_logistic.py\", line 1306, in fit\n",
      "    solver = _check_solver(self.solver, self.penalty, self.dual)\n",
      "  File \"c:\\users\\admin\\appdata\\local\\programs\\python\\python36\\lib\\site-packages\\sklearn\\linear_model\\_logistic.py\", line 444, in _check_solver\n",
      "    \"got %s penalty.\" % (solver, penalty))\n",
      "ValueError: Solver lbfgs supports only 'l2' or 'none' penalties, got l1 penalty.\n",
      "\n",
      "  FitFailedWarning)\n",
      "c:\\users\\admin\\appdata\\local\\programs\\python\\python36\\lib\\site-packages\\sklearn\\model_selection\\_validation.py:619: FitFailedWarning: Estimator fit failed. The score on this train-test partition for these parameters will be set to nan. Details: \n",
      "Traceback (most recent call last):\n",
      "  File \"c:\\users\\admin\\appdata\\local\\programs\\python\\python36\\lib\\site-packages\\sklearn\\model_selection\\_validation.py\", line 598, in _fit_and_score\n",
      "    estimator.fit(X_train, y_train, **fit_params)\n",
      "  File \"c:\\users\\admin\\appdata\\local\\programs\\python\\python36\\lib\\site-packages\\sklearn\\linear_model\\_logistic.py\", line 1306, in fit\n",
      "    solver = _check_solver(self.solver, self.penalty, self.dual)\n",
      "  File \"c:\\users\\admin\\appdata\\local\\programs\\python\\python36\\lib\\site-packages\\sklearn\\linear_model\\_logistic.py\", line 444, in _check_solver\n",
      "    \"got %s penalty.\" % (solver, penalty))\n",
      "ValueError: Solver lbfgs supports only 'l2' or 'none' penalties, got l1 penalty.\n",
      "\n",
      "  FitFailedWarning)\n",
      "c:\\users\\admin\\appdata\\local\\programs\\python\\python36\\lib\\site-packages\\sklearn\\model_selection\\_validation.py:619: FitFailedWarning: Estimator fit failed. The score on this train-test partition for these parameters will be set to nan. Details: \n",
      "Traceback (most recent call last):\n",
      "  File \"c:\\users\\admin\\appdata\\local\\programs\\python\\python36\\lib\\site-packages\\sklearn\\model_selection\\_validation.py\", line 598, in _fit_and_score\n",
      "    estimator.fit(X_train, y_train, **fit_params)\n",
      "  File \"c:\\users\\admin\\appdata\\local\\programs\\python\\python36\\lib\\site-packages\\sklearn\\linear_model\\_logistic.py\", line 1306, in fit\n",
      "    solver = _check_solver(self.solver, self.penalty, self.dual)\n",
      "  File \"c:\\users\\admin\\appdata\\local\\programs\\python\\python36\\lib\\site-packages\\sklearn\\linear_model\\_logistic.py\", line 444, in _check_solver\n",
      "    \"got %s penalty.\" % (solver, penalty))\n",
      "ValueError: Solver lbfgs supports only 'l2' or 'none' penalties, got l1 penalty.\n",
      "\n",
      "  FitFailedWarning)\n",
      "c:\\users\\admin\\appdata\\local\\programs\\python\\python36\\lib\\site-packages\\sklearn\\model_selection\\_validation.py:619: FitFailedWarning: Estimator fit failed. The score on this train-test partition for these parameters will be set to nan. Details: \n",
      "Traceback (most recent call last):\n",
      "  File \"c:\\users\\admin\\appdata\\local\\programs\\python\\python36\\lib\\site-packages\\sklearn\\model_selection\\_validation.py\", line 598, in _fit_and_score\n",
      "    estimator.fit(X_train, y_train, **fit_params)\n",
      "  File \"c:\\users\\admin\\appdata\\local\\programs\\python\\python36\\lib\\site-packages\\sklearn\\linear_model\\_logistic.py\", line 1306, in fit\n",
      "    solver = _check_solver(self.solver, self.penalty, self.dual)\n",
      "  File \"c:\\users\\admin\\appdata\\local\\programs\\python\\python36\\lib\\site-packages\\sklearn\\linear_model\\_logistic.py\", line 444, in _check_solver\n",
      "    \"got %s penalty.\" % (solver, penalty))\n",
      "ValueError: Solver lbfgs supports only 'l2' or 'none' penalties, got l1 penalty.\n",
      "\n",
      "  FitFailedWarning)\n",
      "c:\\users\\admin\\appdata\\local\\programs\\python\\python36\\lib\\site-packages\\sklearn\\model_selection\\_validation.py:619: FitFailedWarning: Estimator fit failed. The score on this train-test partition for these parameters will be set to nan. Details: \n",
      "Traceback (most recent call last):\n",
      "  File \"c:\\users\\admin\\appdata\\local\\programs\\python\\python36\\lib\\site-packages\\sklearn\\model_selection\\_validation.py\", line 598, in _fit_and_score\n",
      "    estimator.fit(X_train, y_train, **fit_params)\n",
      "  File \"c:\\users\\admin\\appdata\\local\\programs\\python\\python36\\lib\\site-packages\\sklearn\\linear_model\\_logistic.py\", line 1306, in fit\n",
      "    solver = _check_solver(self.solver, self.penalty, self.dual)\n",
      "  File \"c:\\users\\admin\\appdata\\local\\programs\\python\\python36\\lib\\site-packages\\sklearn\\linear_model\\_logistic.py\", line 444, in _check_solver\n",
      "    \"got %s penalty.\" % (solver, penalty))\n",
      "ValueError: Solver lbfgs supports only 'l2' or 'none' penalties, got l1 penalty.\n",
      "\n",
      "  FitFailedWarning)\n",
      "c:\\users\\admin\\appdata\\local\\programs\\python\\python36\\lib\\site-packages\\sklearn\\model_selection\\_validation.py:619: FitFailedWarning: Estimator fit failed. The score on this train-test partition for these parameters will be set to nan. Details: \n",
      "Traceback (most recent call last):\n",
      "  File \"c:\\users\\admin\\appdata\\local\\programs\\python\\python36\\lib\\site-packages\\sklearn\\model_selection\\_validation.py\", line 598, in _fit_and_score\n",
      "    estimator.fit(X_train, y_train, **fit_params)\n",
      "  File \"c:\\users\\admin\\appdata\\local\\programs\\python\\python36\\lib\\site-packages\\sklearn\\linear_model\\_logistic.py\", line 1306, in fit\n",
      "    solver = _check_solver(self.solver, self.penalty, self.dual)\n",
      "  File \"c:\\users\\admin\\appdata\\local\\programs\\python\\python36\\lib\\site-packages\\sklearn\\linear_model\\_logistic.py\", line 444, in _check_solver\n",
      "    \"got %s penalty.\" % (solver, penalty))\n",
      "ValueError: Solver lbfgs supports only 'l2' or 'none' penalties, got l1 penalty.\n",
      "\n",
      "  FitFailedWarning)\n",
      "c:\\users\\admin\\appdata\\local\\programs\\python\\python36\\lib\\site-packages\\sklearn\\model_selection\\_validation.py:619: FitFailedWarning: Estimator fit failed. The score on this train-test partition for these parameters will be set to nan. Details: \n",
      "Traceback (most recent call last):\n",
      "  File \"c:\\users\\admin\\appdata\\local\\programs\\python\\python36\\lib\\site-packages\\sklearn\\model_selection\\_validation.py\", line 598, in _fit_and_score\n",
      "    estimator.fit(X_train, y_train, **fit_params)\n",
      "  File \"c:\\users\\admin\\appdata\\local\\programs\\python\\python36\\lib\\site-packages\\sklearn\\linear_model\\_logistic.py\", line 1306, in fit\n",
      "    solver = _check_solver(self.solver, self.penalty, self.dual)\n",
      "  File \"c:\\users\\admin\\appdata\\local\\programs\\python\\python36\\lib\\site-packages\\sklearn\\linear_model\\_logistic.py\", line 444, in _check_solver\n",
      "    \"got %s penalty.\" % (solver, penalty))\n",
      "ValueError: Solver lbfgs supports only 'l2' or 'none' penalties, got l1 penalty.\n",
      "\n",
      "  FitFailedWarning)\n",
      "c:\\users\\admin\\appdata\\local\\programs\\python\\python36\\lib\\site-packages\\sklearn\\model_selection\\_validation.py:619: FitFailedWarning: Estimator fit failed. The score on this train-test partition for these parameters will be set to nan. Details: \n",
      "Traceback (most recent call last):\n",
      "  File \"c:\\users\\admin\\appdata\\local\\programs\\python\\python36\\lib\\site-packages\\sklearn\\model_selection\\_validation.py\", line 598, in _fit_and_score\n",
      "    estimator.fit(X_train, y_train, **fit_params)\n",
      "  File \"c:\\users\\admin\\appdata\\local\\programs\\python\\python36\\lib\\site-packages\\sklearn\\linear_model\\_logistic.py\", line 1306, in fit\n",
      "    solver = _check_solver(self.solver, self.penalty, self.dual)\n",
      "  File \"c:\\users\\admin\\appdata\\local\\programs\\python\\python36\\lib\\site-packages\\sklearn\\linear_model\\_logistic.py\", line 444, in _check_solver\n",
      "    \"got %s penalty.\" % (solver, penalty))\n",
      "ValueError: Solver lbfgs supports only 'l2' or 'none' penalties, got l1 penalty.\n",
      "\n",
      "  FitFailedWarning)\n",
      "c:\\users\\admin\\appdata\\local\\programs\\python\\python36\\lib\\site-packages\\sklearn\\model_selection\\_validation.py:619: FitFailedWarning: Estimator fit failed. The score on this train-test partition for these parameters will be set to nan. Details: \n",
      "Traceback (most recent call last):\n",
      "  File \"c:\\users\\admin\\appdata\\local\\programs\\python\\python36\\lib\\site-packages\\sklearn\\model_selection\\_validation.py\", line 598, in _fit_and_score\n",
      "    estimator.fit(X_train, y_train, **fit_params)\n",
      "  File \"c:\\users\\admin\\appdata\\local\\programs\\python\\python36\\lib\\site-packages\\sklearn\\linear_model\\_logistic.py\", line 1306, in fit\n",
      "    solver = _check_solver(self.solver, self.penalty, self.dual)\n",
      "  File \"c:\\users\\admin\\appdata\\local\\programs\\python\\python36\\lib\\site-packages\\sklearn\\linear_model\\_logistic.py\", line 444, in _check_solver\n",
      "    \"got %s penalty.\" % (solver, penalty))\n",
      "ValueError: Solver lbfgs supports only 'l2' or 'none' penalties, got l1 penalty.\n",
      "\n",
      "  FitFailedWarning)\n",
      "c:\\users\\admin\\appdata\\local\\programs\\python\\python36\\lib\\site-packages\\sklearn\\model_selection\\_validation.py:619: FitFailedWarning: Estimator fit failed. The score on this train-test partition for these parameters will be set to nan. Details: \n",
      "Traceback (most recent call last):\n",
      "  File \"c:\\users\\admin\\appdata\\local\\programs\\python\\python36\\lib\\site-packages\\sklearn\\model_selection\\_validation.py\", line 598, in _fit_and_score\n",
      "    estimator.fit(X_train, y_train, **fit_params)\n",
      "  File \"c:\\users\\admin\\appdata\\local\\programs\\python\\python36\\lib\\site-packages\\sklearn\\linear_model\\_logistic.py\", line 1306, in fit\n",
      "    solver = _check_solver(self.solver, self.penalty, self.dual)\n",
      "  File \"c:\\users\\admin\\appdata\\local\\programs\\python\\python36\\lib\\site-packages\\sklearn\\linear_model\\_logistic.py\", line 444, in _check_solver\n",
      "    \"got %s penalty.\" % (solver, penalty))\n",
      "ValueError: Solver lbfgs supports only 'l2' or 'none' penalties, got l1 penalty.\n",
      "\n",
      "  FitFailedWarning)\n",
      "c:\\users\\admin\\appdata\\local\\programs\\python\\python36\\lib\\site-packages\\sklearn\\model_selection\\_search.py:925: UserWarning: One or more of the test scores are non-finite: [0.94555834        nan 0.97364708        nan 0.97539218        nan\n",
      " 0.97539218        nan 0.97011974        nan 0.96661097        nan]\n",
      "  category=UserWarning\n"
     ]
    },
    {
     "data": {
      "text/plain": "GridSearchCV(cv=3, estimator=LogisticRegression(),\n             param_grid={'C': [0.01, 0.1, 1, 1, 5, 10],\n                         'penalty': ['l2', 'l1']},\n             scoring='accuracy')"
     },
     "execution_count": 16,
     "metadata": {},
     "output_type": "execute_result"
    }
   ],
   "source": [
    "from sklearn.model_selection import GridSearchCV\n",
    "\n",
    "params = { \"penalty\": [\"l2\", \"l1\"],\n",
    "          \"C\": [0.01, 0.1, 1, 1, 5, 10] }\n",
    "\n",
    "grid_clf = GridSearchCV(lr_clf, param_grid=params, scoring=\"accuracy\", cv=3)\n",
    "grid_clf.fit(data_scaled, cancer.target)"
   ],
   "metadata": {
    "collapsed": false,
    "pycharm": {
     "name": "#%%\n"
    }
   }
  },
  {
   "cell_type": "code",
   "execution_count": 17,
   "outputs": [
    {
     "name": "stdout",
     "output_type": "stream",
     "text": [
      "최적 하이퍼 파라미터: {'C': 1, 'penalty': 'l2'}, 최적 평균 정확도: 0.975\n"
     ]
    }
   ],
   "source": [
    "print(\"최적 하이퍼 파라미터: {0}, 최적 평균 정확도: {1:.3f}\".format(grid_clf.best_params_, grid_clf.best_score_))"
   ],
   "metadata": {
    "collapsed": false,
    "pycharm": {
     "name": "#%%\n"
    }
   }
  },
  {
   "cell_type": "markdown",
   "source": [
    "## 7. 회귀 트리\n",
    "- 선형 회귀는 회귀 계수의 관계를 모두 선형으로 가정하고, 회귀 계수를 선형으로 결합하는 회귀 함수를 구하여 여기에 독립 변수를 입력하여 결과값을 예측하는 것이다.\n",
    "- 비선형 회귀 역시 비선형 회귀 함수를 통해 결과값을 예측하는데, 회귀 계수를 비선형으로 결합하는 회귀 함수를 사용한다.\n",
    "- 트리 기반의 회귀는 회귀 트리를 이용한다. 즉 회귀를 위한 트리를 생성하고 이를 기반으로 회귀 예측을 진행한다.\n",
    "- 회귀 트리는 분류에서 언급한 분류 트리와 크게 다르지 않은데, 리프 노드에서 예측 결정값을 만드는 과정의 차이가 있다. 분류 트리가 특정 클래스 레이블을 결정하는 것과는 달리 회귀 트리는 리프 노드에 속한 데이터 값의 평균값을 구해 회귀 예측값을 계산한다.\n",
    "- 회귀 트리는 다음과 같이 동작한다. 데이터 세트의 X 피처를 결정 트리 기반으로 분할하면 X값의 균일도를 반영한 지니 계수에 따라 다음 그림의 왼쪽과 같이 분할 할 수 있다. 루프 노드를 split 0 기준으로 분할하고 이렇게 분할된 규칙 노드에서 다시 split 1 과 split 2 규칙 노드로 분할할 수 있다. 그리고 split 2는 다시 재귀적으로 split 3 규칙 노드로 다음 그림의 오른쪽과 같이 트리 규칙으로 변환한다.\n",
    "- 리프 노드 생성 기준에 부합하는 트리 분할이 완료됐다면 리프 노드에 소속된 데이터 값의 평균값을 구해서 최종적으로 리프 노드에 결정값으로 할당한다."
   ],
   "metadata": {
    "collapsed": false
   }
  },
  {
   "cell_type": "markdown",
   "source": [
    "## 7. 회귀 트리\n",
    "- 회귀는 결정 트리, 랜덤 포레스트, GBM, XGBoost, LightGBM 등의 분류에서 소개한 모든 트리 기반의 알고리즘이 가능하다. 트리 생성이 CART 알고리즘에 기반하고 있기 때문인데, CART(Classification And Regression Trees)는 이름에서도 알 수 있듯이 분류뿐만 아니라 회귀도 가능하게 해주는 트리 생성 알고리즘이다.\n",
    "- 사이킷런은 결정 트리, 랜덤 포레스트, GBM에서 CART 기반의 회귀 수행을 할 수 있는 Estimator 클래스를 제공한다. 또한XGBoost, LigthGBM도 사이킷런 래퍼 클래스를 통해 이를 제공한다."
   ],
   "metadata": {
    "collapsed": false
   }
  },
  {
   "cell_type": "code",
   "execution_count": 18,
   "outputs": [],
   "source": [
    "# 보스턴 데이터 세트 로드\n",
    "from sklearn.datasets import load_boston\n",
    "boston = load_boston()\n",
    "bostonDF = pd.DataFrame(boston.data, columns=boston.feature_names)\n",
    "bostonDF[\"PRICE\"] = boston.target\n",
    "y_target = bostonDF[\"PRICE\"]\n",
    "X_data = bostonDF.drop([\"PRICE\"], axis=1, inplace=False)\n",
    "\n",
    "# 랜덤 포레스트 회귀 트리를 이용하여 MSE 및 RMSE 측정\n",
    "from sklearn.ensemble import RandomForestRegressor\n",
    "rf = RandomForestRegressor(random_state=0, n_estimators=100)\n",
    "neg_mse_scores = cross_val_score(rf, X_data, y_target, scoring=\"neg_mean_squared_error\", cv=5)\n",
    "mse_scores = -1 * neg_mse_scores\n",
    "rmse_scores = np.sqrt(mse_scores)\n",
    "avg_rmse = np.mean(rmse_scores)"
   ],
   "metadata": {
    "collapsed": false,
    "pycharm": {
     "name": "#%%\n"
    }
   }
  },
  {
   "cell_type": "code",
   "execution_count": 19,
   "outputs": [
    {
     "name": "stdout",
     "output_type": "stream",
     "text": [
      "5 교차 검증의 개별 Negative MSE scores:  [ -8.04 -13.58 -18.16 -47.62 -20.45]\n",
      "5 교차 검증의 개별 MSE scores:  [ 8.04 13.58 18.16 47.62 20.45]\n",
      "5 교차 검증의 개별 RMSE scores:  [2.84 3.68 4.26 6.9  4.52]\n",
      "5 교차 검증의 평균 RMSE: 4.441\n"
     ]
    }
   ],
   "source": [
    "print(\"5 교차 검증의 개별 Negative MSE scores: \", np.round(neg_mse_scores, 2))\n",
    "print(\"5 교차 검증의 개별 MSE scores: \", np.round(mse_scores, 2))\n",
    "print(\"5 교차 검증의 개별 RMSE scores: \", np.round(rmse_scores, 2))\n",
    "print(\"5 교차 검증의 평균 RMSE: {0:.3f}\".format(avg_rmse))"
   ],
   "metadata": {
    "collapsed": false,
    "pycharm": {
     "name": "#%%\n"
    }
   }
  },
  {
   "cell_type": "markdown",
   "source": [
    "## 7. 회귀 트리\n",
    "- 랜덤 포레스트 뿐만 아니라 결정 트리, GBM, XGBoost, LightGBM의 Regressor를 모두 이용하여 보스턴 주택 가격 예측을 수행한다.\n",
    "- 이를 위하여 유틸리티 함수 get_model_cv_prediction( ) 함수를 생성한다. 이 함수는 입력 모델과 데이터 세트를 입력 받아 교차 검증으로 평균 RMSE를 계산한다.\n",
    "- 회귀 트리 Regressor 클래스는 선형 회귀와 다른 처리 방식이므로 회귀 계수를 제공하는 coef_ 속성이 없다. 대신 feature_importance_를 이용하여 피처별 중요도를 알 수 있다."
   ],
   "metadata": {
    "collapsed": false
   }
  },
  {
   "cell_type": "code",
   "execution_count": 20,
   "outputs": [],
   "source": [
    "def get_model_cv_prediction(model, X_data, y_target):\n",
    "    neg_mse_scores = cross_val_score(model, X_data, y_target, scoring=\"neg_mean_squared_error\", cv=5)\n",
    "    mse_scores = -1 * neg_mse_scores\n",
    "    rmse_scores = np.sqrt(mse_scores)\n",
    "    avg_rmse = np.mean(rmse_scores)\n",
    "    print(\"##### \", model.__class__.__name__, \" #####\")\n",
    "    print(\"5 교차 검증의 평균 RMSE : {0:.3f}\".format(avg_rmse))"
   ],
   "metadata": {
    "collapsed": false,
    "pycharm": {
     "name": "#%%\n"
    }
   }
  },
  {
   "cell_type": "code",
   "execution_count": 21,
   "outputs": [
    {
     "name": "stdout",
     "output_type": "stream",
     "text": [
      "#####  DecisionTreeRegressor  #####\n",
      "5 교차 검증의 평균 RMSE : 5.978\n",
      "#####  RandomForestRegressor  #####\n",
      "5 교차 검증의 평균 RMSE : 4.423\n",
      "#####  GradientBoostingRegressor  #####\n",
      "5 교차 검증의 평균 RMSE : 4.269\n",
      "#####  XGBRegressor  #####\n",
      "5 교차 검증의 평균 RMSE : 4.251\n",
      "#####  LGBMRegressor  #####\n",
      "5 교차 검증의 평균 RMSE : 4.646\n"
     ]
    }
   ],
   "source": [
    "# 결정 트리\n",
    "from sklearn.tree import DecisionTreeRegressor\n",
    "dt_reg = DecisionTreeRegressor(random_state=0, max_depth=4)\n",
    "\n",
    "# 랜덤 포레스트\n",
    "from sklearn.ensemble import RandomForestRegressor\n",
    "rf_reg = RandomForestRegressor(random_state=0, n_estimators=1000)\n",
    "\n",
    "# GBM\n",
    "from sklearn.ensemble import GradientBoostingRegressor\n",
    "gb_reg = GradientBoostingRegressor(random_state=0, n_estimators=1000)\n",
    "\n",
    "# XGB\n",
    "from xgboost import XGBRegressor\n",
    "xgb_reg = XGBRegressor(n_estimators=1000)\n",
    "\n",
    "# LGBM\n",
    "from lightgbm import LGBMRegressor\n",
    "lgb_reg = LGBMRegressor(n_estimators=1000)\n",
    "\n",
    "# 트리 기반의 회귀 모델을 반복하면서 평가를 수행\n",
    "models = [dt_reg, rf_reg, gb_reg, xgb_reg, lgb_reg]\n",
    "for model in models:\n",
    "    get_model_cv_prediction(model, X_data, y_target)"
   ],
   "metadata": {
    "collapsed": false,
    "pycharm": {
     "name": "#%%\n"
    }
   }
  },
  {
   "cell_type": "code",
   "execution_count": 22,
   "outputs": [
    {
     "data": {
      "text/plain": "<Figure size 432x288 with 1 Axes>",
      "image/png": "[encoded data removed]"
     },
     "metadata": {
      "needs_background": "light"
     },
     "output_type": "display_data"
    }
   ],
   "source": [
    "# 피처별 중요도를 시각화\n",
    "rf_reg = RandomForestRegressor(n_estimators=1000)\n",
    "rf_reg.fit(X_data, y_target)\n",
    "\n",
    "feature_series = pd.Series(data=rf_reg.feature_importances_, index=X_data.columns)\n",
    "feature_series = feature_series.sort_values(ascending=False)\n",
    "sns.barplot(x=feature_series, y=feature_series.index)\n",
    "plt.show()"
   ],
   "metadata": {
    "collapsed": false,
    "pycharm": {
     "name": "#%%\n"
    }
   }
  },
  {
   "cell_type": "markdown",
   "source": [
    "## 7. 회귀 트리\n",
    "- 회귀 트리 Regressor가 어떻게 예측값을 판단하는지 선형 회귀와 비교하여 시각화한다.\n",
    "- 결정 트리의 하이퍼 파라미터인 max_depth의 크기를 변화시키면서 어떻게 회귀 트리 예측선이 변화하는지 살펴본다.\n",
    "- 보스턴 주택 데이터 세트를 이용하며, 2차원 평면상에서 회귀 예측선을 쉽게 표현하기 위하여 단 1개의 변수만 추출한다. 타겟 변수인 Price와 가장 밀접한 양의 상관관계를 가지는 RM 칼럼만 이용하여 선형 회귀와 결정 트리 회귀로 PRICE 예측 회귀선을 표현한다.\n",
    "- 보스턴 데이터 세트의 개수를 100개만 샘플링하고, RM과 PRICE 칼럼만 추출한다. 좀 더 직관적으로 예측값을 시각화하기 위하여 2차원 평면상에서 X축에 독립 변수인 RM, Y축에 종속 변수인 PRICE를 산점도 형태로 나타낸다."
   ],
   "metadata": {
    "collapsed": false
   }
  },
  {
   "cell_type": "code",
   "execution_count": 23,
   "outputs": [
    {
     "name": "stdout",
     "output_type": "stream",
     "text": [
      "(100, 2)\n"
     ]
    },
    {
     "data": {
      "text/plain": "<Figure size 432x288 with 1 Axes>",
      "image/png": "[encoded data removed]"
     },
     "metadata": {
      "needs_background": "light"
     },
     "output_type": "display_data"
    }
   ],
   "source": [
    "bostonDF_sample = bostonDF[['RM', 'PRICE']]\n",
    "bostonDF_sample = bostonDF_sample.sample(n=100, random_state=0)\n",
    "print(bostonDF_sample.shape)\n",
    "\n",
    "plt.figure()\n",
    "plt.scatter(bostonDF_sample.RM, bostonDF_sample.PRICE, c=\"darkorange\")\n",
    "plt.show()"
   ],
   "metadata": {
    "collapsed": false,
    "pycharm": {
     "name": "#%%\n"
    }
   }
  },
  {
   "cell_type": "markdown",
   "source": [
    "## 7. 회귀 트리\n",
    "- 보스턴 데이터 세트에 대해 LinearRegression과 DecisionTreeRegressor의 max_depth을 각각 2와 7로 하여 학습한다.\n",
    "- 이렇게 학습된 Regressor에 RM 값을 4.5~8.5까지의 100개의 테스트 데이터 세트로 제공했을 때의 예측값을 구한다.\n",
    "- 학습된 Regressor에서 예측한 Price 회귀선을 그린다.\n",
    "- 첫번째 그림인 선형 회귀는 예측 회귀선을 직선으로 표현한다. 반면 두번째, 세번째 그림인 회귀 트리의 경우 분할되는 데이터 지점에 따라 브랜치를 만들면서 계단 형태로 회귀선을 만든다.\n",
    "- DecisionTreeRegressor의 max_depth=7인 경우에는 학습 데이터 세트의 이상치 데이터도 학습하면서 복잡한 계단 형태의 회귀선을 만들어 과적합이 되기 쉬운 모델이 되었음을 알 수 있다."
   ],
   "metadata": {
    "collapsed": false
   }
  },
  {
   "cell_type": "code",
   "execution_count": 24,
   "outputs": [],
   "source": [
    "from sklearn.linear_model import LinearRegression\n",
    "from sklearn.tree import DecisionTreeRegressor\n",
    "\n",
    "# 선형 회귀와 결정 트리 기반의 Regressor를 생성하고, 결정 트리의 max_depth을 각각 2와 7로 지정\n",
    "lr_reg = LinearRegression()\n",
    "dt_reg2 = DecisionTreeRegressor(max_depth=2)\n",
    "dt_reg7 = DecisionTreeRegressor(max_depth=7)\n",
    "\n",
    "# 실제 예측을 적용할 테스트용 데이터 세트를 4.5~8.5까지의 100개의 데이터 세트로 생성\n",
    "X_test = np.arange(4.5, 8.5, 0.04).reshape(-1, 1)\n",
    "\n",
    "# 보스턴 주택 가격 데이터에서 시각화를 위해 피처는 RM만, 결정 데이터인 PRICE 추출\n",
    "X_feature = bostonDF_sample[\"RM\"].values.reshape(-1, 1)\n",
    "y_target = bostonDF_sample[\"PRICE\"].values.reshape(-1, 1)\n",
    "\n",
    "# 학습과 예측 수행\n",
    "lr_reg.fit(X_feature, y_target)\n",
    "dt_reg2.fit(X_feature, y_target)\n",
    "dt_reg7.fit(X_feature, y_target)\n",
    "\n",
    "pred_lr = lr_reg.predict(X_test)\n",
    "pred_dt2 = dt_reg2.predict(X_test)\n",
    "pred_dt7 = dt_reg7.predict(X_test)"
   ],
   "metadata": {
    "collapsed": false,
    "pycharm": {
     "name": "#%%\n"
    }
   }
  },
  {
   "cell_type": "code",
   "execution_count": 25,
   "outputs": [
    {
     "data": {
      "text/plain": "<Figure size 1008x288 with 3 Axes>",
      "image/png": "[encoded data removed]"
     },
     "metadata": {
      "needs_background": "light"
     },
     "output_type": "display_data"
    }
   ],
   "source": [
    "fig, (ax1, ax2, ax3) = plt.subplots(figsize=(14, 4), ncols=3)\n",
    "\n",
    "# X축 값을 4.5~8.5로 변환하여 입력했을 때, 선형 회귀와 결정 트리 회귀 예측선을 시각화\n",
    "# 선형 회귀로 학습된 모델 회귀 예측선\n",
    "ax1.set_title(\"Linear Regression\")\n",
    "ax1.scatter(bostonDF_sample.RM, bostonDF_sample.PRICE, c=\"darkorange\")   # 원래 데이터를 산점도로 그림\n",
    "ax1.plot(X_test, pred_lr, label=\"linear\", linewidth=2)  # 모델 예측 결과를 직선으로 연결하여 그림\n",
    "\n",
    "# DecisionTreeRegressor의 max_depth을 2로 했을 때의 모델 회귀 예측선\n",
    "ax2.set_title(\"Decision Tree Regression \\n max_depth=2\")\n",
    "ax2.scatter(bostonDF_sample.RM, bostonDF_sample.PRICE, c=\"darkorange\")   # 원래 데이터를 산점도로 그림\n",
    "ax2.plot(X_test, pred_dt2, label=\"max_depth:2\", linewidth=2)   # 모델 예측 결과를 직선으로 연결하여 그림\n",
    "\n",
    "# DecisionTreeRegressor의 max_depth을 7로 했을 때의 모델 회귀 예측선\n",
    "ax3.set_title(\"Decision Tree Regression \\n max_depth=7\")\n",
    "ax3.scatter(bostonDF_sample.RM, bostonDF_sample.PRICE, c=\"darkorange\")   # 원래 데이터를 산점도로 그림\n",
    "ax3.plot(X_test, pred_dt7, label=\"max_depth:7\", linewidth=2)   # 모델 예측 결과를 직선으로 연결하여 그림\n",
    "\n",
    "plt.show()"
   ],
   "metadata": {
    "collapsed": false,
    "pycharm": {
     "name": "#%%\n"
    }
   }
  },
  {
   "cell_type": "code",
   "execution_count": null,
   "outputs": [],
   "source": [],
   "metadata": {
    "collapsed": false,
    "pycharm": {
     "name": "#%%\n"
    }
   }
  }
 ],
 "metadata": {
  "kernelspec": {
   "display_name": "Python 3",
   "language": "python",
   "name": "python3"
  },
  "language_info": {
   "codemirror_mode": {
    "name": "ipython",
    "version": 2
   },
   "file_extension": ".py",
   "mimetype": "text/x-python",
   "name": "python",
   "nbconvert_exporter": "python",
   "pygments_lexer": "ipython2",
   "version": "2.7.6"
  }
 },
 "nbformat": 4,
 "nbformat_minor": 0
}