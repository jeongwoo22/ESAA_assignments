{
  "nbformat": 4,
  "nbformat_minor": 0,
  "metadata": {
    "colab": {
      "provenance": [],
      "collapsed_sections": [],
      "include_colab_link": true
    },
    "kernelspec": {
      "name": "python3",
      "display_name": "Python 3"
    },
    "language_info": {
      "name": "python"
    }
  },
  "cells": [
    {
      "cell_type": "markdown",
      "metadata": {
        "id": "view-in-github",
        "colab_type": "text"
      },
      "source": [
        "<a href=\"https://colab.research.google.com/github/jeongwoo22/ESAA_assignments/blob/main/OB_%EC%84%B8%EC%85%982.ipynb\" target=\"_parent\"><img src=\"https://colab.research.google.com/assets/colab-badge.svg\" alt=\"Open In Colab\"/></a>"
      ]
    },
    {
      "cell_type": "markdown",
      "source": [
        "## **| 모델 훈련 연습 문제**\n",
        "___\n",
        "- 출처 : 핸즈온 머신러닝 Ch04 연습문제 1, 5, 9, 10번\n",
        "- 개념 문제의 경우 텍스트 셀을 추가하여 정답을 적어주세요."
      ],
      "metadata": {
        "id": "zCu72vDHGMHo"
      }
    },
    {
      "cell_type": "markdown",
      "source": [
        "### **1. 수백만 개의 특성을 가진 훈련 세트에서는 어떤 선형 회귀 알고리즘을 사용할 수 있을까요?**\n",
        "___\n"
      ],
      "metadata": {
        "id": "j3g-_Dq9GiuT"
      }
    },
    {
      "cell_type": "markdown",
      "source": [
        "- 특성이 많은 훈련세트의 경우 정규방정식은 시간이 많이걸려서 경사 하강법 알고리즘을 사용하는데 좋다. 이때, 경사 하강법의 3가지 종류 중에서 배치 경사 하강법은 훈련데이터 전체를 사용하므로 느리므로 확률적 경사하강법이나 미니배치 경사하강법을 사용할 수 있다. "
      ],
      "metadata": {
        "id": "kjcH2j-_EoYl"
      }
    },
    {
      "cell_type": "markdown",
      "source": [
        "### **2. 배치 경사 하강법을 사용하고 에포크마다 검증 오차를 그래프로 나타내봤습니다. 검증 오차가 일정하게 상승되고 있다면 어떤 일이 일어나고 있는 걸까요? 이 문제를 어떻게 해결할 수 있나요?**\n",
        "___"
      ],
      "metadata": {
        "id": "-pDjW5XcHPOt"
      }
    },
    {
      "cell_type": "markdown",
      "source": [
        "- 정상적이라면, 검증오차가 일정하게 감소를 해야하는데, 상승하고 있다는 것은 오차가 최소인 값에 수렴하지 못하고, 발산하고 있다는 것을 의미한다. (책 그림 4-8) 따라서 발산하는 경우는 학습률이 너무 큰 경우이기 때문에, 학습률을 낮추어 줘야 한다.  "
      ],
      "metadata": {
        "id": "5M60k8lRGsuv"
      }
    },
    {
      "cell_type": "markdown",
      "source": [
        "### **3. 릿지 회귀를 사용했을 때 훈련 오차가 검증 오차가 거의 비슷하고 둘 다 높았습니다. 이 모델에는 높은 편향이 문제인가요, 아니면 높은 분산이 문제인가요? 규제 하이퍼파라미터 $\\alpha$를 증가시켜야 할까요 아니면 줄여야 할까요?**\n",
        "___"
      ],
      "metadata": {
        "id": "nM7JbsLoy7b7"
      }
    },
    {
      "cell_type": "markdown",
      "source": [
        "- 먼저 훈련오차와 검증오차가 비슷한데, 둘다 오차가 높다는 것은 분산은 작고, 편향은 크다는 뜻이다. 따라서 높은 편향이 문제이므로, 규제를 더 시켜서 오차를 낮추어야 한다. 즉 규제 하이퍼파라미터를 감소시켜야 한다. "
      ],
      "metadata": {
        "id": "CtxUD5daHtbh"
      }
    },
    {
      "cell_type": "markdown",
      "source": [
        "### **4. 다음과 같이 사용해야 하는 이유는?**\n",
        "___\n",
        "- 평범한 선형 회귀(즉, 아무런 규제가 없는 모델) 대신 릿지 회귀\n",
        "- 릿지 회귀 대신 라쏘 회귀\n",
        "- 라쏘 회귀 대신 엘라스틱넷"
      ],
      "metadata": {
        "id": "C8tARu-ZzOGx"
      }
    },
    {
      "cell_type": "markdown",
      "source": [
        "- 평범한 선형회귀보다 기본적으로 규제가 있는게 좋기 때문에 평번한 선형회귀는 피하고 규제가 들어간 릿지 회귀를 사용하는게 낫다.\n",
        "- 라쏘회귀가 릿지 회귀와 다른 부분은 불필요한 특성을 제거 시키는 것이므로, 만약 여러가지 특성들 중에, 몇 가지 특성이 가중치가 높다는 생각이 들 때 라쏘 회귀를 사용하여 불필요한 특성의 가중치를 없애 버린다\n",
        "- 엘라스틱넷은 라쏘와 릿지의 절충으로, 라쏘 회귀가 특성 수가 너무 많을 경우 라쏘가 이상하기 때문에 엘라스틱넷을 사용하는게 더 나을 수 있다. "
      ],
      "metadata": {
        "id": "X5MDPznJI5bi"
      }
    },
    {
      "cell_type": "code",
      "source": [],
      "metadata": {
        "id": "H-hvDzd_J599"
      },
      "execution_count": null,
      "outputs": []
    }
  ]
}