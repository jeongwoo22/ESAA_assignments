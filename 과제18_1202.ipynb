{
  "nbformat": 4,
  "nbformat_minor": 0,
  "metadata": {
    "colab": {
      "provenance": [],
      "authorship_tag": "ABX9TyNzYpFfNArt5Jj3Uz8tnaCY",
      "include_colab_link": true
    },
    "kernelspec": {
      "name": "python3",
      "display_name": "Python 3"
    },
    "language_info": {
      "name": "python"
    }
  },
  "cells": [
    {
      "cell_type": "markdown",
      "metadata": {
        "id": "view-in-github",
        "colab_type": "text"
      },
      "source": [
        "<a href=\"https://colab.research.google.com/github/jeongwoo22/ESAA_assignments/blob/main/%EA%B3%BC%EC%A0%9C18_1202.ipynb\" target=\"_parent\"><img src=\"https://colab.research.google.com/assets/colab-badge.svg\" alt=\"Open In Colab\"/></a>"
      ]
    },
    {
      "cell_type": "markdown",
      "source": [
        "# 파이썬 딥러닝 텐서플로 필사 "
      ],
      "metadata": {
        "id": "X6T6U5y8HEka"
      }
    },
    {
      "cell_type": "code",
      "execution_count": 1,
      "metadata": {
        "colab": {
          "base_uri": "https://localhost:8080/"
        },
        "id": "sHXGVWQmG6O0",
        "outputId": "6ecb5e81-e56e-4cb0-c084-5762792535b6"
      },
      "outputs": [
        {
          "output_type": "stream",
          "name": "stdout",
          "text": [
            "Downloading data from https://storage.googleapis.com/tensorflow/tf-keras-datasets/mnist.npz\n",
            "11490434/11490434 [==============================] - 1s 0us/step\n",
            "train set:  (60000, 28, 28) (60000,)\n",
            "test set:  (10000, 28, 28) (10000,)\n"
          ]
        }
      ],
      "source": [
        "import tensorflow as tf\n",
        "\n",
        "# 케라스의 내장 데이터셋에서 mnist 데이터셋 로드\n",
        "mnist = tf.keras.datasets.mnist\n",
        "\n",
        "# load_data()로 데이터셋 로드\n",
        "(x_train, y_train), (x_test, y_test) = mnist.load_data()\n",
        "\n",
        "# 로드된 데이터셋 확인\n",
        "print('train set: ', x_train.shape, y_train.shape)\n",
        "print('test set: ', x_test.shape, y_test.shape)\n",
        "\n",
        "# 데이터 정규화\n",
        "x_train = x_train/x_train.max()\n",
        "x_test = x_test/x_test.max()"
      ]
    },
    {
      "cell_type": "code",
      "source": [
        "# 모델 정의\n",
        "model = tf.keras.Sequential([\n",
        "    tf.keras.layers.Flatten(input_shape=(28,28)),\n",
        "    tf.keras.layers.Dense(256, activation='relu'),\n",
        "    tf.keras.layers.Dense(64, activation='relu'),\n",
        "    tf.keras.layers.Dense(32, activation='relu'),\n",
        "    # 노드=10개가 되어야 한다\n",
        "    tf.keras.layers.Dense(10, activation='softmax'),\n",
        "])\n",
        "\n",
        "# 모델 컴파일\n",
        "model.compile(optimizer='adam', loss='sparse_categorical_crossentropy',metrics=['accuracy'])"
      ],
      "metadata": {
        "id": "T5kIlmwJHDz-"
      },
      "execution_count": 2,
      "outputs": []
    },
    {
      "cell_type": "code",
      "source": [
        "model.fit(x_train, y_train,\n",
        "          validation_data=(x_test, y_test),\n",
        "          epochs=10)"
      ],
      "metadata": {
        "colab": {
          "base_uri": "https://localhost:8080/"
        },
        "id": "RrY7IDoSHJCR",
        "outputId": "a2e840f9-d14b-469c-93d8-aab5a4f546ae"
      },
      "execution_count": 3,
      "outputs": [
        {
          "output_type": "stream",
          "name": "stdout",
          "text": [
            "Epoch 1/10\n",
            "1875/1875 [==============================] - 9s 5ms/step - loss: 0.2285 - accuracy: 0.9317 - val_loss: 0.1215 - val_accuracy: 0.9627\n",
            "Epoch 2/10\n",
            "1875/1875 [==============================] - 9s 5ms/step - loss: 0.0916 - accuracy: 0.9721 - val_loss: 0.0892 - val_accuracy: 0.9697\n",
            "Epoch 3/10\n",
            "1875/1875 [==============================] - 8s 4ms/step - loss: 0.0637 - accuracy: 0.9796 - val_loss: 0.0883 - val_accuracy: 0.9727\n",
            "Epoch 4/10\n",
            "1875/1875 [==============================] - 10s 5ms/step - loss: 0.0492 - accuracy: 0.9845 - val_loss: 0.1125 - val_accuracy: 0.9697\n",
            "Epoch 5/10\n",
            "1875/1875 [==============================] - 8s 4ms/step - loss: 0.0398 - accuracy: 0.9869 - val_loss: 0.0817 - val_accuracy: 0.9751\n",
            "Epoch 6/10\n",
            "1875/1875 [==============================] - 8s 4ms/step - loss: 0.0334 - accuracy: 0.9894 - val_loss: 0.0682 - val_accuracy: 0.9788\n",
            "Epoch 7/10\n",
            "1875/1875 [==============================] - 8s 4ms/step - loss: 0.0283 - accuracy: 0.9904 - val_loss: 0.0919 - val_accuracy: 0.9760\n",
            "Epoch 8/10\n",
            "1875/1875 [==============================] - 8s 4ms/step - loss: 0.0238 - accuracy: 0.9921 - val_loss: 0.0964 - val_accuracy: 0.9767\n",
            "Epoch 9/10\n",
            "1875/1875 [==============================] - 8s 4ms/step - loss: 0.0219 - accuracy: 0.9925 - val_loss: 0.0785 - val_accuracy: 0.9813\n",
            "Epoch 10/10\n",
            "1875/1875 [==============================] - 8s 4ms/step - loss: 0.0181 - accuracy: 0.9942 - val_loss: 0.0917 - val_accuracy: 0.9785\n"
          ]
        },
        {
          "output_type": "execute_result",
          "data": {
            "text/plain": [
              "<keras.callbacks.History at 0x7f39413dc400>"
            ]
          },
          "metadata": {},
          "execution_count": 3
        }
      ]
    },
    {
      "cell_type": "code",
      "source": [
        "# 모델을 h5 포맷으로 저장\n",
        "model.save('h5-model.h5')"
      ],
      "metadata": {
        "id": "6I0tpffpHKIT"
      },
      "execution_count": 4,
      "outputs": []
    },
    {
      "cell_type": "code",
      "source": [
        "# 모델 복원\n",
        "h5_model = tf.keras.models.load_model('h5-model.h5')\n",
        "h5_model.summary()"
      ],
      "metadata": {
        "colab": {
          "base_uri": "https://localhost:8080/"
        },
        "id": "Lnm5nKVrHLv0",
        "outputId": "838c9b29-9ed1-4e4b-d48a-fa0a61e785cc"
      },
      "execution_count": 5,
      "outputs": [
        {
          "output_type": "stream",
          "name": "stdout",
          "text": [
            "Model: \"sequential\"\n",
            "_________________________________________________________________\n",
            " Layer (type)                Output Shape              Param #   \n",
            "=================================================================\n",
            " flatten (Flatten)           (None, 784)               0         \n",
            "                                                                 \n",
            " dense (Dense)               (None, 256)               200960    \n",
            "                                                                 \n",
            " dense_1 (Dense)             (None, 64)                16448     \n",
            "                                                                 \n",
            " dense_2 (Dense)             (None, 32)                2080      \n",
            "                                                                 \n",
            " dense_3 (Dense)             (None, 10)                330       \n",
            "                                                                 \n",
            "=================================================================\n",
            "Total params: 219,818\n",
            "Trainable params: 219,818\n",
            "Non-trainable params: 0\n",
            "_________________________________________________________________\n"
          ]
        }
      ]
    },
    {
      "cell_type": "code",
      "source": [
        "# 모델 검증 \n",
        "loss, acc = h5_model.evaluate(x_test, y_test, verbose=0)\n",
        "print(f'h5 model]loss: {loss:.5f}, acc: {acc:.5f}')"
      ],
      "metadata": {
        "colab": {
          "base_uri": "https://localhost:8080/"
        },
        "id": "O25D3hHqHMxR",
        "outputId": "22c30fb1-1a15-4355-9ba1-879c54bea268"
      },
      "execution_count": 6,
      "outputs": [
        {
          "output_type": "stream",
          "name": "stdout",
          "text": [
            "h5 model]loss: 0.09167, acc: 0.97850\n"
          ]
        }
      ]
    },
    {
      "cell_type": "code",
      "source": [
        "# 모델을 SaveModel 포맷으로 저장 (텐서플로2에서 기본으로 지원하는 파일 포맷)\n",
        "model.save('saved-model')"
      ],
      "metadata": {
        "id": "xfD8FFniHN_4"
      },
      "execution_count": 7,
      "outputs": []
    },
    {
      "cell_type": "code",
      "source": [
        "# 모델 복원\n",
        "saved_model = tf.keras.models.load_model('saved-model')\n",
        "saved_model.summary()"
      ],
      "metadata": {
        "colab": {
          "base_uri": "https://localhost:8080/"
        },
        "id": "wTO6v3VSHPhQ",
        "outputId": "dcab2a94-d6d3-455b-cad4-06786abe4c80"
      },
      "execution_count": 8,
      "outputs": [
        {
          "output_type": "stream",
          "name": "stdout",
          "text": [
            "Model: \"sequential\"\n",
            "_________________________________________________________________\n",
            " Layer (type)                Output Shape              Param #   \n",
            "=================================================================\n",
            " flatten (Flatten)           (None, 784)               0         \n",
            "                                                                 \n",
            " dense (Dense)               (None, 256)               200960    \n",
            "                                                                 \n",
            " dense_1 (Dense)             (None, 64)                16448     \n",
            "                                                                 \n",
            " dense_2 (Dense)             (None, 32)                2080      \n",
            "                                                                 \n",
            " dense_3 (Dense)             (None, 10)                330       \n",
            "                                                                 \n",
            "=================================================================\n",
            "Total params: 219,818\n",
            "Trainable params: 219,818\n",
            "Non-trainable params: 0\n",
            "_________________________________________________________________\n"
          ]
        }
      ]
    },
    {
      "cell_type": "code",
      "source": [
        "# 모델 검증 (HDF5 포맷)\n",
        "loss, acc = h5_model.evaluate(x_test, y_test, verbose=0)\n",
        "print(f'h5 model]loss: {loss:.5f}, acc: {acc:.5f}')\n",
        "\n",
        "# 모델 검증 (SavedModel 포맷)\n",
        "loss, acc = saved_model.evaluate(x_test, y_test, verbose=0)\n",
        "print(f'saved_model]loss: {loss:.5f}, acc: {acc:.5f}')"
      ],
      "metadata": {
        "colab": {
          "base_uri": "https://localhost:8080/"
        },
        "id": "by-oNhMGHQkM",
        "outputId": "12057643-97eb-499c-f404-3ece0a7fc3f0"
      },
      "execution_count": 9,
      "outputs": [
        {
          "output_type": "stream",
          "name": "stdout",
          "text": [
            "h5 model]loss: 0.09167, acc: 0.97850\n",
            "saved_model]loss: 0.09167, acc: 0.97850\n"
          ]
        }
      ]
    },
    {
      "cell_type": "code",
      "source": [],
      "metadata": {
        "id": "qgF158BIHRsB"
      },
      "execution_count": null,
      "outputs": []
    }
  ]
}