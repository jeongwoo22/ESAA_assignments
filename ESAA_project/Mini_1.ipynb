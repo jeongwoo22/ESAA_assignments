{
 "cells": [
  {
   "cell_type": "code",
   "execution_count": 5,
   "metadata": {
    "collapsed": true
   },
   "outputs": [
    {
     "data": {
      "text/plain": "         title   distributor genre release_time  time screening_rat director  \\\n0       개들의 전쟁      롯데엔터테인먼트    액션   2012-11-22    96      청소년 관람불가      조병옥   \n1         내부자들        (주)쇼박스   느와르   2015-11-19   130      청소년 관람불가      우민호   \n2    은밀하게 위대하게        (주)쇼박스    액션   2013-06-05   123       15세 관람가      장철수   \n3     나는 공무원이다        (주)NEW   코미디   2012-07-12   101        전체 관람가      구자홍   \n4         불량남녀  쇼박스(주)미디어플렉스   코미디   2010-11-04   108       15세 관람가      신근호   \n..         ...           ...   ...          ...   ...           ...      ...   \n595         해무        (주)NEW   드라마   2014-08-13   111      청소년 관람불가      심성보   \n596       파파로티        (주)쇼박스   드라마   2013-03-14   127       15세 관람가      윤종찬   \n597      살인의 강     (주)마운틴픽쳐스    공포   2010-09-30    99      청소년 관람불가      김대현   \n598     악의 연대기     CJ 엔터테인먼트   느와르   2015-05-14   102       15세 관람가      백운학   \n599        베를린     CJ 엔터테인먼트    액션   2013-01-30   120       15세 관람가      류승완   \n\n     dir_prev_bfnum  dir_prev_num  num_staff  num_actor  box_off_num  \n0               NaN             0         91          2        23398  \n1        1161602.50             2        387          3      7072501  \n2         220775.25             4        343          4      6959083  \n3          23894.00             2         20          6       217866  \n4              1.00             1        251          2       483387  \n..              ...           ...        ...        ...          ...  \n595         3833.00             1        510          7      1475091  \n596       496061.00             1        286          6      1716438  \n597             NaN             0        123          4         2475  \n598             NaN             0        431          4      2192525  \n599             NaN             0        363          5      7166532  \n\n[600 rows x 12 columns]",
      "text/html": "<div>\n<style scoped>\n    .dataframe tbody tr th:only-of-type {\n        vertical-align: middle;\n    }\n\n    .dataframe tbody tr th {\n        vertical-align: top;\n    }\n\n    .dataframe thead th {\n        text-align: right;\n    }\n</style>\n<table border=\"1\" class=\"dataframe\">\n  <thead>\n    <tr style=\"text-align: right;\">\n      <th></th>\n      <th>title</th>\n      <th>distributor</th>\n      <th>genre</th>\n      <th>release_time</th>\n      <th>time</th>\n      <th>screening_rat</th>\n      <th>director</th>\n      <th>dir_prev_bfnum</th>\n      <th>dir_prev_num</th>\n      <th>num_staff</th>\n      <th>num_actor</th>\n      <th>box_off_num</th>\n    </tr>\n  </thead>\n  <tbody>\n    <tr>\n      <th>0</th>\n      <td>개들의 전쟁</td>\n      <td>롯데엔터테인먼트</td>\n      <td>액션</td>\n      <td>2012-11-22</td>\n      <td>96</td>\n      <td>청소년 관람불가</td>\n      <td>조병옥</td>\n      <td>NaN</td>\n      <td>0</td>\n      <td>91</td>\n      <td>2</td>\n      <td>23398</td>\n    </tr>\n    <tr>\n      <th>1</th>\n      <td>내부자들</td>\n      <td>(주)쇼박스</td>\n      <td>느와르</td>\n      <td>2015-11-19</td>\n      <td>130</td>\n      <td>청소년 관람불가</td>\n      <td>우민호</td>\n      <td>1161602.50</td>\n      <td>2</td>\n      <td>387</td>\n      <td>3</td>\n      <td>7072501</td>\n    </tr>\n    <tr>\n      <th>2</th>\n      <td>은밀하게 위대하게</td>\n      <td>(주)쇼박스</td>\n      <td>액션</td>\n      <td>2013-06-05</td>\n      <td>123</td>\n      <td>15세 관람가</td>\n      <td>장철수</td>\n      <td>220775.25</td>\n      <td>4</td>\n      <td>343</td>\n      <td>4</td>\n      <td>6959083</td>\n    </tr>\n    <tr>\n      <th>3</th>\n      <td>나는 공무원이다</td>\n      <td>(주)NEW</td>\n      <td>코미디</td>\n      <td>2012-07-12</td>\n      <td>101</td>\n      <td>전체 관람가</td>\n      <td>구자홍</td>\n      <td>23894.00</td>\n      <td>2</td>\n      <td>20</td>\n      <td>6</td>\n      <td>217866</td>\n    </tr>\n    <tr>\n      <th>4</th>\n      <td>불량남녀</td>\n      <td>쇼박스(주)미디어플렉스</td>\n      <td>코미디</td>\n      <td>2010-11-04</td>\n      <td>108</td>\n      <td>15세 관람가</td>\n      <td>신근호</td>\n      <td>1.00</td>\n      <td>1</td>\n      <td>251</td>\n      <td>2</td>\n      <td>483387</td>\n    </tr>\n    <tr>\n      <th>...</th>\n      <td>...</td>\n      <td>...</td>\n      <td>...</td>\n      <td>...</td>\n      <td>...</td>\n      <td>...</td>\n      <td>...</td>\n      <td>...</td>\n      <td>...</td>\n      <td>...</td>\n      <td>...</td>\n      <td>...</td>\n    </tr>\n    <tr>\n      <th>595</th>\n      <td>해무</td>\n      <td>(주)NEW</td>\n      <td>드라마</td>\n      <td>2014-08-13</td>\n      <td>111</td>\n      <td>청소년 관람불가</td>\n      <td>심성보</td>\n      <td>3833.00</td>\n      <td>1</td>\n      <td>510</td>\n      <td>7</td>\n      <td>1475091</td>\n    </tr>\n    <tr>\n      <th>596</th>\n      <td>파파로티</td>\n      <td>(주)쇼박스</td>\n      <td>드라마</td>\n      <td>2013-03-14</td>\n      <td>127</td>\n      <td>15세 관람가</td>\n      <td>윤종찬</td>\n      <td>496061.00</td>\n      <td>1</td>\n      <td>286</td>\n      <td>6</td>\n      <td>1716438</td>\n    </tr>\n    <tr>\n      <th>597</th>\n      <td>살인의 강</td>\n      <td>(주)마운틴픽쳐스</td>\n      <td>공포</td>\n      <td>2010-09-30</td>\n      <td>99</td>\n      <td>청소년 관람불가</td>\n      <td>김대현</td>\n      <td>NaN</td>\n      <td>0</td>\n      <td>123</td>\n      <td>4</td>\n      <td>2475</td>\n    </tr>\n    <tr>\n      <th>598</th>\n      <td>악의 연대기</td>\n      <td>CJ 엔터테인먼트</td>\n      <td>느와르</td>\n      <td>2015-05-14</td>\n      <td>102</td>\n      <td>15세 관람가</td>\n      <td>백운학</td>\n      <td>NaN</td>\n      <td>0</td>\n      <td>431</td>\n      <td>4</td>\n      <td>2192525</td>\n    </tr>\n    <tr>\n      <th>599</th>\n      <td>베를린</td>\n      <td>CJ 엔터테인먼트</td>\n      <td>액션</td>\n      <td>2013-01-30</td>\n      <td>120</td>\n      <td>15세 관람가</td>\n      <td>류승완</td>\n      <td>NaN</td>\n      <td>0</td>\n      <td>363</td>\n      <td>5</td>\n      <td>7166532</td>\n    </tr>\n  </tbody>\n</table>\n<p>600 rows × 12 columns</p>\n</div>"
     },
     "execution_count": 5,
     "metadata": {},
     "output_type": "execute_result"
    }
   ],
   "source": [
    "import pandas as pd\n",
    "data = pd.read_csv(r'C:\\Users\\ADMIN\\PycharmProjects\\ESAA\\ESAA_project\\movies_train.csv')\n",
    "data"
   ]
  },
  {
   "cell_type": "code",
   "execution_count": null,
   "outputs": [],
   "source": [],
   "metadata": {
    "collapsed": false,
    "pycharm": {
     "name": "#%%\n"
    }
   }
  }
 ],
 "metadata": {
  "kernelspec": {
   "display_name": "Python 3",
   "language": "python",
   "name": "python3"
  },
  "language_info": {
   "codemirror_mode": {
    "name": "ipython",
    "version": 2
   },
   "file_extension": ".py",
   "mimetype": "text/x-python",
   "name": "python",
   "nbconvert_exporter": "python",
   "pygments_lexer": "ipython2",
   "version": "2.7.6"
  }
 },
 "nbformat": 4,
 "nbformat_minor": 0
}