{
 "nbformat": 4,
 "nbformat_minor": 5,
 "metadata": {
  "colab": {
   "name": "100_Numpy_exercises.ipynb",
   "provenance": [],
   "collapsed_sections": [
    "782d4c77",
    "48d48f01",
    "4fa39382",
    "da64551a",
    "f89d9c9e",
    "7e44c6fa",
    "13c5928c",
    "3fa2e461",
    "73f7a549",
    "6d0c506f",
    "d6ad1a9f",
    "e3a7ba7f",
    "6d17ab5d",
    "8837119b",
    "ec788c9f",
    "391791e0",
    "51898680",
    "89e78048",
    "ebd10810",
    "c0e940f8",
    "22713c3f",
    "f1ae2c2d",
    "34a7bdee",
    "37bc0973",
    "129c342d",
    "42f8b2f9",
    "252c43e2",
    "486df8ea",
    "649e89f9",
    "3421e17f",
    "483dd554",
    "2d07be1c",
    "6415f02e",
    "fe043549",
    "cc08f71c",
    "2002cb03",
    "b7109c9f",
    "7d3131b9",
    "7c8c1fc5",
    "5795b4bd",
    "fb24674c",
    "e6e1ae2f",
    "c01f0ecf",
    "3b64a18b",
    "48413134",
    "0a532633",
    "f98713a6",
    "1abc7cc8",
    "0cf413ee",
    "215b6acc",
    "c0cf37e0",
    "c17fb213",
    "8aaab886",
    "66a04e2e",
    "f4427f7f",
    "58be9dd4",
    "7348abd0",
    "538e651c",
    "33c986d9",
    "00eb27c4",
    "928a1a15",
    "5143f7f3",
    "f62551d8",
    "6896e326",
    "aeaf4a7b",
    "3d11451b",
    "a0a45995",
    "7808578f",
    "8e83df46",
    "e67ff31c",
    "ad8821b1",
    "a0c8cbf5",
    "781fa236",
    "9c9bb0f3",
    "7d8dc135",
    "aa340126",
    "6b6d2c84",
    "7be0fe36",
    "a840a88f",
    "c2bd7385",
    "4c70397b",
    "15ba193c",
    "ec828405",
    "d94352b6",
    "7c3a9e32",
    "da9d5eeb",
    "f7b65fd5",
    "2784c996",
    "71a7574c",
    "30f06441",
    "e5737276",
    "5882e36d"
   ]
  },
  "language_info": {
   "name": "python"
  },
  "kernelspec": {
   "name": "python3",
   "display_name": "Python 3"
  }
 },
 "cells": [
  {
   "cell_type": "markdown",
   "metadata": {
    "id": "bf79c78b"
   },
   "source": [
    "# 100 numpy exercises\n",
    "\n",
    "This is a collection of exercises that have been collected in the numpy mailing list, on stack overflow\n",
    "and in the numpy documentation. The goal of this collection is to offer a quick reference for both old\n",
    "and new users but also to provide a set of exercises for those who teach.\n",
    "\n",
    "\n",
    "If you find an error or think you've a better way to solve some of them, feel\n",
    "free to open an issue at <https://github.com/rougier/numpy-100>."
   ],
   "id": "bf79c78b"
  },
  {
   "cell_type": "markdown",
   "metadata": {
    "id": "8536e059"
   },
   "source": [
    "File automatically generated. See the documentation to update questions/answers/hints programmatically."
   ],
   "id": "8536e059"
  },
  {
   "cell_type": "markdown",
   "metadata": {
    "id": "e16ac60b"
   },
   "source": [
    "Run the `initialize.py` module, then for each question you can query the\n",
    "answer or an hint with `hint(n)` or `answer(n)` for `n` question number."
   ],
   "id": "e16ac60b"
  },
  {
   "cell_type": "code",
   "metadata": {
    "id": "a8453483"
   },
   "source": [
    "%run initialise.py"
   ],
   "id": "a8453483",
   "execution_count": null,
   "outputs": []
  },
  {
   "cell_type": "markdown",
   "metadata": {
    "id": "017db353"
   },
   "source": [
    "#### 1. Import the numpy package under the name `np` (★☆☆)"
   ],
   "id": "017db353"
  },
  {
   "cell_type": "code",
   "metadata": {
    "id": "68182a76"
   },
   "source": [
    "import numpy as np"
   ],
   "id": "68182a76",
   "execution_count": 3,
   "outputs": []
  },
  {
   "cell_type": "markdown",
   "metadata": {
    "id": "46950f4f"
   },
   "source": [
    "#### 2. Print the numpy version and the configuration (★☆☆)"
   ],
   "id": "46950f4f"
  },
  {
   "cell_type": "code",
   "metadata": {
    "id": "2a9f5838"
   },
   "source": [
    "print(np.__version__)\n",
    "print(np.show_config())"
   ],
   "id": "2a9f5838",
   "execution_count": 4,
   "outputs": [
    {
     "name": "stdout",
     "output_type": "stream",
     "text": [
      "1.19.5\n",
      "blas_mkl_info:\n",
      "  NOT AVAILABLE\n",
      "blis_info:\n",
      "  NOT AVAILABLE\n",
      "openblas_info:\n",
      "    library_dirs = ['D:\\\\a\\\\1\\\\s\\\\numpy\\\\build\\\\openblas_info']\n",
      "    libraries = ['openblas_info']\n",
      "    language = f77\n",
      "    define_macros = [('HAVE_CBLAS', None)]\n",
      "blas_opt_info:\n",
      "    library_dirs = ['D:\\\\a\\\\1\\\\s\\\\numpy\\\\build\\\\openblas_info']\n",
      "    libraries = ['openblas_info']\n",
      "    language = f77\n",
      "    define_macros = [('HAVE_CBLAS', None)]\n",
      "lapack_mkl_info:\n",
      "  NOT AVAILABLE\n",
      "openblas_lapack_info:\n",
      "    library_dirs = ['D:\\\\a\\\\1\\\\s\\\\numpy\\\\build\\\\openblas_lapack_info']\n",
      "    libraries = ['openblas_lapack_info']\n",
      "    language = f77\n",
      "    define_macros = [('HAVE_CBLAS', None)]\n",
      "lapack_opt_info:\n",
      "    library_dirs = ['D:\\\\a\\\\1\\\\s\\\\numpy\\\\build\\\\openblas_lapack_info']\n",
      "    libraries = ['openblas_lapack_info']\n",
      "    language = f77\n",
      "    define_macros = [('HAVE_CBLAS', None)]\n",
      "None\n"
     ]
    }
   ]
  },
  {
   "cell_type": "markdown",
   "metadata": {
    "id": "e3c20b3d"
   },
   "source": [
    "#### 3. Create a null vector of size 10 (★☆☆)"
   ],
   "id": "e3c20b3d"
  },
  {
   "cell_type": "code",
   "metadata": {
    "id": "8a758bcf"
   },
   "source": [
    "x = np.zeros(10)\n",
    "print(x)"
   ],
   "id": "8a758bcf",
   "execution_count": 5,
   "outputs": [
    {
     "name": "stdout",
     "output_type": "stream",
     "text": [
      "[0. 0. 0. 0. 0. 0. 0. 0. 0. 0.]\n"
     ]
    }
   ]
  },
  {
   "cell_type": "markdown",
   "metadata": {
    "id": "b15a879f"
   },
   "source": [
    "#### 4. How to find the memory size of any array (★☆☆)"
   ],
   "id": "b15a879f"
  },
  {
   "cell_type": "code",
   "metadata": {
    "id": "1cc3cbc5"
   },
   "source": [
    "# memory size 는 다음 공식을 따른다.\n",
    "\n",
    "x = np.array([100,20,34])\n",
    "\n",
    "print(\"Size of the array: \",\n",
    "      x.size)\n",
    "\n",
    "print(\"Memory size of one array element in bytes: \",\n",
    "      x.itemsize)\n",
    "\n",
    "# memory size of numpy array in bytes\n",
    "print(\"Memory size of numpy array in bytes:\",\n",
    "      x.size * x.itemsize)\n"
   ],
   "id": "1cc3cbc5",
   "execution_count": 39,
   "outputs": [
    {
     "name": "stdout",
     "output_type": "stream",
     "text": [
      "Size of the array:  3\n",
      "Memory size of one array element in bytes:  4\n",
      "Memory size of numpy array in bytes: 12\n"
     ]
    }
   ]
  },
  {
   "cell_type": "markdown",
   "metadata": {
    "id": "0a708990"
   },
   "source": [
    "#### 5. How to get the documentation of the numpy add function from the command line? (★☆☆)"
   ],
   "id": "0a708990"
  },
  {
   "cell_type": "code",
   "metadata": {
    "id": "477e01f4"
   },
   "source": [
    "# np.00 하면 되지 않나?\n",
    "print(np.info(np.add))"
   ],
   "id": "477e01f4",
   "execution_count": null,
   "outputs": []
  },
  {
   "cell_type": "markdown",
   "metadata": {
    "id": "0b16cd77"
   },
   "source": [
    "#### 6. Create a null vector of size 10 but the fifth value which is 1 (★☆☆)"
   ],
   "id": "0b16cd77"
  },
  {
   "cell_type": "code",
   "metadata": {
    "id": "4d9b5975"
   },
   "source": [
    "x=np.zeros(10)\n",
    "x[4]=1\n",
    "print(x)"
   ],
   "id": "4d9b5975",
   "execution_count": 7,
   "outputs": [
    {
     "name": "stdout",
     "output_type": "stream",
     "text": [
      "[0. 0. 0. 0. 1. 0. 0. 0. 0. 0.]\n"
     ]
    }
   ]
  },
  {
   "cell_type": "markdown",
   "metadata": {
    "id": "782d4c77"
   },
   "source": [
    "#### 7. Create a vector with values ranging from 10 to 49 (★☆☆)"
   ],
   "id": "782d4c77"
  },
  {
   "cell_type": "code",
   "metadata": {
    "id": "5dbe1a08"
   },
   "source": [
    "x = np.arange(10, 50)\n",
    "print(x)"
   ],
   "id": "5dbe1a08",
   "execution_count": 41,
   "outputs": [
    {
     "name": "stdout",
     "output_type": "stream",
     "text": [
      "[10 11 12 13 14 15 16 17 18 19 20 21 22 23 24 25 26 27 28 29 30 31 32 33\n",
      " 34 35 36 37 38 39 40 41 42 43 44 45 46 47 48 49]\n"
     ]
    }
   ]
  },
  {
   "cell_type": "markdown",
   "metadata": {
    "id": "48d48f01"
   },
   "source": [
    "#### 8. Reverse a vector (first element becomes last) (★☆☆)"
   ],
   "id": "48d48f01"
  },
  {
   "cell_type": "code",
   "metadata": {
    "id": "3ed233e7"
   },
   "source": [
    "print(x[::-1])\n",
    "x=np.sort(x)[::-1]\n",
    "print(x)"
   ],
   "id": "3ed233e7",
   "execution_count": 44,
   "outputs": [
    {
     "name": "stdout",
     "output_type": "stream",
     "text": [
      "[10 11 12 13 14 15 16 17 18 19 20 21 22 23 24 25 26 27 28 29 30 31 32 33\n",
      " 34 35 36 37 38 39 40 41 42 43 44 45 46 47 48 49]\n",
      "[49 48 47 46 45 44 43 42 41 40 39 38 37 36 35 34 33 32 31 30 29 28 27 26\n",
      " 25 24 23 22 21 20 19 18 17 16 15 14 13 12 11 10]\n"
     ]
    }
   ]
  },
  {
   "cell_type": "markdown",
   "metadata": {
    "id": "4fa39382"
   },
   "source": [
    "#### 9. Create a 3x3 matrix with values ranging from 0 to 8 (★☆☆)"
   ],
   "id": "4fa39382"
  },
  {
   "cell_type": "code",
   "metadata": {
    "id": "c97757ec"
   },
   "source": [
    "x = np.arange(0, 9)\n",
    "y=x.reshape(3,3)\n",
    "print(y)"
   ],
   "id": "c97757ec",
   "execution_count": 17,
   "outputs": [
    {
     "name": "stdout",
     "output_type": "stream",
     "text": [
      "[[0 1 2]\n",
      " [3 4 5]\n",
      " [6 7 8]]\n"
     ]
    }
   ]
  },
  {
   "cell_type": "markdown",
   "metadata": {
    "id": "da64551a"
   },
   "source": [
    "#### 10. Find indices of non-zero elements from [1,2,0,0,4,0] (★☆☆)"
   ],
   "id": "da64551a"
  },
  {
   "cell_type": "code",
   "metadata": {
    "id": "327f7adb"
   },
   "source": [
    "x = np.array([1,2,0,0,4,0])\n",
    "# for i in range(len(vector)):\n",
    "#     if vector[i] != 0:\n",
    "#         print(i)\n",
    "# or\n",
    "\n",
    "print(np.argwhere(x !=0))"
   ],
   "id": "327f7adb",
   "execution_count": 68,
   "outputs": [
    {
     "name": "stdout",
     "output_type": "stream",
     "text": [
      "[[0]\n",
      " [1]\n",
      " [4]]\n"
     ]
    }
   ]
  },
  {
   "cell_type": "markdown",
   "metadata": {
    "id": "f89d9c9e"
   },
   "source": [
    "#### 11. Create a 3x3 identity matrix (★☆☆)"
   ],
   "id": "f89d9c9e"
  },
  {
   "cell_type": "code",
   "metadata": {
    "id": "ba625832"
   },
   "source": [
    "x = np.array([[ 1,  0,  0], [ 0,  1,  0],[ 0,  0,  1]])\n",
    "print(x)"
   ],
   "id": "ba625832",
   "execution_count": 32,
   "outputs": [
    {
     "name": "stdout",
     "output_type": "stream",
     "text": [
      "[[1 0 0]\n",
      " [0 1 0]\n",
      " [0 0 1]]\n"
     ]
    }
   ]
  },
  {
   "cell_type": "markdown",
   "metadata": {
    "id": "7e44c6fa"
   },
   "source": [
    "#### 12. Create a 3x3x3 array with random values (★☆☆)"
   ],
   "id": "7e44c6fa"
  },
  {
   "cell_type": "code",
   "metadata": {
    "id": "1cb3dddf"
   },
   "source": [
    "# .random.random\n",
    "x = np.random.random((3,3,3))\n",
    "print(x)"
   ],
   "id": "1cb3dddf",
   "execution_count": 34,
   "outputs": [
    {
     "name": "stdout",
     "output_type": "stream",
     "text": [
      "[[[0.01131528 0.45869746 0.04671711]\n",
      "  [0.40743269 0.59713217 0.53951508]\n",
      "  [0.67465594 0.44362812 0.06750801]]\n",
      "\n",
      " [[0.2919084  0.68859486 0.38335852]\n",
      "  [0.05833984 0.44474101 0.61812686]\n",
      "  [0.41620158 0.16193113 0.70434027]]\n",
      "\n",
      " [[0.23553747 0.06047848 0.11201859]\n",
      "  [0.57123461 0.2494496  0.45742456]\n",
      "  [0.97812073 0.59386329 0.17566267]]]\n"
     ]
    }
   ]
  },
  {
   "cell_type": "markdown",
   "metadata": {
    "id": "13c5928c"
   },
   "source": [
    "#### 13. Create a 10x10 array with random values and find the minimum and maximum values (★☆☆)"
   ],
   "id": "13c5928c"
  },
  {
   "cell_type": "code",
   "metadata": {
    "id": "911c9b93"
   },
   "source": [
    "x = np.random.random((10, 10))\n",
    "print(x)\n",
    "np.min(x)\n",
    "np.max(x)"
   ],
   "id": "911c9b93",
   "execution_count": 46,
   "outputs": [
    {
     "name": "stdout",
     "output_type": "stream",
     "text": [
      "[[0.64994335 0.88115175 0.59772098 0.78539645 0.2949002  0.05588964\n",
      "  0.55908118 0.16243362 0.77631843 0.82469517]\n",
      " [0.00509458 0.79064773 0.60022943 0.80835557 0.48460713 0.09762926\n",
      "  0.60315788 0.15854149 0.6656295  0.11019327]\n",
      " [0.37316819 0.8971133  0.64933531 0.25016557 0.27404112 0.51443522\n",
      "  0.83242076 0.84986481 0.91710007 0.9160681 ]\n",
      " [0.94802976 0.56505223 0.52611387 0.40136004 0.95280463 0.43479134\n",
      "  0.23960855 0.18696813 0.79747548 0.75671591]\n",
      " [0.19023585 0.70836775 0.16471649 0.33791349 0.45386707 0.23367279\n",
      "  0.22440113 0.63641312 0.61032848 0.24108085]\n",
      " [0.24795271 0.06075176 0.27233815 0.29452544 0.67973902 0.94075947\n",
      "  0.6169484  0.07323997 0.85797023 0.02886405]\n",
      " [0.00489351 0.80912322 0.37742009 0.92670707 0.60448714 0.33199058\n",
      "  0.89740136 0.42371123 0.45318568 0.32415955]\n",
      " [0.30055251 0.23148241 0.82982718 0.81644911 0.60225995 0.56496178\n",
      "  0.66171113 0.47971174 0.32757945 0.63458378]\n",
      " [0.95625833 0.98640883 0.44949247 0.2151933  0.46056713 0.78686973\n",
      "  0.35173486 0.24321496 0.31786276 0.01556159]\n",
      " [0.09854717 0.81787239 0.91614505 0.30520795 0.28869321 0.97336082\n",
      "  0.5475091  0.23126751 0.01284712 0.72842952]]\n"
     ]
    },
    {
     "data": {
      "text/plain": "0.9864088326630595"
     },
     "execution_count": 46,
     "metadata": {},
     "output_type": "execute_result"
    }
   ]
  },
  {
   "cell_type": "markdown",
   "metadata": {
    "id": "3fa2e461"
   },
   "source": [
    "#### 14. Create a random vector of size 30 and find the mean value (★☆☆)"
   ],
   "id": "3fa2e461"
  },
  {
   "cell_type": "code",
   "metadata": {
    "id": "323eb38a"
   },
   "source": [
    "x = np.random.random((30))\n",
    "print(x)\n",
    "np.mean(x)"
   ],
   "id": "323eb38a",
   "execution_count": 50,
   "outputs": [
    {
     "name": "stdout",
     "output_type": "stream",
     "text": [
      "[0.25258893 0.86338496 0.25876344 0.30170149 0.19332356 0.36331096\n",
      " 0.72539541 0.52411104 0.82792443 0.85394143 0.21205201 0.01488932\n",
      " 0.93564437 0.41088629 0.99699908 0.0643153  0.41702756 0.78750489\n",
      " 0.41372273 0.56467218 0.00871408 0.18564143 0.60471955 0.88615655\n",
      " 0.32989049 0.07312088 0.89960946 0.95205723 0.59626792 0.34359012]\n"
     ]
    },
    {
     "data": {
      "text/plain": "0.49539756902695586"
     },
     "execution_count": 50,
     "metadata": {},
     "output_type": "execute_result"
    }
   ]
  },
  {
   "cell_type": "markdown",
   "metadata": {
    "id": "73f7a549"
   },
   "source": [
    "#### 15. Create a 2d array with 1 on the border and 0 inside (★☆☆)"
   ],
   "id": "73f7a549"
  },
  {
   "cell_type": "code",
   "metadata": {
    "id": "e3a6807d"
   },
   "source": [
    "x = np.ones((4, 4))\n",
    "x[1:-1, 1:-1] = 0\n",
    "print(x)"
   ],
   "id": "e3a6807d",
   "execution_count": 58,
   "outputs": [
    {
     "name": "stdout",
     "output_type": "stream",
     "text": [
      "[[1. 1. 1. 1.]\n",
      " [1. 0. 0. 1.]\n",
      " [1. 0. 0. 1.]\n",
      " [1. 1. 1. 1.]]\n"
     ]
    }
   ]
  },
  {
   "cell_type": "markdown",
   "metadata": {
    "id": "6d0c506f"
   },
   "source": [
    "#### 16. How to add a border (filled with 0's) around an existing array? (★☆☆)"
   ],
   "id": "6d0c506f"
  },
  {
   "cell_type": "code",
   "metadata": {
    "id": "32ffee7b"
   },
   "source": [
    "# np.pad() 함수\n",
    "\n",
    "x = np.ones((4, 4))\n",
    "y = np.pad(array=x, pad_width=1, mode='constant')"
   ],
   "id": "32ffee7b",
   "execution_count": 60,
   "outputs": []
  },
  {
   "cell_type": "markdown",
   "metadata": {
    "id": "d6ad1a9f"
   },
   "source": [
    "#### 17. What is the result of the following expression? (★☆☆)\n",
    "```python\n",
    "0 * np.nan\n",
    "np.nan == np.nan\n",
    "np.inf > np.nan\n",
    "np.nan - np.nan\n",
    "np.nan in set([np.nan])\n",
    "0.3 == 3 * 0.1\n",
    "```"
   ],
   "id": "d6ad1a9f"
  },
  {
   "cell_type": "code",
   "metadata": {
    "id": "ee7ff0f3"
   },
   "source": [
    "# np.nan(), np.inf() 함수\n",
    "0 * np.nan           # nan\n",
    "np.nan == np.nan     # False\n",
    "np.inf > np.nan      # False\n",
    "np.nan - np.nan      # nan\n",
    "0.3 == 3 * 0.1       # False"
   ],
   "id": "ee7ff0f3",
   "execution_count": null,
   "outputs": []
  },
  {
   "cell_type": "markdown",
   "metadata": {
    "id": "e3a7ba7f"
   },
   "source": [
    "#### 18. Create a 5x5 matrix with values 1,2,3,4 just below the diagonal (★☆☆)"
   ],
   "id": "e3a7ba7f"
  },
  {
   "cell_type": "code",
   "metadata": {
    "id": "01d8e257"
   },
   "source": [
    "# np. diag() 함수\n",
    "\n",
    "x = np.array([1, 2, 3, 4])\n",
    "np.diag(x)"
   ],
   "id": "01d8e257",
   "execution_count": null,
   "outputs": []
  },
  {
   "cell_type": "markdown",
   "metadata": {
    "id": "6d17ab5d"
   },
   "source": [
    "#### 19. Create a 8x8 matrix and fill it with a checkerboard pattern (★☆☆)"
   ],
   "id": "6d17ab5d"
  },
  {
   "cell_type": "code",
   "metadata": {
    "id": "841373cd"
   },
   "source": [
    "x = np.zeros((8, 8))\n",
    "x[1::2, ::2] = 1\n",
    "x[::2, 1::2] = 1"
   ],
   "id": "841373cd",
   "execution_count": 61,
   "outputs": []
  },
  {
   "cell_type": "markdown",
   "metadata": {
    "id": "8837119b"
   },
   "source": [
    "#### 20. Consider a (6,7,8) shape array, what is the index (x,y,z) of the 100th element? (★☆☆)"
   ],
   "id": "8837119b"
  },
  {
   "cell_type": "code",
   "metadata": {
    "id": "2c0d16f1"
   },
   "source": [
    "# np.unravel_index()\n",
    "\n",
    "np.unravel_index(100, (6, 7, 8))"
   ],
   "id": "2c0d16f1",
   "execution_count": 62,
   "outputs": [
    {
     "data": {
      "text/plain": "(1, 5, 4)"
     },
     "execution_count": 62,
     "metadata": {},
     "output_type": "execute_result"
    }
   ]
  },
  {
   "cell_type": "markdown",
   "metadata": {
    "id": "ec788c9f"
   },
   "source": [
    "#### 21. Create a checkerboard 8x8 matrix using the tile function (★☆☆)"
   ],
   "id": "ec788c9f"
  },
  {
   "cell_type": "code",
   "metadata": {
    "id": "0a4f919f"
   },
   "source": [
    "# np.tile() 함수\n",
    "\n",
    "np.tile(np.array([[0, 1], [1, 0]]), (4, 4))"
   ],
   "id": "0a4f919f",
   "execution_count": null,
   "outputs": []
  },
  {
   "cell_type": "markdown",
   "metadata": {
    "id": "391791e0"
   },
   "source": [
    "#### 22. Normalize a 5x5 random matrix (★☆☆)"
   ],
   "id": "391791e0"
  },
  {
   "cell_type": "code",
   "metadata": {
    "id": "f6533d39"
   },
   "source": [
    "# 여기부터\n",
    "\n",
    "import numpy as np\n",
    "x= np.random.random((5,5))\n",
    "xmax = x.max()\n",
    "xmin = x.min()\n",
    "x = (x - xmin)/(xmax - xmin)\n",
    "print(x)"
   ],
   "id": "f6533d39",
   "execution_count": 51,
   "outputs": [
    {
     "name": "stdout",
     "output_type": "stream",
     "text": [
      "[[0.5030962  0.68410446 0.46743783 0.136232   0.        ]\n",
      " [0.60828143 0.77679572 0.60790333 0.08219859 0.89597781]\n",
      " [0.51454055 0.28392058 0.69729236 0.17696915 1.        ]\n",
      " [0.36076474 0.02625366 0.19439999 0.81768437 0.51935318]\n",
      " [0.82123569 0.28255593 0.19204201 0.9893852  0.23490572]]\n"
     ]
    }
   ]
  },
  {
   "cell_type": "markdown",
   "metadata": {
    "id": "1e74d39e"
   },
   "source": [
    "#### 23. Create a custom dtype that describes a color as four unsigned bytes (RGBA) (★☆☆)"
   ],
   "id": "1e74d39e"
  },
  {
   "cell_type": "code",
   "metadata": {
    "id": "3f639d33"
   },
   "source": [
    "#np.dtype\n",
    "\n",
    "data = np.dtype([(\"r\",np.ubyte, 1),(\"g\",np.ubyte, 1),(\"b\",np.ubyte, 1),(\"a\",np.ubyte, 1)])\n",
    "print(data)\n"
   ],
   "id": "3f639d33",
   "execution_count": 53,
   "outputs": [
    {
     "name": "stdout",
     "output_type": "stream",
     "text": [
      "[('r', 'u1'), ('g', 'u1'), ('b', 'u1'), ('a', 'u1')]\n"
     ]
    },
    {
     "name": "stderr",
     "output_type": "stream",
     "text": [
      "c:\\users\\admin\\appdata\\local\\programs\\python\\python36\\lib\\site-packages\\ipykernel_launcher.py:2: FutureWarning: Passing (type, 1) or '1type' as a synonym of type is deprecated; in a future version of numpy, it will be understood as (type, (1,)) / '(1,)type'.\n",
      "  \n"
     ]
    }
   ]
  },
  {
   "cell_type": "markdown",
   "metadata": {
    "id": "78250c14"
   },
   "source": [
    "#### 24. Multiply a 5x3 matrix by a 3x2 matrix (real matrix product) (★☆☆)"
   ],
   "id": "78250c14"
  },
  {
   "cell_type": "code",
   "metadata": {
    "id": "9fe729cb"
   },
   "source": [
    "# np.dot () 사용\n",
    "\n",
    "x = np.random.random((5,3))\n",
    "y = np.random.random((3,2))\n",
    "multiply = np.dot(x, y)\n",
    "print(multiply)\n"
   ],
   "id": "9fe729cb",
   "execution_count": 54,
   "outputs": [
    {
     "name": "stdout",
     "output_type": "stream",
     "text": [
      "[[0.829052   0.5796845 ]\n",
      " [0.50122592 0.74353099]\n",
      " [0.73855277 0.71728787]\n",
      " [0.86329772 0.80121672]\n",
      " [1.0963575  0.6902439 ]]\n"
     ]
    }
   ]
  },
  {
   "cell_type": "markdown",
   "metadata": {
    "id": "51898680"
   },
   "source": [
    "#### 25. Given a 1D array, negate all elements which are between 3 and 8, in place. (★☆☆)"
   ],
   "id": "51898680"
  },
  {
   "cell_type": "code",
   "metadata": {
    "id": "51c90f2d"
   },
   "source": [
    "x = np.arange(10)\n",
    "x[(3<= x) & (x<=8)] = -1\n",
    "print(x)"
   ],
   "id": "51c90f2d",
   "execution_count": 56,
   "outputs": [
    {
     "name": "stdout",
     "output_type": "stream",
     "text": [
      "[ 0  1  2 -1 -1 -1 -1 -1 -1  9]\n"
     ]
    }
   ]
  },
  {
   "cell_type": "markdown",
   "metadata": {
    "id": "89e78048"
   },
   "source": [
    "#### 26. What is the output of the following script? (★☆☆)\n",
    "```python\n",
    "# Author: Jake VanderPlas\n",
    "\n",
    "print(sum(range(5),-1))\n",
    "from numpy import *\n",
    "print(sum(range(5),-1))\n",
    "```"
   ],
   "id": "89e78048"
  },
  {
   "cell_type": "code",
   "metadata": {
    "id": "b62e9d1c"
   },
   "source": [
    "print(sum(range(5), -1))  # 9\n",
    "from numpy import *\n",
    "\n",
    "print(sum(range(5), -1))  # 10"
   ],
   "id": "b62e9d1c",
   "execution_count": 63,
   "outputs": [
    {
     "name": "stdout",
     "output_type": "stream",
     "text": [
      "9\n",
      "10\n"
     ]
    }
   ]
  },
  {
   "cell_type": "markdown",
   "metadata": {
    "id": "ebd10810"
   },
   "source": [
    "#### 27. Consider an integer vector Z, which of these expressions are legal? (★☆☆)\n",
    "```python\n",
    "Z**Z\n",
    "2 << Z >> 2\n",
    "Z <- Z\n",
    "1j*Z\n",
    "Z/1/1\n",
    "Z<Z>Z\n",
    "```"
   ],
   "id": "ebd10810"
  },
  {
   "cell_type": "code",
   "metadata": {
    "id": "6ada209f"
   },
   "source": [
    "Z = np.arange(3)\n",
    "Z ** Z       # = [0^0, 1^1, 2^2] = [1, 1, 4]\n",
    "2 << Z >> 2  # = [0, 1, 2]\n",
    "Z < - Z      # = [False, False, False]\n",
    "1j * Z       # = [0 + 0.j, 0 + 1.j, 0 + 2.j]\n",
    "Z / 1 / 1    # = [0, 1, 2]\n",
    "Z < Z > Z    # ValueError"
   ],
   "id": "6ada209f",
   "execution_count": 64,
   "outputs": [
    {
     "ename": "ValueError",
     "evalue": "The truth value of an array with more than one element is ambiguous. Use a.any() or a.all()",
     "output_type": "error",
     "traceback": [
      "\u001B[1;31m---------------------------------------------------------------------------\u001B[0m",
      "\u001B[1;31mValueError\u001B[0m                                Traceback (most recent call last)",
      "\u001B[1;32m<ipython-input-64-5af1011c2ae2>\u001B[0m in \u001B[0;36m<module>\u001B[1;34m\u001B[0m\n\u001B[0;32m      5\u001B[0m \u001B[1;36m1j\u001B[0m \u001B[1;33m*\u001B[0m \u001B[0mZ\u001B[0m       \u001B[1;31m# = [0 + 0.j, 0 + 1.j, 0 + 2.j]\u001B[0m\u001B[1;33m\u001B[0m\u001B[1;33m\u001B[0m\u001B[0m\n\u001B[0;32m      6\u001B[0m \u001B[0mZ\u001B[0m \u001B[1;33m/\u001B[0m \u001B[1;36m1\u001B[0m \u001B[1;33m/\u001B[0m \u001B[1;36m1\u001B[0m    \u001B[1;31m# = [0, 1, 2]\u001B[0m\u001B[1;33m\u001B[0m\u001B[1;33m\u001B[0m\u001B[0m\n\u001B[1;32m----> 7\u001B[1;33m \u001B[0mZ\u001B[0m \u001B[1;33m<\u001B[0m \u001B[0mZ\u001B[0m \u001B[1;33m>\u001B[0m \u001B[0mZ\u001B[0m    \u001B[1;31m# ValueError\u001B[0m\u001B[1;33m\u001B[0m\u001B[1;33m\u001B[0m\u001B[0m\n\u001B[0m\u001B[0;32m      8\u001B[0m \u001B[1;33m\u001B[0m\u001B[0m\n",
      "\u001B[1;31mValueError\u001B[0m: The truth value of an array with more than one element is ambiguous. Use a.any() or a.all()"
     ]
    }
   ]
  },
  {
   "cell_type": "markdown",
   "metadata": {
    "id": "c0e940f8"
   },
   "source": [
    "#### 28. What are the result of the following expressions? (★☆☆)\n",
    "```python\n",
    "np.array(0) / np.array(0)\n",
    "np.array(0) // np.array(0)\n",
    "np.array([np.nan]).astype(int).astype(float)\n",
    "```"
   ],
   "id": "c0e940f8"
  },
  {
   "cell_type": "code",
   "metadata": {
    "id": "820dc7a5"
   },
   "source": [
    "np.array(0) / np.array(0)\n",
    "np.array(0) // np.array(0)\n",
    "np.array([np.nan]).astype(int).astype(float)"
   ],
   "id": "820dc7a5",
   "execution_count": 65,
   "outputs": [
    {
     "name": "stderr",
     "output_type": "stream",
     "text": [
      "c:\\users\\admin\\appdata\\local\\programs\\python\\python36\\lib\\site-packages\\ipykernel_launcher.py:1: RuntimeWarning: invalid value encountered in true_divide\n",
      "  \"\"\"Entry point for launching an IPython kernel.\n",
      "c:\\users\\admin\\appdata\\local\\programs\\python\\python36\\lib\\site-packages\\ipykernel_launcher.py:2: RuntimeWarning: divide by zero encountered in floor_divide\n",
      "  \n"
     ]
    },
    {
     "data": {
      "text/plain": "array([-2.14748365e+09])"
     },
     "execution_count": 65,
     "metadata": {},
     "output_type": "execute_result"
    }
   ]
  },
  {
   "cell_type": "markdown",
   "metadata": {
    "id": "22713c3f"
   },
   "source": [
    "#### 29. How to round away from zero a float array ? (★☆☆)"
   ],
   "id": "22713c3f"
  },
  {
   "cell_type": "code",
   "metadata": {
    "id": "a3e05c29"
   },
   "source": [
    "# np.copysign() 함수\n",
    "\n",
    "x = np.random.uniform(-10, +10, 10)\n",
    "np.copysign(np.ceil(np.abs(x)), x)"
   ],
   "id": "a3e05c29",
   "execution_count": null,
   "outputs": []
  },
  {
   "cell_type": "markdown",
   "metadata": {
    "id": "f1ae2c2d"
   },
   "source": [
    "#### 30. How to find common values between two arrays? (★☆☆)"
   ],
   "id": "f1ae2c2d"
  },
  {
   "cell_type": "code",
   "metadata": {
    "id": "6801c73d"
   },
   "source": [
    "# np.intersect1d() 함수\n",
    "\n",
    "x = np.arange(0, 10)\n",
    "y = np.arange(5, 15)\n",
    "np.intersect1d(x, y)"
   ],
   "id": "6801c73d",
   "execution_count": null,
   "outputs": []
  },
  {
   "cell_type": "markdown",
   "metadata": {
    "id": "34a7bdee"
   },
   "source": [
    "#### 31. How to ignore all numpy warnings (not recommended)? (★☆☆)"
   ],
   "id": "34a7bdee"
  },
  {
   "cell_type": "code",
   "metadata": {
    "id": "befc60d1"
   },
   "source": [
    "defaults = np.seterr(all=\"ignore\")\n",
    "Z = np.ones(1) / 0"
   ],
   "id": "befc60d1",
   "execution_count": 66,
   "outputs": []
  },
  {
   "cell_type": "markdown",
   "metadata": {
    "id": "37bc0973"
   },
   "source": [
    "#### 32. Is the following expressions true? (★☆☆)\n",
    "```python\n",
    "np.sqrt(-1) == np.emath.sqrt(-1)\n",
    "```"
   ],
   "id": "37bc0973"
  },
  {
   "cell_type": "code",
   "metadata": {
    "id": "c70cbabe"
   },
   "source": [
    "# np.emath.sqrt() 함수\n",
    "\n",
    "print(np.sqrt(-1) == np.emath.sqrt(-1))  # False"
   ],
   "id": "c70cbabe",
   "execution_count": 67,
   "outputs": [
    {
     "name": "stdout",
     "output_type": "stream",
     "text": [
      "False\n"
     ]
    }
   ]
  },
  {
   "cell_type": "markdown",
   "metadata": {
    "id": "129c342d"
   },
   "source": [
    "#### 33. How to get the dates of yesterday, today and tomorrow? (★☆☆)"
   ],
   "id": "129c342d"
  },
  {
   "cell_type": "code",
   "metadata": {
    "id": "8ba1badb"
   },
   "source": [
    "# np. datetime64()\n",
    "\n",
    "today = np.datetime64('today', 'D')\n",
    "yesterday = today - np.datetime64(1, 'D')\n",
    "tomorrow = today + np.datetime64(1, 'D')"
   ],
   "id": "8ba1badb",
   "execution_count": null,
   "outputs": []
  },
  {
   "cell_type": "markdown",
   "metadata": {
    "id": "42f8b2f9"
   },
   "source": [
    "#### 34. How to get all the dates corresponding to the month of July 2016? (★★☆)"
   ],
   "id": "42f8b2f9"
  },
  {
   "cell_type": "code",
   "metadata": {
    "id": "eb8ebe45"
   },
   "source": [
    ""
   ],
   "id": "eb8ebe45",
   "execution_count": null,
   "outputs": []
  },
  {
   "cell_type": "markdown",
   "metadata": {
    "id": "252c43e2"
   },
   "source": [
    "#### 35. How to compute ((A+B)*(-A/2)) in place (without copy)? (★★☆)"
   ],
   "id": "252c43e2"
  },
  {
   "cell_type": "code",
   "metadata": {
    "id": "f06ff615"
   },
   "source": [
    ""
   ],
   "id": "f06ff615",
   "execution_count": null,
   "outputs": []
  },
  {
   "cell_type": "markdown",
   "metadata": {
    "id": "486df8ea"
   },
   "source": [
    "#### 36. Extract the integer part of a random array of positive numbers using 4 different methods (★★☆)"
   ],
   "id": "486df8ea"
  },
  {
   "cell_type": "code",
   "metadata": {
    "id": "34b4fa08"
   },
   "source": [
    ""
   ],
   "id": "34b4fa08",
   "execution_count": null,
   "outputs": []
  },
  {
   "cell_type": "markdown",
   "metadata": {
    "id": "649e89f9"
   },
   "source": [
    "#### 37. Create a 5x5 matrix with row values ranging from 0 to 4 (★★☆)"
   ],
   "id": "649e89f9"
  },
  {
   "cell_type": "code",
   "metadata": {
    "id": "663cc611"
   },
   "source": [
    ""
   ],
   "id": "663cc611",
   "execution_count": null,
   "outputs": []
  },
  {
   "cell_type": "markdown",
   "metadata": {
    "id": "3421e17f"
   },
   "source": [
    "#### 38. Consider a generator function that generates 10 integers and use it to build an array (★☆☆)"
   ],
   "id": "3421e17f"
  },
  {
   "cell_type": "code",
   "metadata": {
    "id": "7336b8e4"
   },
   "source": [
    ""
   ],
   "id": "7336b8e4",
   "execution_count": null,
   "outputs": []
  },
  {
   "cell_type": "markdown",
   "metadata": {
    "id": "483dd554"
   },
   "source": [
    "#### 39. Create a vector of size 10 with values ranging from 0 to 1, both excluded (★★☆)"
   ],
   "id": "483dd554"
  },
  {
   "cell_type": "code",
   "metadata": {
    "id": "c89b93e7"
   },
   "source": [
    ""
   ],
   "id": "c89b93e7",
   "execution_count": null,
   "outputs": []
  },
  {
   "cell_type": "markdown",
   "metadata": {
    "id": "2d07be1c"
   },
   "source": [
    "#### 40. Create a random vector of size 10 and sort it (★★☆)"
   ],
   "id": "2d07be1c"
  },
  {
   "cell_type": "code",
   "metadata": {
    "id": "4f7cb3ad"
   },
   "source": [
    ""
   ],
   "id": "4f7cb3ad",
   "execution_count": null,
   "outputs": []
  },
  {
   "cell_type": "markdown",
   "metadata": {
    "id": "6415f02e"
   },
   "source": [
    "#### 41. How to sum a small array faster than np.sum? (★★☆)"
   ],
   "id": "6415f02e"
  },
  {
   "cell_type": "code",
   "metadata": {
    "id": "bb0dd942"
   },
   "source": [
    ""
   ],
   "id": "bb0dd942",
   "execution_count": null,
   "outputs": []
  },
  {
   "cell_type": "markdown",
   "metadata": {
    "id": "fe043549"
   },
   "source": [
    "#### 42. Consider two random array A and B, check if they are equal (★★☆)"
   ],
   "id": "fe043549"
  },
  {
   "cell_type": "code",
   "metadata": {
    "id": "3326a686"
   },
   "source": [
    ""
   ],
   "id": "3326a686",
   "execution_count": null,
   "outputs": []
  },
  {
   "cell_type": "markdown",
   "metadata": {
    "id": "cc08f71c"
   },
   "source": [
    "#### 43. Make an array immutable (read-only) (★★☆)"
   ],
   "id": "cc08f71c"
  },
  {
   "cell_type": "code",
   "metadata": {
    "id": "d5cc9dbe"
   },
   "source": [
    ""
   ],
   "id": "d5cc9dbe",
   "execution_count": null,
   "outputs": []
  },
  {
   "cell_type": "markdown",
   "metadata": {
    "id": "2002cb03"
   },
   "source": [
    "#### 44. Consider a random 10x2 matrix representing cartesian coordinates, convert them to polar coordinates (★★☆)"
   ],
   "id": "2002cb03"
  },
  {
   "cell_type": "code",
   "metadata": {
    "id": "58be72bc"
   },
   "source": [
    ""
   ],
   "id": "58be72bc",
   "execution_count": null,
   "outputs": []
  },
  {
   "cell_type": "markdown",
   "metadata": {
    "id": "b7109c9f"
   },
   "source": [
    "#### 45. Create random vector of size 10 and replace the maximum value by 0 (★★☆)"
   ],
   "id": "b7109c9f"
  },
  {
   "cell_type": "code",
   "metadata": {
    "id": "f79e79a7"
   },
   "source": [
    ""
   ],
   "id": "f79e79a7",
   "execution_count": null,
   "outputs": []
  },
  {
   "cell_type": "markdown",
   "metadata": {
    "id": "7d3131b9"
   },
   "source": [
    "#### 46. Create a structured array with `x` and `y` coordinates covering the [0,1]x[0,1] area (★★☆)"
   ],
   "id": "7d3131b9"
  },
  {
   "cell_type": "code",
   "metadata": {
    "id": "4f471afe"
   },
   "source": [
    ""
   ],
   "id": "4f471afe",
   "execution_count": null,
   "outputs": []
  },
  {
   "cell_type": "markdown",
   "metadata": {
    "id": "7c8c1fc5"
   },
   "source": [
    "#### 47. Given two arrays, X and Y, construct the Cauchy matrix C (Cij =1/(xi - yj)) (★★☆)"
   ],
   "id": "7c8c1fc5"
  },
  {
   "cell_type": "code",
   "metadata": {
    "id": "8fac7d28"
   },
   "source": [
    ""
   ],
   "id": "8fac7d28",
   "execution_count": null,
   "outputs": []
  },
  {
   "cell_type": "markdown",
   "metadata": {
    "id": "5795b4bd"
   },
   "source": [
    "#### 48. Print the minimum and maximum representable value for each numpy scalar type (★★☆)"
   ],
   "id": "5795b4bd"
  },
  {
   "cell_type": "code",
   "metadata": {
    "id": "b721f7ca"
   },
   "source": [
    ""
   ],
   "id": "b721f7ca",
   "execution_count": null,
   "outputs": []
  },
  {
   "cell_type": "markdown",
   "metadata": {
    "id": "fb24674c"
   },
   "source": [
    "#### 49. How to print all the values of an array? (★★☆)"
   ],
   "id": "fb24674c"
  },
  {
   "cell_type": "code",
   "metadata": {
    "id": "c81f1456"
   },
   "source": [
    ""
   ],
   "id": "c81f1456",
   "execution_count": null,
   "outputs": []
  },
  {
   "cell_type": "markdown",
   "metadata": {
    "id": "e6e1ae2f"
   },
   "source": [
    "#### 50. How to find the closest value (to a given scalar) in a vector? (★★☆)"
   ],
   "id": "e6e1ae2f"
  },
  {
   "cell_type": "code",
   "metadata": {
    "id": "73dd91cc"
   },
   "source": [
    ""
   ],
   "id": "73dd91cc",
   "execution_count": null,
   "outputs": []
  },
  {
   "cell_type": "markdown",
   "metadata": {
    "id": "c01f0ecf"
   },
   "source": [
    "#### 51. Create a structured array representing a position (x,y) and a color (r,g,b) (★★☆)"
   ],
   "id": "c01f0ecf"
  },
  {
   "cell_type": "code",
   "metadata": {
    "id": "fb8017ca"
   },
   "source": [
    ""
   ],
   "id": "fb8017ca",
   "execution_count": null,
   "outputs": []
  },
  {
   "cell_type": "markdown",
   "metadata": {
    "id": "3b64a18b"
   },
   "source": [
    "#### 52. Consider a random vector with shape (100,2) representing coordinates, find point by point distances (★★☆)"
   ],
   "id": "3b64a18b"
  },
  {
   "cell_type": "code",
   "metadata": {
    "id": "4b482822"
   },
   "source": [
    ""
   ],
   "id": "4b482822",
   "execution_count": null,
   "outputs": []
  },
  {
   "cell_type": "markdown",
   "metadata": {
    "id": "48413134"
   },
   "source": [
    "#### 53. How to convert a float (32 bits) array into an integer (32 bits) in place?"
   ],
   "id": "48413134"
  },
  {
   "cell_type": "code",
   "metadata": {
    "id": "5db64b6d"
   },
   "source": [
    ""
   ],
   "id": "5db64b6d",
   "execution_count": null,
   "outputs": []
  },
  {
   "cell_type": "markdown",
   "metadata": {
    "id": "0a532633"
   },
   "source": [
    "#### 54. How to read the following file? (★★☆)\n",
    "```\n",
    "1, 2, 3, 4, 5\n",
    "6,  ,  , 7, 8\n",
    " ,  , 9,10,11\n",
    "```"
   ],
   "id": "0a532633"
  },
  {
   "cell_type": "code",
   "metadata": {
    "id": "8af4f753"
   },
   "source": [
    ""
   ],
   "id": "8af4f753",
   "execution_count": null,
   "outputs": []
  },
  {
   "cell_type": "markdown",
   "metadata": {
    "id": "f98713a6"
   },
   "source": [
    "#### 55. What is the equivalent of enumerate for numpy arrays? (★★☆)"
   ],
   "id": "f98713a6"
  },
  {
   "cell_type": "code",
   "metadata": {
    "id": "64795f84"
   },
   "source": [
    ""
   ],
   "id": "64795f84",
   "execution_count": null,
   "outputs": []
  },
  {
   "cell_type": "markdown",
   "metadata": {
    "id": "1abc7cc8"
   },
   "source": [
    "#### 56. Generate a generic 2D Gaussian-like array (★★☆)"
   ],
   "id": "1abc7cc8"
  },
  {
   "cell_type": "code",
   "metadata": {
    "id": "42e3a5bc"
   },
   "source": [
    ""
   ],
   "id": "42e3a5bc",
   "execution_count": null,
   "outputs": []
  },
  {
   "cell_type": "markdown",
   "metadata": {
    "id": "0cf413ee"
   },
   "source": [
    "#### 57. How to randomly place p elements in a 2D array? (★★☆)"
   ],
   "id": "0cf413ee"
  },
  {
   "cell_type": "code",
   "metadata": {
    "id": "dfc57e06"
   },
   "source": [
    ""
   ],
   "id": "dfc57e06",
   "execution_count": null,
   "outputs": []
  },
  {
   "cell_type": "markdown",
   "metadata": {
    "id": "215b6acc"
   },
   "source": [
    "#### 58. Subtract the mean of each row of a matrix (★★☆)"
   ],
   "id": "215b6acc"
  },
  {
   "cell_type": "code",
   "metadata": {
    "id": "dd1adef4"
   },
   "source": [
    ""
   ],
   "id": "dd1adef4",
   "execution_count": null,
   "outputs": []
  },
  {
   "cell_type": "markdown",
   "metadata": {
    "id": "c0cf37e0"
   },
   "source": [
    "#### 59. How to sort an array by the nth column? (★★☆)"
   ],
   "id": "c0cf37e0"
  },
  {
   "cell_type": "code",
   "metadata": {
    "id": "9336ca5f"
   },
   "source": [
    ""
   ],
   "id": "9336ca5f",
   "execution_count": null,
   "outputs": []
  },
  {
   "cell_type": "markdown",
   "metadata": {
    "id": "c17fb213"
   },
   "source": [
    "#### 60. How to tell if a given 2D array has null columns? (★★☆)"
   ],
   "id": "c17fb213"
  },
  {
   "cell_type": "code",
   "metadata": {
    "id": "7fdda78d"
   },
   "source": [
    ""
   ],
   "id": "7fdda78d",
   "execution_count": null,
   "outputs": []
  },
  {
   "cell_type": "markdown",
   "metadata": {
    "id": "8aaab886"
   },
   "source": [
    "#### 61. Find the nearest value from a given value in an array (★★☆)"
   ],
   "id": "8aaab886"
  },
  {
   "cell_type": "code",
   "metadata": {
    "id": "973f8079"
   },
   "source": [
    ""
   ],
   "id": "973f8079",
   "execution_count": null,
   "outputs": []
  },
  {
   "cell_type": "markdown",
   "metadata": {
    "id": "66a04e2e"
   },
   "source": [
    "#### 62. Considering two arrays with shape (1,3) and (3,1), how to compute their sum using an iterator? (★★☆)"
   ],
   "id": "66a04e2e"
  },
  {
   "cell_type": "code",
   "metadata": {
    "id": "4b356632"
   },
   "source": [
    ""
   ],
   "id": "4b356632",
   "execution_count": null,
   "outputs": []
  },
  {
   "cell_type": "markdown",
   "metadata": {
    "id": "f4427f7f"
   },
   "source": [
    "#### 63. Create an array class that has a name attribute (★★☆)"
   ],
   "id": "f4427f7f"
  },
  {
   "cell_type": "code",
   "metadata": {
    "id": "fe253212"
   },
   "source": [
    ""
   ],
   "id": "fe253212",
   "execution_count": null,
   "outputs": []
  },
  {
   "cell_type": "markdown",
   "metadata": {
    "id": "58be9dd4"
   },
   "source": [
    "#### 64. Consider a given vector, how to add 1 to each element indexed by a second vector (be careful with repeated indices)? (★★★)"
   ],
   "id": "58be9dd4"
  },
  {
   "cell_type": "code",
   "metadata": {
    "id": "5c8bae42"
   },
   "source": [
    ""
   ],
   "id": "5c8bae42",
   "execution_count": null,
   "outputs": []
  },
  {
   "cell_type": "markdown",
   "metadata": {
    "id": "7348abd0"
   },
   "source": [
    "#### 65. How to accumulate elements of a vector (X) to an array (F) based on an index list (I)? (★★★)"
   ],
   "id": "7348abd0"
  },
  {
   "cell_type": "code",
   "metadata": {
    "id": "b3e33a5a"
   },
   "source": [
    ""
   ],
   "id": "b3e33a5a",
   "execution_count": null,
   "outputs": []
  },
  {
   "cell_type": "markdown",
   "metadata": {
    "id": "538e651c"
   },
   "source": [
    "#### 66. Considering a (w,h,3) image of (dtype=ubyte), compute the number of unique colors (★★☆)"
   ],
   "id": "538e651c"
  },
  {
   "cell_type": "code",
   "metadata": {
    "id": "57f2f02f"
   },
   "source": [
    ""
   ],
   "id": "57f2f02f",
   "execution_count": null,
   "outputs": []
  },
  {
   "cell_type": "markdown",
   "metadata": {
    "id": "33c986d9"
   },
   "source": [
    "#### 67. Considering a four dimensions array, how to get sum over the last two axis at once? (★★★)"
   ],
   "id": "33c986d9"
  },
  {
   "cell_type": "code",
   "metadata": {
    "id": "a99a50e2"
   },
   "source": [
    ""
   ],
   "id": "a99a50e2",
   "execution_count": null,
   "outputs": []
  },
  {
   "cell_type": "markdown",
   "metadata": {
    "id": "00eb27c4"
   },
   "source": [
    "#### 68. Considering a one-dimensional vector D, how to compute means of subsets of D using a vector S of same size describing subset  indices? (★★★)"
   ],
   "id": "00eb27c4"
  },
  {
   "cell_type": "code",
   "metadata": {
    "id": "d48c5210"
   },
   "source": [
    ""
   ],
   "id": "d48c5210",
   "execution_count": null,
   "outputs": []
  },
  {
   "cell_type": "markdown",
   "metadata": {
    "id": "928a1a15"
   },
   "source": [
    "#### 69. How to get the diagonal of a dot product? (★★★)"
   ],
   "id": "928a1a15"
  },
  {
   "cell_type": "code",
   "metadata": {
    "id": "ef2c9ddd"
   },
   "source": [
    ""
   ],
   "id": "ef2c9ddd",
   "execution_count": null,
   "outputs": []
  },
  {
   "cell_type": "markdown",
   "metadata": {
    "id": "5143f7f3"
   },
   "source": [
    "#### 70. Consider the vector [1, 2, 3, 4, 5], how to build a new vector with 3 consecutive zeros interleaved between each value? (★★★)"
   ],
   "id": "5143f7f3"
  },
  {
   "cell_type": "code",
   "metadata": {
    "id": "1d99a1c1"
   },
   "source": [
    ""
   ],
   "id": "1d99a1c1",
   "execution_count": null,
   "outputs": []
  },
  {
   "cell_type": "markdown",
   "metadata": {
    "id": "f62551d8"
   },
   "source": [
    "#### 71. Consider an array of dimension (5,5,3), how to mulitply it by an array with dimensions (5,5)? (★★★)"
   ],
   "id": "f62551d8"
  },
  {
   "cell_type": "code",
   "metadata": {
    "id": "9ab241b7"
   },
   "source": [
    ""
   ],
   "id": "9ab241b7",
   "execution_count": null,
   "outputs": []
  },
  {
   "cell_type": "markdown",
   "metadata": {
    "id": "6896e326"
   },
   "source": [
    "#### 72. How to swap two rows of an array? (★★★)"
   ],
   "id": "6896e326"
  },
  {
   "cell_type": "code",
   "metadata": {
    "id": "9e8fcba9"
   },
   "source": [
    ""
   ],
   "id": "9e8fcba9",
   "execution_count": null,
   "outputs": []
  },
  {
   "cell_type": "markdown",
   "metadata": {
    "id": "aeaf4a7b"
   },
   "source": [
    "#### 73. Consider a set of 10 triplets describing 10 triangles (with shared vertices), find the set of unique line segments composing all the  triangles (★★★)"
   ],
   "id": "aeaf4a7b"
  },
  {
   "cell_type": "code",
   "metadata": {
    "id": "39ef4234"
   },
   "source": [
    ""
   ],
   "id": "39ef4234",
   "execution_count": null,
   "outputs": []
  },
  {
   "cell_type": "markdown",
   "metadata": {
    "id": "3d11451b"
   },
   "source": [
    "#### 74. Given a sorted array C that corresponds to a bincount, how to produce an array A such that np.bincount(A) == C? (★★★)"
   ],
   "id": "3d11451b"
  },
  {
   "cell_type": "code",
   "metadata": {
    "id": "a5563362"
   },
   "source": [
    ""
   ],
   "id": "a5563362",
   "execution_count": null,
   "outputs": []
  },
  {
   "cell_type": "markdown",
   "metadata": {
    "id": "a0a45995"
   },
   "source": [
    "#### 75. How to compute averages using a sliding window over an array? (★★★)"
   ],
   "id": "a0a45995"
  },
  {
   "cell_type": "code",
   "metadata": {
    "id": "116243d5"
   },
   "source": [
    ""
   ],
   "id": "116243d5",
   "execution_count": null,
   "outputs": []
  },
  {
   "cell_type": "markdown",
   "metadata": {
    "id": "7808578f"
   },
   "source": [
    "#### 76. Consider a one-dimensional array Z, build a two-dimensional array whose first row is (Z[0],Z[1],Z[2]) and each subsequent row is  shifted by 1 (last row should be (Z[-3],Z[-2],Z[-1]) (★★★)"
   ],
   "id": "7808578f"
  },
  {
   "cell_type": "code",
   "metadata": {
    "id": "6b23ba6e"
   },
   "source": [
    ""
   ],
   "id": "6b23ba6e",
   "execution_count": null,
   "outputs": []
  },
  {
   "cell_type": "markdown",
   "metadata": {
    "id": "8e83df46"
   },
   "source": [
    "#### 77. How to negate a boolean, or to change the sign of a float inplace? (★★★)"
   ],
   "id": "8e83df46"
  },
  {
   "cell_type": "code",
   "metadata": {
    "id": "f73127b7"
   },
   "source": [
    ""
   ],
   "id": "f73127b7",
   "execution_count": null,
   "outputs": []
  },
  {
   "cell_type": "markdown",
   "metadata": {
    "id": "e67ff31c"
   },
   "source": [
    "#### 78. Consider 2 sets of points P0,P1 describing lines (2d) and a point p, how to compute distance from p to each line i (P0[i],P1[i])? (★★★)"
   ],
   "id": "e67ff31c"
  },
  {
   "cell_type": "code",
   "metadata": {
    "id": "89d75b76"
   },
   "source": [
    ""
   ],
   "id": "89d75b76",
   "execution_count": null,
   "outputs": []
  },
  {
   "cell_type": "markdown",
   "metadata": {
    "id": "ad8821b1"
   },
   "source": [
    "#### 79. Consider 2 sets of points P0,P1 describing lines (2d) and a set of points P, how to compute distance from each point j (P[j]) to each line i (P0[i],P1[i])? (★★★)"
   ],
   "id": "ad8821b1"
  },
  {
   "cell_type": "code",
   "metadata": {
    "id": "775feca0"
   },
   "source": [
    ""
   ],
   "id": "775feca0",
   "execution_count": null,
   "outputs": []
  },
  {
   "cell_type": "markdown",
   "metadata": {
    "id": "a0c8cbf5"
   },
   "source": [
    "#### 80. Consider an arbitrary array, write a function that extract a subpart with a fixed shape and centered on a given element (pad with a `fill` value when necessary) (★★★)"
   ],
   "id": "a0c8cbf5"
  },
  {
   "cell_type": "code",
   "metadata": {
    "id": "381fd926"
   },
   "source": [
    ""
   ],
   "id": "381fd926",
   "execution_count": null,
   "outputs": []
  },
  {
   "cell_type": "markdown",
   "metadata": {
    "id": "781fa236"
   },
   "source": [
    "#### 81. Consider an array Z = [1,2,3,4,5,6,7,8,9,10,11,12,13,14], how to generate an array R = [[1,2,3,4], [2,3,4,5], [3,4,5,6], ..., [11,12,13,14]]? (★★★)"
   ],
   "id": "781fa236"
  },
  {
   "cell_type": "code",
   "metadata": {
    "id": "8e84d3c2"
   },
   "source": [
    ""
   ],
   "id": "8e84d3c2",
   "execution_count": null,
   "outputs": []
  },
  {
   "cell_type": "markdown",
   "metadata": {
    "id": "9c9bb0f3"
   },
   "source": [
    "#### 82. Compute a matrix rank (★★★)"
   ],
   "id": "9c9bb0f3"
  },
  {
   "cell_type": "code",
   "metadata": {
    "id": "b75ef318"
   },
   "source": [
    ""
   ],
   "id": "b75ef318",
   "execution_count": null,
   "outputs": []
  },
  {
   "cell_type": "markdown",
   "metadata": {
    "id": "7d8dc135"
   },
   "source": [
    "#### 83. How to find the most frequent value in an array?"
   ],
   "id": "7d8dc135"
  },
  {
   "cell_type": "code",
   "metadata": {
    "id": "3978a7a2"
   },
   "source": [
    ""
   ],
   "id": "3978a7a2",
   "execution_count": null,
   "outputs": []
  },
  {
   "cell_type": "markdown",
   "metadata": {
    "id": "aa340126"
   },
   "source": [
    "#### 84. Extract all the contiguous 3x3 blocks from a random 10x10 matrix (★★★)"
   ],
   "id": "aa340126"
  },
  {
   "cell_type": "code",
   "metadata": {
    "id": "bf138783"
   },
   "source": [
    ""
   ],
   "id": "bf138783",
   "execution_count": null,
   "outputs": []
  },
  {
   "cell_type": "markdown",
   "metadata": {
    "id": "6b6d2c84"
   },
   "source": [
    "#### 85. Create a 2D array subclass such that Z[i,j] == Z[j,i] (★★★)"
   ],
   "id": "6b6d2c84"
  },
  {
   "cell_type": "code",
   "metadata": {
    "id": "155e16ce"
   },
   "source": [
    ""
   ],
   "id": "155e16ce",
   "execution_count": null,
   "outputs": []
  },
  {
   "cell_type": "markdown",
   "metadata": {
    "id": "7be0fe36"
   },
   "source": [
    "#### 86. Consider a set of p matrices wich shape (n,n) and a set of p vectors with shape (n,1). How to compute the sum of of the p matrix products at once? (result has shape (n,1)) (★★★)"
   ],
   "id": "7be0fe36"
  },
  {
   "cell_type": "code",
   "metadata": {
    "id": "ea732c23"
   },
   "source": [
    ""
   ],
   "id": "ea732c23",
   "execution_count": null,
   "outputs": []
  },
  {
   "cell_type": "markdown",
   "metadata": {
    "id": "a840a88f"
   },
   "source": [
    "#### 87. Consider a 16x16 array, how to get the block-sum (block size is 4x4)? (★★★)"
   ],
   "id": "a840a88f"
  },
  {
   "cell_type": "code",
   "metadata": {
    "id": "6e0c1cbe"
   },
   "source": [
    ""
   ],
   "id": "6e0c1cbe",
   "execution_count": null,
   "outputs": []
  },
  {
   "cell_type": "markdown",
   "metadata": {
    "id": "c2bd7385"
   },
   "source": [
    "#### 88. How to implement the Game of Life using numpy arrays? (★★★)"
   ],
   "id": "c2bd7385"
  },
  {
   "cell_type": "code",
   "metadata": {
    "id": "aea7d805"
   },
   "source": [
    ""
   ],
   "id": "aea7d805",
   "execution_count": null,
   "outputs": []
  },
  {
   "cell_type": "markdown",
   "metadata": {
    "id": "4c70397b"
   },
   "source": [
    "#### 89. How to get the n largest values of an array (★★★)"
   ],
   "id": "4c70397b"
  },
  {
   "cell_type": "code",
   "metadata": {
    "id": "16371718"
   },
   "source": [
    ""
   ],
   "id": "16371718",
   "execution_count": null,
   "outputs": []
  },
  {
   "cell_type": "markdown",
   "metadata": {
    "id": "15ba193c"
   },
   "source": [
    "#### 90. Given an arbitrary number of vectors, build the cartesian product (every combinations of every item) (★★★)"
   ],
   "id": "15ba193c"
  },
  {
   "cell_type": "code",
   "metadata": {
    "id": "c9c468d4"
   },
   "source": [
    ""
   ],
   "id": "c9c468d4",
   "execution_count": null,
   "outputs": []
  },
  {
   "cell_type": "markdown",
   "metadata": {
    "id": "ec828405"
   },
   "source": [
    "#### 91. How to create a record array from a regular array? (★★★)"
   ],
   "id": "ec828405"
  },
  {
   "cell_type": "code",
   "metadata": {
    "id": "84eb5fba"
   },
   "source": [
    ""
   ],
   "id": "84eb5fba",
   "execution_count": null,
   "outputs": []
  },
  {
   "cell_type": "markdown",
   "metadata": {
    "id": "d94352b6"
   },
   "source": [
    "#### 92. Consider a large vector Z, compute Z to the power of 3 using 3 different methods (★★★)"
   ],
   "id": "d94352b6"
  },
  {
   "cell_type": "code",
   "metadata": {
    "id": "301ba8a8"
   },
   "source": [
    ""
   ],
   "id": "301ba8a8",
   "execution_count": null,
   "outputs": []
  },
  {
   "cell_type": "markdown",
   "metadata": {
    "id": "7c3a9e32"
   },
   "source": [
    "#### 93. Consider two arrays A and B of shape (8,3) and (2,2). How to find rows of A that contain elements of each row of B regardless of the order of the elements in B? (★★★)"
   ],
   "id": "7c3a9e32"
  },
  {
   "cell_type": "code",
   "metadata": {
    "id": "777376e3"
   },
   "source": [
    ""
   ],
   "id": "777376e3",
   "execution_count": null,
   "outputs": []
  },
  {
   "cell_type": "markdown",
   "metadata": {
    "id": "da9d5eeb"
   },
   "source": [
    "#### 94. Considering a 10x3 matrix, extract rows with unequal values (e.g. [2,2,3]) (★★★)"
   ],
   "id": "da9d5eeb"
  },
  {
   "cell_type": "code",
   "metadata": {
    "id": "67dbea5c"
   },
   "source": [
    ""
   ],
   "id": "67dbea5c",
   "execution_count": null,
   "outputs": []
  },
  {
   "cell_type": "markdown",
   "metadata": {
    "id": "f7b65fd5"
   },
   "source": [
    "#### 95. Convert a vector of ints into a matrix binary representation (★★★)"
   ],
   "id": "f7b65fd5"
  },
  {
   "cell_type": "code",
   "metadata": {
    "id": "127294ed"
   },
   "source": [
    ""
   ],
   "id": "127294ed",
   "execution_count": null,
   "outputs": []
  },
  {
   "cell_type": "markdown",
   "metadata": {
    "id": "2784c996"
   },
   "source": [
    "#### 96. Given a two dimensional array, how to extract unique rows? (★★★)"
   ],
   "id": "2784c996"
  },
  {
   "cell_type": "code",
   "metadata": {
    "id": "f030595f"
   },
   "source": [
    ""
   ],
   "id": "f030595f",
   "execution_count": null,
   "outputs": []
  },
  {
   "cell_type": "markdown",
   "metadata": {
    "id": "71a7574c"
   },
   "source": [
    "#### 97. Considering 2 vectors A & B, write the einsum equivalent of inner, outer, sum, and mul function (★★★)"
   ],
   "id": "71a7574c"
  },
  {
   "cell_type": "code",
   "metadata": {
    "id": "721c4e1a"
   },
   "source": [
    ""
   ],
   "id": "721c4e1a",
   "execution_count": null,
   "outputs": []
  },
  {
   "cell_type": "markdown",
   "metadata": {
    "id": "30f06441"
   },
   "source": [
    "#### 98. Considering a path described by two vectors (X,Y), how to sample it using equidistant samples (★★★)?"
   ],
   "id": "30f06441"
  },
  {
   "cell_type": "code",
   "metadata": {
    "id": "fb41c022"
   },
   "source": [
    ""
   ],
   "id": "fb41c022",
   "execution_count": null,
   "outputs": []
  },
  {
   "cell_type": "markdown",
   "metadata": {
    "id": "e5737276"
   },
   "source": [
    "#### 99. Given an integer n and a 2D array X, select from X the rows which can be interpreted as draws from a multinomial distribution with n degrees, i.e., the rows which only contain integers and which sum to n. (★★★)"
   ],
   "id": "e5737276"
  },
  {
   "cell_type": "code",
   "metadata": {
    "id": "68c333b0"
   },
   "source": [
    ""
   ],
   "id": "68c333b0",
   "execution_count": null,
   "outputs": []
  },
  {
   "cell_type": "markdown",
   "metadata": {
    "id": "5882e36d"
   },
   "source": [
    "#### 100. Compute bootstrapped 95% confidence intervals for the mean of a 1D array X (i.e., resample the elements of an array with replacement N times, compute the mean of each sample, and then compute percentiles over the means). (★★★)"
   ],
   "id": "5882e36d"
  },
  {
   "cell_type": "code",
   "metadata": {
    "id": "d1b566e5"
   },
   "source": [
    ""
   ],
   "id": "d1b566e5",
   "execution_count": null,
   "outputs": []
  }
 ]
}