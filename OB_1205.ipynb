{
  "nbformat": 4,
  "nbformat_minor": 0,
  "metadata": {
    "colab": {
      "provenance": [],
      "authorship_tag": "ABX9TyOT8KCdnRgAwBesxg6tL0un",
      "include_colab_link": true
    },
    "kernelspec": {
      "name": "python3",
      "display_name": "Python 3"
    },
    "language_info": {
      "name": "python"
    }
  },
  "cells": [
    {
      "cell_type": "markdown",
      "metadata": {
        "id": "view-in-github",
        "colab_type": "text"
      },
      "source": [
        "<a href=\"https://colab.research.google.com/github/jeongwoo22/ESAA_assignments/blob/main/OB_1205.ipynb\" target=\"_parent\"><img src=\"https://colab.research.google.com/assets/colab-badge.svg\" alt=\"Open In Colab\"/></a>"
      ]
    },
    {
      "cell_type": "markdown",
      "source": [
        "# 1205 세션 - 케라스 CNN 개 고양이 분류"
      ],
      "metadata": {
        "id": "sxxDJItYUXb1"
      }
    },
    {
      "cell_type": "code",
      "execution_count": 5,
      "metadata": {
        "id": "yZ8U5p2jUKHO"
      },
      "outputs": [],
      "source": [
        "import numpy as np\n",
        "import pandas as pd \n",
        "from keras.utils import to_categorical\n",
        "from sklearn.model_selection import train_test_split\n",
        "import matplotlib.pyplot as plt\n",
        "import random\n",
        "import os"
      ]
    },
    {
      "cell_type": "code",
      "source": [
        "FAST_RUN = False\n",
        "IMAGE_WIDTH=128\n",
        "IMAGE_HEIGHT=128\n",
        "IMAGE_SIZE=(IMAGE_WIDTH, IMAGE_HEIGHT)\n",
        "IMAGE_CHANNELS=3"
      ],
      "metadata": {
        "id": "RdlEy42nUd08"
      },
      "execution_count": 6,
      "outputs": []
    },
    {
      "cell_type": "code",
      "source": [
        "import os \n",
        "import io\n",
        "import zipfile\n",
        "from zipfile import ZipFile\n",
        "import pandas as pd\n",
        "import requests\n",
        "import tensorflow as tf\n",
        "from keras.preprocessing.image import ImageDataGenerator\n",
        "from tensorflow.keras.utils import load_img"
      ],
      "metadata": {
        "id": "_Dca9yLmVhx7"
      },
      "execution_count": 33,
      "outputs": []
    },
    {
      "cell_type": "code",
      "source": [
        "from google.colab import drive\n",
        "drive.mount('/content/drive')"
      ],
      "metadata": {
        "colab": {
          "base_uri": "https://localhost:8080/"
        },
        "id": "ii2o8tj3V7rA",
        "outputId": "dcc9342a-4477-4346-9144-e527b49aebaa"
      },
      "execution_count": 9,
      "outputs": [
        {
          "output_type": "stream",
          "name": "stdout",
          "text": [
            "Mounted at /content/drive\n"
          ]
        }
      ]
    },
    {
      "cell_type": "markdown",
      "source": [
        "- 파일 압축 문제로 데이터 셋을 열지 못해 아래는 다 주석으로 처리합니다ㅠ"
      ],
      "metadata": {
        "id": "lNAU9Nn5clHi"
      }
    },
    {
      "cell_type": "code",
      "source": [
        "# filenames = os.listdir(\"../input/train/train\")\n",
        "# categories = []\n",
        "# for filename in filenames:\n",
        "#     category = filename.split('.')[0]\n",
        "#     if category == 'dog':\n",
        "#         categories.append(1)\n",
        "#     else:\n",
        "#         categories.append(0)\n",
        "\n",
        "# df = pd.DataFrame({\n",
        "#     'filename': filenames,\n",
        "#     'category': categories\n",
        "# })"
      ],
      "metadata": {
        "colab": {
          "base_uri": "https://localhost:8080/",
          "height": 245
        },
        "id": "-0ayVcOuYOlz",
        "outputId": "dbd41c60-bb22-46c6-9adf-b9bdc8ad99bf"
      },
      "execution_count": 35,
      "outputs": [
        {
          "output_type": "error",
          "ename": "FileNotFoundError",
          "evalue": "ignored",
          "traceback": [
            "\u001b[0;31m---------------------------------------------------------------------------\u001b[0m",
            "\u001b[0;31mFileNotFoundError\u001b[0m                         Traceback (most recent call last)",
            "\u001b[0;32m<ipython-input-35-42e06ead3586>\u001b[0m in \u001b[0;36m<module>\u001b[0;34m\u001b[0m\n\u001b[0;32m----> 1\u001b[0;31m \u001b[0mprint\u001b[0m\u001b[0;34m(\u001b[0m\u001b[0mos\u001b[0m\u001b[0;34m.\u001b[0m\u001b[0mlistdir\u001b[0m\u001b[0;34m(\u001b[0m\u001b[0;34m\"../input\"\u001b[0m\u001b[0;34m)\u001b[0m\u001b[0;34m)\u001b[0m\u001b[0;34m\u001b[0m\u001b[0;34m\u001b[0m\u001b[0m\n\u001b[0m\u001b[1;32m      2\u001b[0m \u001b[0mfilenames\u001b[0m \u001b[0;34m=\u001b[0m \u001b[0mos\u001b[0m\u001b[0;34m.\u001b[0m\u001b[0mlistdir\u001b[0m\u001b[0;34m(\u001b[0m\u001b[0;34m\"../input/train/train\"\u001b[0m\u001b[0;34m)\u001b[0m\u001b[0;34m\u001b[0m\u001b[0;34m\u001b[0m\u001b[0m\n\u001b[1;32m      3\u001b[0m \u001b[0mcategories\u001b[0m \u001b[0;34m=\u001b[0m \u001b[0;34m[\u001b[0m\u001b[0;34m]\u001b[0m\u001b[0;34m\u001b[0m\u001b[0;34m\u001b[0m\u001b[0m\n\u001b[1;32m      4\u001b[0m \u001b[0;32mfor\u001b[0m \u001b[0mfilename\u001b[0m \u001b[0;32min\u001b[0m \u001b[0mfilenames\u001b[0m\u001b[0;34m:\u001b[0m\u001b[0;34m\u001b[0m\u001b[0;34m\u001b[0m\u001b[0m\n\u001b[1;32m      5\u001b[0m     \u001b[0mcategory\u001b[0m \u001b[0;34m=\u001b[0m \u001b[0mfilename\u001b[0m\u001b[0;34m.\u001b[0m\u001b[0msplit\u001b[0m\u001b[0;34m(\u001b[0m\u001b[0;34m'.'\u001b[0m\u001b[0;34m)\u001b[0m\u001b[0;34m[\u001b[0m\u001b[0;36m0\u001b[0m\u001b[0;34m]\u001b[0m\u001b[0;34m\u001b[0m\u001b[0;34m\u001b[0m\u001b[0m\n",
            "\u001b[0;31mFileNotFoundError\u001b[0m: [Errno 2] No such file or directory: '../input'"
          ]
        }
      ]
    },
    {
      "cell_type": "code",
      "source": [
        "# df.head()"
      ],
      "metadata": {
        "id": "iCzKITc6Ykrq"
      },
      "execution_count": 36,
      "outputs": []
    },
    {
      "cell_type": "code",
      "source": [
        "# df.tail()"
      ],
      "metadata": {
        "id": "HFgnu7tBcreb"
      },
      "execution_count": 38,
      "outputs": []
    },
    {
      "cell_type": "code",
      "source": [
        "# df['category'].value_counts().plot.bar()"
      ],
      "metadata": {
        "id": "owZVAUINcsdh"
      },
      "execution_count": 39,
      "outputs": []
    },
    {
      "cell_type": "code",
      "source": [
        "# # sample = random.choice(filenames)\n",
        "# image = load_img(\"../input/train/train/\"+sample)\n",
        "# plt.imshow(image)"
      ],
      "metadata": {
        "id": "Vs7YzaVXczhH"
      },
      "execution_count": 41,
      "outputs": []
    },
    {
      "cell_type": "code",
      "source": [
        "# from keras.models import Sequential\n",
        "# from keras.layers import Conv2D, MaxPooling2D, Dropout, Flatten, Dense, Activation, BatchNormalization\n",
        "\n",
        "# model = Sequential()\n",
        "\n",
        "# model.add(Conv2D(32, (3, 3), activation='relu', input_shape=(IMAGE_WIDTH, IMAGE_HEIGHT, IMAGE_CHANNELS)))\n",
        "# model.add(BatchNormalization())\n",
        "# model.add(MaxPooling2D(pool_size=(2, 2)))\n",
        "# model.add(Dropout(0.25))\n",
        "\n",
        "# model.add(Conv2D(64, (3, 3), activation='relu'))\n",
        "# model.add(BatchNormalization())\n",
        "# model.add(MaxPooling2D(pool_size=(2, 2)))\n",
        "# model.add(Dropout(0.25))\n",
        "\n",
        "# model.add(Conv2D(128, (3, 3), activation='relu'))\n",
        "# model.add(BatchNormalization())\n",
        "# model.add(MaxPooling2D(pool_size=(2, 2)))\n",
        "# model.add(Dropout(0.25))\n",
        "\n",
        "# model.add(Flatten())\n",
        "# model.add(Dense(512, activation='relu'))\n",
        "# model.add(BatchNormalization())\n",
        "# model.add(Dropout(0.5))\n",
        "# model.add(Dense(2, activation='softmax'"
      ],
      "metadata": {
        "id": "ci1_DHJJc0zz"
      },
      "execution_count": 42,
      "outputs": []
    },
    {
      "cell_type": "code",
      "source": [
        "# from keras.callbacks import EarlyStopping, ReduceLROnPlateau"
      ],
      "metadata": {
        "id": "yDK7ZofLc4VY"
      },
      "execution_count": 43,
      "outputs": []
    },
    {
      "cell_type": "code",
      "source": [
        "# earlystop = EarlyStopping(patience=10)"
      ],
      "metadata": {
        "id": "QvIq_oFDc6kV"
      },
      "execution_count": 44,
      "outputs": []
    },
    {
      "cell_type": "code",
      "source": [
        "# # learning_rate_reduction = ReduceLROnPlateau(monitor='val_acc', \n",
        "#                                             patience=2, \n",
        "#                                             verbose=1, \n",
        "#                                             factor=0.5, \n",
        "#                                             min_lr=0.00001)\n",
        "# callbacks = ["
      ],
      "metadata": {
        "id": "iu6vyL3Fc8Zw"
      },
      "execution_count": 46,
      "outputs": []
    },
    {
      "cell_type": "code",
      "source": [
        "# callbacks = [earlystop, learning_rate_reduction]"
      ],
      "metadata": {
        "id": "u6VPQYwec91G"
      },
      "execution_count": 47,
      "outputs": []
    },
    {
      "cell_type": "code",
      "source": [
        "# df[\"category\"] = df[\"category\"].replace({0: 'cat', 1: 'dog'}) "
      ],
      "metadata": {
        "id": "viMjXngCdAPW"
      },
      "execution_count": 48,
      "outputs": []
    },
    {
      "cell_type": "code",
      "source": [
        "# train_df, validate_df = train_test_split(df, test_size=0.20, random_state=42)\n",
        "# train_df = train_df.reset_index(drop=True)\n",
        "# validate_df = validate_df.reset_index(drop=True)"
      ],
      "metadata": {
        "id": "3vRNPQTXdBds"
      },
      "execution_count": 49,
      "outputs": []
    },
    {
      "cell_type": "code",
      "source": [
        "# https://www.kaggle.com/code/uysimty/keras-cnn-dog-or-cat-classification?scriptVersionId=15763408&cellId=29"
      ],
      "metadata": {
        "id": "5ZY3Zx-wdC1h"
      },
      "execution_count": 50,
      "outputs": []
    },
    {
      "cell_type": "code",
      "source": [
        "# validate_df['category'].value_counts().plot.bar()\n"
      ],
      "metadata": {
        "id": "dCjAuYqAdEh7"
      },
      "execution_count": 51,
      "outputs": []
    },
    {
      "cell_type": "code",
      "source": [
        "# # train_datagen = ImageDataGenerator(\n",
        "#     rotation_range=15,\n",
        "#     rescale=1./255,\n",
        "#     shear_range=0.1,\n",
        "#     zoom_range=0.2,\n",
        "#     horizontal_flip=True,\n",
        "#     width_shift_range=0.1,\n",
        "#     height_shift_range=0.1\n",
        "# )\n",
        "\n",
        "# train_generator = train_datagen.flow_from_dataframe(\n",
        "#     train_df, \n",
        "#     \"../input/train/train/\", \n",
        "#     x_col='filename',\n",
        "#     y_col='category',\n",
        "#     target_size=IMAGE_SIZE,\n",
        "#     class_mode='categorical',\n",
        "#     batch_size=batch_size"
      ],
      "metadata": {
        "id": "Of4sqS39dGMO"
      },
      "execution_count": 56,
      "outputs": []
    },
    {
      "cell_type": "code",
      "source": [
        "# # validation_datagen = ImageDataGenerator(rescale=1./255)\n",
        "# validation_generator = validation_datagen.flow_from_dataframe(\n",
        "#     validate_df, \n",
        "#     \"../input/train/train/\", \n",
        "#     x_col='filename',\n",
        "#     y_col='category',\n",
        "#     target_size=IMAGE_SIZE,\n",
        "#     class_mode='categorical',\n",
        "#     batch_size=batch_size\n",
        "# )\n",
        "# Found 5000 images"
      ],
      "metadata": {
        "id": "kIgWk85gdImx"
      },
      "execution_count": 53,
      "outputs": []
    },
    {
      "cell_type": "code",
      "source": [
        "# # fig, (ax1, ax2) = plt.subplots(2, 1, figsize=(12, 12))\n",
        "# ax1.plot(history.history['loss'], color='b', label=\"Training loss\")\n",
        "# ax1.plot(history.history['val_loss'], color='r', label=\"validation loss\")\n",
        "# ax1.set_xticks(np.arange(1, epochs, 1))\n",
        "# ax1.set_yticks(np.arange(0, 1, 0.1))\n",
        "\n",
        "# ax2.plot(history.history['acc'], color='b', label=\"Training accuracy\")\n",
        "# ax2.plot(history.history['val_acc'], color='r',label=\"Validation accuracy\")\n",
        "# ax2.set_xticks(np.arange(1, epochs, 1))\n",
        "\n",
        "# legend = plt.legend(loc='best', shadow=True)\n",
        "# plt.tight_layout()\n",
        "# plt.show()\n"
      ],
      "metadata": {
        "id": "lM4mOXnOdKsd"
      },
      "execution_count": 54,
      "outputs": []
    },
    {
      "cell_type": "code",
      "source": [
        "# test_gen = ImageDataGenerator(rescale=1./255)\n",
        "# test_generator = test_gen.flow_from_dataframe(\n",
        "#     test_df, \n",
        "#     \"../input/test1/test1/\", \n",
        "#     x_col='filename',\n",
        "#     y_col=None,\n",
        "#     class_mode=None,\n",
        "#     target_size=IMAGE_SIZE,\n",
        "#     batch_size=batch_size,\n",
        "#     shuffle=False\n",
        "# )"
      ],
      "metadata": {
        "id": "4NnxmQvodNgc"
      },
      "execution_count": 55,
      "outputs": []
    },
    {
      "cell_type": "code",
      "source": [],
      "metadata": {
        "id": "Cbo84bCcdQFB"
      },
      "execution_count": null,
      "outputs": []
    }
  ]
}