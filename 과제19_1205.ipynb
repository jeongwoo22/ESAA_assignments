{
  "nbformat": 4,
  "nbformat_minor": 0,
  "metadata": {
    "colab": {
      "provenance": [],
      "authorship_tag": "ABX9TyPX3a0jj5hDk0AKP3b9o70N",
      "include_colab_link": true
    },
    "kernelspec": {
      "name": "python3",
      "display_name": "Python 3"
    },
    "language_info": {
      "name": "python"
    }
  },
  "cells": [
    {
      "cell_type": "markdown",
      "metadata": {
        "id": "view-in-github",
        "colab_type": "text"
      },
      "source": [
        "<a href=\"https://colab.research.google.com/github/jeongwoo22/ESAA_assignments/blob/main/%EA%B3%BC%EC%A0%9C19_1205.ipynb\" target=\"_parent\"><img src=\"https://colab.research.google.com/assets/colab-badge.svg\" alt=\"Open In Colab\"/></a>"
      ]
    },
    {
      "cell_type": "markdown",
      "source": [
        "# 합성곱 신경망(CNN)"
      ],
      "metadata": {
        "id": "1O_WETAglDl5"
      }
    },
    {
      "cell_type": "markdown",
      "source": [
        "1. 이미지 표현\n",
        "- 흑백 : 0~255사이의 숫자로 각 픽셀의 화소 값 표현, 0은 검은색, 255는 흰색\n",
        "- 컬러 : R, G, B 채널로 구성된 3장의 이미지를 하나로 결합해 표현, 0~255 사이의 숫자가 클수록 해당 색상을 강하게 표현"
      ],
      "metadata": {
        "id": "q-rRjMoklIxh"
      }
    },
    {
      "cell_type": "markdown",
      "source": [
        "2. 합성곱\n",
        "- 특성맵(feature map) : 합성곱 연산을 통해 추출된 이미지, 딥러닝 모델 학습에 사용시 성능 개선\n",
        "- 오차 역전파(back propagation)시 커널의 가중치를 업데이트\n",
        "- 공유 가중치(shared weights) : 오차 역전파시 커널의 그래디언트를 계산할 때 커널 사이즈에 대해서만 업데이트하면 되므로 완전 연결층을 사용할 때보다 연산량이 훨씬 적음\n"
      ],
      "metadata": {
        "id": "C99eVfGClIg0"
      }
    },
    {
      "cell_type": "markdown",
      "source": [
        "3. 채널\n",
        "- 입력 이미지를 구성하는 2차원 배열의 개수"
      ],
      "metadata": {
        "id": "oAtpHtg7lRXU"
      }
    },
    {
      "cell_type": "markdown",
      "source": [
        "4. 스트라이드 \n",
        "- 커널이 좌측 상단으로부터 입력 이미지를 기준으로 우측으로 이동하면서 합성곱 연산을 계속 수행하고 특성맵에 결과를 채워나갈 때 이동하는 간격"
      ],
      "metadata": {
        "id": "Zy4K98V1lIdr"
      }
    },
    {
      "cell_type": "markdown",
      "source": [
        "5. 패딩\n",
        "- 추출된 특성맵의 크기가 입력 이미지 대비 줄어들지 않도록 패딩 설정"
      ],
      "metadata": {
        "id": "udPGW3R8lXJj"
      }
    },
    {
      "cell_type": "markdown",
      "source": [
        "6. 특성맵 사이즈 \n",
        "- Image Height, Image Width : 입력크기\n",
        "- Kernel Height, Kernel Width : 필터 크기\n",
        "- S : stride\n",
        "- P : padding\n",
        "- Output Height, Output Width : 출력 크기 "
      ],
      "metadata": {
        "id": "-r6v3nvVlbF9"
      }
    },
    {
      "cell_type": "markdown",
      "source": [
        "### 모델생성"
      ],
      "metadata": {
        "id": "fmQeOFylllpM"
      }
    },
    {
      "cell_type": "code",
      "source": [
        "# tensorflow 모듈 임포트\n",
        "import tensorflow as tf\n",
        "\n",
        "# mnist 데이터 로드\n",
        "mnist = tf.keras.datasets.mnist\n",
        "(x_train, y_train), (x_valid, y_valid) = mnist.load_data()\n",
        "\n",
        "print(x_train.shape, y_train.shape) \n",
        "print(x_valid.shape, y_valid.shape)\n",
        "     "
      ],
      "metadata": {
        "colab": {
          "base_uri": "https://localhost:8080/"
        },
        "id": "og-xvKVllWzb",
        "outputId": "b91d2ec9-3fb7-466c-d3c0-8cbcf178aeb5"
      },
      "execution_count": 1,
      "outputs": [
        {
          "output_type": "stream",
          "name": "stdout",
          "text": [
            "Downloading data from https://storage.googleapis.com/tensorflow/tf-keras-datasets/mnist.npz\n",
            "11490434/11490434 [==============================] - 1s 0us/step\n",
            "(60000, 28, 28) (60000,)\n",
            "(10000, 28, 28) (10000,)\n"
          ]
        }
      ]
    },
    {
      "cell_type": "code",
      "execution_count": 2,
      "metadata": {
        "colab": {
          "base_uri": "https://localhost:8080/",
          "height": 303
        },
        "id": "eG5W-Wlsk_-N",
        "outputId": "811ee142-ff16-499b-8be2-8374972a46d2"
      },
      "outputs": [
        {
          "output_type": "display_data",
          "data": {
            "text/plain": [
              "<Figure size 360x360 with 1 Axes>"
            ],
            "image/png": "[encoded data removed]"
          },
          "metadata": {
            "needs_background": "light"
          }
        }
      ],
      "source": [
        "# 샘플 이미지 출력\n",
        "import matplotlib.pyplot as plt\n",
        "\n",
        "def plot_image(data, idx):\n",
        "  plt.figure(figsize=(5,5))\n",
        "  plt.imshow(data[idx], cmap='gray')\n",
        "  plt.axis('off')\n",
        "  plt.show()\n",
        "\n",
        "plot_image(x_train, 0)\n",
        "     "
      ]
    },
    {
      "cell_type": "code",
      "source": [
        "print(x_train.min(), x_train.max())\n",
        "print(x_valid.min(), x_valid.max())"
      ],
      "metadata": {
        "colab": {
          "base_uri": "https://localhost:8080/"
        },
        "id": "tSh-BG1BloRL",
        "outputId": "edfc4ad3-7835-43a2-cd87-ae382f8f3e3f"
      },
      "execution_count": 3,
      "outputs": [
        {
          "output_type": "stream",
          "name": "stdout",
          "text": [
            "0 255\n",
            "0 255\n"
          ]
        }
      ]
    },
    {
      "cell_type": "code",
      "source": [
        "# 정규화\n",
        "x_train = x_train/255.0\n",
        "x_valid = x_valid/255.0\n",
        "\n",
        "print(x_train.min(), x_train.max())\n",
        "print(x_valid.min(), x_valid.max())"
      ],
      "metadata": {
        "colab": {
          "base_uri": "https://localhost:8080/"
        },
        "id": "3QJrW6Lzlpzj",
        "outputId": "9560a9fb-cc50-4ada-b89f-329237d875e4"
      },
      "execution_count": 4,
      "outputs": [
        {
          "output_type": "stream",
          "name": "stdout",
          "text": [
            "0.0 1.0\n",
            "0.0 1.0\n"
          ]
        }
      ]
    },
    {
      "cell_type": "code",
      "source": [
        "# 채널 추가\n",
        "print(x_train.shape, x_valid.shape)\n",
        "\n",
        "x_train_in = x_train[..., tf.newaxis]\n",
        "x_valid_in = x_valid[..., tf.newaxis]\n",
        "\n",
        "print(x_train_in.shape, x_valid_in.shape)"
      ],
      "metadata": {
        "colab": {
          "base_uri": "https://localhost:8080/"
        },
        "id": "wexN1q4Tlrbm",
        "outputId": "5f0bb9d5-a320-4a5c-b8e3-09fd92606d75"
      },
      "execution_count": 5,
      "outputs": [
        {
          "output_type": "stream",
          "name": "stdout",
          "text": [
            "(60000, 28, 28) (10000, 28, 28)\n",
            "(60000, 28, 28, 1) (10000, 28, 28, 1)\n"
          ]
        }
      ]
    },
    {
      "cell_type": "code",
      "source": [
        "# Sequential API를 사용해 샘플 모델 생성\n",
        "model = tf.keras.Sequential([\n",
        "    # Convolution 적용(32 filters)\n",
        "    tf.keras.layers.Conv2D(32, (3,3), activation='relu',\n",
        "                           input_shape=(28,28,1), name='conv'),\n",
        "    # Max Pooling 적용\n",
        "    tf.keras.layers.MaxPooling2D((2,2), name='pool'),\n",
        "    # Classifier 출력층\n",
        "    tf.keras.layers.Flatten(),\n",
        "    tf.keras.layers.Dense(10, activation='softmax'),\n",
        "])"
      ],
      "metadata": {
        "id": "41vv6Y9nlvCm"
      },
      "execution_count": 6,
      "outputs": []
    },
    {
      "cell_type": "code",
      "source": [
        "# 모델 컴파일\n",
        "model.compile(optimizer='adam', loss='sparse_categorical_crossentropy',\n",
        "              metrics=['accuracy'])\n",
        "# 모델 훈련\n",
        "history = model.fit(x_train, y_train,\n",
        "                    validation_data=(x_valid_in, y_valid),\n",
        "                    epochs=10)"
      ],
      "metadata": {
        "colab": {
          "base_uri": "https://localhost:8080/"
        },
        "id": "2P4uw9kHlwsD",
        "outputId": "c4b8e510-3a4d-49d7-a87d-2783d6f0d9a2"
      },
      "execution_count": 7,
      "outputs": [
        {
          "output_type": "stream",
          "name": "stdout",
          "text": [
            "Epoch 1/10\n",
            "1875/1875 [==============================] - 35s 18ms/step - loss: 0.2256 - accuracy: 0.9365 - val_loss: 0.0892 - val_accuracy: 0.9726\n",
            "Epoch 2/10\n",
            "1875/1875 [==============================] - 32s 17ms/step - loss: 0.0833 - accuracy: 0.9760 - val_loss: 0.0658 - val_accuracy: 0.9794\n",
            "Epoch 3/10\n",
            "1875/1875 [==============================] - 34s 18ms/step - loss: 0.0626 - accuracy: 0.9811 - val_loss: 0.0635 - val_accuracy: 0.9800\n",
            "Epoch 4/10\n",
            "1875/1875 [==============================] - 31s 17ms/step - loss: 0.0507 - accuracy: 0.9846 - val_loss: 0.0604 - val_accuracy: 0.9800\n",
            "Epoch 5/10\n",
            "1875/1875 [==============================] - 29s 16ms/step - loss: 0.0433 - accuracy: 0.9868 - val_loss: 0.0544 - val_accuracy: 0.9815\n",
            "Epoch 6/10\n",
            "1875/1875 [==============================] - 29s 16ms/step - loss: 0.0371 - accuracy: 0.9890 - val_loss: 0.0514 - val_accuracy: 0.9844\n",
            "Epoch 7/10\n",
            "1875/1875 [==============================] - 31s 17ms/step - loss: 0.0316 - accuracy: 0.9905 - val_loss: 0.0513 - val_accuracy: 0.9841\n",
            "Epoch 8/10\n",
            "1875/1875 [==============================] - 37s 20ms/step - loss: 0.0273 - accuracy: 0.9919 - val_loss: 0.0513 - val_accuracy: 0.9838\n",
            "Epoch 9/10\n",
            "1875/1875 [==============================] - 30s 16ms/step - loss: 0.0234 - accuracy: 0.9927 - val_loss: 0.0503 - val_accuracy: 0.9838\n",
            "Epoch 10/10\n",
            "1875/1875 [==============================] - 31s 16ms/step - loss: 0.0195 - accuracy: 0.9944 - val_loss: 0.0554 - val_accuracy: 0.9836\n"
          ]
        }
      ]
    },
    {
      "cell_type": "code",
      "source": [
        "model.evaluate(x_valid_in, y_valid)\n",
        "# 약 98%의 정확도\n",
        "# 4 epoch 이후부터는 과대적합"
      ],
      "metadata": {
        "colab": {
          "base_uri": "https://localhost:8080/"
        },
        "id": "a8Z5J5QUlx9l",
        "outputId": "a1ca41ee-d86d-49a1-9bdd-3f5147d390c2"
      },
      "execution_count": 8,
      "outputs": [
        {
          "output_type": "stream",
          "name": "stdout",
          "text": [
            "313/313 [==============================] - 2s 6ms/step - loss: 0.0554 - accuracy: 0.9836\n"
          ]
        },
        {
          "output_type": "execute_result",
          "data": {
            "text/plain": [
              "[0.055433373898267746, 0.9836000204086304]"
            ]
          },
          "metadata": {},
          "execution_count": 8
        }
      ]
    },
    {
      "cell_type": "code",
      "source": [
        "def plot_loss_acc(history, epoch):\n",
        "    loss, val_loss = history.history['loss'], history.history['val_loss']\n",
        "    acc, val_acc = history.history['accuracy'], history.history['val_accuracy']\n",
        "    \n",
        "    fig, axes = plt.subplots(1,2,figsize=(12,4))\n",
        "    \n",
        "    axes[0].plot(range(1, epoch+1), loss, label = 'Training')\n",
        "    axes[0].plot(range(1, epoch+1), val_loss, label = \"Validation\")\n",
        "    axes[0].legend(loc='best')\n",
        "    axes[0].set_title('Loss')\n",
        "\n",
        "    axes[1].plot(range(1, epoch+1), acc, label = 'Training')\n",
        "    axes[1].plot(range(1, epoch+1), val_acc, label = \"Validation\")\n",
        "    axes[1].legend(loc='best')\n",
        "    axes[1].set_title('Accuracy')\n",
        "    \n",
        "    plt.show()\n",
        "    \n",
        "plot_loss_acc(history, 10)"
      ],
      "metadata": {
        "colab": {
          "base_uri": "https://localhost:8080/",
          "height": 281
        },
        "id": "F_5AY_ENlzWZ",
        "outputId": "1a9904df-e8a8-45b3-da36-d2430d036c0c"
      },
      "execution_count": 9,
      "outputs": [
        {
          "output_type": "display_data",
          "data": {
            "text/plain": [
              "<Figure size 864x288 with 2 Axes>"
            ],
            "image/png": "[encoded data removed]"
          },
          "metadata": {
            "needs_background": "light"
          }
        }
      ]
    },
    {
      "cell_type": "markdown",
      "source": [
        "#### 모델 구조 파악"
      ],
      "metadata": {
        "id": "0_oefwd1l2Qa"
      }
    },
    {
      "cell_type": "code",
      "source": [
        "model.summary()"
      ],
      "metadata": {
        "colab": {
          "base_uri": "https://localhost:8080/"
        },
        "id": "Pu6EujdTl0ot",
        "outputId": "a5c508e6-a326-41b3-a781-68474ba4ae7e"
      },
      "execution_count": 10,
      "outputs": [
        {
          "output_type": "stream",
          "name": "stdout",
          "text": [
            "Model: \"sequential\"\n",
            "_________________________________________________________________\n",
            " Layer (type)                Output Shape              Param #   \n",
            "=================================================================\n",
            " conv (Conv2D)               (None, 26, 26, 32)        320       \n",
            "                                                                 \n",
            " pool (MaxPooling2D)         (None, 13, 13, 32)        0         \n",
            "                                                                 \n",
            " flatten (Flatten)           (None, 5408)              0         \n",
            "                                                                 \n",
            " dense (Dense)               (None, 10)                54090     \n",
            "                                                                 \n",
            "=================================================================\n",
            "Total params: 54,410\n",
            "Trainable params: 54,410\n",
            "Non-trainable params: 0\n",
            "_________________________________________________________________\n"
          ]
        }
      ]
    },
    {
      "cell_type": "code",
      "source": [
        "# 입력 텐서 형태\n",
        "model.input"
      ],
      "metadata": {
        "colab": {
          "base_uri": "https://localhost:8080/"
        },
        "id": "uv8XDxizl4mu",
        "outputId": "18a9fc5d-3000-4e25-cd3e-d2c36f127e96"
      },
      "execution_count": 11,
      "outputs": [
        {
          "output_type": "execute_result",
          "data": {
            "text/plain": [
              "<KerasTensor: shape=(None, 28, 28, 1) dtype=float32 (created by layer 'conv_input')>"
            ]
          },
          "metadata": {},
          "execution_count": 11
        }
      ]
    },
    {
      "cell_type": "code",
      "source": [
        "# 출력 텐서 형태\n",
        "model.output"
      ],
      "metadata": {
        "colab": {
          "base_uri": "https://localhost:8080/"
        },
        "id": "hl2HEq8Al5hq",
        "outputId": "69f8f741-00e9-4bbd-f97b-32799b81390b"
      },
      "execution_count": 12,
      "outputs": [
        {
          "output_type": "execute_result",
          "data": {
            "text/plain": [
              "<KerasTensor: shape=(None, 10) dtype=float32 (created by layer 'dense')>"
            ]
          },
          "metadata": {},
          "execution_count": 12
        }
      ]
    },
    {
      "cell_type": "code",
      "source": [
        "# 레이어\n",
        "model.layers\n",
        "# 파이썬 리스트 형태로 출력"
      ],
      "metadata": {
        "colab": {
          "base_uri": "https://localhost:8080/"
        },
        "id": "-yy8F84Ml8dB",
        "outputId": "55731007-fecd-44b0-f219-ec65f5cf4598"
      },
      "execution_count": 13,
      "outputs": [
        {
          "output_type": "execute_result",
          "data": {
            "text/plain": [
              "[<keras.layers.convolutional.conv2d.Conv2D at 0x7fe09471b850>,\n",
              " <keras.layers.pooling.max_pooling2d.MaxPooling2D at 0x7fe02de1df70>,\n",
              " <keras.layers.reshaping.flatten.Flatten at 0x7fe09471b970>,\n",
              " <keras.layers.core.dense.Dense at 0x7fe09471b280>]"
            ]
          },
          "metadata": {},
          "execution_count": 13
        }
      ]
    },
    {
      "cell_type": "code",
      "source": [
        "# 첫번째 레이어 선택\n",
        "model.layers[0]"
      ],
      "metadata": {
        "colab": {
          "base_uri": "https://localhost:8080/"
        },
        "id": "jvMMCEqfl9jQ",
        "outputId": "13d782bb-03aa-4505-ec31-282fdec1ff3b"
      },
      "execution_count": 14,
      "outputs": [
        {
          "output_type": "execute_result",
          "data": {
            "text/plain": [
              "<keras.layers.convolutional.conv2d.Conv2D at 0x7fe09471b850>"
            ]
          },
          "metadata": {},
          "execution_count": 14
        }
      ]
    },
    {
      "cell_type": "code",
      "source": [
        "# 첫번째 레이어 입력\n",
        "model.layers[0].input"
      ],
      "metadata": {
        "colab": {
          "base_uri": "https://localhost:8080/"
        },
        "id": "y2z8pVgbmCcM",
        "outputId": "dea2e217-5280-40a2-99bc-25ef17a09c3a"
      },
      "execution_count": 15,
      "outputs": [
        {
          "output_type": "execute_result",
          "data": {
            "text/plain": [
              "<KerasTensor: shape=(None, 28, 28, 1) dtype=float32 (created by layer 'conv_input')>"
            ]
          },
          "metadata": {},
          "execution_count": 15
        }
      ]
    },
    {
      "cell_type": "code",
      "source": [
        "# 첫번째 레이어 출력\n",
        "model.layers[0].output"
      ],
      "metadata": {
        "colab": {
          "base_uri": "https://localhost:8080/"
        },
        "id": "57SHCq4gmDXX",
        "outputId": "ad380bde-0159-42d9-f9ea-2b351a56f4ef"
      },
      "execution_count": 16,
      "outputs": [
        {
          "output_type": "execute_result",
          "data": {
            "text/plain": [
              "<KerasTensor: shape=(None, 26, 26, 32) dtype=float32 (created by layer 'conv')>"
            ]
          },
          "metadata": {},
          "execution_count": 16
        }
      ]
    },
    {
      "cell_type": "code",
      "source": [
        "#  첫번째 레이어의 가중치 행렬 추출\n",
        "model.layers[0].weights"
      ],
      "metadata": {
        "colab": {
          "base_uri": "https://localhost:8080/"
        },
        "id": "z2HtJtcmmFHD",
        "outputId": "9435d3b5-a960-477f-86c3-b47a51f80f6e"
      },
      "execution_count": 17,
      "outputs": [
        {
          "output_type": "execute_result",
          "data": {
            "text/plain": [
              "[<tf.Variable 'conv/kernel:0' shape=(3, 3, 1, 32) dtype=float32, numpy=\n",
              " array([[[[-1.53284267e-01, -1.80996343e-01, -9.51037556e-02,\n",
              "            3.72191310e-01, -5.69542274e-02, -2.50794262e-01,\n",
              "            1.82111010e-01, -6.33373559e-01, -1.16733599e+00,\n",
              "           -5.92565835e-01,  6.41675174e-01, -7.81560898e-01,\n",
              "            1.86176434e-01,  2.29929850e-01,  9.98736396e-02,\n",
              "            1.96227595e-01,  1.65014461e-01,  3.51793140e-01,\n",
              "            3.62121373e-01,  4.11862463e-01,  3.59826207e-01,\n",
              "            3.77228886e-01, -2.48760626e-01, -9.30420458e-02,\n",
              "           -1.22881830e+00, -1.24270640e-01, -5.75928688e-01,\n",
              "           -6.70650363e-01,  3.84095848e-01, -7.27447867e-01,\n",
              "            3.84810269e-01, -8.22591662e-01]],\n",
              " \n",
              "         [[ 2.14513391e-01,  3.04179519e-01,  2.80919701e-01,\n",
              "            8.53832588e-02,  6.71120286e-01, -2.44538248e-01,\n",
              "            2.26523057e-01, -7.39996076e-01, -4.58603278e-02,\n",
              "            1.01753160e-01,  6.21424675e-01,  3.51812452e-01,\n",
              "            1.38115868e-01,  1.78086191e-01, -5.23456812e-01,\n",
              "            3.24082613e-01,  9.00239125e-02,  6.93732128e-02,\n",
              "            5.65941989e-01, -2.69119024e-01, -6.51682308e-03,\n",
              "            2.69049495e-01, -7.36193001e-01, -3.02730173e-01,\n",
              "           -8.92037034e-01,  3.35116893e-01,  4.15253937e-02,\n",
              "            1.14451565e-01, -2.20200136e-01, -5.46660244e-01,\n",
              "           -3.06474529e-02,  4.23809215e-02]],\n",
              " \n",
              "         [[ 1.45426348e-01, -4.23488885e-01, -9.70591605e-02,\n",
              "           -2.41510659e-01,  9.57936108e-01,  3.19032520e-02,\n",
              "           -8.70345682e-02, -4.45539087e-01,  4.40289617e-01,\n",
              "            3.53867859e-01, -3.11047614e-01,  1.39414847e-01,\n",
              "           -3.03977355e-02,  2.63929337e-01,  2.07645651e-02,\n",
              "           -4.93368119e-01,  4.64438498e-01, -7.43373752e-01,\n",
              "            5.75285554e-01, -3.81486326e-01, -5.25016308e-01,\n",
              "           -2.74623185e-01, -6.92210138e-01,  2.62153684e-03,\n",
              "           -1.07751679e+00, -6.90124094e-01,  5.10552108e-01,\n",
              "            2.57602453e-01, -3.65978718e-01,  2.61193722e-01,\n",
              "           -5.59401155e-01,  8.74405503e-02]]],\n",
              " \n",
              " \n",
              "        [[[-8.16725373e-01,  3.92218493e-02, -2.19572093e-02,\n",
              "            9.68630761e-02, -1.22620237e+00, -3.08836967e-01,\n",
              "            8.98262560e-02,  7.54653439e-02, -4.65788335e-01,\n",
              "           -2.68367261e-01,  6.65929437e-01, -1.50915086e-01,\n",
              "            1.35815069e-01,  1.27718225e-01,  5.52228391e-02,\n",
              "           -2.49533474e-01, -6.11461699e-03,  4.25632834e-01,\n",
              "           -1.39819337e-02,  2.98517942e-01,  1.78512841e-01,\n",
              "           -2.03445002e-01,  4.81599599e-01,  3.49110574e-01,\n",
              "            1.86111316e-01,  3.07179749e-01, -6.40036285e-01,\n",
              "            4.26874310e-01,  2.03196183e-01, -3.46631289e-01,\n",
              "            4.42103654e-01,  5.21011127e-04]],\n",
              " \n",
              "         [[ 2.76286721e-01,  3.95999372e-01,  3.12612414e-01,\n",
              "           -3.21872830e-01, -1.04628634e+00,  1.82856664e-01,\n",
              "            4.35255095e-02,  1.15816213e-01, -3.35778482e-02,\n",
              "            3.59729856e-01,  4.33913842e-02,  4.03265625e-01,\n",
              "            2.42870420e-01, -3.29816431e-01,  1.96867511e-01,\n",
              "            4.54172522e-01, -1.84934199e-01,  2.32270524e-01,\n",
              "            5.07761061e-01, -2.37637367e-02,  4.23607528e-01,\n",
              "            6.13214485e-02,  9.86338221e-03,  2.40631625e-01,\n",
              "            5.52583218e-01,  3.25234175e-01,  2.43265972e-01,\n",
              "            3.19210470e-01,  1.69767559e-01,  2.15788528e-01,\n",
              "           -1.98431939e-01,  5.59241951e-01]],\n",
              " \n",
              "         [[ 3.03864181e-01, -1.87208906e-01, -3.76271009e-01,\n",
              "           -3.40562820e-01,  1.90436155e-01,  3.09989363e-01,\n",
              "            1.84722114e-02,  2.14901730e-01,  3.94226193e-01,\n",
              "           -3.20241004e-02, -1.12341917e+00, -4.69299294e-02,\n",
              "            1.46082938e-01, -2.32079461e-01,  2.93253243e-01,\n",
              "           -1.19799048e-01,  5.09990692e-01, -7.64593065e-01,\n",
              "            2.44313240e-01,  4.48289374e-03, -1.64730027e-01,\n",
              "            4.65288609e-02, -5.16994119e-01,  2.27268100e-01,\n",
              "           -1.06402129e-01, -5.24127066e-01,  5.51900566e-01,\n",
              "           -5.01169190e-02,  1.34296000e-01,  4.54921365e-01,\n",
              "           -5.32518268e-01,  6.50923625e-02]]],\n",
              " \n",
              " \n",
              "        [[[-5.88052213e-01, -3.82533520e-01,  2.74970550e-02,\n",
              "            1.62158668e-01,  7.06253886e-01,  1.92402601e-01,\n",
              "           -2.80565917e-01,  3.19944233e-01, -3.76459062e-01,\n",
              "            3.42557341e-01, -1.90155119e-01,  4.90908436e-02,\n",
              "           -4.82415169e-01, -2.85757452e-01,  6.68113455e-02,\n",
              "           -3.36258054e-01, -3.70647162e-01,  4.59138662e-01,\n",
              "           -1.23392689e+00, -1.33983359e-01, -4.32243258e-01,\n",
              "           -1.60902455e-01,  4.84603822e-01, -6.56940863e-02,\n",
              "            3.23800236e-01,  9.71118286e-02, -1.18972075e+00,\n",
              "            8.17941427e-02, -2.13978201e-01,  1.58362821e-01,\n",
              "            1.71911538e-01,  2.09264383e-01]],\n",
              " \n",
              "         [[ 3.05009753e-01,  5.90691343e-02,  3.86692613e-01,\n",
              "            3.04757386e-01, -6.83369100e-01,  2.44481638e-01,\n",
              "           -7.75531232e-02,  5.75999200e-01,  1.60554335e-01,\n",
              "            1.88965593e-02, -1.06853652e+00,  2.76805460e-01,\n",
              "           -2.54898667e-01, -1.41182570e-02,  2.54299752e-02,\n",
              "            1.14873923e-01, -7.62911737e-01,  2.66765445e-01,\n",
              "           -1.10716367e+00,  2.20408127e-01,  1.55723393e-01,\n",
              "            7.74795860e-02,  5.91878414e-01, -2.63228208e-01,\n",
              "            4.29891020e-01,  3.89991432e-01, -6.11223102e-01,\n",
              "           -3.47664535e-01,  8.84816796e-02,  2.42727086e-01,\n",
              "            8.80052894e-02, -7.04587623e-02]],\n",
              " \n",
              "         [[ 1.72558546e-01,  8.76013190e-02, -5.43471634e-01,\n",
              "            4.74641949e-01, -9.72597718e-01, -3.82345587e-01,\n",
              "            3.87405664e-01,  2.57273555e-01,  2.88403451e-01,\n",
              "           -1.42291993e-01, -1.03978813e+00, -3.84002328e-01,\n",
              "            2.98655927e-01,  4.09549206e-01, -2.31516540e-01,\n",
              "            2.60716856e-01,  2.52508849e-01, -4.55398351e-01,\n",
              "           -9.16634202e-01,  3.30267459e-01,  4.37213629e-01,\n",
              "            3.64780664e-01,  1.00327767e-01, -1.25491722e-02,\n",
              "            1.46241009e-01, -3.55877057e-02, -3.53016593e-02,\n",
              "           -4.98967052e-01,  2.34470814e-01, -1.71130493e-01,\n",
              "           -1.70707822e-01, -6.40080571e-01]]]], dtype=float32)>,\n",
              " <tf.Variable 'conv/bias:0' shape=(32,) dtype=float32, numpy=\n",
              " array([-0.19749653, -0.0498479 , -0.20233601, -0.4669125 ,  0.0540284 ,\n",
              "        -0.17172092, -0.34932396, -0.02972596, -0.12166292, -0.3205026 ,\n",
              "        -0.01363746, -0.12194754, -0.34418246, -0.2674972 , -0.15957765,\n",
              "        -0.25779632, -0.25909537, -0.13636427, -0.03045786, -0.46281254,\n",
              "        -0.4331092 , -0.33525085, -0.06883861, -0.16750218,  0.04827825,\n",
              "        -0.1817926 ,  0.17408273, -0.01291921, -0.38821647, -0.20972599,\n",
              "        -0.19697851, -0.07189526], dtype=float32)>]"
            ]
          },
          "metadata": {},
          "execution_count": 17
        }
      ]
    },
    {
      "cell_type": "code",
      "source": [
        "# 첫번째 레이어 커널 가중치\n",
        "model.layers[0].kernel"
      ],
      "metadata": {
        "colab": {
          "base_uri": "https://localhost:8080/"
        },
        "id": "Pgg6tAlfmGpv",
        "outputId": "04c7a6df-4df9-4519-c7d5-3a29df9ceac3"
      },
      "execution_count": 18,
      "outputs": [
        {
          "output_type": "execute_result",
          "data": {
            "text/plain": [
              "<tf.Variable 'conv/kernel:0' shape=(3, 3, 1, 32) dtype=float32, numpy=\n",
              "array([[[[-1.53284267e-01, -1.80996343e-01, -9.51037556e-02,\n",
              "           3.72191310e-01, -5.69542274e-02, -2.50794262e-01,\n",
              "           1.82111010e-01, -6.33373559e-01, -1.16733599e+00,\n",
              "          -5.92565835e-01,  6.41675174e-01, -7.81560898e-01,\n",
              "           1.86176434e-01,  2.29929850e-01,  9.98736396e-02,\n",
              "           1.96227595e-01,  1.65014461e-01,  3.51793140e-01,\n",
              "           3.62121373e-01,  4.11862463e-01,  3.59826207e-01,\n",
              "           3.77228886e-01, -2.48760626e-01, -9.30420458e-02,\n",
              "          -1.22881830e+00, -1.24270640e-01, -5.75928688e-01,\n",
              "          -6.70650363e-01,  3.84095848e-01, -7.27447867e-01,\n",
              "           3.84810269e-01, -8.22591662e-01]],\n",
              "\n",
              "        [[ 2.14513391e-01,  3.04179519e-01,  2.80919701e-01,\n",
              "           8.53832588e-02,  6.71120286e-01, -2.44538248e-01,\n",
              "           2.26523057e-01, -7.39996076e-01, -4.58603278e-02,\n",
              "           1.01753160e-01,  6.21424675e-01,  3.51812452e-01,\n",
              "           1.38115868e-01,  1.78086191e-01, -5.23456812e-01,\n",
              "           3.24082613e-01,  9.00239125e-02,  6.93732128e-02,\n",
              "           5.65941989e-01, -2.69119024e-01, -6.51682308e-03,\n",
              "           2.69049495e-01, -7.36193001e-01, -3.02730173e-01,\n",
              "          -8.92037034e-01,  3.35116893e-01,  4.15253937e-02,\n",
              "           1.14451565e-01, -2.20200136e-01, -5.46660244e-01,\n",
              "          -3.06474529e-02,  4.23809215e-02]],\n",
              "\n",
              "        [[ 1.45426348e-01, -4.23488885e-01, -9.70591605e-02,\n",
              "          -2.41510659e-01,  9.57936108e-01,  3.19032520e-02,\n",
              "          -8.70345682e-02, -4.45539087e-01,  4.40289617e-01,\n",
              "           3.53867859e-01, -3.11047614e-01,  1.39414847e-01,\n",
              "          -3.03977355e-02,  2.63929337e-01,  2.07645651e-02,\n",
              "          -4.93368119e-01,  4.64438498e-01, -7.43373752e-01,\n",
              "           5.75285554e-01, -3.81486326e-01, -5.25016308e-01,\n",
              "          -2.74623185e-01, -6.92210138e-01,  2.62153684e-03,\n",
              "          -1.07751679e+00, -6.90124094e-01,  5.10552108e-01,\n",
              "           2.57602453e-01, -3.65978718e-01,  2.61193722e-01,\n",
              "          -5.59401155e-01,  8.74405503e-02]]],\n",
              "\n",
              "\n",
              "       [[[-8.16725373e-01,  3.92218493e-02, -2.19572093e-02,\n",
              "           9.68630761e-02, -1.22620237e+00, -3.08836967e-01,\n",
              "           8.98262560e-02,  7.54653439e-02, -4.65788335e-01,\n",
              "          -2.68367261e-01,  6.65929437e-01, -1.50915086e-01,\n",
              "           1.35815069e-01,  1.27718225e-01,  5.52228391e-02,\n",
              "          -2.49533474e-01, -6.11461699e-03,  4.25632834e-01,\n",
              "          -1.39819337e-02,  2.98517942e-01,  1.78512841e-01,\n",
              "          -2.03445002e-01,  4.81599599e-01,  3.49110574e-01,\n",
              "           1.86111316e-01,  3.07179749e-01, -6.40036285e-01,\n",
              "           4.26874310e-01,  2.03196183e-01, -3.46631289e-01,\n",
              "           4.42103654e-01,  5.21011127e-04]],\n",
              "\n",
              "        [[ 2.76286721e-01,  3.95999372e-01,  3.12612414e-01,\n",
              "          -3.21872830e-01, -1.04628634e+00,  1.82856664e-01,\n",
              "           4.35255095e-02,  1.15816213e-01, -3.35778482e-02,\n",
              "           3.59729856e-01,  4.33913842e-02,  4.03265625e-01,\n",
              "           2.42870420e-01, -3.29816431e-01,  1.96867511e-01,\n",
              "           4.54172522e-01, -1.84934199e-01,  2.32270524e-01,\n",
              "           5.07761061e-01, -2.37637367e-02,  4.23607528e-01,\n",
              "           6.13214485e-02,  9.86338221e-03,  2.40631625e-01,\n",
              "           5.52583218e-01,  3.25234175e-01,  2.43265972e-01,\n",
              "           3.19210470e-01,  1.69767559e-01,  2.15788528e-01,\n",
              "          -1.98431939e-01,  5.59241951e-01]],\n",
              "\n",
              "        [[ 3.03864181e-01, -1.87208906e-01, -3.76271009e-01,\n",
              "          -3.40562820e-01,  1.90436155e-01,  3.09989363e-01,\n",
              "           1.84722114e-02,  2.14901730e-01,  3.94226193e-01,\n",
              "          -3.20241004e-02, -1.12341917e+00, -4.69299294e-02,\n",
              "           1.46082938e-01, -2.32079461e-01,  2.93253243e-01,\n",
              "          -1.19799048e-01,  5.09990692e-01, -7.64593065e-01,\n",
              "           2.44313240e-01,  4.48289374e-03, -1.64730027e-01,\n",
              "           4.65288609e-02, -5.16994119e-01,  2.27268100e-01,\n",
              "          -1.06402129e-01, -5.24127066e-01,  5.51900566e-01,\n",
              "          -5.01169190e-02,  1.34296000e-01,  4.54921365e-01,\n",
              "          -5.32518268e-01,  6.50923625e-02]]],\n",
              "\n",
              "\n",
              "       [[[-5.88052213e-01, -3.82533520e-01,  2.74970550e-02,\n",
              "           1.62158668e-01,  7.06253886e-01,  1.92402601e-01,\n",
              "          -2.80565917e-01,  3.19944233e-01, -3.76459062e-01,\n",
              "           3.42557341e-01, -1.90155119e-01,  4.90908436e-02,\n",
              "          -4.82415169e-01, -2.85757452e-01,  6.68113455e-02,\n",
              "          -3.36258054e-01, -3.70647162e-01,  4.59138662e-01,\n",
              "          -1.23392689e+00, -1.33983359e-01, -4.32243258e-01,\n",
              "          -1.60902455e-01,  4.84603822e-01, -6.56940863e-02,\n",
              "           3.23800236e-01,  9.71118286e-02, -1.18972075e+00,\n",
              "           8.17941427e-02, -2.13978201e-01,  1.58362821e-01,\n",
              "           1.71911538e-01,  2.09264383e-01]],\n",
              "\n",
              "        [[ 3.05009753e-01,  5.90691343e-02,  3.86692613e-01,\n",
              "           3.04757386e-01, -6.83369100e-01,  2.44481638e-01,\n",
              "          -7.75531232e-02,  5.75999200e-01,  1.60554335e-01,\n",
              "           1.88965593e-02, -1.06853652e+00,  2.76805460e-01,\n",
              "          -2.54898667e-01, -1.41182570e-02,  2.54299752e-02,\n",
              "           1.14873923e-01, -7.62911737e-01,  2.66765445e-01,\n",
              "          -1.10716367e+00,  2.20408127e-01,  1.55723393e-01,\n",
              "           7.74795860e-02,  5.91878414e-01, -2.63228208e-01,\n",
              "           4.29891020e-01,  3.89991432e-01, -6.11223102e-01,\n",
              "          -3.47664535e-01,  8.84816796e-02,  2.42727086e-01,\n",
              "           8.80052894e-02, -7.04587623e-02]],\n",
              "\n",
              "        [[ 1.72558546e-01,  8.76013190e-02, -5.43471634e-01,\n",
              "           4.74641949e-01, -9.72597718e-01, -3.82345587e-01,\n",
              "           3.87405664e-01,  2.57273555e-01,  2.88403451e-01,\n",
              "          -1.42291993e-01, -1.03978813e+00, -3.84002328e-01,\n",
              "           2.98655927e-01,  4.09549206e-01, -2.31516540e-01,\n",
              "           2.60716856e-01,  2.52508849e-01, -4.55398351e-01,\n",
              "          -9.16634202e-01,  3.30267459e-01,  4.37213629e-01,\n",
              "           3.64780664e-01,  1.00327767e-01, -1.25491722e-02,\n",
              "           1.46241009e-01, -3.55877057e-02, -3.53016593e-02,\n",
              "          -4.98967052e-01,  2.34470814e-01, -1.71130493e-01,\n",
              "          -1.70707822e-01, -6.40080571e-01]]]], dtype=float32)>"
            ]
          },
          "metadata": {},
          "execution_count": 18
        }
      ]
    },
    {
      "cell_type": "code",
      "source": [
        "# 샘플 이미지의 레이어별 출력을 리스트에 추가 (첫번째, 두번째 레이어)\n",
        "activator = tf.keras.Model(inputs=model.input, outputs=[layer.output for layer in model.layers[:2]])\n",
        "activations = activator.predict(x_train_in[0][tf.newaxis,...])\n",
        "len(activations)"
      ],
      "metadata": {
        "colab": {
          "base_uri": "https://localhost:8080/"
        },
        "id": "Xlgllu21mISa",
        "outputId": "ba80bce4-86c8-4de4-8b93-ea3d20654247"
      },
      "execution_count": 19,
      "outputs": [
        {
          "output_type": "stream",
          "name": "stdout",
          "text": [
            "1/1 [==============================] - 0s 74ms/step\n"
          ]
        },
        {
          "output_type": "execute_result",
          "data": {
            "text/plain": [
              "2"
            ]
          },
          "metadata": {},
          "execution_count": 19
        }
      ]
    },
    {
      "cell_type": "code",
      "source": [
        "# 첫번째 레이어(conv) 출력층\n",
        "conv_activation = activations[0]\n",
        "conv_activation.shape"
      ],
      "metadata": {
        "colab": {
          "base_uri": "https://localhost:8080/"
        },
        "id": "6SBmZMGPmN1v",
        "outputId": "91c3b374-84b5-4e33-cc73-b91cfe2342c4"
      },
      "execution_count": 20,
      "outputs": [
        {
          "output_type": "execute_result",
          "data": {
            "text/plain": [
              "(1, 26, 26, 32)"
            ]
          },
          "metadata": {},
          "execution_count": 20
        }
      ]
    },
    {
      "cell_type": "code",
      "source": [
        "# Convolution 시각화\n",
        "fig, axes = plt.subplots(4,8)\n",
        "fig.set_size_inches(10,5)\n",
        "\n",
        "for i in range(32):\n",
        "    axes[i//8, i%8].matshow(conv_activation[0,:,:,i], cmap='viridis')\n",
        "    axes[i//8, i%8].set_title('kernel %s'%str(i), fontsize=10)\n",
        "    plt.setp(axes[i//8, i%8].get_xticklabels(), visible = False)\n",
        "    plt.setp(axes[i//8, i%8].get_yticklabels(), visible = False)\n",
        "    \n",
        "plt.tight_layout()\n",
        "plt.show()"
      ],
      "metadata": {
        "colab": {
          "base_uri": "https://localhost:8080/",
          "height": 369
        },
        "id": "wRuy1xWAmphP",
        "outputId": "ac2ea1ce-310c-4e7d-da5e-acf5193ae5ea"
      },
      "execution_count": 21,
      "outputs": [
        {
          "output_type": "display_data",
          "data": {
            "text/plain": [
              "<Figure size 720x360 with 32 Axes>"
            ],
            "image/png": "[encoded data removed]"
          },
          "metadata": {}
        }
      ]
    },
    {
      "cell_type": "code",
      "source": [
        "# 두번째 레이어 출력층\n",
        "pooling_activation = activations[1]\n",
        "print(pooling_activation.shape)"
      ],
      "metadata": {
        "colab": {
          "base_uri": "https://localhost:8080/"
        },
        "id": "-yQNc0tLmqr6",
        "outputId": "ed649301-5306-40b1-922d-4245dd1a4104"
      },
      "execution_count": 22,
      "outputs": [
        {
          "output_type": "stream",
          "name": "stdout",
          "text": [
            "(1, 13, 13, 32)\n"
          ]
        }
      ]
    },
    {
      "cell_type": "code",
      "source": [
        "# 시각화\n",
        "fig, axes = plt.subplots(4,8)\n",
        "fig.set_size_inches(10,5)\n",
        "\n",
        "for i in range(32):\n",
        "    axes[i//8, i%8].matshow(pooling_activation[0,:,:,i], cmap='viridis')\n",
        "    axes[i//8, i%8].set_title('kernel %s'%str(i), fontsize=10)\n",
        "    plt.setp(axes[i//8, i%8].get_xticklabels(), visible = False)\n",
        "    plt.setp(axes[i//8, i%8].get_yticklabels(), visible = False)\n",
        "    \n",
        "plt.tight_layout()\n",
        "plt.show()"
      ],
      "metadata": {
        "colab": {
          "base_uri": "https://localhost:8080/",
          "height": 369
        },
        "id": "_uESzsfwmsAy",
        "outputId": "86645d86-4edf-497d-a255-a98e4645bf9f"
      },
      "execution_count": 23,
      "outputs": [
        {
          "output_type": "display_data",
          "data": {
            "text/plain": [
              "<Figure size 720x360 with 32 Axes>"
            ],
            "image/png": "[encoded data removed]"
          },
          "metadata": {}
        }
      ]
    },
    {
      "cell_type": "code",
      "source": [],
      "metadata": {
        "id": "4cUSpdvNmtbj"
      },
      "execution_count": null,
      "outputs": []
    }
  ]
}