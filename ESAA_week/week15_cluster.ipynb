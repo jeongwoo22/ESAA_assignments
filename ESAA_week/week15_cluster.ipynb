{
 "cells": [
  {
   "cell_type": "code",
   "execution_count": null,
   "outputs": [],
   "source": [],
   "metadata": {
    "collapsed": false,
    "pycharm": {
     "name": "#%%\n"
    }
   }
  },
  {
   "cell_type": "markdown",
   "source": [
    "# **kMeans 알고리즘을 적용하여 확인적 군집분석을 수행하시오.**\n",
    ">변수 설명 ) tot_price : 총구매액, buy_count : 구매횟수,\n",
    "                   visit_count : 매장방문횟수, avg_price : 평균구매액"
   ],
   "metadata": {
    "collapsed": false
   }
  },
  {
   "cell_type": "code",
   "execution_count": 1,
   "outputs": [],
   "source": [
    "#필요한 모듈 불러오기\n",
    "import pandas as pd\n",
    "from sklearn.cluster import KMeans\n",
    "import matplotlib.pyplot as plt\n",
    "from sklearn.decomposition import PCA\n",
    "from sklearn.metrics import silhouette_samples, silhouette_score"
   ],
   "metadata": {
    "collapsed": false,
    "pycharm": {
     "name": "#%%\n"
    }
   }
  },
  {
   "cell_type": "markdown",
   "source": [
    "## 1) 데이터 불러오기 및 탐색"
   ],
   "metadata": {
    "collapsed": false
   }
  },
  {
   "cell_type": "code",
   "execution_count": 3,
   "outputs": [
    {
     "name": "stdout",
     "output_type": "stream",
     "text": [
      "<class 'pandas.core.frame.DataFrame'>\n",
      "RangeIndex: 150 entries, 0 to 149\n",
      "Data columns (total 4 columns):\n",
      " #   Column       Non-Null Count  Dtype  \n",
      "---  ------       --------------  -----  \n",
      " 0   tot_price    150 non-null    float64\n",
      " 1   visit_count  150 non-null    float64\n",
      " 2   buy_count    150 non-null    float64\n",
      " 3   avg_price    150 non-null    float64\n",
      "dtypes: float64(4)\n",
      "memory usage: 4.8 KB\n",
      "None\n"
     ]
    }
   ],
   "source": [
    "sales = pd.read_csv(r\"C:\\Users\\ADMIN\\PycharmProjects\\ESAA\\data\\product_sales.csv\")\n",
    "print(sales.info())"
   ],
   "metadata": {
    "collapsed": false,
    "pycharm": {
     "name": "#%%\n"
    }
   }
  },
  {
   "cell_type": "code",
   "execution_count": 4,
   "outputs": [
    {
     "name": "stdout",
     "output_type": "stream",
     "text": [
      "(150, 4)\n",
      "<class 'pandas.core.frame.DataFrame'>\n"
     ]
    }
   ],
   "source": [
    "print(sales.shape)\n",
    "print(type(sales))"
   ],
   "metadata": {
    "collapsed": false,
    "pycharm": {
     "name": "#%%\n"
    }
   }
  },
  {
   "cell_type": "markdown",
   "source": [
    "# 2) KMeans 를 이용하여 3개의 군집으로 군집화"
   ],
   "metadata": {
    "collapsed": false
   }
  },
  {
   "cell_type": "markdown",
   "source": [
    "2-1) KMeans 모델을 생성하세요. 군집은 3개로 군집화하세요."
   ],
   "metadata": {
    "collapsed": false
   }
  },
  {
   "cell_type": "code",
   "execution_count": 6,
   "outputs": [],
   "source": [
    "#모델 생성\n",
    "kmeans = KMeans(n_clusters=3, init='k-means++', max_iter=300,random_state=0)"
   ],
   "metadata": {
    "collapsed": false,
    "pycharm": {
     "name": "#%%\n"
    }
   }
  },
  {
   "cell_type": "markdown",
   "source": [
    "2-2) 모델을 훈련하고 예측치 생성하고 이 결과를 pred라는 변수에 저장하세요."
   ],
   "metadata": {
    "collapsed": false
   }
  },
  {
   "cell_type": "code",
   "execution_count": 7,
   "outputs": [
    {
     "name": "stdout",
     "output_type": "stream",
     "text": [
      "[1 1 1 1 1 1 1 1 1 1 1 1 1 1 1 1 1 1 1 1 1 1 1 1 1 0 0 2 0 0 0 0 0 0 0 0 0\n",
      " 0 0 0 0 0 0 0 0 0 0 0 0 0 0 0 2 0 0 0 0 0 0 0 0 0 0 0 0 0 0 0 0 0 0 0 0 0\n",
      " 0 2 0 2 2 2 2 0 2 2 2 2 2 2 0 0 2 2 2 2 0 2 0 2 0 2 2 0 0 2 2 2 2 2 0 2 2\n",
      " 2 2 0 2 2 2 0 2 2 2 0 2 2 0 1 1 1 1 1 1 1 1 1 1 1 1 1 1 1 1 1 1 1 1 1 1 1\n",
      " 1 1]\n"
     ]
    }
   ],
   "source": [
    "pred=kmeans.fit_predict(sales)\n",
    "print(pred)"
   ],
   "metadata": {
    "collapsed": false,
    "pycharm": {
     "name": "#%%\n"
    }
   }
  },
  {
   "cell_type": "markdown",
   "source": [
    "2-3) 원형 데이터(scale)에 예측치(변수명:cluster)를 추가하세요."
   ],
   "metadata": {
    "collapsed": false
   }
  },
  {
   "cell_type": "code",
   "execution_count": 8,
   "outputs": [
    {
     "data": {
      "text/plain": "   tot_price  visit_count  buy_count  avg_price  cluster\n0        5.0          0.2        3.0        1.6        1\n1        5.0          0.4        3.4        1.6        1\n2        5.2          0.2        3.5        1.5        1\n3        5.2          0.2        3.0        1.4        1\n4        4.7          0.2        3.2        1.6        1",
      "text/html": "<div>\n<style scoped>\n    .dataframe tbody tr th:only-of-type {\n        vertical-align: middle;\n    }\n\n    .dataframe tbody tr th {\n        vertical-align: top;\n    }\n\n    .dataframe thead th {\n        text-align: right;\n    }\n</style>\n<table border=\"1\" class=\"dataframe\">\n  <thead>\n    <tr style=\"text-align: right;\">\n      <th></th>\n      <th>tot_price</th>\n      <th>visit_count</th>\n      <th>buy_count</th>\n      <th>avg_price</th>\n      <th>cluster</th>\n    </tr>\n  </thead>\n  <tbody>\n    <tr>\n      <th>0</th>\n      <td>5.0</td>\n      <td>0.2</td>\n      <td>3.0</td>\n      <td>1.6</td>\n      <td>1</td>\n    </tr>\n    <tr>\n      <th>1</th>\n      <td>5.0</td>\n      <td>0.4</td>\n      <td>3.4</td>\n      <td>1.6</td>\n      <td>1</td>\n    </tr>\n    <tr>\n      <th>2</th>\n      <td>5.2</td>\n      <td>0.2</td>\n      <td>3.5</td>\n      <td>1.5</td>\n      <td>1</td>\n    </tr>\n    <tr>\n      <th>3</th>\n      <td>5.2</td>\n      <td>0.2</td>\n      <td>3.0</td>\n      <td>1.4</td>\n      <td>1</td>\n    </tr>\n    <tr>\n      <th>4</th>\n      <td>4.7</td>\n      <td>0.2</td>\n      <td>3.2</td>\n      <td>1.6</td>\n      <td>1</td>\n    </tr>\n  </tbody>\n</table>\n</div>"
     },
     "execution_count": 8,
     "metadata": {},
     "output_type": "execute_result"
    }
   ],
   "source": [
    "sales['cluster'] = pred\n",
    "sales.head()"
   ],
   "metadata": {
    "collapsed": false,
    "pycharm": {
     "name": "#%%\n"
    }
   }
  },
  {
   "cell_type": "markdown",
   "source": [
    "# 3) 군집화 시각화\n",
    ": 전체 데이터를 2차원으로 축소한 뒤 시각화하세요."
   ],
   "metadata": {
    "collapsed": false
   }
  },
  {
   "cell_type": "markdown",
   "source": [
    "3-1) cluster 변수를 제외한 sales 데이터를 salesDF라는 이름으로 변수에 저장하세요."
   ],
   "metadata": {
    "collapsed": false
   }
  },
  {
   "cell_type": "code",
   "execution_count": 9,
   "outputs": [
    {
     "data": {
      "text/plain": "   tot_price  visit_count  buy_count  avg_price\n0        5.0          0.2        3.0        1.6\n1        5.0          0.4        3.4        1.6\n2        5.2          0.2        3.5        1.5\n3        5.2          0.2        3.0        1.4\n4        4.7          0.2        3.2        1.6",
      "text/html": "<div>\n<style scoped>\n    .dataframe tbody tr th:only-of-type {\n        vertical-align: middle;\n    }\n\n    .dataframe tbody tr th {\n        vertical-align: top;\n    }\n\n    .dataframe thead th {\n        text-align: right;\n    }\n</style>\n<table border=\"1\" class=\"dataframe\">\n  <thead>\n    <tr style=\"text-align: right;\">\n      <th></th>\n      <th>tot_price</th>\n      <th>visit_count</th>\n      <th>buy_count</th>\n      <th>avg_price</th>\n    </tr>\n  </thead>\n  <tbody>\n    <tr>\n      <th>0</th>\n      <td>5.0</td>\n      <td>0.2</td>\n      <td>3.0</td>\n      <td>1.6</td>\n    </tr>\n    <tr>\n      <th>1</th>\n      <td>5.0</td>\n      <td>0.4</td>\n      <td>3.4</td>\n      <td>1.6</td>\n    </tr>\n    <tr>\n      <th>2</th>\n      <td>5.2</td>\n      <td>0.2</td>\n      <td>3.5</td>\n      <td>1.5</td>\n    </tr>\n    <tr>\n      <th>3</th>\n      <td>5.2</td>\n      <td>0.2</td>\n      <td>3.0</td>\n      <td>1.4</td>\n    </tr>\n    <tr>\n      <th>4</th>\n      <td>4.7</td>\n      <td>0.2</td>\n      <td>3.2</td>\n      <td>1.6</td>\n    </tr>\n  </tbody>\n</table>\n</div>"
     },
     "execution_count": 9,
     "metadata": {},
     "output_type": "execute_result"
    }
   ],
   "source": [
    "salesDF=sales.drop('cluster', axis=1)\n",
    "salesDF.head()"
   ],
   "metadata": {
    "collapsed": false,
    "pycharm": {
     "name": "#%%\n"
    }
   }
  },
  {
   "cell_type": "markdown",
   "source": [
    "3-2) salesDF 데이터를 이용하여 2차원으로 차원축소 한 후 그 결과를 sales에 pca_x, pca_y 이름으로 저장하세요."
   ],
   "metadata": {
    "collapsed": false
   }
  },
  {
   "cell_type": "code",
   "execution_count": 10,
   "outputs": [
    {
     "data": {
      "text/plain": "   tot_price  visit_count  buy_count  avg_price  cluster     pca_x     pca_y\n0        5.0          0.2        3.0        1.6        1 -2.516330 -0.074159\n1        5.0          0.4        3.4        1.6        1 -2.466679  0.231335\n2        5.2          0.2        3.5        1.5        1 -2.557365  0.456400",
      "text/html": "<div>\n<style scoped>\n    .dataframe tbody tr th:only-of-type {\n        vertical-align: middle;\n    }\n\n    .dataframe tbody tr th {\n        vertical-align: top;\n    }\n\n    .dataframe thead th {\n        text-align: right;\n    }\n</style>\n<table border=\"1\" class=\"dataframe\">\n  <thead>\n    <tr style=\"text-align: right;\">\n      <th></th>\n      <th>tot_price</th>\n      <th>visit_count</th>\n      <th>buy_count</th>\n      <th>avg_price</th>\n      <th>cluster</th>\n      <th>pca_x</th>\n      <th>pca_y</th>\n    </tr>\n  </thead>\n  <tbody>\n    <tr>\n      <th>0</th>\n      <td>5.0</td>\n      <td>0.2</td>\n      <td>3.0</td>\n      <td>1.6</td>\n      <td>1</td>\n      <td>-2.516330</td>\n      <td>-0.074159</td>\n    </tr>\n    <tr>\n      <th>1</th>\n      <td>5.0</td>\n      <td>0.4</td>\n      <td>3.4</td>\n      <td>1.6</td>\n      <td>1</td>\n      <td>-2.466679</td>\n      <td>0.231335</td>\n    </tr>\n    <tr>\n      <th>2</th>\n      <td>5.2</td>\n      <td>0.2</td>\n      <td>3.5</td>\n      <td>1.5</td>\n      <td>1</td>\n      <td>-2.557365</td>\n      <td>0.456400</td>\n    </tr>\n  </tbody>\n</table>\n</div>"
     },
     "execution_count": 10,
     "metadata": {},
     "output_type": "execute_result"
    }
   ],
   "source": [
    "#차원 축소 한 후 변형된 값 임의의 변수에 저장\n",
    "pca=PCA(n_components=2)\n",
    "pca_trans=pca.fit_transform(salesDF)\n",
    "#sales에 'pca_x', 'pca_y' 이름으로 열 만들어 저장\n",
    "sales['pca_x']=pca_trans[:,0]\n",
    "sales['pca_y']=pca_trans[:,1]\n",
    "sales.head(3)"
   ],
   "metadata": {
    "collapsed": false,
    "pycharm": {
     "name": "#%%\n"
    }
   }
  },
  {
   "cell_type": "markdown",
   "source": [
    "3-3) pca_x를 x축, pca_y를 y축으로 하여 산점도를 그리세요. 색으로 각 점이 군집에 따라 구분되도록 하세요. (단, 각 군집별로 마커 모양 구분하지 않고 오직 색으로만 구분합니다.)"
   ],
   "metadata": {
    "collapsed": false
   }
  },
  {
   "cell_type": "code",
   "execution_count": 11,
   "outputs": [
    {
     "data": {
      "text/plain": "<Figure size 432x288 with 1 Axes>",
      "image/png": "[encoded data removed]"
     },
     "metadata": {
      "needs_background": "light"
     },
     "output_type": "display_data"
    }
   ],
   "source": [
    "plt.scatter(x=sales['pca_x'], y=sales['pca_y'], c=sales['cluster'])\n",
    "plt.show()"
   ],
   "metadata": {
    "collapsed": false,
    "pycharm": {
     "name": "#%%\n"
    }
   }
  },
  {
   "cell_type": "markdown",
   "source": [
    "# 4) 군집평가: 실루엣 계수 구하기"
   ],
   "metadata": {
    "collapsed": false
   }
  },
  {
   "cell_type": "code",
   "execution_count": 12,
   "outputs": [],
   "source": [
    "#시각화를 위하여 사용했던 차원 축소 관련 계수 삭제\n",
    "sales=sales.drop(['pca_x','pca_y'], axis=1)\n",
    "\n",
    "#cluster 행을 제외한 순수 데이터 sales_data로 저장\n",
    "sales_data=sales.drop('cluster', axis=1)"
   ],
   "metadata": {
    "collapsed": false,
    "pycharm": {
     "name": "#%%\n"
    }
   }
  },
  {
   "cell_type": "markdown",
   "source": [
    "4-1) sales의 모든 데이터에 실루엣 계수를 구하고 실루엣 계수 칼럼을 추가하세요."
   ],
   "metadata": {
    "collapsed": false
   }
  },
  {
   "cell_type": "code",
   "execution_count": 13,
   "outputs": [
    {
     "data": {
      "text/plain": "(150,)"
     },
     "execution_count": 13,
     "metadata": {},
     "output_type": "execute_result"
    }
   ],
   "source": [
    "# sales의 모든 데이터에 실루엣 계수 구하기\n",
    "score_samples=silhouette_samples(sales_data, sales['cluster'])\n",
    "score_samples.shape"
   ],
   "metadata": {
    "collapsed": false,
    "pycharm": {
     "name": "#%%\n"
    }
   }
  },
  {
   "cell_type": "code",
   "execution_count": 14,
   "outputs": [
    {
     "data": {
      "text/plain": "   tot_price  visit_count  buy_count  avg_price  cluster  silhouette_coeff\n0        5.0          0.2        3.0        1.6        1          0.791129\n1        5.0          0.4        3.4        1.6        1          0.803393\n2        5.2          0.2        3.5        1.5        1          0.807454\n3        5.2          0.2        3.0        1.4        1          0.788805\n4        4.7          0.2        3.2        1.6        1          0.800702",
      "text/html": "<div>\n<style scoped>\n    .dataframe tbody tr th:only-of-type {\n        vertical-align: middle;\n    }\n\n    .dataframe tbody tr th {\n        vertical-align: top;\n    }\n\n    .dataframe thead th {\n        text-align: right;\n    }\n</style>\n<table border=\"1\" class=\"dataframe\">\n  <thead>\n    <tr style=\"text-align: right;\">\n      <th></th>\n      <th>tot_price</th>\n      <th>visit_count</th>\n      <th>buy_count</th>\n      <th>avg_price</th>\n      <th>cluster</th>\n      <th>silhouette_coeff</th>\n    </tr>\n  </thead>\n  <tbody>\n    <tr>\n      <th>0</th>\n      <td>5.0</td>\n      <td>0.2</td>\n      <td>3.0</td>\n      <td>1.6</td>\n      <td>1</td>\n      <td>0.791129</td>\n    </tr>\n    <tr>\n      <th>1</th>\n      <td>5.0</td>\n      <td>0.4</td>\n      <td>3.4</td>\n      <td>1.6</td>\n      <td>1</td>\n      <td>0.803393</td>\n    </tr>\n    <tr>\n      <th>2</th>\n      <td>5.2</td>\n      <td>0.2</td>\n      <td>3.5</td>\n      <td>1.5</td>\n      <td>1</td>\n      <td>0.807454</td>\n    </tr>\n    <tr>\n      <th>3</th>\n      <td>5.2</td>\n      <td>0.2</td>\n      <td>3.0</td>\n      <td>1.4</td>\n      <td>1</td>\n      <td>0.788805</td>\n    </tr>\n    <tr>\n      <th>4</th>\n      <td>4.7</td>\n      <td>0.2</td>\n      <td>3.2</td>\n      <td>1.6</td>\n      <td>1</td>\n      <td>0.800702</td>\n    </tr>\n  </tbody>\n</table>\n</div>"
     },
     "execution_count": 14,
     "metadata": {},
     "output_type": "execute_result"
    }
   ],
   "source": [
    "#sales에 실루엣 계수 칼럼 추가\n",
    "sales['silhouette_coeff']=score_samples\n",
    "sales.head()"
   ],
   "metadata": {
    "collapsed": false,
    "pycharm": {
     "name": "#%%\n"
    }
   }
  },
  {
   "cell_type": "markdown",
   "source": [
    "4-2) 모든 데이터의 평균 실루엣 계수를 구하세요."
   ],
   "metadata": {
    "collapsed": false
   }
  },
  {
   "cell_type": "code",
   "execution_count": 15,
   "outputs": [
    {
     "data": {
      "text/plain": "0.538044239952023"
     },
     "execution_count": 15,
     "metadata": {},
     "output_type": "execute_result"
    }
   ],
   "source": [
    "#모든 데이터의 평균 실루엣 계수 값을 구하기\n",
    "average_score = silhouette_score(sales_data, sales['cluster'])\n",
    "average_score"
   ],
   "metadata": {
    "collapsed": false,
    "pycharm": {
     "name": "#%%\n"
    }
   }
  },
  {
   "cell_type": "markdown",
   "source": [
    "4-3) 군집별 평균 실루엣 계수를 구하세요."
   ],
   "metadata": {
    "collapsed": false
   }
  },
  {
   "cell_type": "code",
   "execution_count": 16,
   "outputs": [
    {
     "data": {
      "text/plain": "cluster\n0    0.416528\n1    0.755123\n2    0.450677\nName: silhouette_coeff, dtype: float64"
     },
     "execution_count": 16,
     "metadata": {},
     "output_type": "execute_result"
    }
   ],
   "source": [
    "#군집별 평균 실루엣 계수 구하기\n",
    "sales.groupby('cluster')['silhouette_coeff'].mean()"
   ],
   "metadata": {
    "collapsed": false,
    "pycharm": {
     "name": "#%%\n"
    }
   }
  },
  {
   "cell_type": "code",
   "execution_count": null,
   "outputs": [],
   "source": [],
   "metadata": {
    "collapsed": false,
    "pycharm": {
     "name": "#%%\n"
    }
   }
  }
 ],
 "metadata": {
  "kernelspec": {
   "display_name": "Python 3",
   "language": "python",
   "name": "python3"
  },
  "language_info": {
   "codemirror_mode": {
    "name": "ipython",
    "version": 2
   },
   "file_extension": ".py",
   "mimetype": "text/x-python",
   "name": "python",
   "nbconvert_exporter": "python",
   "pygments_lexer": "ipython2",
   "version": "2.7.6"
  }
 },
 "nbformat": 4,
 "nbformat_minor": 0
}