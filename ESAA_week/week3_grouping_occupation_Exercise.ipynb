{
 "nbformat": 4,
 "nbformat_minor": 0,
 "metadata": {
  "kernelspec": {
   "display_name": "Python 2",
   "language": "python",
   "name": "python2"
  },
  "language_info": {
   "codemirror_mode": {
    "name": "ipython",
    "version": 2
   },
   "file_extension": ".py",
   "mimetype": "text/x-python",
   "name": "python",
   "nbconvert_exporter": "python",
   "pygments_lexer": "ipython2",
   "version": "2.7.11"
  },
  "colab": {
   "name": "grouping_occupation_Exercise.ipynb",
   "provenance": [],
   "collapsed_sections": []
  }
 },
 "cells": [
  {
   "cell_type": "markdown",
   "metadata": {
    "id": "RYQSB73_akvl"
   },
   "source": [
    "# Occupation"
   ]
  },
  {
   "cell_type": "markdown",
   "metadata": {
    "id": "Ez-pV6Jaakvs"
   },
   "source": [
    "### Introduction:\n",
    "\n",
    "Special thanks to: https://github.com/justmarkham for sharing the dataset and materials.\n",
    "\n",
    "### Step 1. Import the necessary libraries"
   ]
  },
  {
   "cell_type": "code",
   "metadata": {
    "id": "s-DFQmeNakvu"
   },
   "source": [
    "import pandas as pd\n",
    "import numpy as np"
   ],
   "execution_count": null,
   "outputs": []
  },
  {
   "cell_type": "markdown",
   "metadata": {
    "id": "ShhIzySnakvw"
   },
   "source": [
    "### Step 2. Import the dataset from this [address](https://raw.githubusercontent.com/justmarkham/DAT8/master/data/u.user). "
   ]
  },
  {
   "cell_type": "code",
   "execution_count": null,
   "outputs": [],
   "source": [
    "import requests #request 모듈을 활성화\n",
    "users = pd.read_csv(\"https://raw.githubusercontent.com/justmarkham/DAT8/master/data/u.user\")"
   ],
   "metadata": {
    "collapsed": false,
    "pycharm": {
     "name": "#%%\n"
    }
   }
  },
  {
   "cell_type": "markdown",
   "metadata": {
    "id": "03hsscjRakvx"
   },
   "source": [
    "### Step 3. Assign it to a variable called users."
   ]
  },
  {
   "cell_type": "code",
   "metadata": {
    "id": "5RdM7Sj-akvy"
   },
   "source": [
    "users ='https://raw.githubusercontent.com/justmarkham/DAT8/master/data/u.user'"
   ],
   "execution_count": null,
   "outputs": []
  },
  {
   "cell_type": "markdown",
   "metadata": {
    "id": "p4rTx11Sakvz"
   },
   "source": [
    "### Step 4. Discover what is the mean age per occupation"
   ]
  },
  {
   "cell_type": "code",
   "metadata": {
    "id": "PNUZKNafakv1"
   },
   "source": [
    "users_mean_age=users.groupby('occupation')['age'].mean()"
   ],
   "execution_count": null,
   "outputs": []
  },
  {
   "cell_type": "markdown",
   "metadata": {
    "id": "b9Va6b3Qakv3"
   },
   "source": [
    "### Step 5. Discover the Male ratio per occupation and sort it from the most to the least"
   ]
  },
  {
   "cell_type": "code",
   "metadata": {
    "id": "xb3LjNPRakv5"
   },
   "source": [
    "male_ratio = users.groupby('occupation')[] # 모르겠음.\n",
    "male_ratio_sorted = male_ratio.sort_values()"
   ],
   "execution_count": null,
   "outputs": []
  },
  {
   "cell_type": "markdown",
   "metadata": {
    "id": "V8iyNzOiakv6"
   },
   "source": [
    "### Step 6. For each occupation, calculate the minimum and maximum ages"
   ]
  },
  {
   "cell_type": "code",
   "metadata": {
    "id": "_XxSd_XWakv7"
   },
   "source": [
    "occupation_min_max = users.groupby('occupation')['age'].agg([min, max])"
   ],
   "execution_count": null,
   "outputs": []
  },
  {
   "cell_type": "markdown",
   "metadata": {
    "id": "IITVNpN_akv8"
   },
   "source": [
    "### Step 7. For each combination of occupation and gender, calculate the mean age"
   ]
  },
  {
   "cell_type": "code",
   "metadata": {
    "id": "xDKQPz57akv9"
   },
   "source": [
    "occupation_gender=users[['occupation', 'gender']].mean()"
   ],
   "execution_count": null,
   "outputs": []
  },
  {
   "cell_type": "markdown",
   "metadata": {
    "id": "6cfimN8Eakv-"
   },
   "source": [
    "### Step 8.  For each occupation present the percentage of women and men"
   ]
  },
  {
   "cell_type": "code",
   "metadata": {
    "id": "jCOC0CHGakv_",
    "pycharm": {
     "name": "#%%\n"
    }
   },
   "source": [
    "occupation_percentage = users.groupby('occupation')[['women', 'men']].count\n",
    "occupation_gender['percentage'] ="
   ],
   "execution_count": null,
   "outputs": []
  }
 ]
}