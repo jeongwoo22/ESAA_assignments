{
 "cells": [
  {
   "cell_type": "markdown",
   "source": [
    "# 1. Lightgbm"
   ],
   "metadata": {
    "collapsed": false
   }
  },
  {
   "cell_type": "markdown",
   "source": [
    "* 데이터 '와인품질분류.zip'입니다."
   ],
   "metadata": {
    "collapsed": false
   }
  },
  {
   "cell_type": "markdown",
   "source": [
    "1. 필요한 라이브러리를 가져옵니다."
   ],
   "metadata": {
    "collapsed": false
   }
  },
  {
   "cell_type": "code",
   "execution_count": 42,
   "outputs": [],
   "source": [
    "import pandas as pd\n",
    "import lightgbm as lgbm"
   ],
   "metadata": {
    "collapsed": false,
    "pycharm": {
     "name": "#%%\n"
    }
   }
  },
  {
   "cell_type": "markdown",
   "source": [
    "2. 데이터를 불러옵니다."
   ],
   "metadata": {
    "collapsed": false
   }
  },
  {
   "cell_type": "code",
   "execution_count": 43,
   "outputs": [],
   "source": [
    "train = pd.read_csv(r'C:\\Users\\ADMIN\\PycharmProjects\\ESAA\\data\\wine\\train.csv')\n",
    "test = pd.read_csv(r'C:\\Users\\ADMIN\\PycharmProjects\\ESAA\\data\\wine\\test.csv')\n",
    "smpl_sub = pd.read_csv(r'C:\\Users\\ADMIN\\PycharmProjects\\ESAA\\data\\wine\\sample_submission.csv')"
   ],
   "metadata": {
    "collapsed": false,
    "pycharm": {
     "name": "#%%\n"
    }
   }
  },
  {
   "cell_type": "code",
   "execution_count": 44,
   "outputs": [
    {
     "data": {
      "text/plain": "   index  quality  fixed acidity  volatile acidity  citric acid  \\\n0      0        5            5.6             0.695         0.06   \n1      1        5            8.8             0.610         0.14   \n2      2        5            7.9             0.210         0.39   \n3      3        6            7.0             0.210         0.31   \n4      4        6            7.8             0.400         0.26   \n\n   residual sugar  chlorides  free sulfur dioxide  total sulfur dioxide  \\\n0             6.8      0.042                  9.0                  84.0   \n1             2.4      0.067                 10.0                  42.0   \n2             2.0      0.057                 21.0                 138.0   \n3             6.0      0.046                 29.0                 108.0   \n4             9.5      0.059                 32.0                 178.0   \n\n   density    pH  sulphates  alcohol   type  \n0  0.99432  3.44       0.44     10.2  white  \n1  0.99690  3.19       0.59      9.5    red  \n2  0.99176  3.05       0.52     10.9  white  \n3  0.99390  3.26       0.50     10.8  white  \n4  0.99550  3.04       0.43     10.9  white  ",
      "text/html": "<div>\n<style scoped>\n    .dataframe tbody tr th:only-of-type {\n        vertical-align: middle;\n    }\n\n    .dataframe tbody tr th {\n        vertical-align: top;\n    }\n\n    .dataframe thead th {\n        text-align: right;\n    }\n</style>\n<table border=\"1\" class=\"dataframe\">\n  <thead>\n    <tr style=\"text-align: right;\">\n      <th></th>\n      <th>index</th>\n      <th>quality</th>\n      <th>fixed acidity</th>\n      <th>volatile acidity</th>\n      <th>citric acid</th>\n      <th>residual sugar</th>\n      <th>chlorides</th>\n      <th>free sulfur dioxide</th>\n      <th>total sulfur dioxide</th>\n      <th>density</th>\n      <th>pH</th>\n      <th>sulphates</th>\n      <th>alcohol</th>\n      <th>type</th>\n    </tr>\n  </thead>\n  <tbody>\n    <tr>\n      <th>0</th>\n      <td>0</td>\n      <td>5</td>\n      <td>5.6</td>\n      <td>0.695</td>\n      <td>0.06</td>\n      <td>6.8</td>\n      <td>0.042</td>\n      <td>9.0</td>\n      <td>84.0</td>\n      <td>0.99432</td>\n      <td>3.44</td>\n      <td>0.44</td>\n      <td>10.2</td>\n      <td>white</td>\n    </tr>\n    <tr>\n      <th>1</th>\n      <td>1</td>\n      <td>5</td>\n      <td>8.8</td>\n      <td>0.610</td>\n      <td>0.14</td>\n      <td>2.4</td>\n      <td>0.067</td>\n      <td>10.0</td>\n      <td>42.0</td>\n      <td>0.99690</td>\n      <td>3.19</td>\n      <td>0.59</td>\n      <td>9.5</td>\n      <td>red</td>\n    </tr>\n    <tr>\n      <th>2</th>\n      <td>2</td>\n      <td>5</td>\n      <td>7.9</td>\n      <td>0.210</td>\n      <td>0.39</td>\n      <td>2.0</td>\n      <td>0.057</td>\n      <td>21.0</td>\n      <td>138.0</td>\n      <td>0.99176</td>\n      <td>3.05</td>\n      <td>0.52</td>\n      <td>10.9</td>\n      <td>white</td>\n    </tr>\n    <tr>\n      <th>3</th>\n      <td>3</td>\n      <td>6</td>\n      <td>7.0</td>\n      <td>0.210</td>\n      <td>0.31</td>\n      <td>6.0</td>\n      <td>0.046</td>\n      <td>29.0</td>\n      <td>108.0</td>\n      <td>0.99390</td>\n      <td>3.26</td>\n      <td>0.50</td>\n      <td>10.8</td>\n      <td>white</td>\n    </tr>\n    <tr>\n      <th>4</th>\n      <td>4</td>\n      <td>6</td>\n      <td>7.8</td>\n      <td>0.400</td>\n      <td>0.26</td>\n      <td>9.5</td>\n      <td>0.059</td>\n      <td>32.0</td>\n      <td>178.0</td>\n      <td>0.99550</td>\n      <td>3.04</td>\n      <td>0.43</td>\n      <td>10.9</td>\n      <td>white</td>\n    </tr>\n  </tbody>\n</table>\n</div>"
     },
     "execution_count": 44,
     "metadata": {},
     "output_type": "execute_result"
    }
   ],
   "source": [
    "train.head()"
   ],
   "metadata": {
    "collapsed": false,
    "pycharm": {
     "name": "#%%\n"
    }
   }
  },
  {
   "cell_type": "code",
   "execution_count": 45,
   "outputs": [
    {
     "data": {
      "text/plain": "   index  fixed acidity  volatile acidity  citric acid  residual sugar  \\\n0      0            9.0              0.31         0.48             6.6   \n1      1           13.3              0.43         0.58             1.9   \n2      2            6.5              0.28         0.27             5.2   \n3      3            7.2              0.15         0.39             1.8   \n4      4            6.8              0.26         0.26             2.0   \n\n   chlorides  free sulfur dioxide  total sulfur dioxide  density    pH  \\\n0      0.043                 11.0                  73.0  0.99380  2.90   \n1      0.070                 15.0                  40.0  1.00040  3.06   \n2      0.040                 44.0                 179.0  0.99480  3.19   \n3      0.043                 21.0                 159.0  0.99480  3.52   \n4      0.019                 23.5                  72.0  0.99041  3.16   \n\n   sulphates  alcohol   type  \n0       0.38     11.6  white  \n1       0.49      9.0    red  \n2       0.69      9.4  white  \n3       0.47     10.0  white  \n4       0.47     11.8  white  ",
      "text/html": "<div>\n<style scoped>\n    .dataframe tbody tr th:only-of-type {\n        vertical-align: middle;\n    }\n\n    .dataframe tbody tr th {\n        vertical-align: top;\n    }\n\n    .dataframe thead th {\n        text-align: right;\n    }\n</style>\n<table border=\"1\" class=\"dataframe\">\n  <thead>\n    <tr style=\"text-align: right;\">\n      <th></th>\n      <th>index</th>\n      <th>fixed acidity</th>\n      <th>volatile acidity</th>\n      <th>citric acid</th>\n      <th>residual sugar</th>\n      <th>chlorides</th>\n      <th>free sulfur dioxide</th>\n      <th>total sulfur dioxide</th>\n      <th>density</th>\n      <th>pH</th>\n      <th>sulphates</th>\n      <th>alcohol</th>\n      <th>type</th>\n    </tr>\n  </thead>\n  <tbody>\n    <tr>\n      <th>0</th>\n      <td>0</td>\n      <td>9.0</td>\n      <td>0.31</td>\n      <td>0.48</td>\n      <td>6.6</td>\n      <td>0.043</td>\n      <td>11.0</td>\n      <td>73.0</td>\n      <td>0.99380</td>\n      <td>2.90</td>\n      <td>0.38</td>\n      <td>11.6</td>\n      <td>white</td>\n    </tr>\n    <tr>\n      <th>1</th>\n      <td>1</td>\n      <td>13.3</td>\n      <td>0.43</td>\n      <td>0.58</td>\n      <td>1.9</td>\n      <td>0.070</td>\n      <td>15.0</td>\n      <td>40.0</td>\n      <td>1.00040</td>\n      <td>3.06</td>\n      <td>0.49</td>\n      <td>9.0</td>\n      <td>red</td>\n    </tr>\n    <tr>\n      <th>2</th>\n      <td>2</td>\n      <td>6.5</td>\n      <td>0.28</td>\n      <td>0.27</td>\n      <td>5.2</td>\n      <td>0.040</td>\n      <td>44.0</td>\n      <td>179.0</td>\n      <td>0.99480</td>\n      <td>3.19</td>\n      <td>0.69</td>\n      <td>9.4</td>\n      <td>white</td>\n    </tr>\n    <tr>\n      <th>3</th>\n      <td>3</td>\n      <td>7.2</td>\n      <td>0.15</td>\n      <td>0.39</td>\n      <td>1.8</td>\n      <td>0.043</td>\n      <td>21.0</td>\n      <td>159.0</td>\n      <td>0.99480</td>\n      <td>3.52</td>\n      <td>0.47</td>\n      <td>10.0</td>\n      <td>white</td>\n    </tr>\n    <tr>\n      <th>4</th>\n      <td>4</td>\n      <td>6.8</td>\n      <td>0.26</td>\n      <td>0.26</td>\n      <td>2.0</td>\n      <td>0.019</td>\n      <td>23.5</td>\n      <td>72.0</td>\n      <td>0.99041</td>\n      <td>3.16</td>\n      <td>0.47</td>\n      <td>11.8</td>\n      <td>white</td>\n    </tr>\n  </tbody>\n</table>\n</div>"
     },
     "execution_count": 45,
     "metadata": {},
     "output_type": "execute_result"
    }
   ],
   "source": [
    "test.head()"
   ],
   "metadata": {
    "collapsed": false,
    "pycharm": {
     "name": "#%%\n"
    }
   }
  },
  {
   "cell_type": "markdown",
   "source": [
    "3. 변수를 변환합니다."
   ],
   "metadata": {
    "collapsed": false
   }
  },
  {
   "cell_type": "code",
   "execution_count": 46,
   "outputs": [],
   "source": [
    "# type에는 white와 red 두 종류가 있습니다.\n",
    "# 각각 0,1로 변환합니다.\n",
    "train['type'] = train['type'].map({'white':0, 'red':1}).astype(int)\n",
    "test['type'] = test['type'].map({'white':0, 'red':1}).astype(int)"
   ],
   "metadata": {
    "collapsed": false,
    "pycharm": {
     "name": "#%%\n"
    }
   }
  },
  {
   "cell_type": "code",
   "execution_count": 47,
   "outputs": [
    {
     "data": {
      "text/plain": "   index  quality  fixed acidity  volatile acidity  citric acid  \\\n0      0        5            5.6             0.695         0.06   \n1      1        5            8.8             0.610         0.14   \n2      2        5            7.9             0.210         0.39   \n3      3        6            7.0             0.210         0.31   \n4      4        6            7.8             0.400         0.26   \n\n   residual sugar  chlorides  free sulfur dioxide  total sulfur dioxide  \\\n0             6.8      0.042                  9.0                  84.0   \n1             2.4      0.067                 10.0                  42.0   \n2             2.0      0.057                 21.0                 138.0   \n3             6.0      0.046                 29.0                 108.0   \n4             9.5      0.059                 32.0                 178.0   \n\n   density    pH  sulphates  alcohol  type  \n0  0.99432  3.44       0.44     10.2     0  \n1  0.99690  3.19       0.59      9.5     1  \n2  0.99176  3.05       0.52     10.9     0  \n3  0.99390  3.26       0.50     10.8     0  \n4  0.99550  3.04       0.43     10.9     0  ",
      "text/html": "<div>\n<style scoped>\n    .dataframe tbody tr th:only-of-type {\n        vertical-align: middle;\n    }\n\n    .dataframe tbody tr th {\n        vertical-align: top;\n    }\n\n    .dataframe thead th {\n        text-align: right;\n    }\n</style>\n<table border=\"1\" class=\"dataframe\">\n  <thead>\n    <tr style=\"text-align: right;\">\n      <th></th>\n      <th>index</th>\n      <th>quality</th>\n      <th>fixed acidity</th>\n      <th>volatile acidity</th>\n      <th>citric acid</th>\n      <th>residual sugar</th>\n      <th>chlorides</th>\n      <th>free sulfur dioxide</th>\n      <th>total sulfur dioxide</th>\n      <th>density</th>\n      <th>pH</th>\n      <th>sulphates</th>\n      <th>alcohol</th>\n      <th>type</th>\n    </tr>\n  </thead>\n  <tbody>\n    <tr>\n      <th>0</th>\n      <td>0</td>\n      <td>5</td>\n      <td>5.6</td>\n      <td>0.695</td>\n      <td>0.06</td>\n      <td>6.8</td>\n      <td>0.042</td>\n      <td>9.0</td>\n      <td>84.0</td>\n      <td>0.99432</td>\n      <td>3.44</td>\n      <td>0.44</td>\n      <td>10.2</td>\n      <td>0</td>\n    </tr>\n    <tr>\n      <th>1</th>\n      <td>1</td>\n      <td>5</td>\n      <td>8.8</td>\n      <td>0.610</td>\n      <td>0.14</td>\n      <td>2.4</td>\n      <td>0.067</td>\n      <td>10.0</td>\n      <td>42.0</td>\n      <td>0.99690</td>\n      <td>3.19</td>\n      <td>0.59</td>\n      <td>9.5</td>\n      <td>1</td>\n    </tr>\n    <tr>\n      <th>2</th>\n      <td>2</td>\n      <td>5</td>\n      <td>7.9</td>\n      <td>0.210</td>\n      <td>0.39</td>\n      <td>2.0</td>\n      <td>0.057</td>\n      <td>21.0</td>\n      <td>138.0</td>\n      <td>0.99176</td>\n      <td>3.05</td>\n      <td>0.52</td>\n      <td>10.9</td>\n      <td>0</td>\n    </tr>\n    <tr>\n      <th>3</th>\n      <td>3</td>\n      <td>6</td>\n      <td>7.0</td>\n      <td>0.210</td>\n      <td>0.31</td>\n      <td>6.0</td>\n      <td>0.046</td>\n      <td>29.0</td>\n      <td>108.0</td>\n      <td>0.99390</td>\n      <td>3.26</td>\n      <td>0.50</td>\n      <td>10.8</td>\n      <td>0</td>\n    </tr>\n    <tr>\n      <th>4</th>\n      <td>4</td>\n      <td>6</td>\n      <td>7.8</td>\n      <td>0.400</td>\n      <td>0.26</td>\n      <td>9.5</td>\n      <td>0.059</td>\n      <td>32.0</td>\n      <td>178.0</td>\n      <td>0.99550</td>\n      <td>3.04</td>\n      <td>0.43</td>\n      <td>10.9</td>\n      <td>0</td>\n    </tr>\n  </tbody>\n</table>\n</div>"
     },
     "execution_count": 47,
     "metadata": {},
     "output_type": "execute_result"
    }
   ],
   "source": [
    "train.head()"
   ],
   "metadata": {
    "collapsed": false,
    "pycharm": {
     "name": "#%%\n"
    }
   }
  },
  {
   "cell_type": "code",
   "execution_count": 48,
   "outputs": [
    {
     "data": {
      "text/plain": "   index  fixed acidity  volatile acidity  citric acid  residual sugar  \\\n0      0            9.0              0.31         0.48             6.6   \n1      1           13.3              0.43         0.58             1.9   \n2      2            6.5              0.28         0.27             5.2   \n3      3            7.2              0.15         0.39             1.8   \n4      4            6.8              0.26         0.26             2.0   \n\n   chlorides  free sulfur dioxide  total sulfur dioxide  density    pH  \\\n0      0.043                 11.0                  73.0  0.99380  2.90   \n1      0.070                 15.0                  40.0  1.00040  3.06   \n2      0.040                 44.0                 179.0  0.99480  3.19   \n3      0.043                 21.0                 159.0  0.99480  3.52   \n4      0.019                 23.5                  72.0  0.99041  3.16   \n\n   sulphates  alcohol  type  \n0       0.38     11.6     0  \n1       0.49      9.0     1  \n2       0.69      9.4     0  \n3       0.47     10.0     0  \n4       0.47     11.8     0  ",
      "text/html": "<div>\n<style scoped>\n    .dataframe tbody tr th:only-of-type {\n        vertical-align: middle;\n    }\n\n    .dataframe tbody tr th {\n        vertical-align: top;\n    }\n\n    .dataframe thead th {\n        text-align: right;\n    }\n</style>\n<table border=\"1\" class=\"dataframe\">\n  <thead>\n    <tr style=\"text-align: right;\">\n      <th></th>\n      <th>index</th>\n      <th>fixed acidity</th>\n      <th>volatile acidity</th>\n      <th>citric acid</th>\n      <th>residual sugar</th>\n      <th>chlorides</th>\n      <th>free sulfur dioxide</th>\n      <th>total sulfur dioxide</th>\n      <th>density</th>\n      <th>pH</th>\n      <th>sulphates</th>\n      <th>alcohol</th>\n      <th>type</th>\n    </tr>\n  </thead>\n  <tbody>\n    <tr>\n      <th>0</th>\n      <td>0</td>\n      <td>9.0</td>\n      <td>0.31</td>\n      <td>0.48</td>\n      <td>6.6</td>\n      <td>0.043</td>\n      <td>11.0</td>\n      <td>73.0</td>\n      <td>0.99380</td>\n      <td>2.90</td>\n      <td>0.38</td>\n      <td>11.6</td>\n      <td>0</td>\n    </tr>\n    <tr>\n      <th>1</th>\n      <td>1</td>\n      <td>13.3</td>\n      <td>0.43</td>\n      <td>0.58</td>\n      <td>1.9</td>\n      <td>0.070</td>\n      <td>15.0</td>\n      <td>40.0</td>\n      <td>1.00040</td>\n      <td>3.06</td>\n      <td>0.49</td>\n      <td>9.0</td>\n      <td>1</td>\n    </tr>\n    <tr>\n      <th>2</th>\n      <td>2</td>\n      <td>6.5</td>\n      <td>0.28</td>\n      <td>0.27</td>\n      <td>5.2</td>\n      <td>0.040</td>\n      <td>44.0</td>\n      <td>179.0</td>\n      <td>0.99480</td>\n      <td>3.19</td>\n      <td>0.69</td>\n      <td>9.4</td>\n      <td>0</td>\n    </tr>\n    <tr>\n      <th>3</th>\n      <td>3</td>\n      <td>7.2</td>\n      <td>0.15</td>\n      <td>0.39</td>\n      <td>1.8</td>\n      <td>0.043</td>\n      <td>21.0</td>\n      <td>159.0</td>\n      <td>0.99480</td>\n      <td>3.52</td>\n      <td>0.47</td>\n      <td>10.0</td>\n      <td>0</td>\n    </tr>\n    <tr>\n      <th>4</th>\n      <td>4</td>\n      <td>6.8</td>\n      <td>0.26</td>\n      <td>0.26</td>\n      <td>2.0</td>\n      <td>0.019</td>\n      <td>23.5</td>\n      <td>72.0</td>\n      <td>0.99041</td>\n      <td>3.16</td>\n      <td>0.47</td>\n      <td>11.8</td>\n      <td>0</td>\n    </tr>\n  </tbody>\n</table>\n</div>"
     },
     "execution_count": 48,
     "metadata": {},
     "output_type": "execute_result"
    }
   ],
   "source": [
    "test.head()"
   ],
   "metadata": {
    "collapsed": false,
    "pycharm": {
     "name": "#%%\n"
    }
   }
  },
  {
   "cell_type": "code",
   "execution_count": 49,
   "outputs": [],
   "source": [
    "# 모델에 입력하기 전 데이터를 정형합니다.\n",
    "# train_x : train의 'index', 'quality' 피처를 제거하고 저장합니다.\n",
    "# train_y : train의 'quality'를 저장합니다.\n",
    "# test_x : test의 'index'를 제거하고 저장합니다.\n",
    "train_x = train.drop(['index', 'quality'], axis = 1)\n",
    "train_y = train['quality']\n",
    "test_x = test.drop('index', axis = 1)"
   ],
   "metadata": {
    "collapsed": false,
    "pycharm": {
     "name": "#%%\n"
    }
   }
  },
  {
   "cell_type": "code",
   "execution_count": 50,
   "outputs": [
    {
     "data": {
      "text/plain": "((5497, 12), (5497,), (1000, 12))"
     },
     "execution_count": 50,
     "metadata": {},
     "output_type": "execute_result"
    }
   ],
   "source": [
    "train_x.shape, train_y.shape, test_x.shape"
   ],
   "metadata": {
    "collapsed": false,
    "pycharm": {
     "name": "#%%\n"
    }
   }
  },
  {
   "cell_type": "code",
   "execution_count": 51,
   "outputs": [
    {
     "data": {
      "text/plain": "   fixed acidity  volatile acidity  citric acid  residual sugar  chlorides  \\\n0            5.6             0.695         0.06             6.8      0.042   \n1            8.8             0.610         0.14             2.4      0.067   \n2            7.9             0.210         0.39             2.0      0.057   \n3            7.0             0.210         0.31             6.0      0.046   \n4            7.8             0.400         0.26             9.5      0.059   \n\n   free sulfur dioxide  total sulfur dioxide  density    pH  sulphates  \\\n0                  9.0                  84.0  0.99432  3.44       0.44   \n1                 10.0                  42.0  0.99690  3.19       0.59   \n2                 21.0                 138.0  0.99176  3.05       0.52   \n3                 29.0                 108.0  0.99390  3.26       0.50   \n4                 32.0                 178.0  0.99550  3.04       0.43   \n\n   alcohol  type  \n0     10.2     0  \n1      9.5     1  \n2     10.9     0  \n3     10.8     0  \n4     10.9     0  ",
      "text/html": "<div>\n<style scoped>\n    .dataframe tbody tr th:only-of-type {\n        vertical-align: middle;\n    }\n\n    .dataframe tbody tr th {\n        vertical-align: top;\n    }\n\n    .dataframe thead th {\n        text-align: right;\n    }\n</style>\n<table border=\"1\" class=\"dataframe\">\n  <thead>\n    <tr style=\"text-align: right;\">\n      <th></th>\n      <th>fixed acidity</th>\n      <th>volatile acidity</th>\n      <th>citric acid</th>\n      <th>residual sugar</th>\n      <th>chlorides</th>\n      <th>free sulfur dioxide</th>\n      <th>total sulfur dioxide</th>\n      <th>density</th>\n      <th>pH</th>\n      <th>sulphates</th>\n      <th>alcohol</th>\n      <th>type</th>\n    </tr>\n  </thead>\n  <tbody>\n    <tr>\n      <th>0</th>\n      <td>5.6</td>\n      <td>0.695</td>\n      <td>0.06</td>\n      <td>6.8</td>\n      <td>0.042</td>\n      <td>9.0</td>\n      <td>84.0</td>\n      <td>0.99432</td>\n      <td>3.44</td>\n      <td>0.44</td>\n      <td>10.2</td>\n      <td>0</td>\n    </tr>\n    <tr>\n      <th>1</th>\n      <td>8.8</td>\n      <td>0.610</td>\n      <td>0.14</td>\n      <td>2.4</td>\n      <td>0.067</td>\n      <td>10.0</td>\n      <td>42.0</td>\n      <td>0.99690</td>\n      <td>3.19</td>\n      <td>0.59</td>\n      <td>9.5</td>\n      <td>1</td>\n    </tr>\n    <tr>\n      <th>2</th>\n      <td>7.9</td>\n      <td>0.210</td>\n      <td>0.39</td>\n      <td>2.0</td>\n      <td>0.057</td>\n      <td>21.0</td>\n      <td>138.0</td>\n      <td>0.99176</td>\n      <td>3.05</td>\n      <td>0.52</td>\n      <td>10.9</td>\n      <td>0</td>\n    </tr>\n    <tr>\n      <th>3</th>\n      <td>7.0</td>\n      <td>0.210</td>\n      <td>0.31</td>\n      <td>6.0</td>\n      <td>0.046</td>\n      <td>29.0</td>\n      <td>108.0</td>\n      <td>0.99390</td>\n      <td>3.26</td>\n      <td>0.50</td>\n      <td>10.8</td>\n      <td>0</td>\n    </tr>\n    <tr>\n      <th>4</th>\n      <td>7.8</td>\n      <td>0.400</td>\n      <td>0.26</td>\n      <td>9.5</td>\n      <td>0.059</td>\n      <td>32.0</td>\n      <td>178.0</td>\n      <td>0.99550</td>\n      <td>3.04</td>\n      <td>0.43</td>\n      <td>10.9</td>\n      <td>0</td>\n    </tr>\n  </tbody>\n</table>\n</div>"
     },
     "execution_count": 51,
     "metadata": {},
     "output_type": "execute_result"
    }
   ],
   "source": [
    "train_x.head()"
   ],
   "metadata": {
    "collapsed": false,
    "pycharm": {
     "name": "#%%\n"
    }
   }
  },
  {
   "cell_type": "code",
   "execution_count": 52,
   "outputs": [
    {
     "data": {
      "text/plain": "0    5\n1    5\n2    5\n3    6\n4    6\nName: quality, dtype: int64"
     },
     "execution_count": 52,
     "metadata": {},
     "output_type": "execute_result"
    }
   ],
   "source": [
    "train_y.head()"
   ],
   "metadata": {
    "collapsed": false,
    "pycharm": {
     "name": "#%%\n"
    }
   }
  },
  {
   "cell_type": "code",
   "execution_count": 53,
   "outputs": [
    {
     "data": {
      "text/plain": "   fixed acidity  volatile acidity  citric acid  residual sugar  chlorides  \\\n0            9.0              0.31         0.48             6.6      0.043   \n1           13.3              0.43         0.58             1.9      0.070   \n2            6.5              0.28         0.27             5.2      0.040   \n3            7.2              0.15         0.39             1.8      0.043   \n4            6.8              0.26         0.26             2.0      0.019   \n\n   free sulfur dioxide  total sulfur dioxide  density    pH  sulphates  \\\n0                 11.0                  73.0  0.99380  2.90       0.38   \n1                 15.0                  40.0  1.00040  3.06       0.49   \n2                 44.0                 179.0  0.99480  3.19       0.69   \n3                 21.0                 159.0  0.99480  3.52       0.47   \n4                 23.5                  72.0  0.99041  3.16       0.47   \n\n   alcohol  type  \n0     11.6     0  \n1      9.0     1  \n2      9.4     0  \n3     10.0     0  \n4     11.8     0  ",
      "text/html": "<div>\n<style scoped>\n    .dataframe tbody tr th:only-of-type {\n        vertical-align: middle;\n    }\n\n    .dataframe tbody tr th {\n        vertical-align: top;\n    }\n\n    .dataframe thead th {\n        text-align: right;\n    }\n</style>\n<table border=\"1\" class=\"dataframe\">\n  <thead>\n    <tr style=\"text-align: right;\">\n      <th></th>\n      <th>fixed acidity</th>\n      <th>volatile acidity</th>\n      <th>citric acid</th>\n      <th>residual sugar</th>\n      <th>chlorides</th>\n      <th>free sulfur dioxide</th>\n      <th>total sulfur dioxide</th>\n      <th>density</th>\n      <th>pH</th>\n      <th>sulphates</th>\n      <th>alcohol</th>\n      <th>type</th>\n    </tr>\n  </thead>\n  <tbody>\n    <tr>\n      <th>0</th>\n      <td>9.0</td>\n      <td>0.31</td>\n      <td>0.48</td>\n      <td>6.6</td>\n      <td>0.043</td>\n      <td>11.0</td>\n      <td>73.0</td>\n      <td>0.99380</td>\n      <td>2.90</td>\n      <td>0.38</td>\n      <td>11.6</td>\n      <td>0</td>\n    </tr>\n    <tr>\n      <th>1</th>\n      <td>13.3</td>\n      <td>0.43</td>\n      <td>0.58</td>\n      <td>1.9</td>\n      <td>0.070</td>\n      <td>15.0</td>\n      <td>40.0</td>\n      <td>1.00040</td>\n      <td>3.06</td>\n      <td>0.49</td>\n      <td>9.0</td>\n      <td>1</td>\n    </tr>\n    <tr>\n      <th>2</th>\n      <td>6.5</td>\n      <td>0.28</td>\n      <td>0.27</td>\n      <td>5.2</td>\n      <td>0.040</td>\n      <td>44.0</td>\n      <td>179.0</td>\n      <td>0.99480</td>\n      <td>3.19</td>\n      <td>0.69</td>\n      <td>9.4</td>\n      <td>0</td>\n    </tr>\n    <tr>\n      <th>3</th>\n      <td>7.2</td>\n      <td>0.15</td>\n      <td>0.39</td>\n      <td>1.8</td>\n      <td>0.043</td>\n      <td>21.0</td>\n      <td>159.0</td>\n      <td>0.99480</td>\n      <td>3.52</td>\n      <td>0.47</td>\n      <td>10.0</td>\n      <td>0</td>\n    </tr>\n    <tr>\n      <th>4</th>\n      <td>6.8</td>\n      <td>0.26</td>\n      <td>0.26</td>\n      <td>2.0</td>\n      <td>0.019</td>\n      <td>23.5</td>\n      <td>72.0</td>\n      <td>0.99041</td>\n      <td>3.16</td>\n      <td>0.47</td>\n      <td>11.8</td>\n      <td>0</td>\n    </tr>\n  </tbody>\n</table>\n</div>"
     },
     "execution_count": 53,
     "metadata": {},
     "output_type": "execute_result"
    }
   ],
   "source": [
    "test_x.head()"
   ],
   "metadata": {
    "collapsed": false,
    "pycharm": {
     "name": "#%%\n"
    }
   }
  },
  {
   "cell_type": "markdown",
   "source": [
    "4. LightGBM 모델을 생성 및 훈련합니다."
   ],
   "metadata": {
    "collapsed": false
   }
  },
  {
   "cell_type": "code",
   "execution_count": 54,
   "outputs": [
    {
     "data": {
      "text/plain": "LGBMClassifier()"
     },
     "execution_count": 54,
     "metadata": {},
     "output_type": "execute_result"
    }
   ],
   "source": [
    "model = lgbm.LGBMClassifier()\n",
    "model.fit(train_x,train_y)"
   ],
   "metadata": {
    "collapsed": false,
    "pycharm": {
     "name": "#%%\n"
    }
   }
  },
  {
   "cell_type": "markdown",
   "source": [
    "5. 생성한 모델로 예측 데이터를 생성합니다."
   ],
   "metadata": {
    "collapsed": false
   }
  },
  {
   "cell_type": "code",
   "execution_count": 55,
   "outputs": [
    {
     "data": {
      "text/plain": "array([5, 5, 6, 5, 6, 6, 6, 6, 6, 7, 6, 5, 7, 6, 6, 5, 6, 6, 6, 6, 6, 6,\n       5, 7, 6, 5, 5, 5, 5, 5, 7, 6, 5, 6, 5, 6, 5, 5, 6, 6, 6, 5, 6, 6,\n       6, 6, 5, 6, 4, 6, 5, 5, 6, 4, 5, 6, 6, 5, 6, 6, 5, 6, 5, 4, 6, 6,\n       5, 5, 6, 5, 5, 5, 5, 6, 6, 5, 6, 7, 6, 7, 6, 6, 5, 4, 6, 5, 5, 5,\n       6, 6, 6, 6, 6, 6, 6, 7, 6, 6, 6, 7, 5, 6, 6, 5, 6, 6, 6, 6, 6, 5,\n       6, 6, 6, 5, 5, 6, 6, 7, 7, 6, 6, 5, 6, 7, 6, 5, 6, 6, 6, 7, 6, 5,\n       6, 5, 5, 6, 6, 7, 5, 5, 5, 6, 5, 5, 5, 5, 7, 6, 7, 6, 5, 8, 6, 5,\n       6, 5, 5, 5, 6, 4, 5, 6, 6, 7, 6, 5, 6, 6, 5, 6, 5, 5, 6, 5, 6, 6,\n       6, 5, 6, 6, 6, 6, 7, 7, 5, 6, 6, 6, 5, 6, 6, 6, 6, 6, 6, 6, 7, 5,\n       5, 5, 6, 5, 6, 5, 5, 5, 6, 6, 6, 6, 7, 5, 5, 6, 6, 6, 5, 6, 6, 7,\n       6, 5, 6, 6, 7, 6, 6, 5, 6, 5, 6, 7, 7, 6, 6, 6, 6, 6, 6, 7, 6, 6,\n       6, 6, 7, 6, 6, 7, 5, 6, 5, 6, 7, 7, 6, 6, 6, 6, 7, 6, 7, 5, 5, 7,\n       5, 5, 6, 5, 5, 6, 6, 5, 5, 5, 6, 5, 7, 7, 5, 6, 6, 6, 6, 6, 7, 7,\n       6, 6, 6, 6, 5, 5, 5, 6, 5, 6, 8, 5, 5, 7, 6, 6, 5, 5, 6, 7, 5, 7,\n       5, 5, 6, 5, 6, 5, 6, 6, 5, 5, 6, 6, 5, 5, 6, 5, 4, 5, 5, 6, 6, 5,\n       5, 6, 7, 5, 5, 6, 5, 6, 6, 6, 5, 6, 7, 6, 5, 6, 6, 6, 5, 6, 5, 6,\n       5, 6, 6, 5, 6, 6, 5, 6, 5, 6, 6, 7, 7, 6, 5, 5, 7, 6, 6, 6, 5, 5,\n       6, 5, 5, 6, 6, 6, 7, 6, 7, 6, 5, 6, 6, 5, 6, 5, 7, 5, 7, 6, 5, 6,\n       6, 7, 7, 5, 7, 6, 6, 6, 7, 5, 6, 5, 6, 6, 6, 6, 6, 5, 6, 6, 6, 6,\n       5, 6, 7, 6, 5, 5, 6, 6, 6, 6, 5, 6, 7, 6, 5, 6, 6, 4, 6, 5, 5, 5,\n       5, 7, 6, 5, 6, 6, 5, 5, 5, 6, 6, 7, 5, 6, 6, 6, 7, 5, 6, 5, 5, 6,\n       5, 6, 5, 6, 6, 6, 6, 5, 5, 5, 5, 6, 5, 6, 6, 8, 7, 6, 6, 7, 5, 5,\n       8, 5, 5, 6, 5, 6, 7, 6, 5, 7, 5, 6, 6, 5, 6, 6, 6, 6, 6, 7, 6, 5,\n       6, 5, 6, 6, 6, 5, 6, 6, 6, 5, 5, 7, 6, 5, 5, 5, 5, 7, 6, 5, 7, 7,\n       6, 6, 5, 5, 6, 5, 6, 7, 6, 6, 4, 5, 6, 5, 6, 6, 6, 6, 6, 5, 6, 7,\n       6, 6, 6, 6, 5, 6, 5, 6, 5, 6, 5, 5, 6, 6, 7, 7, 6, 7, 6, 5, 6, 6,\n       5, 7, 6, 5, 6, 5, 5, 5, 7, 6, 5, 5, 6, 7, 7, 7, 5, 7, 7, 5, 7, 6,\n       5, 5, 5, 7, 6, 6, 6, 7, 6, 7, 5, 6, 5, 5, 7, 5, 8, 5, 6, 6, 6, 6,\n       5, 7, 6, 6, 6, 6, 6, 6, 5, 6, 5, 6, 5, 5, 5, 5, 6, 5, 5, 7, 5, 6,\n       8, 5, 5, 6, 6, 5, 6, 6, 6, 5, 5, 5, 6, 5, 7, 7, 6, 5, 6, 6, 6, 5,\n       7, 5, 6, 6, 7, 6, 6, 5, 6, 5, 6, 6, 5, 7, 5, 5, 5, 6, 7, 7, 7, 6,\n       7, 5, 7, 8, 6, 6, 5, 6, 7, 5, 5, 6, 6, 5, 6, 5, 5, 6, 6, 5, 6, 5,\n       5, 6, 5, 5, 5, 5, 5, 5, 6, 5, 7, 6, 5, 6, 6, 6, 5, 6, 8, 6, 5, 6,\n       6, 4, 7, 6, 5, 7, 5, 5, 7, 6, 5, 7, 6, 5, 6, 6, 6, 5, 6, 6, 7, 6,\n       6, 5, 6, 5, 6, 5, 6, 7, 5, 7, 6, 6, 5, 5, 6, 7, 7, 6, 5, 7, 5, 6,\n       5, 6, 6, 5, 6, 6, 6, 6, 6, 5, 7, 5, 5, 5, 5, 5, 6, 5, 6, 6, 6, 6,\n       6, 6, 7, 6, 6, 5, 6, 5, 5, 5, 6, 6, 5, 6, 5, 7, 7, 6, 6, 6, 5, 7,\n       7, 5, 5, 6, 6, 5, 6, 5, 5, 5, 8, 6, 6, 5, 6, 6, 6, 7, 6, 5, 7, 6,\n       5, 7, 6, 5, 5, 5, 6, 5, 6, 5, 7, 7, 7, 6, 5, 7, 5, 6, 5, 6, 6, 6,\n       5, 6, 5, 6, 5, 5, 6, 6, 5, 7, 5, 6, 7, 7, 7, 6, 5, 5, 6, 6, 6, 6,\n       5, 6, 5, 5, 5, 7, 5, 6, 7, 6, 5, 6, 6, 5, 5, 5, 6, 6, 6, 6, 6, 6,\n       5, 7, 5, 6, 5, 7, 5, 6, 6, 6, 5, 6, 6, 8, 7, 6, 5, 5, 6, 6, 6, 6,\n       6, 5, 6, 5, 6, 7, 5, 5, 5, 6, 5, 6, 5, 6, 4, 6, 5, 6, 6, 5, 6, 6,\n       6, 6, 6, 6, 6, 8, 5, 6, 5, 6, 6, 7, 6, 6, 5, 5, 5, 5, 6, 5, 5, 5,\n       5, 7, 6, 6, 7, 6, 6, 5, 7, 6, 6, 6, 6, 5, 6, 5, 5, 6, 6, 5, 5, 5,\n       6, 6, 6, 6, 6, 5, 6, 5, 6, 6], dtype=int64)"
     },
     "execution_count": 55,
     "metadata": {},
     "output_type": "execute_result"
    }
   ],
   "source": [
    "y_pred = model.predict(test_x)\n",
    "y_pred"
   ],
   "metadata": {
    "collapsed": false,
    "pycharm": {
     "name": "#%%\n"
    }
   }
  },
  {
   "cell_type": "markdown",
   "source": [
    "6. 제출파일을 생성합니다."
   ],
   "metadata": {
    "collapsed": false
   }
  },
  {
   "cell_type": "code",
   "execution_count": 56,
   "outputs": [
    {
     "data": {
      "text/plain": "     index  quality\n0        0        0\n1        1        0\n2        2        0\n3        3        0\n4        4        0\n..     ...      ...\n995    995        0\n996    996        0\n997    997        0\n998    998        0\n999    999        0\n\n[1000 rows x 2 columns]",
      "text/html": "<div>\n<style scoped>\n    .dataframe tbody tr th:only-of-type {\n        vertical-align: middle;\n    }\n\n    .dataframe tbody tr th {\n        vertical-align: top;\n    }\n\n    .dataframe thead th {\n        text-align: right;\n    }\n</style>\n<table border=\"1\" class=\"dataframe\">\n  <thead>\n    <tr style=\"text-align: right;\">\n      <th></th>\n      <th>index</th>\n      <th>quality</th>\n    </tr>\n  </thead>\n  <tbody>\n    <tr>\n      <th>0</th>\n      <td>0</td>\n      <td>0</td>\n    </tr>\n    <tr>\n      <th>1</th>\n      <td>1</td>\n      <td>0</td>\n    </tr>\n    <tr>\n      <th>2</th>\n      <td>2</td>\n      <td>0</td>\n    </tr>\n    <tr>\n      <th>3</th>\n      <td>3</td>\n      <td>0</td>\n    </tr>\n    <tr>\n      <th>4</th>\n      <td>4</td>\n      <td>0</td>\n    </tr>\n    <tr>\n      <th>...</th>\n      <td>...</td>\n      <td>...</td>\n    </tr>\n    <tr>\n      <th>995</th>\n      <td>995</td>\n      <td>0</td>\n    </tr>\n    <tr>\n      <th>996</th>\n      <td>996</td>\n      <td>0</td>\n    </tr>\n    <tr>\n      <th>997</th>\n      <td>997</td>\n      <td>0</td>\n    </tr>\n    <tr>\n      <th>998</th>\n      <td>998</td>\n      <td>0</td>\n    </tr>\n    <tr>\n      <th>999</th>\n      <td>999</td>\n      <td>0</td>\n    </tr>\n  </tbody>\n</table>\n<p>1000 rows × 2 columns</p>\n</div>"
     },
     "execution_count": 56,
     "metadata": {},
     "output_type": "execute_result"
    }
   ],
   "source": [
    "smpl_sub"
   ],
   "metadata": {
    "collapsed": false,
    "pycharm": {
     "name": "#%%\n"
    }
   }
  },
  {
   "cell_type": "code",
   "execution_count": 57,
   "outputs": [],
   "source": [
    "#서브미션 파일의 quality 변수에 예측값을 대입합니다.\n",
    "smpl_sub['quality'] = y_pred"
   ],
   "metadata": {
    "collapsed": false,
    "pycharm": {
     "name": "#%%\n"
    }
   }
  },
  {
   "cell_type": "code",
   "execution_count": 58,
   "outputs": [
    {
     "data": {
      "text/plain": "     index  quality\n0        0        5\n1        1        5\n2        2        6\n3        3        5\n4        4        6\n..     ...      ...\n995    995        5\n996    996        6\n997    997        5\n998    998        6\n999    999        6\n\n[1000 rows x 2 columns]",
      "text/html": "<div>\n<style scoped>\n    .dataframe tbody tr th:only-of-type {\n        vertical-align: middle;\n    }\n\n    .dataframe tbody tr th {\n        vertical-align: top;\n    }\n\n    .dataframe thead th {\n        text-align: right;\n    }\n</style>\n<table border=\"1\" class=\"dataframe\">\n  <thead>\n    <tr style=\"text-align: right;\">\n      <th></th>\n      <th>index</th>\n      <th>quality</th>\n    </tr>\n  </thead>\n  <tbody>\n    <tr>\n      <th>0</th>\n      <td>0</td>\n      <td>5</td>\n    </tr>\n    <tr>\n      <th>1</th>\n      <td>1</td>\n      <td>5</td>\n    </tr>\n    <tr>\n      <th>2</th>\n      <td>2</td>\n      <td>6</td>\n    </tr>\n    <tr>\n      <th>3</th>\n      <td>3</td>\n      <td>5</td>\n    </tr>\n    <tr>\n      <th>4</th>\n      <td>4</td>\n      <td>6</td>\n    </tr>\n    <tr>\n      <th>...</th>\n      <td>...</td>\n      <td>...</td>\n    </tr>\n    <tr>\n      <th>995</th>\n      <td>995</td>\n      <td>5</td>\n    </tr>\n    <tr>\n      <th>996</th>\n      <td>996</td>\n      <td>6</td>\n    </tr>\n    <tr>\n      <th>997</th>\n      <td>997</td>\n      <td>5</td>\n    </tr>\n    <tr>\n      <th>998</th>\n      <td>998</td>\n      <td>6</td>\n    </tr>\n    <tr>\n      <th>999</th>\n      <td>999</td>\n      <td>6</td>\n    </tr>\n  </tbody>\n</table>\n<p>1000 rows × 2 columns</p>\n</div>"
     },
     "execution_count": 58,
     "metadata": {},
     "output_type": "execute_result"
    }
   ],
   "source": [
    "smpl_sub"
   ],
   "metadata": {
    "collapsed": false,
    "pycharm": {
     "name": "#%%\n"
    }
   }
  },
  {
   "cell_type": "code",
   "execution_count": 59,
   "outputs": [],
   "source": [
    "# csv 파일로 저장합니다.\n",
    "smpl_sub.to_csv('submission.csv', index=False)"
   ],
   "metadata": {
    "collapsed": false,
    "pycharm": {
     "name": "#%%\n"
    }
   }
  },
  {
   "cell_type": "markdown",
   "source": [
    "# 2. XGBoost"
   ],
   "metadata": {
    "collapsed": false
   }
  },
  {
   "cell_type": "code",
   "execution_count": 60,
   "outputs": [],
   "source": [
    "# 라이브러리 및 데이터 불러오기\n",
    "import pandas as pd\n",
    "from xgboost import XGBClassifier\n",
    "\n",
    "train = pd.read_csv(r'C:\\Users\\ADMIN\\PycharmProjects\\ESAA\\data\\wine\\train.csv')\n",
    "test = pd.read_csv(r'C:\\Users\\ADMIN\\PycharmProjects\\ESAA\\data\\wine\\test.csv')\n",
    "\n",
    "train.drop('index',axis = 1 ,inplace =True)\n",
    "test.drop('index',axis = 1 ,inplace =True)"
   ],
   "metadata": {
    "collapsed": false,
    "pycharm": {
     "name": "#%%\n"
    }
   }
  },
  {
   "cell_type": "code",
   "execution_count": 61,
   "outputs": [
    {
     "data": {
      "text/plain": "   quality  fixed acidity  volatile acidity  citric acid  residual sugar  \\\n0        5            5.6             0.695         0.06             6.8   \n1        5            8.8             0.610         0.14             2.4   \n2        5            7.9             0.210         0.39             2.0   \n3        6            7.0             0.210         0.31             6.0   \n4        6            7.8             0.400         0.26             9.5   \n\n   chlorides  free sulfur dioxide  total sulfur dioxide  density    pH  \\\n0      0.042                  9.0                  84.0  0.99432  3.44   \n1      0.067                 10.0                  42.0  0.99690  3.19   \n2      0.057                 21.0                 138.0  0.99176  3.05   \n3      0.046                 29.0                 108.0  0.99390  3.26   \n4      0.059                 32.0                 178.0  0.99550  3.04   \n\n   sulphates  alcohol   type  \n0       0.44     10.2  white  \n1       0.59      9.5    red  \n2       0.52     10.9  white  \n3       0.50     10.8  white  \n4       0.43     10.9  white  ",
      "text/html": "<div>\n<style scoped>\n    .dataframe tbody tr th:only-of-type {\n        vertical-align: middle;\n    }\n\n    .dataframe tbody tr th {\n        vertical-align: top;\n    }\n\n    .dataframe thead th {\n        text-align: right;\n    }\n</style>\n<table border=\"1\" class=\"dataframe\">\n  <thead>\n    <tr style=\"text-align: right;\">\n      <th></th>\n      <th>quality</th>\n      <th>fixed acidity</th>\n      <th>volatile acidity</th>\n      <th>citric acid</th>\n      <th>residual sugar</th>\n      <th>chlorides</th>\n      <th>free sulfur dioxide</th>\n      <th>total sulfur dioxide</th>\n      <th>density</th>\n      <th>pH</th>\n      <th>sulphates</th>\n      <th>alcohol</th>\n      <th>type</th>\n    </tr>\n  </thead>\n  <tbody>\n    <tr>\n      <th>0</th>\n      <td>5</td>\n      <td>5.6</td>\n      <td>0.695</td>\n      <td>0.06</td>\n      <td>6.8</td>\n      <td>0.042</td>\n      <td>9.0</td>\n      <td>84.0</td>\n      <td>0.99432</td>\n      <td>3.44</td>\n      <td>0.44</td>\n      <td>10.2</td>\n      <td>white</td>\n    </tr>\n    <tr>\n      <th>1</th>\n      <td>5</td>\n      <td>8.8</td>\n      <td>0.610</td>\n      <td>0.14</td>\n      <td>2.4</td>\n      <td>0.067</td>\n      <td>10.0</td>\n      <td>42.0</td>\n      <td>0.99690</td>\n      <td>3.19</td>\n      <td>0.59</td>\n      <td>9.5</td>\n      <td>red</td>\n    </tr>\n    <tr>\n      <th>2</th>\n      <td>5</td>\n      <td>7.9</td>\n      <td>0.210</td>\n      <td>0.39</td>\n      <td>2.0</td>\n      <td>0.057</td>\n      <td>21.0</td>\n      <td>138.0</td>\n      <td>0.99176</td>\n      <td>3.05</td>\n      <td>0.52</td>\n      <td>10.9</td>\n      <td>white</td>\n    </tr>\n    <tr>\n      <th>3</th>\n      <td>6</td>\n      <td>7.0</td>\n      <td>0.210</td>\n      <td>0.31</td>\n      <td>6.0</td>\n      <td>0.046</td>\n      <td>29.0</td>\n      <td>108.0</td>\n      <td>0.99390</td>\n      <td>3.26</td>\n      <td>0.50</td>\n      <td>10.8</td>\n      <td>white</td>\n    </tr>\n    <tr>\n      <th>4</th>\n      <td>6</td>\n      <td>7.8</td>\n      <td>0.400</td>\n      <td>0.26</td>\n      <td>9.5</td>\n      <td>0.059</td>\n      <td>32.0</td>\n      <td>178.0</td>\n      <td>0.99550</td>\n      <td>3.04</td>\n      <td>0.43</td>\n      <td>10.9</td>\n      <td>white</td>\n    </tr>\n  </tbody>\n</table>\n</div>"
     },
     "execution_count": 61,
     "metadata": {},
     "output_type": "execute_result"
    }
   ],
   "source": [
    "# 데이터 확인\n",
    "train.head()"
   ],
   "metadata": {
    "collapsed": false,
    "pycharm": {
     "name": "#%%\n"
    }
   }
  },
  {
   "cell_type": "code",
   "execution_count": 62,
   "outputs": [
    {
     "data": {
      "text/plain": "   fixed acidity  volatile acidity  citric acid  residual sugar  chlorides  \\\n0            9.0              0.31         0.48             6.6      0.043   \n1           13.3              0.43         0.58             1.9      0.070   \n2            6.5              0.28         0.27             5.2      0.040   \n3            7.2              0.15         0.39             1.8      0.043   \n4            6.8              0.26         0.26             2.0      0.019   \n\n   free sulfur dioxide  total sulfur dioxide  density    pH  sulphates  \\\n0                 11.0                  73.0  0.99380  2.90       0.38   \n1                 15.0                  40.0  1.00040  3.06       0.49   \n2                 44.0                 179.0  0.99480  3.19       0.69   \n3                 21.0                 159.0  0.99480  3.52       0.47   \n4                 23.5                  72.0  0.99041  3.16       0.47   \n\n   alcohol   type  \n0     11.6  white  \n1      9.0    red  \n2      9.4  white  \n3     10.0  white  \n4     11.8  white  ",
      "text/html": "<div>\n<style scoped>\n    .dataframe tbody tr th:only-of-type {\n        vertical-align: middle;\n    }\n\n    .dataframe tbody tr th {\n        vertical-align: top;\n    }\n\n    .dataframe thead th {\n        text-align: right;\n    }\n</style>\n<table border=\"1\" class=\"dataframe\">\n  <thead>\n    <tr style=\"text-align: right;\">\n      <th></th>\n      <th>fixed acidity</th>\n      <th>volatile acidity</th>\n      <th>citric acid</th>\n      <th>residual sugar</th>\n      <th>chlorides</th>\n      <th>free sulfur dioxide</th>\n      <th>total sulfur dioxide</th>\n      <th>density</th>\n      <th>pH</th>\n      <th>sulphates</th>\n      <th>alcohol</th>\n      <th>type</th>\n    </tr>\n  </thead>\n  <tbody>\n    <tr>\n      <th>0</th>\n      <td>9.0</td>\n      <td>0.31</td>\n      <td>0.48</td>\n      <td>6.6</td>\n      <td>0.043</td>\n      <td>11.0</td>\n      <td>73.0</td>\n      <td>0.99380</td>\n      <td>2.90</td>\n      <td>0.38</td>\n      <td>11.6</td>\n      <td>white</td>\n    </tr>\n    <tr>\n      <th>1</th>\n      <td>13.3</td>\n      <td>0.43</td>\n      <td>0.58</td>\n      <td>1.9</td>\n      <td>0.070</td>\n      <td>15.0</td>\n      <td>40.0</td>\n      <td>1.00040</td>\n      <td>3.06</td>\n      <td>0.49</td>\n      <td>9.0</td>\n      <td>red</td>\n    </tr>\n    <tr>\n      <th>2</th>\n      <td>6.5</td>\n      <td>0.28</td>\n      <td>0.27</td>\n      <td>5.2</td>\n      <td>0.040</td>\n      <td>44.0</td>\n      <td>179.0</td>\n      <td>0.99480</td>\n      <td>3.19</td>\n      <td>0.69</td>\n      <td>9.4</td>\n      <td>white</td>\n    </tr>\n    <tr>\n      <th>3</th>\n      <td>7.2</td>\n      <td>0.15</td>\n      <td>0.39</td>\n      <td>1.8</td>\n      <td>0.043</td>\n      <td>21.0</td>\n      <td>159.0</td>\n      <td>0.99480</td>\n      <td>3.52</td>\n      <td>0.47</td>\n      <td>10.0</td>\n      <td>white</td>\n    </tr>\n    <tr>\n      <th>4</th>\n      <td>6.8</td>\n      <td>0.26</td>\n      <td>0.26</td>\n      <td>2.0</td>\n      <td>0.019</td>\n      <td>23.5</td>\n      <td>72.0</td>\n      <td>0.99041</td>\n      <td>3.16</td>\n      <td>0.47</td>\n      <td>11.8</td>\n      <td>white</td>\n    </tr>\n  </tbody>\n</table>\n</div>"
     },
     "execution_count": 62,
     "metadata": {},
     "output_type": "execute_result"
    }
   ],
   "source": [
    "test.head()"
   ],
   "metadata": {
    "collapsed": false,
    "pycharm": {
     "name": "#%%\n"
    }
   }
  },
  {
   "cell_type": "code",
   "execution_count": 63,
   "outputs": [],
   "source": [
    "# 원핫 인코딩 (pd.get_dummies())\n",
    "train_one = pd.get_dummies(train)\n",
    "test_one = pd.get_dummies(test)\n"
   ],
   "metadata": {
    "collapsed": false,
    "pycharm": {
     "name": "#%%\n"
    }
   }
  },
  {
   "cell_type": "code",
   "execution_count": 64,
   "outputs": [],
   "source": [
    "# 모델 정의\n",
    "model=XGBClassifier()"
   ],
   "metadata": {
    "collapsed": false,
    "pycharm": {
     "name": "#%%\n"
    }
   }
  },
  {
   "cell_type": "code",
   "execution_count": 69,
   "outputs": [
    {
     "name": "stderr",
     "output_type": "stream",
     "text": [
      "c:\\users\\admin\\appdata\\local\\programs\\python\\python36\\lib\\site-packages\\xgboost\\sklearn.py:1224: UserWarning: The use of label encoder in XGBClassifier is deprecated and will be removed in a future release. To remove this warning, do the following: 1) Pass option use_label_encoder=False when constructing XGBClassifier object; and 2) Encode your labels (y) as integers starting with 0, i.e. 0, 1, 2, ..., [num_class - 1].\n",
      "  warnings.warn(label_encoder_deprecation_msg, UserWarning)\n"
     ]
    },
    {
     "name": "stdout",
     "output_type": "stream",
     "text": [
      "[19:10:52] WARNING: C:/Users/Administrator/workspace/xgboost-win64_release_1.5.1/src/learner.cc:1115: Starting in XGBoost 1.3.0, the default evaluation metric used with the objective 'multi:softprob' was changed from 'merror' to 'mlogloss'. Explicitly set eval_metric if you'd like to restore the old behavior.\n"
     ]
    },
    {
     "data": {
      "text/plain": "XGBClassifier(base_score=0.5, booster='gbtree', colsample_bylevel=1,\n              colsample_bynode=1, colsample_bytree=1, enable_categorical=False,\n              gamma=0, gpu_id=-1, importance_type=None,\n              interaction_constraints='', learning_rate=0.300000012,\n              max_delta_step=0, max_depth=6, min_child_weight=1, missing=nan,\n              monotone_constraints='()', n_estimators=100, n_jobs=4,\n              num_parallel_tree=1, objective='multi:softprob', predictor='auto',\n              random_state=0, reg_alpha=0, reg_lambda=1, scale_pos_weight=None,\n              subsample=1, tree_method='exact', validate_parameters=1,\n              verbosity=None)"
     },
     "execution_count": 69,
     "metadata": {},
     "output_type": "execute_result"
    }
   ],
   "source": [
    "# 모델 학습\n",
    "\n",
    "# X 는 train에서 quality 를 제외한 모든 변수\n",
    "# y 는 train의 qulity 변수\n",
    "X = train_one.drop('quality', axis=1)\n",
    "y = train_one['quality']\n",
    "\n",
    "# fit 메소드를 이용해 모델 학습\n",
    "model.fit(X,y)"
   ],
   "metadata": {
    "collapsed": false,
    "pycharm": {
     "name": "#%%\n"
    }
   }
  },
  {
   "cell_type": "code",
   "execution_count": 70,
   "outputs": [],
   "source": [
    "# predict 메소드와 test_one 데이터를 이용해 품질 예측\n",
    "pred = model.predict(test_one)"
   ],
   "metadata": {
    "collapsed": false,
    "pycharm": {
     "name": "#%%\n"
    }
   }
  },
  {
   "cell_type": "code",
   "execution_count": 75,
   "outputs": [
    {
     "data": {
      "text/plain": "   index  quality\n0      0        5\n1      1        6\n2      2        6\n3      3        5\n4      4        6",
      "text/html": "<div>\n<style scoped>\n    .dataframe tbody tr th:only-of-type {\n        vertical-align: middle;\n    }\n\n    .dataframe tbody tr th {\n        vertical-align: top;\n    }\n\n    .dataframe thead th {\n        text-align: right;\n    }\n</style>\n<table border=\"1\" class=\"dataframe\">\n  <thead>\n    <tr style=\"text-align: right;\">\n      <th></th>\n      <th>index</th>\n      <th>quality</th>\n    </tr>\n  </thead>\n  <tbody>\n    <tr>\n      <th>0</th>\n      <td>0</td>\n      <td>5</td>\n    </tr>\n    <tr>\n      <th>1</th>\n      <td>1</td>\n      <td>6</td>\n    </tr>\n    <tr>\n      <th>2</th>\n      <td>2</td>\n      <td>6</td>\n    </tr>\n    <tr>\n      <th>3</th>\n      <td>3</td>\n      <td>5</td>\n    </tr>\n    <tr>\n      <th>4</th>\n      <td>4</td>\n      <td>6</td>\n    </tr>\n  </tbody>\n</table>\n</div>"
     },
     "execution_count": 75,
     "metadata": {},
     "output_type": "execute_result"
    }
   ],
   "source": [
    "# sample_submission.csv 파일을 불러와 예측된 값으로 채워 주기\n",
    "submission = pd.read_csv(r'C:\\Users\\ADMIN\\PycharmProjects\\ESAA\\data\\wine\\sample_submission.csv')\n",
    "submission['quality'] = pred\n",
    "submission.head()"
   ],
   "metadata": {
    "collapsed": false,
    "pycharm": {
     "name": "#%%\n"
    }
   }
  },
  {
   "cell_type": "code",
   "execution_count": 76,
   "outputs": [],
   "source": [
    "# 정답파일 내보내기\n",
    "submission.to_csv('xgb_pred.csv',index = False)"
   ],
   "metadata": {
    "collapsed": false,
    "pycharm": {
     "name": "#%%\n"
    }
   }
  },
  {
   "cell_type": "code",
   "execution_count": null,
   "outputs": [],
   "source": [],
   "metadata": {
    "collapsed": false,
    "pycharm": {
     "name": "#%%\n"
    }
   }
  }
 ],
 "metadata": {
  "kernelspec": {
   "display_name": "Python 3",
   "language": "python",
   "name": "python3"
  },
  "language_info": {
   "codemirror_mode": {
    "name": "ipython",
    "version": 2
   },
   "file_extension": ".py",
   "mimetype": "text/x-python",
   "name": "python",
   "nbconvert_exporter": "python",
   "pygments_lexer": "ipython2",
   "version": "2.7.6"
  }
 },
 "nbformat": 4,
 "nbformat_minor": 0
}