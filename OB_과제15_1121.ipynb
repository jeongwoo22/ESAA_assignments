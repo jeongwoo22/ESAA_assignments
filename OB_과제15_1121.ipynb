{
  "nbformat": 4,
  "nbformat_minor": 0,
  "metadata": {
    "colab": {
      "provenance": [],
      "authorship_tag": "ABX9TyOhpeTYFQAgyJwweQ56nC0c",
      "include_colab_link": true
    },
    "kernelspec": {
      "name": "python3",
      "display_name": "Python 3"
    },
    "language_info": {
      "name": "python"
    }
  },
  "cells": [
    {
      "cell_type": "markdown",
      "metadata": {
        "id": "view-in-github",
        "colab_type": "text"
      },
      "source": [
        "<a href=\"https://colab.research.google.com/github/jeongwoo22/ESAA_assignments/blob/main/OB_%EA%B3%BC%EC%A0%9C15_1121.ipynb\" target=\"_parent\"><img src=\"https://colab.research.google.com/assets/colab-badge.svg\" alt=\"Open In Colab\"/></a>"
      ]
    },
    {
      "cell_type": "markdown",
      "source": [
        "# 파이썬 추천 시스템 패키지 - Surprise"
      ],
      "metadata": {
        "id": "wasRuJBLb3WL"
      }
    },
    {
      "cell_type": "markdown",
      "source": [
        "- Surprise : 파이썬 기반의 추천 시스템 구축을 위한 전용 패키지\n",
        "-  SVD, SVD++, NMF 기반의 잠재 요인 협업 필터링을 쉽게 적용해 추천 시스템을 구축 가능"
      ],
      "metadata": {
        "id": "H-ZlfQM8b-3D"
      }
    },
    {
      "cell_type": "code",
      "execution_count": 1,
      "metadata": {
        "colab": {
          "base_uri": "https://localhost:8080/"
        },
        "id": "Yl2wo9kjbz_B",
        "outputId": "a67e1ade-8f76-4229-85bf-32ea65726918"
      },
      "outputs": [
        {
          "output_type": "stream",
          "name": "stdout",
          "text": [
            "Looking in indexes: https://pypi.org/simple, https://us-python.pkg.dev/colab-wheels/public/simple/\n",
            "Collecting scikit-surprise\n",
            "  Downloading scikit-surprise-1.1.1.tar.gz (11.8 MB)\n",
            "\u001b[K     |████████████████████████████████| 11.8 MB 18.4 MB/s \n",
            "\u001b[?25hRequirement already satisfied: joblib>=0.11 in /usr/local/lib/python3.7/dist-packages (from scikit-surprise) (1.2.0)\n",
            "Requirement already satisfied: numpy>=1.11.2 in /usr/local/lib/python3.7/dist-packages (from scikit-surprise) (1.21.6)\n",
            "Requirement already satisfied: scipy>=1.0.0 in /usr/local/lib/python3.7/dist-packages (from scikit-surprise) (1.7.3)\n",
            "Requirement already satisfied: six>=1.10.0 in /usr/local/lib/python3.7/dist-packages (from scikit-surprise) (1.15.0)\n",
            "Building wheels for collected packages: scikit-surprise\n",
            "  Building wheel for scikit-surprise (setup.py) ... \u001b[?25l\u001b[?25hdone\n",
            "  Created wheel for scikit-surprise: filename=scikit_surprise-1.1.1-cp37-cp37m-linux_x86_64.whl size=1633992 sha256=981005a557f044798346278b175b6a0816ef8cd7f3e6d9a931ed3ca2475e296a\n",
            "  Stored in directory: /root/.cache/pip/wheels/76/44/74/b498c42be47b2406bd27994e16c5188e337c657025ab400c1c\n",
            "Successfully built scikit-surprise\n",
            "Installing collected packages: scikit-surprise\n",
            "Successfully installed scikit-surprise-1.1.1\n"
          ]
        }
      ],
      "source": [
        "pip install scikit-surprise"
      ]
    },
    {
      "cell_type": "code",
      "source": [
        "# Surprise를 이용한 추천 시스템 구축\n",
        "from surprise import SVD\n",
        "from surprise import Dataset\n",
        "from surprise import accuracy\n",
        "from surprise.model_selection import train_test_split"
      ],
      "metadata": {
        "id": "h7qvv23RcEiD"
      },
      "execution_count": 2,
      "outputs": []
    },
    {
      "cell_type": "code",
      "source": [
        "data = Dataset.load_builtin('ml-100k') # 10만개 평점데이터\n",
        "# 수행 시마다 동일하게 데이터를 내려받기 위해 random_state값 부여\n",
        "trainset, testset = train_test_split(data, test_size=0.25, random_state=0)"
      ],
      "metadata": {
        "colab": {
          "base_uri": "https://localhost:8080/"
        },
        "id": "awTY-RS2cKJS",
        "outputId": "fff87735-e403-49ed-cb16-6c9f135942ea"
      },
      "execution_count": 4,
      "outputs": [
        {
          "output_type": "stream",
          "name": "stdout",
          "text": [
            "Dataset ml-100k could not be found. Do you want to download it? [Y/n] Y\n",
            "Trying to download dataset from http://files.grouplens.org/datasets/movielens/ml-100k.zip...\n",
            "Done! Dataset ml-100k has been saved to /root/.surprise_data/ml-100k\n"
          ]
        }
      ]
    },
    {
      "cell_type": "code",
      "source": [
        "algo = SVD()\n",
        "algo.fit(trainset)"
      ],
      "metadata": {
        "colab": {
          "base_uri": "https://localhost:8080/"
        },
        "id": "Mxp0tQCicMRD",
        "outputId": "301eb1c8-33ca-4025-d89e-b7244c41b336"
      },
      "execution_count": 5,
      "outputs": [
        {
          "output_type": "execute_result",
          "data": {
            "text/plain": [
              "<surprise.prediction_algorithms.matrix_factorization.SVD at 0x7f239c606cd0>"
            ]
          },
          "metadata": {},
          "execution_count": 5
        }
      ]
    },
    {
      "cell_type": "code",
      "source": [
        "predictions = algo.test(testset)\n",
        "print('prediction type:', type(predictions), ' size:', len(predictions))\n",
        "print( 'prediction 결과의 최초 5개 추출')\n",
        "predictions[:5]"
      ],
      "metadata": {
        "colab": {
          "base_uri": "https://localhost:8080/"
        },
        "id": "AoWLUuLJcN2Z",
        "outputId": "1e67a51c-cc7f-463a-e4e2-b58ebd7f6c49"
      },
      "execution_count": 6,
      "outputs": [
        {
          "output_type": "stream",
          "name": "stdout",
          "text": [
            "prediction type: <class 'list'>  size: 25000\n",
            "prediction 결과의 최초 5개 추출\n"
          ]
        },
        {
          "output_type": "execute_result",
          "data": {
            "text/plain": [
              "[Prediction(uid='120', iid='282', r_ui=4.0, est=3.5073358521842204, details={'was_impossible': False}),\n",
              " Prediction(uid='882', iid='291', r_ui=4.0, est=3.5776803931561365, details={'was_impossible': False}),\n",
              " Prediction(uid='535', iid='507', r_ui=5.0, est=4.040491856269718, details={'was_impossible': False}),\n",
              " Prediction(uid='697', iid='244', r_ui=5.0, est=3.582549047704505, details={'was_impossible': False}),\n",
              " Prediction(uid='751', iid='385', r_ui=4.0, est=3.394411293597915, details={'was_impossible': False})]"
            ]
          },
          "metadata": {},
          "execution_count": 6
        }
      ]
    },
    {
      "cell_type": "code",
      "source": [
        "# Prediction 객체에서 uid, iid, est 속성 추출\n",
        "[ (pred.uid, pred.iid, pred.est) for pred in predictions[:3]]"
      ],
      "metadata": {
        "colab": {
          "base_uri": "https://localhost:8080/"
        },
        "id": "virQrxR7cO-0",
        "outputId": "335bb165-3f97-4c56-870e-5403c1ff609f"
      },
      "execution_count": 7,
      "outputs": [
        {
          "output_type": "execute_result",
          "data": {
            "text/plain": [
              "[('120', '282', 3.5073358521842204),\n",
              " ('882', '291', 3.5776803931561365),\n",
              " ('535', '507', 4.040491856269718)]"
            ]
          },
          "metadata": {},
          "execution_count": 7
        }
      ]
    },
    {
      "cell_type": "code",
      "source": [
        "uid = str(196)\n",
        "iid = str(302)\n",
        "pred = algo.predict(uid, iid)\n",
        "print(pred)"
      ],
      "metadata": {
        "colab": {
          "base_uri": "https://localhost:8080/"
        },
        "id": "yUoeVFr0cQf6",
        "outputId": "55d61b0c-a664-4ba4-dcb7-1e9ea933cdd1"
      },
      "execution_count": 8,
      "outputs": [
        {
          "output_type": "stream",
          "name": "stdout",
          "text": [
            "user: 196        item: 302        r_ui = None   est = 4.08   {'was_impossible': False}\n"
          ]
        }
      ]
    },
    {
      "cell_type": "code",
      "source": [
        "accuracy.rmse(predictions)"
      ],
      "metadata": {
        "colab": {
          "base_uri": "https://localhost:8080/"
        },
        "id": "Gmm1CAtscSbT",
        "outputId": "979c096d-91f9-4aa4-f93c-0013159593d5"
      },
      "execution_count": 9,
      "outputs": [
        {
          "output_type": "stream",
          "name": "stdout",
          "text": [
            "RMSE: 0.9504\n"
          ]
        },
        {
          "output_type": "execute_result",
          "data": {
            "text/plain": [
              "0.9503643326894465"
            ]
          },
          "metadata": {},
          "execution_count": 9
        }
      ]
    },
    {
      "cell_type": "markdown",
      "source": [
        "## Surprise 주요 알고리즘"
      ],
      "metadata": {
        "id": "empIN3NxcT2a"
      }
    },
    {
      "cell_type": "markdown",
      "source": [
        "- 1.Dataset : user_id, item_id, rating \n",
        "- API, Dataset.load_builtin() : 무비렌즈 아카이브 FTP 서버에서 무비렌즈 데이터 다운\n",
        "- 2.OS 파일 데이터를 Surprise 데이터 세트로 로딩 + Surprise에 OS 파일 로딩시 데이터 파일에 칼럼명을 가지는 문자열 없어야함"
      ],
      "metadata": {
        "id": "cr8yPn5mcXqK"
      }
    },
    {
      "cell_type": "markdown",
      "source": [
        "- SVD : 행렬 분해를 통핸 잠재 요인 협업 필터링을 위한 SVD 알고리즘\n",
        "- KNNBasic : 최근접 이웃 협업 필터링을 위한 KNN 알고리즘\n",
        "- BaselineOnly : 사용자 Bias와 아이템 Bias를 감안한 SGD 베이스라인 알고리즘"
      ],
      "metadata": {
        "id": "rEC8znJdcx9R"
      }
    },
    {
      "cell_type": "markdown",
      "source": [
        "- 베이스라인 평점 : 개인의 성향을 반영해 아이템 평가에 편향성 요소를 반영하여 평점을 부과"
      ],
      "metadata": {
        "id": "A9CVG5Gtc2zr"
      }
    },
    {
      "cell_type": "markdown",
      "source": [
        "- cross_validate() : 폴드된 데이터 세트의 개수와 성능측정방법을 명시해 교차 검증을 수행"
      ],
      "metadata": {
        "id": "fVge0Jjrc6De"
      }
    }
  ]
}