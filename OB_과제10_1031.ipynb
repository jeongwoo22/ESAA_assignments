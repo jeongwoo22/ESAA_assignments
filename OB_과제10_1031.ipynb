{
  "nbformat": 4,
  "nbformat_minor": 0,
  "metadata": {
    "colab": {
      "provenance": [],
      "collapsed_sections": [],
      "authorship_tag": "ABX9TyP7lOXssyjtWq2m4/CYhNBl",
      "include_colab_link": true
    },
    "kernelspec": {
      "name": "python3",
      "display_name": "Python 3"
    },
    "language_info": {
      "name": "python"
    }
  },
  "cells": [
    {
      "cell_type": "markdown",
      "metadata": {
        "id": "view-in-github",
        "colab_type": "text"
      },
      "source": [
        "<a href=\"https://colab.research.google.com/github/jeongwoo22/ESAA_assignments/blob/main/OB_%EA%B3%BC%EC%A0%9C10_1031.ipynb\" target=\"_parent\"><img src=\"https://colab.research.google.com/assets/colab-badge.svg\" alt=\"Open In Colab\"/></a>"
      ]
    },
    {
      "cell_type": "markdown",
      "source": [
        "# 텍스트 분류 실습 - 20 뉴스그룹 분류 \n",
        "- 파이썬 머신러닝 완벽 가이드 487~496"
      ],
      "metadata": {
        "id": "V9yUY9Nim_aY"
      }
    },
    {
      "cell_type": "markdown",
      "source": [
        "- 텍스트 분류 : 특정 문서의 분류를 학습 데이터를 통해 학습해 모델을 생성한 뒤 이 하습 모델을 이용해 다른 문서의 분류를 예측\n",
        "- 텍스트 ==> 피처 벡터화로 변환하면 **희소행렬 형태가 된다** \n",
        "- 희소 행렬에 분류를 잘하는 것 : 로지스틱 회귀, 선형 서포트 벡터 머신, 나이브 베이즈 등\n",
        "- 텍스트를 기반으로 분류를 수행할 때는 먼저 텍스트를 정규화한 뒤 피처 벡터화를 적용 ==> 적합한 머신러닝 알고리즘을 적용해 분류를 학습/예측/평가 "
      ],
      "metadata": {
        "id": "4AXFHI_unI_H"
      }
    },
    {
      "cell_type": "markdown",
      "source": [
        "## 텍스트 정규화"
      ],
      "metadata": {
        "id": "iWCK8A3inn3t"
      }
    },
    {
      "cell_type": "code",
      "execution_count": 1,
      "metadata": {
        "id": "cDAqDQD0m7_s"
      },
      "outputs": [],
      "source": [
        "from sklearn.datasets import fetch_20newsgroups\n",
        "\n",
        "news_data = fetch_20newsgroups(subset='all',random_state=156)"
      ]
    },
    {
      "cell_type": "code",
      "source": [
        "# fetch_20~ 은 사이킷런의 다른 데이터 세트 예제와 같이 파이썬 딕셔너리와 유사한 bunch 객체를 반환\n",
        "news_data.keys()"
      ],
      "metadata": {
        "colab": {
          "base_uri": "https://localhost:8080/"
        },
        "id": "JkuBsjAfn7bp",
        "outputId": "8f6426d6-eb50-44a4-cb4b-5f8c93934c21"
      },
      "execution_count": 3,
      "outputs": [
        {
          "output_type": "execute_result",
          "data": {
            "text/plain": [
              "dict_keys(['data', 'filenames', 'target_names', 'target', 'DESCR'])"
            ]
          },
          "metadata": {},
          "execution_count": 3
        }
      ]
    },
    {
      "cell_type": "markdown",
      "source": [
        "- 파일 네임에 key 이름이 눈에 띔 ==> 패키지 api 가 인터넷에서 내려받아 로컬 컴퓨터에 저장하는 디렉터리와 파일명을 지칭"
      ],
      "metadata": {
        "id": "Xah5AYJZoRHq"
      }
    },
    {
      "cell_type": "code",
      "source": [
        "print(\"target 클래스의 이름\")\n",
        "print(news_data.target_names)"
      ],
      "metadata": {
        "colab": {
          "base_uri": "https://localhost:8080/"
        },
        "id": "3QkcULB-oF82",
        "outputId": "6bd1b19a-950e-4021-973c-d7a309f6b0a7"
      },
      "execution_count": 4,
      "outputs": [
        {
          "output_type": "stream",
          "name": "stdout",
          "text": [
            "target 클래스의 이름\n",
            "['alt.atheism', 'comp.graphics', 'comp.os.ms-windows.misc', 'comp.sys.ibm.pc.hardware', 'comp.sys.mac.hardware', 'comp.windows.x', 'misc.forsale', 'rec.autos', 'rec.motorcycles', 'rec.sport.baseball', 'rec.sport.hockey', 'sci.crypt', 'sci.electronics', 'sci.med', 'sci.space', 'soc.religion.christian', 'talk.politics.guns', 'talk.politics.mideast', 'talk.politics.misc', 'talk.religion.misc']\n"
          ]
        }
      ]
    },
    {
      "cell_type": "markdown",
      "source": [
        "- 클래스는 0~ 19까지 20개"
      ],
      "metadata": {
        "id": "7wgAseazokYz"
      }
    },
    {
      "cell_type": "code",
      "source": [
        "print(news_data.data[0])"
      ],
      "metadata": {
        "colab": {
          "base_uri": "https://localhost:8080/"
        },
        "id": "y1k02J9goiT2",
        "outputId": "0fedef71-7e65-4360-bb1f-094f46399c61"
      },
      "execution_count": 5,
      "outputs": [
        {
          "output_type": "stream",
          "name": "stdout",
          "text": [
            "From: egreen@east.sun.com (Ed Green - Pixel Cruncher)\n",
            "Subject: Re: Observation re: helmets\n",
            "Organization: Sun Microsystems, RTP, NC\n",
            "Lines: 21\n",
            "Distribution: world\n",
            "Reply-To: egreen@east.sun.com\n",
            "NNTP-Posting-Host: laser.east.sun.com\n",
            "\n",
            "In article 211353@mavenry.altcit.eskimo.com, maven@mavenry.altcit.eskimo.com (Norman Hamer) writes:\n",
            "> \n",
            "> The question for the day is re: passenger helmets, if you don't know for \n",
            ">certain who's gonna ride with you (like say you meet them at a .... church \n",
            ">meeting, yeah, that's the ticket)... What are some guidelines? Should I just \n",
            ">pick up another shoei in my size to have a backup helmet (XL), or should I \n",
            ">maybe get an inexpensive one of a smaller size to accomodate my likely \n",
            ">passenger? \n",
            "\n",
            "If your primary concern is protecting the passenger in the event of a\n",
            "crash, have him or her fitted for a helmet that is their size.  If your\n",
            "primary concern is complying with stupid helmet laws, carry a real big\n",
            "spare (you can put a big or small head in a big helmet, but not in a\n",
            "small one).\n",
            "\n",
            "---\n",
            "Ed Green, former Ninjaite |I was drinking last night with a biker,\n",
            "  Ed.Green@East.Sun.COM   |and I showed him a picture of you.  I said,\n",
            "DoD #0111  (919)460-8302  |\"Go on, get to know her, you'll like her!\"\n",
            " (The Grateful Dead) -->  |It seemed like the least I could do...\n",
            "\n",
            "\n"
          ]
        }
      ]
    },
    {
      "cell_type": "markdown",
      "source": [
        "- 개별 텍스트 데이터는 기사 내용과 더불어 작성자, 소속, 이메일 등 다양한 정보가 있다.\n",
        "- 제목, 소속 등 정보는 뉴스그룹 분류의 target과 유사한 데이터를 가진 경우가 많기에 내용을 제외한 정보는 제거한다.\n",
        "- 순수한 텍스트만으로 어떤 뉴스그룹에 속하는지 확인한다."
      ],
      "metadata": {
        "id": "LjH8Zflnoqz5"
      }
    },
    {
      "cell_type": "code",
      "source": [
        "# train - 내용 외 정보 제거\n",
        "train_news= fetch_20newsgroups(subset='train', remove=('headers', 'footers', 'quotes'), random_state=156)\n",
        "X_train = train_news.data\n",
        "y_train = train_news.target\n",
        "print(type(X_train))"
      ],
      "metadata": {
        "colab": {
          "base_uri": "https://localhost:8080/"
        },
        "id": "DAT73Dl6opFO",
        "outputId": "a0946bb4-a499-446c-dd4d-c058360f396c"
      },
      "execution_count": 6,
      "outputs": [
        {
          "output_type": "stream",
          "name": "stdout",
          "text": [
            "<class 'list'>\n"
          ]
        }
      ]
    },
    {
      "cell_type": "code",
      "source": [
        "# test - 내용 외 정보 제거\n",
        "test_news= fetch_20newsgroups(subset='test',remove=('headers', 'footers','quotes'),random_state=156)\n",
        "X_test = test_news.data\n",
        "y_test = test_news.target"
      ],
      "metadata": {
        "id": "Ogr5-VOKo3Ut"
      },
      "execution_count": 7,
      "outputs": []
    },
    {
      "cell_type": "markdown",
      "source": [
        "- 데이터를 불러올 때 remove로 헤더, 푸터 등의 정보를 제거하여 불러왔다.\n",
        "\n",
        "- subset을 이용해서 train, test도 분리하였다.\n",
        "\n",
        "- 11,314개의 뉴스그룹 문서가 리스트 형태로 train, 7,532개가 test로 주어졌다."
      ],
      "metadata": {
        "id": "0GOl8XaNo99F"
      }
    },
    {
      "cell_type": "markdown",
      "source": [
        "## 피처 벡터화 변환과 머신러닝 모델 학습/ 예측 /평가 "
      ],
      "metadata": {
        "id": "q5eHk-rZpB4h"
      }
    },
    {
      "cell_type": "markdown",
      "source": [
        "- 학습 데이터 : 11314개의 뉴스그룹 문서 (리스트)\n",
        "- 테스트 데이터 : 7532개의 문서 (리스트)\n",
        "- countvectorizer 로 학습 데이터 텍스트를 피처 벡터화 함 ==> 이 때 테스트 데이터 셋도 피처 벡터화 할 때 반드시 학습 데이터를 이용애 fit 이 수행된 countvecterizer  객체로 데이터 변환 해야함 ==> 그래야 피처 개수가 같아짐. \n",
        "- ++ fit_transform() 을 사용하면 안됨. => 피처 개수가 달라짐"
      ],
      "metadata": {
        "id": "G_2WTiH-pFqD"
      }
    },
    {
      "cell_type": "code",
      "source": [
        "from sklearn.feature_extraction.text import CountVectorizer\n",
        "\n",
        "cnt_vect = CountVectorizer()\n",
        "cnt_vect.fit(X_train)\n",
        "X_train_cnt_vect = cnt_vect.transform(X_train)\n",
        "X_test_cnt_vect = cnt_vect.transform(X_test)\n",
        "\n",
        "print(f\"학습 데이터 Text의 CountVectorizer Shape: {X_train_cnt_vect.shape}\")"
      ],
      "metadata": {
        "colab": {
          "base_uri": "https://localhost:8080/"
        },
        "id": "AgKDq5f_o8HX",
        "outputId": "76c7a37b-9adb-4952-efee-92120dc00799"
      },
      "execution_count": 8,
      "outputs": [
        {
          "output_type": "stream",
          "name": "stdout",
          "text": [
            "학습 데이터 Text의 CountVectorizer Shape: (11314, 101631)\n"
          ]
        }
      ]
    },
    {
      "cell_type": "markdown",
      "source": [
        "- 피처 벡터화로 피처를 추출한 결과 101,631개의 피처(단어)가 만들어졌다.\n",
        "\n",
        "- 피처 벡터화시 반드시 train으로 학습한 벡터화 객체로 test를 벡터화 하여야한다."
      ],
      "metadata": {
        "id": "O0UKMXLsp09H"
      }
    },
    {
      "cell_type": "code",
      "source": [
        "from sklearn.linear_model import LogisticRegression\n",
        "from sklearn.metrics import accuracy_score\n",
        "\n",
        "# 로지스틱 회귀\n",
        "lr_clf = LogisticRegression()\n",
        "lr_clf.fit(X_train_cnt_vect , y_train)\n",
        "pred = lr_clf.predict(X_test_cnt_vect)\n",
        "lr_acc = accuracy_score(y_test, pred)\n",
        "\n",
        "print(f\"CountVectorized Logistic Regression 예측 정확도: {lr_acc:.3f}\")"
      ],
      "metadata": {
        "colab": {
          "base_uri": "https://localhost:8080/"
        },
        "id": "AFrO2SLGpx_X",
        "outputId": "271faeb0-23f6-4596-f3a8-7488ed823831"
      },
      "execution_count": 9,
      "outputs": [
        {
          "output_type": "stream",
          "name": "stdout",
          "text": [
            "CountVectorized Logistic Regression 예측 정확도: 0.608\n"
          ]
        },
        {
          "output_type": "stream",
          "name": "stderr",
          "text": [
            "/usr/local/lib/python3.7/dist-packages/sklearn/linear_model/_logistic.py:818: ConvergenceWarning: lbfgs failed to converge (status=1):\n",
            "STOP: TOTAL NO. of ITERATIONS REACHED LIMIT.\n",
            "\n",
            "Increase the number of iterations (max_iter) or scale the data as shown in:\n",
            "    https://scikit-learn.org/stable/modules/preprocessing.html\n",
            "Please also refer to the documentation for alternative solver options:\n",
            "    https://scikit-learn.org/stable/modules/linear_model.html#logistic-regression\n",
            "  extra_warning_msg=_LOGISTIC_SOLVER_CONVERGENCE_MSG,\n"
          ]
        }
      ]
    },
    {
      "cell_type": "markdown",
      "source": [
        "- Count 벡터화 후 로지스틱 회귀분석의 예측 정확도 :  0.604"
      ],
      "metadata": {
        "id": "ROu3_4LCqBle"
      }
    },
    {
      "cell_type": "code",
      "source": [
        "from sklearn.feature_extraction.text import TfidfVectorizer\n",
        "\n",
        "# TF-IDF 벡터화 후 로지스틱 회귀분석을 진행\n",
        "# TF-IDF Vectorization - train\n",
        "tfidf_vect = TfidfVectorizer()\n",
        "tfidf_vect.fit(X_train)\n",
        "X_train_tfidf_vect = tfidf_vect.transform(X_train)\n",
        "\n",
        "# TF-IDF Vectorization - test\n",
        "X_test_tfidf_vect = tfidf_vect.transform(X_test)\n",
        "\n",
        "# 로지스틱 회귀\n",
        "lr_clf = LogisticRegression()\n",
        "lr_clf.fit(X_train_tfidf_vect , y_train)\n",
        "pred = lr_clf.predict(X_test_tfidf_vect)\n",
        "lr_acc = accuracy_score(y_test, pred)\n",
        "\n",
        "print(f\"TF-IDF Logistic Regression 예측 정확도: {lr_acc:.3f}\")"
      ],
      "metadata": {
        "colab": {
          "base_uri": "https://localhost:8080/"
        },
        "id": "NYXyeYuFp82-",
        "outputId": "3510a14f-7dd8-4da7-cbd9-ddf8e04d4acc"
      },
      "execution_count": 10,
      "outputs": [
        {
          "output_type": "stream",
          "name": "stdout",
          "text": [
            "TF-IDF Logistic Regression 예측 정확도: 0.674\n"
          ]
        }
      ]
    },
    {
      "cell_type": "markdown",
      "source": [
        "- 예측 정확도가 0.674로 Count 벡터화에 비해 높게 나타났다.\n",
        "\n",
        "- 일반적으로 문서 내에 텍스트가 많고, 문서가 많은 경우 TF-IDF 벡터화가 더 좋은 결과를 도출한다."
      ],
      "metadata": {
        "id": "Ok63kmHvqPa4"
      }
    },
    {
      "cell_type": "code",
      "source": [
        "# 피처 벡터화의 파라미터 조정\n",
        "# TF-IDF Vectorization - train\n",
        "tfidf_vect = TfidfVectorizer(stop_words='english', ngram_range=(1,2), max_df=300 )\n",
        "tfidf_vect.fit(X_train)\n",
        "X_train_tfidf_vect = tfidf_vect.transform(X_train)\n",
        "\n",
        "# TF-IDF Vectorization - test\n",
        "X_test_tfidf_vect = tfidf_vect.transform(X_test)\n",
        "\n",
        "# 로지스틱 회귀\n",
        "lr_clf = LogisticRegression()\n",
        "lr_clf.fit(X_train_tfidf_vect , y_train)\n",
        "pred = lr_clf.predict(X_test_tfidf_vect)\n",
        "lr_acc = accuracy_score(y_test, pred)\n",
        "\n",
        "print(f\"TF-IDF 파라미터 조정 후 예측 정확도: {lr_acc:.3f}\")"
      ],
      "metadata": {
        "colab": {
          "base_uri": "https://localhost:8080/"
        },
        "id": "a-Dc6XhMqKPZ",
        "outputId": "c113c53f-9b22-45ea-8678-2ac3e3f88bf8"
      },
      "execution_count": 11,
      "outputs": [
        {
          "output_type": "stream",
          "name": "stdout",
          "text": [
            "TF-IDF 파라미터 조정 후 예측 정확도: 0.692\n"
          ]
        }
      ]
    },
    {
      "cell_type": "markdown",
      "source": [
        "- 피처 벡터화에서 stop_words로 영어를 지정하여 영어 스톱 워드는 제외한다.\n",
        "\n",
        "- ngram_range로 단어를 2개씩 묶어서 피처로 추출한다.\n",
        "\n",
        "- max_df로 전체 문서를 통틀어 300번 이상 존재하는 단어는 제외한다.\n",
        "\n",
        "- 앞서 파라미터를 디폴트로 설정하였을 때에 비해 예측 정확도가 증가하였다."
      ],
      "metadata": {
        "id": "lT5oCdOKqnQ9"
      }
    },
    {
      "cell_type": "code",
      "source": [
        "from sklearn.model_selection import GridSearchCV\n",
        "\n",
        "# 최적 하이퍼 파라미터: C\n",
        "params = {\n",
        "    \"C\":[0.01, 0.1, 1, 5, 10]\n",
        "}\n",
        "\n",
        "# GridSearchCV\n",
        "grid_cv_lr = GridSearchCV(lr_clf ,param_grid = params , cv=3 , scoring='accuracy' , verbose=1 )\n",
        "grid_cv_lr.fit(X_train_tfidf_vect , y_train)\n",
        "print('Logistic Regression best C parameter :',grid_cv_lr.best_params_ )\n",
        "\n",
        "# 최적 C 값으로 학습된 grid_cv로 예측/평가\n",
        "pred = grid_cv_lr.predict(X_test_tfidf_vect)\n",
        "lr_acc = accuracy_score(y_test, pred)\n",
        "\n",
        "print(f\"로지스틱 최적 하이퍼 파라미터 적용 후 예측 정확도: {lr_acc:.3f}\")"
      ],
      "metadata": {
        "colab": {
          "base_uri": "https://localhost:8080/"
        },
        "id": "tTOBt-WqqdSu",
        "outputId": "65f5fd55-59b4-4575-9c10-e03bb45a44c3"
      },
      "execution_count": 12,
      "outputs": [
        {
          "output_type": "stream",
          "name": "stdout",
          "text": [
            "Fitting 3 folds for each of 5 candidates, totalling 15 fits\n"
          ]
        },
        {
          "output_type": "stream",
          "name": "stderr",
          "text": [
            "/usr/local/lib/python3.7/dist-packages/sklearn/linear_model/_logistic.py:818: ConvergenceWarning: lbfgs failed to converge (status=1):\n",
            "STOP: TOTAL NO. of ITERATIONS REACHED LIMIT.\n",
            "\n",
            "Increase the number of iterations (max_iter) or scale the data as shown in:\n",
            "    https://scikit-learn.org/stable/modules/preprocessing.html\n",
            "Please also refer to the documentation for alternative solver options:\n",
            "    https://scikit-learn.org/stable/modules/linear_model.html#logistic-regression\n",
            "  extra_warning_msg=_LOGISTIC_SOLVER_CONVERGENCE_MSG,\n",
            "/usr/local/lib/python3.7/dist-packages/sklearn/linear_model/_logistic.py:818: ConvergenceWarning: lbfgs failed to converge (status=1):\n",
            "STOP: TOTAL NO. of ITERATIONS REACHED LIMIT.\n",
            "\n",
            "Increase the number of iterations (max_iter) or scale the data as shown in:\n",
            "    https://scikit-learn.org/stable/modules/preprocessing.html\n",
            "Please also refer to the documentation for alternative solver options:\n",
            "    https://scikit-learn.org/stable/modules/linear_model.html#logistic-regression\n",
            "  extra_warning_msg=_LOGISTIC_SOLVER_CONVERGENCE_MSG,\n",
            "/usr/local/lib/python3.7/dist-packages/sklearn/linear_model/_logistic.py:818: ConvergenceWarning: lbfgs failed to converge (status=1):\n",
            "STOP: TOTAL NO. of ITERATIONS REACHED LIMIT.\n",
            "\n",
            "Increase the number of iterations (max_iter) or scale the data as shown in:\n",
            "    https://scikit-learn.org/stable/modules/preprocessing.html\n",
            "Please also refer to the documentation for alternative solver options:\n",
            "    https://scikit-learn.org/stable/modules/linear_model.html#logistic-regression\n",
            "  extra_warning_msg=_LOGISTIC_SOLVER_CONVERGENCE_MSG,\n",
            "/usr/local/lib/python3.7/dist-packages/sklearn/linear_model/_logistic.py:818: ConvergenceWarning: lbfgs failed to converge (status=1):\n",
            "STOP: TOTAL NO. of ITERATIONS REACHED LIMIT.\n",
            "\n",
            "Increase the number of iterations (max_iter) or scale the data as shown in:\n",
            "    https://scikit-learn.org/stable/modules/preprocessing.html\n",
            "Please also refer to the documentation for alternative solver options:\n",
            "    https://scikit-learn.org/stable/modules/linear_model.html#logistic-regression\n",
            "  extra_warning_msg=_LOGISTIC_SOLVER_CONVERGENCE_MSG,\n",
            "/usr/local/lib/python3.7/dist-packages/sklearn/linear_model/_logistic.py:818: ConvergenceWarning: lbfgs failed to converge (status=1):\n",
            "STOP: TOTAL NO. of ITERATIONS REACHED LIMIT.\n",
            "\n",
            "Increase the number of iterations (max_iter) or scale the data as shown in:\n",
            "    https://scikit-learn.org/stable/modules/preprocessing.html\n",
            "Please also refer to the documentation for alternative solver options:\n",
            "    https://scikit-learn.org/stable/modules/linear_model.html#logistic-regression\n",
            "  extra_warning_msg=_LOGISTIC_SOLVER_CONVERGENCE_MSG,\n",
            "/usr/local/lib/python3.7/dist-packages/sklearn/linear_model/_logistic.py:818: ConvergenceWarning: lbfgs failed to converge (status=1):\n",
            "STOP: TOTAL NO. of ITERATIONS REACHED LIMIT.\n",
            "\n",
            "Increase the number of iterations (max_iter) or scale the data as shown in:\n",
            "    https://scikit-learn.org/stable/modules/preprocessing.html\n",
            "Please also refer to the documentation for alternative solver options:\n",
            "    https://scikit-learn.org/stable/modules/linear_model.html#logistic-regression\n",
            "  extra_warning_msg=_LOGISTIC_SOLVER_CONVERGENCE_MSG,\n",
            "/usr/local/lib/python3.7/dist-packages/sklearn/linear_model/_logistic.py:818: ConvergenceWarning: lbfgs failed to converge (status=1):\n",
            "STOP: TOTAL NO. of ITERATIONS REACHED LIMIT.\n",
            "\n",
            "Increase the number of iterations (max_iter) or scale the data as shown in:\n",
            "    https://scikit-learn.org/stable/modules/preprocessing.html\n",
            "Please also refer to the documentation for alternative solver options:\n",
            "    https://scikit-learn.org/stable/modules/linear_model.html#logistic-regression\n",
            "  extra_warning_msg=_LOGISTIC_SOLVER_CONVERGENCE_MSG,\n"
          ]
        },
        {
          "output_type": "stream",
          "name": "stdout",
          "text": [
            "Logistic Regression best C parameter : {'C': 10}\n",
            "로지스틱 최적 하이퍼 파라미터 적용 후 예측 정확도: 0.701\n"
          ]
        }
      ]
    },
    {
      "cell_type": "markdown",
      "source": [
        "- GridSearchCV를 이용하여 로지스틱 최적 하이퍼 파라미터를 찾았다.\n",
        "\n",
        "- 예측 정확도는 0.701으로 조금 상승하였다.\n",
        "\n",
        "- 단점 : 수행 시간이 매우 오래 걸린다."
      ],
      "metadata": {
        "id": "qXIzMgqaqxHs"
      }
    },
    {
      "cell_type": "markdown",
      "source": [
        "## 사이킷런 파이프라인(Pipeline) 사용 및 GridSearchCV 와의 결합"
      ],
      "metadata": {
        "id": "SgLTfUy-q5ZJ"
      }
    },
    {
      "cell_type": "code",
      "source": [
        "from sklearn.pipeline import Pipeline\n",
        "\n",
        "# TF-IDF Vectorization 객체, LogisticRegression 객체 파이프라인 생성\n",
        "pipeline = Pipeline([\n",
        "    ('tfidf_vect', TfidfVectorizer(stop_words='english', ngram_range=(1,2), max_df=300)),\n",
        "    ('lr_clf', LogisticRegression(C=10))\n",
        "])\n",
        "\n",
        "# TF-IDF Vectorization, LogisticRegression 한번에 수행\n",
        "pipeline.fit(X_train, y_train)\n",
        "pred = pipeline.predict(X_test)\n",
        "lr_acc = accuracy_score(y_test, pred)\n",
        "\n",
        "print(f\"Pipeline을 통한 Logistic Regression 예측 정확도: {lr_acc:.3f}\")"
      ],
      "metadata": {
        "colab": {
          "base_uri": "https://localhost:8080/"
        },
        "id": "aM8vRyKpqu1C",
        "outputId": "395f5dbb-de24-4269-dd3e-c9b3ca50dd3c"
      },
      "execution_count": 14,
      "outputs": [
        {
          "output_type": "stream",
          "name": "stderr",
          "text": [
            "/usr/local/lib/python3.7/dist-packages/sklearn/linear_model/_logistic.py:818: ConvergenceWarning: lbfgs failed to converge (status=1):\n",
            "STOP: TOTAL NO. of ITERATIONS REACHED LIMIT.\n",
            "\n",
            "Increase the number of iterations (max_iter) or scale the data as shown in:\n",
            "    https://scikit-learn.org/stable/modules/preprocessing.html\n",
            "Please also refer to the documentation for alternative solver options:\n",
            "    https://scikit-learn.org/stable/modules/linear_model.html#logistic-regression\n",
            "  extra_warning_msg=_LOGISTIC_SOLVER_CONVERGENCE_MSG,\n"
          ]
        },
        {
          "output_type": "stream",
          "name": "stdout",
          "text": [
            "Pipeline을 통한 Logistic Regression 예측 정확도: 0.701\n"
          ]
        }
      ]
    },
    {
      "cell_type": "markdown",
      "source": [
        "- pipeline()은 전처리와 ML 학습을 한번에 수행 가능하다.\n",
        "\n",
        "- 피처 벡터화 결과를 별도 데이터로 저장하지 않고 바로 ML 데이터로 입력되어 수행시간 절약이 가능하다."
      ],
      "metadata": {
        "id": "_9Dfa9Y7rCiV"
      }
    },
    {
      "cell_type": "code",
      "source": [
        "from sklearn.pipeline import Pipeline\n",
        "from sklearn.feature_extraction.text import TfidfVectorizer\n",
        "from sklearn.linear_model import LogisticRegression\n",
        "from sklearn.metrics import accuracy_score\n",
        "from sklearn.model_selection import GridSearchCV\n",
        "\n",
        "# Pipeline\n",
        "pipeline = Pipeline([\n",
        "    ('tfidf_vect', TfidfVectorizer(stop_words='english')),\n",
        "    ('lr_clf', LogisticRegression())\n",
        "])\n",
        "\n",
        "# Pipeline 각각의 객체의 파라미터를 입력\n",
        "params = { 'tfidf_vect__ngram_range': [(1,1), (1,2), (1,3)],\n",
        "           'tfidf_vect__max_df': [100, 300, 700],\n",
        "           'lr_clf__C': [1,5,10]\n",
        "}\n",
        "\n",
        "# GridSearchCV: pipeline 객체를 입력\n",
        "grid_cv_pipe = GridSearchCV(pipeline, param_grid = params, cv=3 , scoring='accuracy', verbose=1)\n",
        "grid_cv_pipe.fit(X_train , y_train)\n",
        "print(grid_cv_pipe.best_params_ , grid_cv_pipe.best_score_)\n",
        "\n",
        "pred = grid_cv_pipe.predict(X_test)\n",
        "lr_acc = accuracy_score(y_test, pred)\n",
        "\n",
        "print(f'Pipeline을 통한 Logistic Regression 의 예측 정확도: {lr_acc:.3f}')"
      ],
      "metadata": {
        "id": "Oq1_Qio7rAsH"
      },
      "execution_count": null,
      "outputs": []
    },
    {
      "cell_type": "markdown",
      "source": [
        "- pipeline()으로 GridSearchCV의 하이퍼 파라미터 튜닝이 가능하다.\n",
        "\n",
        "- 파라미터는 각 객체명 + __ + 파라미터로 입력한다.\n",
        "\n",
        "- GridSearchCV 외에도 5.4.6 최적 정규화의 다항회귀의 차수 결정 등에서 이러한 방법을 적용했었다.\n",
        "\n",
        "- 텍스트 분류에는 로지스틱 외에도 서포트 벡터머신이나 나이브 베이즈 알고리즘을 자주 사용한다."
      ],
      "metadata": {
        "id": "fTB8rqQ0rIMF"
      }
    },
    {
      "cell_type": "code",
      "source": [],
      "metadata": {
        "id": "p2zWMo1drGTB"
      },
      "execution_count": null,
      "outputs": []
    }
  ]
}