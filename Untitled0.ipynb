{
  "nbformat": 4,
  "nbformat_minor": 0,
  "metadata": {
    "colab": {
      "provenance": [],
      "authorship_tag": "ABX9TyMwyTfZ1oF5SbOJH6c8RG9e",
      "include_colab_link": true
    },
    "kernelspec": {
      "name": "python3",
      "display_name": "Python 3"
    },
    "language_info": {
      "name": "python"
    }
  },
  "cells": [
    {
      "cell_type": "markdown",
      "metadata": {
        "id": "view-in-github",
        "colab_type": "text"
      },
      "source": [
        "<a href=\"https://colab.research.google.com/github/jeongwoo22/ESAA_assignments/blob/main/Untitled0.ipynb\" target=\"_parent\"><img src=\"https://colab.research.google.com/assets/colab-badge.svg\" alt=\"Open In Colab\"/></a>"
      ]
    },
    {
      "cell_type": "markdown",
      "source": [
        "##PART 04 합성곱 신경망(CNN)\n",
        "- 객체 탐지(Object Detection)\n",
        "- 객체 탐지(Object Detection, 객체 검출이라고도 함) 문제는 이미지를 인식하는 컴퓨터 비전 AI 기술이 가장 많이 응용되는 분야이다.\n",
        "- 객체 탐지는 입력 이미지로부터 여러 개의 객체를 찾아내고 각 객체가 무엇을 나타내는지 분류하는 두 가지 작업을 처리한다.\n",
        "- 이미지에서 각 객체의 위치를 찾아내고 객체를 둘러싸는 네모 박스(box)를 그린다. 이때, 객체의 경계를 나타내는 좌표 값을 회귀 문제로 접근한다.\n",
        "- 위치를 찾아낸 각 개체가 어떤 클래스에 속하는 분류 문제를 처리한다.\n",
        "- 객체 탐지는 이미지를 인식해 이미지 안에 들어있는 여러 객체의 위치를 찾는 회귀 문제와 찾아낸 객체를 분류하는 문제가 결합되어 있다."
      ],
      "metadata": {
        "id": "K1Jb7ra2w7NX"
      }
    },
    {
      "cell_type": "markdown",
      "source": [
        "- 텐서플로 허브(Tensorflow Hub) : 이미지 분류, 객체 탐지, 스타일 전이, 텍스트 분류 등 다양한 딥러닝 문제를 해결할 수 있는 사전 학습 모델(pre-trained model)을 제공하는 저장소(repository)\n",
        "- 텐서플로 허브에서 제공하는 모델을 그대로 배포하여 서빙(serving)하는 것도 가능하고, 전이 학습을 거쳐 개별 도메인에 맞게 튜닝한 다음 배포하는 것도 가능하다."
      ],
      "metadata": {
        "id": "OaQ6i4ihxFDx"
      }
    },
    {
      "cell_type": "code",
      "execution_count": null,
      "metadata": {
        "id": "6peKR4Yhw6WJ"
      },
      "outputs": [],
      "source": []
    }
  ]
}